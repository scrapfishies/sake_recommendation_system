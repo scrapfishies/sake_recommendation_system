{
 "cells": [
  {
   "cell_type": "code",
   "execution_count": null,
   "metadata": {},
   "outputs": [],
   "source": []
  },
  {
   "cell_type": "code",
   "execution_count": 1,
   "metadata": {
    "ExecuteTime": {
     "end_time": "2021-01-25T21:21:25.396523Z",
     "start_time": "2021-01-25T21:21:24.777134Z"
    }
   },
   "outputs": [],
   "source": [
    "import pandas as pd\n",
    "import re\n",
    "from random import randint\n",
    "from time import sleep\n",
    "\n",
    "from bs4 import BeautifulSoup\n",
    "import requests\n",
    "\n",
    "from tqdm import tqdm"
   ]
  },
  {
   "cell_type": "code",
   "execution_count": 2,
   "metadata": {
    "ExecuteTime": {
     "end_time": "2021-01-25T21:21:25.402851Z",
     "start_time": "2021-01-25T21:21:25.398567Z"
    }
   },
   "outputs": [],
   "source": [
    "def find_product_list_urls(start_url):\n",
    "    response = requests.get(start_url)\n",
    "    page = response.text\n",
    "    soup = BeautifulSoup(page, 'html.parser')\n",
    "\n",
    "    last_page = soup.find_all('a', class_='pagination--item')[-2].text\n",
    "    regex = re.compile(r'[\\n\\s+]')\n",
    "    last_page = int(regex.sub(\"\", last_page))\n",
    "    \n",
    "    pages = range(1, last_page+1)\n",
    "\n",
    "    url_list = []\n",
    "\n",
    "    for page in pages:\n",
    "        url = url_prefix = f'https://www.truesake.com/collections/all?page={page}&grid_list=grid-view'\n",
    "        url_list.append(url)\n",
    "        \n",
    "        \n",
    "    return url_list"
   ]
  },
  {
   "cell_type": "code",
   "execution_count": 3,
   "metadata": {
    "ExecuteTime": {
     "end_time": "2021-01-25T21:21:26.567189Z",
     "start_time": "2021-01-25T21:21:25.405459Z"
    }
   },
   "outputs": [
    {
     "data": {
      "text/plain": [
       "['https://www.truesake.com/collections/all?page=1&grid_list=grid-view',\n",
       " 'https://www.truesake.com/collections/all?page=2&grid_list=grid-view',\n",
       " 'https://www.truesake.com/collections/all?page=3&grid_list=grid-view',\n",
       " 'https://www.truesake.com/collections/all?page=4&grid_list=grid-view',\n",
       " 'https://www.truesake.com/collections/all?page=5&grid_list=grid-view',\n",
       " 'https://www.truesake.com/collections/all?page=6&grid_list=grid-view',\n",
       " 'https://www.truesake.com/collections/all?page=7&grid_list=grid-view',\n",
       " 'https://www.truesake.com/collections/all?page=8&grid_list=grid-view',\n",
       " 'https://www.truesake.com/collections/all?page=9&grid_list=grid-view',\n",
       " 'https://www.truesake.com/collections/all?page=10&grid_list=grid-view',\n",
       " 'https://www.truesake.com/collections/all?page=11&grid_list=grid-view',\n",
       " 'https://www.truesake.com/collections/all?page=12&grid_list=grid-view',\n",
       " 'https://www.truesake.com/collections/all?page=13&grid_list=grid-view',\n",
       " 'https://www.truesake.com/collections/all?page=14&grid_list=grid-view']"
      ]
     },
     "execution_count": 3,
     "metadata": {},
     "output_type": "execute_result"
    }
   ],
   "source": [
    "start = 'https://www.truesake.com/collections/all'\n",
    "\n",
    "urls = find_product_list_urls(start)\n",
    "urls"
   ]
  },
  {
   "cell_type": "code",
   "execution_count": null,
   "metadata": {},
   "outputs": [],
   "source": []
  },
  {
   "cell_type": "code",
   "execution_count": 4,
   "metadata": {
    "ExecuteTime": {
     "end_time": "2021-01-25T21:21:26.572880Z",
     "start_time": "2021-01-25T21:21:26.569458Z"
    }
   },
   "outputs": [],
   "source": [
    "def get_product_urls(url_list):\n",
    "    \n",
    "    product_links = []\n",
    "    \n",
    "    for url in url_list:\n",
    "        response = requests.get(url)\n",
    "        page = response.text\n",
    "        soup = BeautifulSoup(page, 'html.parser')\n",
    "\n",
    "        # Find product linkk tags: \n",
    "        produt_link_a_tags = soup.find_all('a', 'productitem--image-link')\n",
    "        \n",
    "        # product links\n",
    "        links = ['https://www.truesake.com'+l['href'] for l in produt_link_a_tags]\n",
    "        for link in links:\n",
    "            product_links.append(link)\n",
    "    \n",
    "    print(len(product_links), 'product urls scraped')\n",
    "    return product_links"
   ]
  },
  {
   "cell_type": "code",
   "execution_count": 5,
   "metadata": {
    "ExecuteTime": {
     "end_time": "2021-01-25T21:21:28.499209Z",
     "start_time": "2021-01-25T21:21:26.574868Z"
    }
   },
   "outputs": [
    {
     "name": "stdout",
     "output_type": "stream",
     "text": [
      "48 product urls scraped\n"
     ]
    }
   ],
   "source": [
    "links = get_product_urls(urls[:2])"
   ]
  },
  {
   "cell_type": "code",
   "execution_count": null,
   "metadata": {},
   "outputs": [],
   "source": []
  },
  {
   "cell_type": "code",
   "execution_count": 6,
   "metadata": {
    "ExecuteTime": {
     "end_time": "2021-01-25T21:21:28.504873Z",
     "start_time": "2021-01-25T21:21:28.501096Z"
    }
   },
   "outputs": [
    {
     "data": {
      "text/plain": [
       "'https://www.truesake.com/collections/all/products/dassai-50-otter-festival'"
      ]
     },
     "execution_count": 6,
     "metadata": {},
     "output_type": "execute_result"
    }
   ],
   "source": [
    "prod_url = links[0]\n",
    "prod_url"
   ]
  },
  {
   "cell_type": "code",
   "execution_count": 7,
   "metadata": {
    "ExecuteTime": {
     "end_time": "2021-01-25T21:21:28.933629Z",
     "start_time": "2021-01-25T21:21:28.506970Z"
    }
   },
   "outputs": [],
   "source": [
    "response = requests.get(prod_url)\n",
    "page = response.text\n",
    "soup = BeautifulSoup(page, 'html.parser')"
   ]
  },
  {
   "cell_type": "code",
   "execution_count": null,
   "metadata": {},
   "outputs": [],
   "source": []
  },
  {
   "cell_type": "code",
   "execution_count": 8,
   "metadata": {
    "ExecuteTime": {
     "end_time": "2021-01-25T21:21:28.943156Z",
     "start_time": "2021-01-25T21:21:28.935489Z"
    }
   },
   "outputs": [],
   "source": [
    "def get_product_info(prod_url):\n",
    "    \n",
    "    # Beautiful Soup Setup\n",
    "    response = requests.get(prod_url)\n",
    "    page = response.text\n",
    "    soup = BeautifulSoup(page, 'html.parser')\n",
    "    \n",
    "    # Find product description part of html\n",
    "    product_description_html = soup.find('div', class_='product-main')\n",
    "    \n",
    "    # Product Name\n",
    "    name = product_description_html.find('h1').text\n",
    "    name = re.sub(r'[\\n]', \"\", name).strip()\n",
    "    \n",
    "    # Sake Type\n",
    "    sake_type = product_description_html.find('div', class_='product-metafields--sake-type').text\n",
    "    sake_type = re.sub(r'[\\n]', '', sake_type).strip()\n",
    "    \n",
    "    # Product Price\n",
    "    price = product_description_html.find('div', class_='price--main').text\n",
    "    price = float(re.sub(r'[\\n]', '', price).strip()[1:])\n",
    "    \n",
    "    # Product description section\n",
    "    full_description = product_description_html.find('div', class_='product-description rte').text\n",
    "    full_description = re.sub(r'[\\n]', '', full_description)\n",
    "    \n",
    "    ### Full text description (minus keywords)\n",
    "    description_text = full_description.split(' WORD')[0]\n",
    "    \n",
    "    ### 4 main keywords\n",
    "    \n",
    "    \n",
    "    \n",
    "    keyword_word = re.search(\"WORD: (.*) WINE\", full_description).group(1)  # Word\n",
    "    keyword_wine = re.search(\"WINE: (.*) BEER\", full_description).group(1)  # Wine\n",
    "    keyword_beer = re.search(\"BEER: (.*) FOODS\", full_description).group(1) # Beer\n",
    "    keyword_foods = re.search(\"FOODS: (.*)\", full_description).group(1)     # Foods\n",
    "    \n",
    "    # Other Sake Descriptions\n",
    "    details = product_description_html.find_all('div', class_='product-metafields--result')\n",
    "    \n",
    "    ### Prefecture\n",
    "    prefecture = details[0].text\n",
    "    prefecture = re.sub(r'[\\n]', '', prefecture).strip()\n",
    "    \n",
    "    ### SMV\n",
    "    smv = details[1].text\n",
    "    smv = re.sub(r'[\\n]', '', smv).strip()\n",
    "\n",
    "    ### Acidity\n",
    "    acidity = details[2].text\n",
    "    acidity = float(re.sub(r'[\\n]', '', acidity).strip())\n",
    "    \n",
    "    results_list = [prod_url,\n",
    "                   name, \n",
    "                   sake_type,\n",
    "                   price,\n",
    "                   prefecture,\n",
    "                   smv,\n",
    "                   acidity,\n",
    "                   keyword_word,\n",
    "                   keyword_wine,\n",
    "                   keyword_beer,\n",
    "                   keyword_foods,\n",
    "                   description_text]\n",
    "    \n",
    "    return results_list"
   ]
  },
  {
   "cell_type": "code",
   "execution_count": 9,
   "metadata": {
    "ExecuteTime": {
     "end_time": "2021-01-25T21:21:29.657390Z",
     "start_time": "2021-01-25T21:21:28.946716Z"
    }
   },
   "outputs": [
    {
     "ename": "AttributeError",
     "evalue": "'NoneType' object has no attribute 'group'",
     "output_type": "error",
     "traceback": [
      "\u001b[0;31m---------------------------------------------------------------------------\u001b[0m",
      "\u001b[0;31mAttributeError\u001b[0m                            Traceback (most recent call last)",
      "\u001b[0;32m<ipython-input-9-b7e1ecc52d2b>\u001b[0m in \u001b[0;36m<module>\u001b[0;34m\u001b[0m\n\u001b[1;32m      1\u001b[0m \u001b[0murl\u001b[0m \u001b[0;34m=\u001b[0m \u001b[0;34m'https://www.truesake.com/collections/all/products/shunnoten'\u001b[0m\u001b[0;34m\u001b[0m\u001b[0;34m\u001b[0m\u001b[0m\n\u001b[1;32m      2\u001b[0m \u001b[0;34m\u001b[0m\u001b[0m\n\u001b[0;32m----> 3\u001b[0;31m \u001b[0mget_product_info\u001b[0m\u001b[0;34m(\u001b[0m\u001b[0murl\u001b[0m\u001b[0;34m)\u001b[0m\u001b[0;34m\u001b[0m\u001b[0;34m\u001b[0m\u001b[0m\n\u001b[0m",
      "\u001b[0;32m<ipython-input-8-dec0b8a4188d>\u001b[0m in \u001b[0;36mget_product_info\u001b[0;34m(prod_url)\u001b[0m\n\u001b[1;32m     31\u001b[0m     \u001b[0mkeyword_word\u001b[0m \u001b[0;34m=\u001b[0m \u001b[0mre\u001b[0m\u001b[0;34m.\u001b[0m\u001b[0msearch\u001b[0m\u001b[0;34m(\u001b[0m\u001b[0;34m\"WORD: (.*) WINE\"\u001b[0m\u001b[0;34m,\u001b[0m \u001b[0mfull_description\u001b[0m\u001b[0;34m)\u001b[0m\u001b[0;34m.\u001b[0m\u001b[0mgroup\u001b[0m\u001b[0;34m(\u001b[0m\u001b[0;36m1\u001b[0m\u001b[0;34m)\u001b[0m  \u001b[0;31m# Word\u001b[0m\u001b[0;34m\u001b[0m\u001b[0;34m\u001b[0m\u001b[0m\n\u001b[1;32m     32\u001b[0m     \u001b[0mkeyword_wine\u001b[0m \u001b[0;34m=\u001b[0m \u001b[0mre\u001b[0m\u001b[0;34m.\u001b[0m\u001b[0msearch\u001b[0m\u001b[0;34m(\u001b[0m\u001b[0;34m\"WINE: (.*) BEER\"\u001b[0m\u001b[0;34m,\u001b[0m \u001b[0mfull_description\u001b[0m\u001b[0;34m)\u001b[0m\u001b[0;34m.\u001b[0m\u001b[0mgroup\u001b[0m\u001b[0;34m(\u001b[0m\u001b[0;36m1\u001b[0m\u001b[0;34m)\u001b[0m  \u001b[0;31m# Wine\u001b[0m\u001b[0;34m\u001b[0m\u001b[0;34m\u001b[0m\u001b[0m\n\u001b[0;32m---> 33\u001b[0;31m     \u001b[0mkeyword_beer\u001b[0m \u001b[0;34m=\u001b[0m \u001b[0mre\u001b[0m\u001b[0;34m.\u001b[0m\u001b[0msearch\u001b[0m\u001b[0;34m(\u001b[0m\u001b[0;34m\"BEER: (.*) FOODS\"\u001b[0m\u001b[0;34m,\u001b[0m \u001b[0mfull_description\u001b[0m\u001b[0;34m)\u001b[0m\u001b[0;34m.\u001b[0m\u001b[0mgroup\u001b[0m\u001b[0;34m(\u001b[0m\u001b[0;36m1\u001b[0m\u001b[0;34m)\u001b[0m \u001b[0;31m# Beer\u001b[0m\u001b[0;34m\u001b[0m\u001b[0;34m\u001b[0m\u001b[0m\n\u001b[0m\u001b[1;32m     34\u001b[0m     \u001b[0mkeyword_foods\u001b[0m \u001b[0;34m=\u001b[0m \u001b[0mre\u001b[0m\u001b[0;34m.\u001b[0m\u001b[0msearch\u001b[0m\u001b[0;34m(\u001b[0m\u001b[0;34m\"FOODS: (.*)\"\u001b[0m\u001b[0;34m,\u001b[0m \u001b[0mfull_description\u001b[0m\u001b[0;34m)\u001b[0m\u001b[0;34m.\u001b[0m\u001b[0mgroup\u001b[0m\u001b[0;34m(\u001b[0m\u001b[0;36m1\u001b[0m\u001b[0;34m)\u001b[0m     \u001b[0;31m# Foods\u001b[0m\u001b[0;34m\u001b[0m\u001b[0;34m\u001b[0m\u001b[0m\n\u001b[1;32m     35\u001b[0m \u001b[0;34m\u001b[0m\u001b[0m\n",
      "\u001b[0;31mAttributeError\u001b[0m: 'NoneType' object has no attribute 'group'"
     ]
    }
   ],
   "source": [
    "url = 'https://www.truesake.com/collections/all/products/shunnoten'\n",
    "\n",
    "get_product_info(url)"
   ]
  },
  {
   "cell_type": "code",
   "execution_count": null,
   "metadata": {},
   "outputs": [],
   "source": []
  },
  {
   "cell_type": "code",
   "execution_count": null,
   "metadata": {},
   "outputs": [],
   "source": []
  },
  {
   "cell_type": "code",
   "execution_count": null,
   "metadata": {},
   "outputs": [],
   "source": []
  },
  {
   "cell_type": "code",
   "execution_count": null,
   "metadata": {},
   "outputs": [],
   "source": []
  },
  {
   "cell_type": "code",
   "execution_count": null,
   "metadata": {
    "ExecuteTime": {
     "end_time": "2021-01-25T21:21:29.672940Z",
     "start_time": "2021-01-25T21:21:24.796Z"
    }
   },
   "outputs": [],
   "source": [
    "get_product_info(links[0])"
   ]
  },
  {
   "cell_type": "code",
   "execution_count": null,
   "metadata": {
    "ExecuteTime": {
     "end_time": "2021-01-25T21:21:29.673883Z",
     "start_time": "2021-01-25T21:21:24.798Z"
    }
   },
   "outputs": [],
   "source": [
    "links[:3]"
   ]
  },
  {
   "cell_type": "code",
   "execution_count": null,
   "metadata": {
    "ExecuteTime": {
     "end_time": "2021-01-25T21:21:29.674808Z",
     "start_time": "2021-01-25T21:21:24.800Z"
    }
   },
   "outputs": [],
   "source": [
    "results = []\n",
    "\n",
    "for link in tqdm(links[:3]):\n",
    "    results.append(get_product_info(link))\n",
    "    \n",
    "results"
   ]
  },
  {
   "cell_type": "code",
   "execution_count": null,
   "metadata": {
    "ExecuteTime": {
     "end_time": "2021-01-25T21:21:29.675796Z",
     "start_time": "2021-01-25T21:21:24.802Z"
    }
   },
   "outputs": [],
   "source": [
    "columns = ['url', 'name', 'type', 'price', 'prefecture', 'smv', 'acidity', \n",
    "           'kw_word', 'kw_wines', 'kw_beer', 'kw_foods', 'description']\n",
    "\n",
    "df = pd.DataFrame(results, columns=columns)\n",
    "df"
   ]
  },
  {
   "cell_type": "code",
   "execution_count": null,
   "metadata": {},
   "outputs": [],
   "source": []
  },
  {
   "cell_type": "code",
   "execution_count": null,
   "metadata": {
    "ExecuteTime": {
     "end_time": "2021-01-25T21:21:29.676870Z",
     "start_time": "2021-01-25T21:21:24.805Z"
    }
   },
   "outputs": [],
   "source": [
    "def scrape_truesake(start_url):\n",
    "    \n",
    "    products = []\n",
    "    count += 1\n",
    "    \n",
    "    # Get all product listings pages\n",
    "    product_listings_url_list = find_product_list_urls(start_url)\n",
    "    \n",
    "    # get all individual product urls\n",
    "    individual_product_urls = get_product_urls(product_listings_url_list)\n",
    "    \n",
    "    for url in tqdm(individual_product_urls):\n",
    "        \n",
    "        # Set sleep interval to slow down requests\n",
    "        sleep(randint(1,2))\n",
    "        \n",
    "        # Scrape product url page\n",
    "        product_details = get_product_info(url)\n",
    "        products.append(product_details)\n",
    "    \n",
    "    # Compiling results into a pandas DF\n",
    "    columns = ['url', 'name', 'type', 'price', 'prefecture', 'smv', 'acidity', \n",
    "           'kw_word', 'kw_wines', 'kw_beer', 'kw_foods', 'description']\n",
    "\n",
    "    df = pd.DataFrame(products, columns=columns)\n",
    "    \n",
    "    print(f\"{count} products scraped!\")\n",
    "    return df"
   ]
  },
  {
   "cell_type": "code",
   "execution_count": null,
   "metadata": {},
   "outputs": [],
   "source": []
  },
  {
   "cell_type": "code",
   "execution_count": null,
   "metadata": {
    "ExecuteTime": {
     "end_time": "2021-01-25T21:21:29.677846Z",
     "start_time": "2021-01-25T21:21:24.807Z"
    }
   },
   "outputs": [],
   "source": [
    "for "
   ]
  },
  {
   "cell_type": "code",
   "execution_count": null,
   "metadata": {},
   "outputs": [],
   "source": []
  },
  {
   "cell_type": "code",
   "execution_count": null,
   "metadata": {},
   "outputs": [],
   "source": []
  },
  {
   "cell_type": "code",
   "execution_count": null,
   "metadata": {},
   "outputs": [],
   "source": []
  },
  {
   "cell_type": "code",
   "execution_count": null,
   "metadata": {},
   "outputs": [],
   "source": []
  },
  {
   "cell_type": "code",
   "execution_count": null,
   "metadata": {},
   "outputs": [],
   "source": []
  },
  {
   "cell_type": "code",
   "execution_count": null,
   "metadata": {
    "ExecuteTime": {
     "end_time": "2021-01-25T21:21:29.678888Z",
     "start_time": "2021-01-25T21:21:24.814Z"
    }
   },
   "outputs": [],
   "source": [
    "product_description_html = soup.find('div', class_='product-main')\n",
    "product_description_html"
   ]
  },
  {
   "cell_type": "code",
   "execution_count": null,
   "metadata": {
    "ExecuteTime": {
     "end_time": "2021-01-25T21:21:29.679996Z",
     "start_time": "2021-01-25T21:21:24.816Z"
    }
   },
   "outputs": [],
   "source": [
    "# Product Name\n",
    "name = product_description_html.find('h1').text\n",
    "name = re.sub(r'[\\n]', \"\", name).strip()\n",
    "name"
   ]
  },
  {
   "cell_type": "code",
   "execution_count": null,
   "metadata": {
    "ExecuteTime": {
     "end_time": "2021-01-25T21:21:29.681068Z",
     "start_time": "2021-01-25T21:21:24.818Z"
    }
   },
   "outputs": [],
   "source": [
    "# Sake Type\n",
    "sake_type = product_description_html.find('div', class_='product-metafields--sake-type').text\n",
    "sake_type = re.sub(r'[\\n]', '', sake_type).strip()\n",
    "sake_type"
   ]
  },
  {
   "cell_type": "code",
   "execution_count": null,
   "metadata": {
    "ExecuteTime": {
     "end_time": "2021-01-25T21:21:29.682304Z",
     "start_time": "2021-01-25T21:21:24.819Z"
    }
   },
   "outputs": [],
   "source": [
    "# Product Price\n",
    "price = product_description_html.find('div', class_='price--main').text\n",
    "price = float(re.sub(r'[\\n]', '', price).strip()[1:])\n",
    "price"
   ]
  },
  {
   "cell_type": "code",
   "execution_count": null,
   "metadata": {},
   "outputs": [],
   "source": []
  },
  {
   "cell_type": "code",
   "execution_count": null,
   "metadata": {},
   "outputs": [],
   "source": []
  },
  {
   "cell_type": "code",
   "execution_count": null,
   "metadata": {
    "ExecuteTime": {
     "end_time": "2021-01-25T21:21:29.683463Z",
     "start_time": "2021-01-25T21:21:24.823Z"
    }
   },
   "outputs": [],
   "source": [
    "full_description = product_description_html.find('div', class_='product-description rte').text\n",
    "full_description = re.sub(r'[\\n]', '', full_description)\n",
    "full_description"
   ]
  },
  {
   "cell_type": "code",
   "execution_count": null,
   "metadata": {
    "ExecuteTime": {
     "end_time": "2021-01-25T21:21:29.684640Z",
     "start_time": "2021-01-25T21:21:24.825Z"
    }
   },
   "outputs": [],
   "source": [
    "description = full_description.split(' WORD')[0]\n",
    "description"
   ]
  },
  {
   "cell_type": "code",
   "execution_count": null,
   "metadata": {},
   "outputs": [],
   "source": []
  },
  {
   "cell_type": "code",
   "execution_count": null,
   "metadata": {},
   "outputs": [],
   "source": []
  },
  {
   "cell_type": "code",
   "execution_count": null,
   "metadata": {},
   "outputs": [],
   "source": []
  },
  {
   "cell_type": "code",
   "execution_count": null,
   "metadata": {
    "ExecuteTime": {
     "end_time": "2021-01-25T21:21:29.685636Z",
     "start_time": "2021-01-25T21:21:24.832Z"
    }
   },
   "outputs": [],
   "source": [
    "keyword_word = re.search(\"WORD: (.*) WINE\", full_description).group(1)\n",
    "keyword_word"
   ]
  },
  {
   "cell_type": "code",
   "execution_count": null,
   "metadata": {
    "ExecuteTime": {
     "end_time": "2021-01-25T21:21:29.686942Z",
     "start_time": "2021-01-25T21:21:24.833Z"
    }
   },
   "outputs": [],
   "source": [
    "keyword_wine = re.search(\"WINE: (.*) BEER\", full_description).group(1)\n",
    "keyword_wine"
   ]
  },
  {
   "cell_type": "code",
   "execution_count": null,
   "metadata": {
    "ExecuteTime": {
     "end_time": "2021-01-25T21:21:29.687981Z",
     "start_time": "2021-01-25T21:21:24.835Z"
    }
   },
   "outputs": [],
   "source": [
    "keyword_beer = re.search(\"BEER: (.*) FOODS\", full_description).group(1)\n",
    "keyword_beer"
   ]
  },
  {
   "cell_type": "code",
   "execution_count": null,
   "metadata": {
    "ExecuteTime": {
     "end_time": "2021-01-25T21:21:29.689523Z",
     "start_time": "2021-01-25T21:21:24.836Z"
    }
   },
   "outputs": [],
   "source": [
    "keyword_foods = re.search(\"FOODS: (.*)\", full_description).group(1)\n",
    "keyword_foods"
   ]
  },
  {
   "cell_type": "code",
   "execution_count": null,
   "metadata": {},
   "outputs": [],
   "source": []
  },
  {
   "cell_type": "code",
   "execution_count": null,
   "metadata": {},
   "outputs": [],
   "source": []
  },
  {
   "cell_type": "code",
   "execution_count": null,
   "metadata": {
    "ExecuteTime": {
     "end_time": "2021-01-25T21:21:29.690838Z",
     "start_time": "2021-01-25T21:21:24.841Z"
    }
   },
   "outputs": [],
   "source": [
    "details = product_description_html.find_all('div', class_='product-metafields--result')\n",
    "\n",
    "# Prefecture\n",
    "prefecture = details[0].text\n",
    "prefecture = re.sub(r'[\\n]', '', prefecture).strip()\n",
    "\n",
    "# SMV\n",
    "smv = details[1].text\n",
    "smv = re.sub(r'[\\n]', '', smv).strip()\n",
    "\n",
    "# Acidity\n",
    "acidity = details[2].text\n",
    "acidity = float(re.sub(r'[\\n]', '', acidity).strip())"
   ]
  },
  {
   "cell_type": "code",
   "execution_count": null,
   "metadata": {
    "ExecuteTime": {
     "end_time": "2021-01-25T21:21:29.692251Z",
     "start_time": "2021-01-25T21:21:24.842Z"
    }
   },
   "outputs": [],
   "source": [
    "prefecture, smv, acidity"
   ]
  },
  {
   "cell_type": "code",
   "execution_count": null,
   "metadata": {},
   "outputs": [],
   "source": []
  },
  {
   "cell_type": "code",
   "execution_count": null,
   "metadata": {
    "ExecuteTime": {
     "end_time": "2021-01-25T20:20:41.646216Z",
     "start_time": "2021-01-25T20:20:41.341427Z"
    }
   },
   "outputs": [],
   "source": [
    "\n"
   ]
  },
  {
   "cell_type": "code",
   "execution_count": 41,
   "metadata": {
    "ExecuteTime": {
     "end_time": "2021-01-25T21:47:07.879276Z",
     "start_time": "2021-01-25T21:47:07.370086Z"
    }
   },
   "outputs": [],
   "source": [
    "url = 'https://www.truesake.com/collections/all/products/shunnoten'\n",
    "\n",
    "response = requests.get(url)\n",
    "page = response.text\n",
    "soup = BeautifulSoup(page, 'html.parser')"
   ]
  },
  {
   "cell_type": "code",
   "execution_count": 42,
   "metadata": {
    "ExecuteTime": {
     "end_time": "2021-01-25T21:47:09.753623Z",
     "start_time": "2021-01-25T21:47:09.746423Z"
    },
    "scrolled": true
   },
   "outputs": [
    {
     "data": {
      "text/plain": [
       "'The nose on this awesome looking “catch cup” is made up of mild steamed rice, rain, and mineral elements. Okay! Talk about a smooth operator! This cup is one of the smoothest in the store and it drinks round, soft, and velvety. It is semi-thick with a nice viscous chewy mouth feel. There is a lot of body and it is extremely well balanced but the smoothness steals the show. There is a very feint anise vein on the finish but on the whole this cup sake is a smooth player of note! WORD: Smooth WINE: Pinot Noir/Slippery Whites BEER: Gentle Ales'"
      ]
     },
     "execution_count": 42,
     "metadata": {},
     "output_type": "execute_result"
    }
   ],
   "source": [
    "d = soup.find('div', class_='product-description rte').text\n",
    "d = re.sub(r'[\\n]', '', d)\n",
    "d"
   ]
  },
  {
   "cell_type": "code",
   "execution_count": 12,
   "metadata": {
    "ExecuteTime": {
     "end_time": "2021-01-25T21:21:43.686273Z",
     "start_time": "2021-01-25T21:21:43.678372Z"
    }
   },
   "outputs": [
    {
     "ename": "AttributeError",
     "evalue": "'NoneType' object has no attribute 'group'",
     "output_type": "error",
     "traceback": [
      "\u001b[0;31m---------------------------------------------------------------------------\u001b[0m",
      "\u001b[0;31mAttributeError\u001b[0m                            Traceback (most recent call last)",
      "\u001b[0;32m<ipython-input-12-6915efba0c87>\u001b[0m in \u001b[0;36m<module>\u001b[0;34m\u001b[0m\n\u001b[1;32m      1\u001b[0m \u001b[0mkeyword_word\u001b[0m \u001b[0;34m=\u001b[0m \u001b[0mre\u001b[0m\u001b[0;34m.\u001b[0m\u001b[0msearch\u001b[0m\u001b[0;34m(\u001b[0m\u001b[0;34m\"WORD: (.*) WINE\"\u001b[0m\u001b[0;34m,\u001b[0m \u001b[0md\u001b[0m\u001b[0;34m)\u001b[0m\u001b[0;34m.\u001b[0m\u001b[0mgroup\u001b[0m\u001b[0;34m(\u001b[0m\u001b[0;36m1\u001b[0m\u001b[0;34m)\u001b[0m  \u001b[0;31m# Word\u001b[0m\u001b[0;34m\u001b[0m\u001b[0;34m\u001b[0m\u001b[0m\n\u001b[1;32m      2\u001b[0m \u001b[0mkeyword_wine\u001b[0m \u001b[0;34m=\u001b[0m \u001b[0mre\u001b[0m\u001b[0;34m.\u001b[0m\u001b[0msearch\u001b[0m\u001b[0;34m(\u001b[0m\u001b[0;34m\"WINE: (.*) BEER\"\u001b[0m\u001b[0;34m,\u001b[0m \u001b[0md\u001b[0m\u001b[0;34m)\u001b[0m\u001b[0;34m.\u001b[0m\u001b[0mgroup\u001b[0m\u001b[0;34m(\u001b[0m\u001b[0;36m1\u001b[0m\u001b[0;34m)\u001b[0m  \u001b[0;31m# Wine\u001b[0m\u001b[0;34m\u001b[0m\u001b[0;34m\u001b[0m\u001b[0m\n\u001b[0;32m----> 3\u001b[0;31m \u001b[0mkeyword_beer\u001b[0m \u001b[0;34m=\u001b[0m \u001b[0mre\u001b[0m\u001b[0;34m.\u001b[0m\u001b[0msearch\u001b[0m\u001b[0;34m(\u001b[0m\u001b[0;34m\"BEER: (.*) FOODS\"\u001b[0m\u001b[0;34m,\u001b[0m \u001b[0md\u001b[0m\u001b[0;34m)\u001b[0m\u001b[0;34m.\u001b[0m\u001b[0mgroup\u001b[0m\u001b[0;34m(\u001b[0m\u001b[0;36m1\u001b[0m\u001b[0;34m)\u001b[0m \u001b[0;31m# Beer\u001b[0m\u001b[0;34m\u001b[0m\u001b[0;34m\u001b[0m\u001b[0m\n\u001b[0m\u001b[1;32m      4\u001b[0m \u001b[0mkeyword_foods\u001b[0m \u001b[0;34m=\u001b[0m \u001b[0mre\u001b[0m\u001b[0;34m.\u001b[0m\u001b[0msearch\u001b[0m\u001b[0;34m(\u001b[0m\u001b[0;34m\"FOODS: (.*)\"\u001b[0m\u001b[0;34m,\u001b[0m \u001b[0md\u001b[0m\u001b[0;34m)\u001b[0m\u001b[0;34m.\u001b[0m\u001b[0mgroup\u001b[0m\u001b[0;34m(\u001b[0m\u001b[0;36m1\u001b[0m\u001b[0;34m)\u001b[0m     \u001b[0;31m# Foods\u001b[0m\u001b[0;34m\u001b[0m\u001b[0;34m\u001b[0m\u001b[0m\n",
      "\u001b[0;31mAttributeError\u001b[0m: 'NoneType' object has no attribute 'group'"
     ]
    }
   ],
   "source": [
    "keyword_word = re.search(\"WORD: (.*) WINE\", d).group(1)  # Word\n",
    "keyword_wine = re.search(\"WINE: (.*) BEER\", d).group(1)  # Wine\n",
    "keyword_beer = re.search(\"BEER: (.*) FOODS\", d).group(1) # Beer\n",
    "keyword_foods = re.search(\"FOODS: (.*)\", d).group(1)     # Foods"
   ]
  },
  {
   "cell_type": "code",
   "execution_count": 13,
   "metadata": {
    "ExecuteTime": {
     "end_time": "2021-01-25T21:21:45.526756Z",
     "start_time": "2021-01-25T21:21:45.520285Z"
    }
   },
   "outputs": [
    {
     "ename": "NameError",
     "evalue": "name 'keyword_beer' is not defined",
     "output_type": "error",
     "traceback": [
      "\u001b[0;31m---------------------------------------------------------------------------\u001b[0m",
      "\u001b[0;31mNameError\u001b[0m                                 Traceback (most recent call last)",
      "\u001b[0;32m<ipython-input-13-08c05f1c8f59>\u001b[0m in \u001b[0;36m<module>\u001b[0;34m\u001b[0m\n\u001b[0;32m----> 1\u001b[0;31m \u001b[0mkeyword_word\u001b[0m\u001b[0;34m,\u001b[0m \u001b[0mkeyword_wine\u001b[0m\u001b[0;34m,\u001b[0m \u001b[0mkeyword_beer\u001b[0m\u001b[0;34m,\u001b[0m \u001b[0mkeyword_foods\u001b[0m\u001b[0;34m\u001b[0m\u001b[0;34m\u001b[0m\u001b[0m\n\u001b[0m",
      "\u001b[0;31mNameError\u001b[0m: name 'keyword_beer' is not defined"
     ]
    }
   ],
   "source": [
    "keyword_word, keyword_wine, keyword_beer, keyword_foods"
   ]
  },
  {
   "cell_type": "code",
   "execution_count": 14,
   "metadata": {
    "ExecuteTime": {
     "end_time": "2021-01-25T21:21:47.254554Z",
     "start_time": "2021-01-25T21:21:47.250788Z"
    }
   },
   "outputs": [
    {
     "data": {
      "text/plain": [
       "(482, 495, 528, -1)"
      ]
     },
     "execution_count": 14,
     "metadata": {},
     "output_type": "execute_result"
    }
   ],
   "source": [
    "d.find(\"WORD: \"), d.find(\"WINE: \"), d.find(\"BEER: \"), d.find(\"FOODS: \")"
   ]
  },
  {
   "cell_type": "code",
   "execution_count": 25,
   "metadata": {
    "ExecuteTime": {
     "end_time": "2021-01-25T21:28:40.487255Z",
     "start_time": "2021-01-25T21:28:40.483249Z"
    }
   },
   "outputs": [
    {
     "data": {
      "text/plain": [
       "['WORD: ', 'WINE: ', 'BEER: ']"
      ]
     },
     "execution_count": 25,
     "metadata": {},
     "output_type": "execute_result"
    }
   ],
   "source": [
    "keywords = [\"WORD: \", \"WINE: \", \"BEER: \", \"FOOD: \"]\n",
    "\n",
    "# available_kws = []\n",
    "\n",
    "# for kw in keywords:\n",
    "#     if d.find(kw) > 0:\n",
    "#         available_kws.append(kw)\n",
    "#     else:\n",
    "#         available_kws.append(\"Missing\")\n",
    "\n",
    "available_kws = [kw for kw in keywords if d.find(kw) > 0]\n",
    "available_kws"
   ]
  },
  {
   "cell_type": "code",
   "execution_count": 26,
   "metadata": {
    "ExecuteTime": {
     "end_time": "2021-01-25T21:28:42.718111Z",
     "start_time": "2021-01-25T21:28:42.714815Z"
    }
   },
   "outputs": [
    {
     "data": {
      "text/plain": [
       "<re.Match object; span=(482, 501), match='WORD: Smooth WINE: '>"
      ]
     },
     "execution_count": 26,
     "metadata": {},
     "output_type": "execute_result"
    }
   ],
   "source": [
    "re.search(f'{available_kws[0]}(.*){available_kws[1]}', d)"
   ]
  },
  {
   "cell_type": "code",
   "execution_count": 39,
   "metadata": {
    "ExecuteTime": {
     "end_time": "2021-01-25T21:43:09.344943Z",
     "start_time": "2021-01-25T21:43:09.339194Z"
    }
   },
   "outputs": [
    {
     "data": {
      "text/plain": [
       "['Smooth ', 'Pinot Noir/Slippery Whites ', 'Gentle Ales', 'Missing']"
      ]
     },
     "execution_count": 39,
     "metadata": {},
     "output_type": "execute_result"
    }
   ],
   "source": [
    "kw_results_dict = {}\n",
    "\n",
    "for i in range(len(available_kws)):\n",
    "    \n",
    "    if i < len(available_kws)-1:\n",
    "        kw = re.search(f'{available_kws[i]}(.*){available_kws[i+1]}', d).group(1)\n",
    "    else:\n",
    "        kw = re.search(f'{available_kws[i]}(.*)', d).group(1)\n",
    "        \n",
    "    kw_results_dict[available_kws[i]] = kw\n",
    "\n",
    "kw_results = []\n",
    "    \n",
    "for word in keywords:\n",
    "    try:\n",
    "        result = kw_results_dict[word]\n",
    "    except:\n",
    "        result = 'Missing'\n",
    "    kw_results.append(result)\n",
    "    \n",
    "kw_results"
   ]
  },
  {
   "cell_type": "code",
   "execution_count": 37,
   "metadata": {
    "ExecuteTime": {
     "end_time": "2021-01-25T21:41:40.744149Z",
     "start_time": "2021-01-25T21:41:40.741312Z"
    }
   },
   "outputs": [
    {
     "data": {
      "text/plain": [
       "{'WORD: ': 'Smooth ',\n",
       " 'WINE: ': 'Pinot Noir/Slippery Whites ',\n",
       " 'BEER: ': 'Gentle Ales'}"
      ]
     },
     "execution_count": 37,
     "metadata": {},
     "output_type": "execute_result"
    }
   ],
   "source": [
    "kw_results_dict"
   ]
  },
  {
   "cell_type": "code",
   "execution_count": 38,
   "metadata": {
    "ExecuteTime": {
     "end_time": "2021-01-25T21:42:17.882633Z",
     "start_time": "2021-01-25T21:42:17.874541Z"
    }
   },
   "outputs": [
    {
     "ename": "KeyError",
     "evalue": "'buts'",
     "output_type": "error",
     "traceback": [
      "\u001b[0;31m---------------------------------------------------------------------------\u001b[0m",
      "\u001b[0;31mKeyError\u001b[0m                                  Traceback (most recent call last)",
      "\u001b[0;32m<ipython-input-38-46d4b4ef8788>\u001b[0m in \u001b[0;36m<module>\u001b[0;34m\u001b[0m\n\u001b[0;32m----> 1\u001b[0;31m \u001b[0mkw_results_dict\u001b[0m\u001b[0;34m[\u001b[0m\u001b[0;34m'buts'\u001b[0m\u001b[0;34m]\u001b[0m\u001b[0;34m\u001b[0m\u001b[0;34m\u001b[0m\u001b[0m\n\u001b[0m",
      "\u001b[0;31mKeyError\u001b[0m: 'buts'"
     ]
    }
   ],
   "source": [
    "kw_results_dict['buts']"
   ]
  },
  {
   "cell_type": "code",
   "execution_count": null,
   "metadata": {},
   "outputs": [],
   "source": []
  },
  {
   "cell_type": "code",
   "execution_count": 40,
   "metadata": {
    "ExecuteTime": {
     "end_time": "2021-01-25T21:47:00.616249Z",
     "start_time": "2021-01-25T21:47:00.611726Z"
    }
   },
   "outputs": [],
   "source": [
    "def find_product_keywords(full_description_text):\n",
    "\n",
    "    keywords = [\"WORD: \", \"WINE: \", \"BEER: \", \"FOOD: \"]\n",
    "    available_kws = [kw for kw in keywords if full_description_text.find(kw) > 0]\n",
    "\n",
    "    kw_results_dict = {}\n",
    "    kw_results = []\n",
    "\n",
    "    for i in range(len(available_kws)):\n",
    "\n",
    "        if i < len(available_kws)-1:\n",
    "            kw = re.search(f'{available_kws[i]}(.*){available_kws[i+1]}', full_description_text).group(1)\n",
    "        else:\n",
    "            kw = re.search(f'{available_kws[i]}(.*)', full_description_text).group(1)\n",
    "\n",
    "        kw_results_dict[available_kws[i]] = kw\n",
    "\n",
    "    for word in keywords:\n",
    "        try:\n",
    "            result = kw_results_dict[word]\n",
    "        except:\n",
    "            result = 'Missing'\n",
    "        kw_results.append(result)\n",
    "    \n",
    "    return kw_results"
   ]
  },
  {
   "cell_type": "code",
   "execution_count": 44,
   "metadata": {
    "ExecuteTime": {
     "end_time": "2021-01-25T21:48:21.403103Z",
     "start_time": "2021-01-25T21:48:21.399564Z"
    }
   },
   "outputs": [
    {
     "data": {
      "text/plain": [
       "('Smooth ', 'Pinot Noir/Slippery Whites ', 'Gentle Ales', 'Missing')"
      ]
     },
     "execution_count": 44,
     "metadata": {},
     "output_type": "execute_result"
    }
   ],
   "source": [
    "results = find_product_keywords(d)\n",
    "\n",
    "results[0], results[1], results[2], results[3]"
   ]
  },
  {
   "cell_type": "code",
   "execution_count": null,
   "metadata": {},
   "outputs": [],
   "source": []
  },
  {
   "cell_type": "code",
   "execution_count": 45,
   "metadata": {
    "ExecuteTime": {
     "end_time": "2021-01-25T21:50:06.581805Z",
     "start_time": "2021-01-25T21:50:06.571135Z"
    }
   },
   "outputs": [],
   "source": [
    "def find_product_keywords(full_description_text):\n",
    "\n",
    "    keywords = [\"WORD: \", \"WINE: \", \"BEER: \", \"FOOD: \"]\n",
    "    available_kws = [kw for kw in keywords if full_description_text.find(kw) > 0]\n",
    "\n",
    "    kw_results_dict = {}\n",
    "    kw_results = []\n",
    "\n",
    "    for i in range(len(available_kws)):\n",
    "\n",
    "        if i < len(available_kws)-1:\n",
    "            kw = re.search(f'{available_kws[i]}(.*){available_kws[i+1]}', full_description_text).group(1)\n",
    "        else:\n",
    "            kw = re.search(f'{available_kws[i]}(.*)', full_description_text).group(1)\n",
    "\n",
    "        kw_results_dict[available_kws[i]] = kw\n",
    "\n",
    "    for word in keywords:\n",
    "        try:\n",
    "            result = kw_results_dict[word]\n",
    "        except:\n",
    "            result = 'Missing'\n",
    "        kw_results.append(result)\n",
    "    \n",
    "    return kw_results\n",
    "\n",
    "\n",
    "def get_product_info(prod_url):\n",
    "\n",
    "    # Beautiful Soup Setup\n",
    "    response = requests.get(prod_url)\n",
    "    page = response.text\n",
    "    soup = BeautifulSoup(page, 'html.parser')\n",
    "\n",
    "    # Find product description part of html\n",
    "    product_description_html = soup.find('div', class_='product-main')\n",
    "\n",
    "    # Product Name\n",
    "    name = product_description_html.find('h1').text\n",
    "    name = re.sub(r'[\\n]', \"\", name).strip()\n",
    "    \n",
    "    try:\n",
    "        # Sake Type\n",
    "        sake_type = product_description_html.find(\n",
    "            'div', class_='product-metafields--sake-type').text\n",
    "        sake_type = re.sub(r'[\\n]', '', sake_type).strip()\n",
    "    \n",
    "    except Exception as e:\n",
    "        sake_type = 'Missing'\n",
    "\n",
    "    # Product Price\n",
    "    price = product_description_html.find('div', class_='price--main').text\n",
    "    price = float(re.sub(r'[\\n]', '', price).strip()[1:])\n",
    "    \n",
    "    try:\n",
    "        # Product description section\n",
    "        full_description = product_description_html.find(\n",
    "            'div', class_='product-description rte').text\n",
    "        full_description = re.sub(r'[\\n]', '', full_description)\n",
    "\n",
    "        # Full text description (minus keywords)\n",
    "        description_text = full_description.split(' WORD')[0]\n",
    "\n",
    "        # 4 main keywords\n",
    "        results = find_product_keywords(full_description)\n",
    "\n",
    "        keyword_word = results[0]      # Word\n",
    "        keyword_wine = results[1]      # Wine\n",
    "        keyword_beer = results[2]      # Beer\n",
    "        keyword_foods = results[3]     # Foods\n",
    "        \n",
    "    except Exception as e:\n",
    "        description_text = 'Missing'\n",
    "        keyword_word = 'Missing'\n",
    "        keyword_wine = 'Missing'\n",
    "        keyword_beer = 'Missing'\n",
    "        keyword_foods = 'Missing'\n",
    "        \n",
    "    try:\n",
    "        # Other Sake Descriptions\n",
    "        details = product_description_html.find_all(\n",
    "            'div', class_='product-metafields--result')\n",
    "\n",
    "        # Prefecture\n",
    "        prefecture = details[0].text\n",
    "        prefecture = re.sub(r'[\\n]', '', prefecture).strip()\n",
    "    \n",
    "    except Exception as e:\n",
    "        prefecture = 'Missing'\n",
    "    \n",
    "    try:\n",
    "        # Other Sake Descriptions\n",
    "        details = product_description_html.find_all(\n",
    "            'div', class_='product-metafields--result')\n",
    "        # SMV\n",
    "        smv = details[1].text\n",
    "        smv = re.sub(r'[\\n]', '', smv).strip()\n",
    "    \n",
    "    except Exception as e:\n",
    "        smv = 'Missing'\n",
    "    \n",
    "    try:\n",
    "        # Other Sake Descriptions\n",
    "        details = product_description_html.find_all(\n",
    "            'div', class_='product-metafields--result')\n",
    "        # Acidity\n",
    "        acidity = details[2].text\n",
    "        acidity = float(re.sub(r'[\\n]', '', acidity).strip())\n",
    "    \n",
    "    except Exception as e:\n",
    "        acidity = 'Missing'\n",
    "        \n",
    "    # Compile \n",
    "    results_list = [prod_url,\n",
    "                    name,\n",
    "                    sake_type,\n",
    "                    price,\n",
    "                    prefecture,\n",
    "                    smv,\n",
    "                    acidity,\n",
    "                    keyword_word,\n",
    "                    keyword_wine,\n",
    "                    keyword_beer,\n",
    "                    keyword_foods,\n",
    "                    description_text]\n",
    "\n",
    "    return results_list"
   ]
  },
  {
   "cell_type": "code",
   "execution_count": 47,
   "metadata": {
    "ExecuteTime": {
     "end_time": "2021-01-25T21:50:44.251247Z",
     "start_time": "2021-01-25T21:50:43.973469Z"
    }
   },
   "outputs": [
    {
     "data": {
      "text/plain": [
       "['https://www.truesake.com/collections/all/products/shunnoten',\n",
       " 'Shunnoten Tokubetsu Junmai \"Fishermen Cup\"',\n",
       " 'Tokubetsu Junmai',\n",
       " 9.0,\n",
       " 'Yamanashi',\n",
       " '+3',\n",
       " 1.6,\n",
       " 'Smooth ',\n",
       " 'Pinot Noir/Slippery Whites ',\n",
       " 'Gentle Ales',\n",
       " 'Missing',\n",
       " 'The nose on this awesome looking “catch cup” is made up of mild steamed rice, rain, and mineral elements. Okay! Talk about a smooth operator! This cup is one of the smoothest in the store and it drinks round, soft, and velvety. It is semi-thick with a nice viscous chewy mouth feel. There is a lot of body and it is extremely well balanced but the smoothness steals the show. There is a very feint anise vein on the finish but on the whole this cup sake is a smooth player of note!']"
      ]
     },
     "execution_count": 47,
     "metadata": {},
     "output_type": "execute_result"
    }
   ],
   "source": [
    "url = 'https://www.truesake.com/collections/all/products/shunnoten'\n",
    "\n",
    "get_product_info(url)"
   ]
  },
  {
   "cell_type": "code",
   "execution_count": null,
   "metadata": {},
   "outputs": [],
   "source": []
  },
  {
   "cell_type": "code",
   "execution_count": 51,
   "metadata": {
    "ExecuteTime": {
     "end_time": "2021-01-25T23:08:52.646162Z",
     "start_time": "2021-01-25T23:08:52.641276Z"
    }
   },
   "outputs": [],
   "source": [
    "def find_product_keywords(full_description_text):\n",
    "    '''\n",
    "    Helper function for `get_product_info` scraper\n",
    "    Finds up to 4 main keywords to describe the sake\n",
    "    -------------\n",
    "    Inputs: url for product page\n",
    "    Outputs: up to 4 keywords to describe the sake\n",
    "    '''\n",
    "    keywords = [\"WORD: \", \"WINE: \", \"BEER: \", \"FOODS: \"]\n",
    "    available_kws = [kw for kw in keywords if full_description_text.find(kw) > 0]\n",
    "\n",
    "    kw_results_dict = {}\n",
    "    kw_results = []\n",
    "\n",
    "    for i in range(len(available_kws)):\n",
    "\n",
    "        if i < len(available_kws)-1:\n",
    "            kw = re.search(f'{available_kws[i]}(.*){available_kws[i+1]}', full_description_text).group(1)\n",
    "        else:\n",
    "            kw = re.search(f'{available_kws[i]}(.*)', full_description_text).group(1)\n",
    "\n",
    "        kw_results_dict[available_kws[i]] = kw\n",
    "\n",
    "    for word in keywords:\n",
    "        try:\n",
    "            result = kw_results_dict[word]\n",
    "        except:\n",
    "            result = 'Missing'\n",
    "        kw_results.append(result)\n",
    "    \n",
    "    return kw_results"
   ]
  },
  {
   "cell_type": "code",
   "execution_count": 49,
   "metadata": {
    "ExecuteTime": {
     "end_time": "2021-01-25T23:08:04.579337Z",
     "start_time": "2021-01-25T23:08:04.036963Z"
    },
    "scrolled": true
   },
   "outputs": [
    {
     "data": {
      "text/plain": [
       "'This sake has an older brother Daiginjo that has an industry leading milling rate of 23. Dassai 45 has a collection of sweet aromas including grape juice, cotton candy, and a hint of lemonade. Talk about a sake with body! This uber Daiginjo has a full-figured flavor that rushes chewy fruit tones to all corners of your mouth. It is wide and heavy with lots of expansive elements that talk to those who like a mouthful. Pay attention for a hint of anise and sneaky mild veggie aftertaste. The subtle sweetness including grape and berries becomes more pronounced when the fluid warms in the mouth. WORD: Chunky WINE: Pinot Noir / Chewy Whites BEER: Ales FOODS: Mushroom risotto, tempura, fried chicken, caviar, smoked salmon pate.'"
      ]
     },
     "execution_count": 49,
     "metadata": {},
     "output_type": "execute_result"
    }
   ],
   "source": [
    "prod_url = 'https://www.truesake.com/collections/all/products/dassai-50-otter-festival'\n",
    "\n",
    "# Beautiful Soup Setup\n",
    "response = requests.get(prod_url)\n",
    "page = response.text\n",
    "soup = BeautifulSoup(page, 'html.parser')\n",
    "\n",
    "# Find product description part of html\n",
    "product_description_html = soup.find('div', class_='product-main')\n",
    "\n",
    "full_description = product_description_html.find(\n",
    "            'div', class_='product-description rte').text\n",
    "full_description = re.sub(r'[\\n]', '', full_description)\n",
    "full_description"
   ]
  },
  {
   "cell_type": "code",
   "execution_count": 52,
   "metadata": {
    "ExecuteTime": {
     "end_time": "2021-01-25T23:08:55.479473Z",
     "start_time": "2021-01-25T23:08:55.475965Z"
    }
   },
   "outputs": [
    {
     "data": {
      "text/plain": [
       "['Chunky ',\n",
       " 'Pinot Noir / Chewy Whites ',\n",
       " 'Ales ',\n",
       " 'Mushroom risotto, tempura, fried chicken, caviar, smoked salmon pate.']"
      ]
     },
     "execution_count": 52,
     "metadata": {},
     "output_type": "execute_result"
    }
   ],
   "source": [
    "find_product_keywords(full_description)"
   ]
  },
  {
   "cell_type": "code",
   "execution_count": null,
   "metadata": {},
   "outputs": [],
   "source": []
  },
  {
   "cell_type": "code",
   "execution_count": null,
   "metadata": {},
   "outputs": [],
   "source": []
  },
  {
   "cell_type": "code",
   "execution_count": null,
   "metadata": {},
   "outputs": [],
   "source": []
  },
  {
   "cell_type": "code",
   "execution_count": null,
   "metadata": {},
   "outputs": [],
   "source": []
  }
 ],
 "metadata": {
  "kernelspec": {
   "display_name": "Python [conda env:metis] *",
   "language": "python",
   "name": "conda-env-metis-py"
  },
  "language_info": {
   "codemirror_mode": {
    "name": "ipython",
    "version": 3
   },
   "file_extension": ".py",
   "mimetype": "text/x-python",
   "name": "python",
   "nbconvert_exporter": "python",
   "pygments_lexer": "ipython3",
   "version": "3.8.5"
  },
  "toc": {
   "base_numbering": 1,
   "nav_menu": {},
   "number_sections": true,
   "sideBar": true,
   "skip_h1_title": false,
   "title_cell": "Table of Contents",
   "title_sidebar": "Contents",
   "toc_cell": false,
   "toc_position": {},
   "toc_section_display": true,
   "toc_window_display": false
  },
  "varInspector": {
   "cols": {
    "lenName": 16,
    "lenType": 16,
    "lenVar": 40
   },
   "kernels_config": {
    "python": {
     "delete_cmd_postfix": "",
     "delete_cmd_prefix": "del ",
     "library": "var_list.py",
     "varRefreshCmd": "print(var_dic_list())"
    },
    "r": {
     "delete_cmd_postfix": ") ",
     "delete_cmd_prefix": "rm(",
     "library": "var_list.r",
     "varRefreshCmd": "cat(var_dic_list()) "
    }
   },
   "types_to_exclude": [
    "module",
    "function",
    "builtin_function_or_method",
    "instance",
    "_Feature"
   ],
   "window_display": false
  }
 },
 "nbformat": 4,
 "nbformat_minor": 4
}

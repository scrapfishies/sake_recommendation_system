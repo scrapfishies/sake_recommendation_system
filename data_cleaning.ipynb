{
 "cells": [
  {
   "cell_type": "markdown",
   "metadata": {},
   "source": [
    "# Data Cleanup\n",
    "\n",
    "\n",
    "To do: \n",
    "- [ ] Field cleanup\n",
    "- [ ] Standard text preprocessing"
   ]
  },
  {
   "cell_type": "code",
   "execution_count": 1,
   "metadata": {
    "ExecuteTime": {
     "end_time": "2021-01-27T21:05:14.566346Z",
     "start_time": "2021-01-27T21:05:14.319933Z"
    }
   },
   "outputs": [],
   "source": [
    "import pandas as pd\n",
    "import numpy as np\n",
    "import re"
   ]
  },
  {
   "cell_type": "code",
   "execution_count": 2,
   "metadata": {
    "ExecuteTime": {
     "end_time": "2021-01-27T21:05:15.050651Z",
     "start_time": "2021-01-27T21:05:14.568693Z"
    },
    "scrolled": false
   },
   "outputs": [
    {
     "data": {
      "text/html": [
       "<div>\n",
       "<style scoped>\n",
       "    .dataframe tbody tr th:only-of-type {\n",
       "        vertical-align: middle;\n",
       "    }\n",
       "\n",
       "    .dataframe tbody tr th {\n",
       "        vertical-align: top;\n",
       "    }\n",
       "\n",
       "    .dataframe thead th {\n",
       "        text-align: right;\n",
       "    }\n",
       "</style>\n",
       "<table border=\"1\" class=\"dataframe\">\n",
       "  <thead>\n",
       "    <tr style=\"text-align: right;\">\n",
       "      <th></th>\n",
       "      <th>url</th>\n",
       "      <th>name</th>\n",
       "      <th>type</th>\n",
       "      <th>price</th>\n",
       "      <th>prefecture</th>\n",
       "      <th>smv</th>\n",
       "      <th>acidity</th>\n",
       "      <th>kw_word</th>\n",
       "      <th>kw_wines</th>\n",
       "      <th>kw_beer</th>\n",
       "      <th>kw_foods</th>\n",
       "      <th>description</th>\n",
       "    </tr>\n",
       "  </thead>\n",
       "  <tbody>\n",
       "    <tr>\n",
       "      <th>0</th>\n",
       "      <td>https://www.truesake.com/collections/all/produ...</td>\n",
       "      <td>Dassai 45 Junmai Daiginjo \"Otter Festival\"</td>\n",
       "      <td>Junmai Daiginjo</td>\n",
       "      <td>30.00</td>\n",
       "      <td>Yamaguchi</td>\n",
       "      <td>+3</td>\n",
       "      <td>1.4</td>\n",
       "      <td>Chunky</td>\n",
       "      <td>Pinot Noir / Chewy Whites</td>\n",
       "      <td>Ales</td>\n",
       "      <td>Mushroom risotto, tempura, fried chicken, cavi...</td>\n",
       "      <td>This sake has an older brother Daiginjo that h...</td>\n",
       "    </tr>\n",
       "    <tr>\n",
       "      <th>1</th>\n",
       "      <td>https://www.truesake.com/collections/all/produ...</td>\n",
       "      <td>Kikusui Junmai Ginjo \"Chrysanthemum Water\"</td>\n",
       "      <td>Junmai Ginjo</td>\n",
       "      <td>33.00</td>\n",
       "      <td>Niigata</td>\n",
       "      <td>+1</td>\n",
       "      <td>1.6</td>\n",
       "      <td>Citrus</td>\n",
       "      <td>Sharp Whites/Dry Reds</td>\n",
       "      <td>Ales/Ambers</td>\n",
       "      <td>Suitable for light and stronger flavored dishe...</td>\n",
       "      <td>True Sake owner Beau Timken recorded K...</td>\n",
       "    </tr>\n",
       "    <tr>\n",
       "      <th>2</th>\n",
       "      <td>https://www.truesake.com/collections/all/produ...</td>\n",
       "      <td>Wakatake Onikoroshi Junmai Daiginjo \"Demon Sla...</td>\n",
       "      <td>Junmai Daiginjo</td>\n",
       "      <td>49.00</td>\n",
       "      <td>Shizuoka</td>\n",
       "      <td>+/-0</td>\n",
       "      <td>1.4</td>\n",
       "      <td>Popular</td>\n",
       "      <td>Elegant reds/Complex whites</td>\n",
       "      <td>Crisp Ales</td>\n",
       "      <td>Cuisines that like big white wines.</td>\n",
       "      <td>Talk about a nice aroma package on thi...</td>\n",
       "    </tr>\n",
       "    <tr>\n",
       "      <th>3</th>\n",
       "      <td>https://www.truesake.com/collections/all/produ...</td>\n",
       "      <td>Shunnoten Tokubetsu Junmai \"Fishermen Cup\"</td>\n",
       "      <td>Tokubetsu Junmai</td>\n",
       "      <td>9.00</td>\n",
       "      <td>Yamanashi</td>\n",
       "      <td>+3</td>\n",
       "      <td>1.6</td>\n",
       "      <td>Smooth</td>\n",
       "      <td>Pinot Noir/Slippery Whites</td>\n",
       "      <td>Gentle Ales</td>\n",
       "      <td>None</td>\n",
       "      <td>The nose on this awesome looking “catch cup” i...</td>\n",
       "    </tr>\n",
       "    <tr>\n",
       "      <th>4</th>\n",
       "      <td>https://www.truesake.com/collections/all/produ...</td>\n",
       "      <td>Kenbishi Kuromatsu Honjozo \"Black Pine\"</td>\n",
       "      <td>Honjozo</td>\n",
       "      <td>40.00</td>\n",
       "      <td>Hyogo</td>\n",
       "      <td>±0.5</td>\n",
       "      <td>1.5</td>\n",
       "      <td>Rich</td>\n",
       "      <td>Deep Reds/Fat Whites</td>\n",
       "      <td>Stouts</td>\n",
       "      <td>Perfect for pub food salty and savory and grea...</td>\n",
       "      <td>The nose on this extremely famous Honjozo from...</td>\n",
       "    </tr>\n",
       "  </tbody>\n",
       "</table>\n",
       "</div>"
      ],
      "text/plain": [
       "                                                 url  \\\n",
       "0  https://www.truesake.com/collections/all/produ...   \n",
       "1  https://www.truesake.com/collections/all/produ...   \n",
       "2  https://www.truesake.com/collections/all/produ...   \n",
       "3  https://www.truesake.com/collections/all/produ...   \n",
       "4  https://www.truesake.com/collections/all/produ...   \n",
       "\n",
       "                                                name              type  price  \\\n",
       "0         Dassai 45 Junmai Daiginjo \"Otter Festival\"   Junmai Daiginjo  30.00   \n",
       "1         Kikusui Junmai Ginjo \"Chrysanthemum Water\"      Junmai Ginjo  33.00   \n",
       "2  Wakatake Onikoroshi Junmai Daiginjo \"Demon Sla...   Junmai Daiginjo  49.00   \n",
       "3         Shunnoten Tokubetsu Junmai \"Fishermen Cup\"  Tokubetsu Junmai   9.00   \n",
       "4            Kenbishi Kuromatsu Honjozo \"Black Pine\"           Honjozo  40.00   \n",
       "\n",
       "  prefecture   smv  acidity   kw_word                      kw_wines  \\\n",
       "0  Yamaguchi    +3      1.4   Chunky     Pinot Noir / Chewy Whites    \n",
       "1    Niigata    +1      1.6   Citrus         Sharp Whites/Dry Reds    \n",
       "2   Shizuoka  +/-0      1.4  Popular   Elegant reds/Complex whites    \n",
       "3  Yamanashi    +3      1.6   Smooth    Pinot Noir/Slippery Whites    \n",
       "4      Hyogo  ±0.5      1.5     Rich          Deep Reds/Fat Whites    \n",
       "\n",
       "        kw_beer                                           kw_foods  \\\n",
       "0         Ales   Mushroom risotto, tempura, fried chicken, cavi...   \n",
       "1  Ales/Ambers   Suitable for light and stronger flavored dishe...   \n",
       "2   Crisp Ales           Cuisines that like big white wines.         \n",
       "3   Gentle Ales                                               None   \n",
       "4       Stouts   Perfect for pub food salty and savory and grea...   \n",
       "\n",
       "                                         description  \n",
       "0  This sake has an older brother Daiginjo that h...  \n",
       "1          True Sake owner Beau Timken recorded K...  \n",
       "2          Talk about a nice aroma package on thi...  \n",
       "3  The nose on this awesome looking “catch cup” i...  \n",
       "4  The nose on this extremely famous Honjozo from...  "
      ]
     },
     "execution_count": 2,
     "metadata": {},
     "output_type": "execute_result"
    }
   ],
   "source": [
    "df = pd.read_json('raw_data.json')\n",
    "df.head()"
   ]
  },
  {
   "cell_type": "markdown",
   "metadata": {},
   "source": [
    "First, I'm curious to see how well the description parsing worked: "
   ]
  },
  {
   "cell_type": "code",
   "execution_count": 3,
   "metadata": {
    "ExecuteTime": {
     "end_time": "2021-01-27T21:05:15.058170Z",
     "start_time": "2021-01-27T21:05:15.054330Z"
    }
   },
   "outputs": [
    {
     "data": {
      "text/plain": [
       "array(['Chunky ', 'Citrus ', 'Popular ', 'Smooth ', 'Rich ', 'Even ',\n",
       "       None, 'Hops ', 'Consistent ', 'Big ', 'Pear ', 'Peach ', 'Velvet ',\n",
       "       '23% ', 'Vivacious ', 'Full Monty ', 'Dry      ', 'Gentle ',\n",
       "       'Light ', 'Cedar ', 'Strawberry ',\n",
       "       \"Superb WINE: Zesty Dry Reds/Crisp Whites BEER: Crisp Ales. FOODS: The kitchen sink! Super food friendly. Updated 2019/02\\xa0Vivid, voluptuous and vibrant sake in a can? You bet! This exclusive unpasteurized brew is Beau Timken's prized sake offering for True Sake customers. With a nose of strawberry, watermelon, sweet rice and cinnamon this undiluted sake (18.5%) is fat, happy, bright and chewy. Fruity, but not overly sweet, think big thoughts when tasting this velvety Nama that is pure pleasure in a can. (Yes cans keep sake colder longer!) This abundantly flavored sake is available only at True Sake! WORD: Jolly \",\n",
       "       'Clean ', 'Chewy', 'Big Clean ', 'Dry ', 'Milky ', 'Beefy ',\n",
       "       'Amber ', 'Flavorful ', 'Floral\\xa0', 'Grapes – ', 'Fat ',\n",
       "       'Earthy ', 'Divine ', 'Velvety ', 'Balanced ', 'Desirable ',\n",
       "       'Special ', 'Layered ', 'Yuzu ', 'Creamsicle ', 'Juicy ',\n",
       "       'Bright ', 'Coconut. ', 'Waves ', 'Lively ', 'Cocoa ', 'Soft ',\n",
       "       'Elegant ', 'Solid ', 'Structured ', 'Juice Box ', 'Complex ',\n",
       "       'Soft WINE ', 'Clever ', 'Melon ', 'Umami ', 'Smooth \\xa0',\n",
       "       'Effervescent ', 'Mushroom ', 'Gooey ', 'Historical ', 'Snappy ',\n",
       "       'Slick ', 'Fruity ', 'Stellar ', 'Ripe\\xa0', 'Lush ',\n",
       "       'Fruit Basket ', 'Liquid Umami ', 'Expressive ',\n",
       "       'Shiitake Mushroom ', 'Crisp ', 'Subtle\\xa0', 'Voluptuous ',\n",
       "       'Lively WINE: Tannin Reds/ Crisp Whites BEER: Citrus Ales FOODS: International Spice, Champagne Fare, Grilled fare, Shellfish, Seafood, Citrus salads. (2020)\\xa0The nose on this very-old-friend-of-True-Sake has a great collection of cherry, grape, berry, sweet rice, and powder sugar aromas. Since you’ve had this brew before what’s it like this year? The ’19 version of Arabashiri is more controlled and smooth than in year’s past. It is smooth with round and rolling fruit tones that are juicy and soft, semi-thick, semi-rich and fully tasty. The larger the vessel the more zesty and fresh feeling with honeydew melon, pear, apple, and a hint of grapefruit. A mid-sized glass brings out the best flavor to feeling play, but whatever you drink out of you will taste fresh sake at its best. WORD: Fresh ',\n",
       "       'Professional ', 'Slippery ', 'Brisk ',\n",
       "       'Clean Wine: Cabs/crisp whites ', 'Smooth Cedar ', 'Chocolate ',\n",
       "       'Brown Sugar ', 'Sunflower ', 'Round ', 'Cantaloupe - ', 'Silky ',\n",
       "       'Supreme ', 'Clean \\xa0', 'Simple Complexity ', 'Sublime ',\n",
       "       'Massive ', 'Professional Nigori ',\n",
       "       'Elegant WINE: Soft Reds/Clean Whites BEER: Light Beer FOODS: Clean cuisines, grilled fare, shellfish, sashimi, sushi (2020)The nose on this spring released seasonal sake is a subtle collection of white grapes, tangerine, and sweet rice aromas. Say hello to a very full and ripe Nama that has lots of Ginjo qualities and flavors. Look for pink grapefruit, white grape, and blood orange flavors on a fluid that is fat and chewy that has a little tingle, which means it’s still living! Very vivid with a very proud plumpness this brew has lots of glucose-like feelings with a dry finish. Fleshy and fun, this “Spring Deer” is a full-bodied Nama with bright citrus fruit tones on a juicy fluid that jumps. WORD: Citrus ',\n",
       "       'Apple ', 'Chewy ', 'Beast ', 'Deep ', 'Drinkable ', 'Grapes ',\n",
       "       'Engaging ',\n",
       "       'Balanced WINE: Rich Reds/Fat Whites BEER: Belgian Ales FOODS: Fall cooked meats and fowl, grilled fish, smoked meats and fish, soups and stews. (2020)\\xa0The nose on this fall released sake is a gentle collection of cocoa, lemon peel, oatmeal, and steamed rice aromas. Behold a very unique version of Masumi’s Hiyaoroshi that is far more complex than year’s past. Round, smooth, and a little snappy this brew is loaded with some very interesting flavors such as raisin, crisp apple, black berries, and cooked persimmon. There is a very interesting astringency that jumps between a subtle tartness and a refreshing sour quality that makes this sake drink very much like a big dry red wine. A wine glass makes this sake drink with better balance, and it drinks much more rich closer to room temperature. Warming brings out more tartness. WORD: Complex ',\n",
       "       'Plush ', 'Masterpiece ',\n",
       "       'Clean WINE: Soft Reds/ Dry Whites BEER: Light Beer FOODS: Salty, oily, savory grilled fare, fried foods, bar snacks.(2020)\\xa0The nose on this unpasteurized sake that is made with “Estate” brewing rice, which means that they grow their own, is a very fresh collection of cucumber, powder sugar, rice candy, cocoa, and mineral aromas. Damn! This sake tastes like the bottle looks - light, cool, and minerally. What an awesome Nama. It is so light, bright, and refreshing but is loaded with really tasty flavors such as white grape, honeydew melon, blueberry, and tons of minerals like snowball melt. There is also a very unique vein of citrus tones such as tangerine, and grapefruit, with an added powder sugar touch. A fantastic drinking brew that has a 1.8 acidity level, and has an 18% alcohol level, which you cannot even tell that they’re there, so we will call it the “Crazy 8’s.” WORD: Snowmelt ',\n",
       "       'Whisper ', 'Confident ', 'Gentle Giant ', 'Lemonade\\xa0',\n",
       "       'Trophy ',\n",
       "       'Rich WINE: Deep Reds/Fat Whites BEER: Fruity Ales FOODS: All the wonderful full-bodied and complex autumn dishes. (2020)\\xa0The nose on this seasonally released Fall Draft sake is a gentle collection of nectarine, dried fruits, cranberries, bok choy, and steamed rice. Say hello to a very elegant Junmai Ginjo single pasteurized Hiyaoroshi that is well balanced with a snow melt quality that is mineral-like and slippery. Talk about a mouthful of dried fruit flavors! Look out for dried cranberries, dried raspberries, dried mangos, with a hint of white raisins. Not too heavy and not too light it is a semi-dry slippery slide that has Ginjo elegance and a very nice acidity balance. This brew has the best finish of all ten Fall Draft Hiyaoroshi this year. A wine glass brings out the elegance and highlights of snowmelt and dried fruit tones. WORD: Elegant ',\n",
       "       'Berry Pie WINE: Deep Reds/Fruity Whites BEER: Fruity Ales FOODS: Rich and full-bodied Autumn cuisines, fatty fish, rich meats, game, pastas, and Thanksgiving turkey. (2020)\\xa0The nose on this specially released fall draft sake is a cool collection of leather, cocoa, plums, red grapes, and steamed rice aromas. This Hiyaoroshi’19 is different from last year’s offering because it uses an entirely different rice varietal called Aiyama milled to 75%. The result is a fruity and wonderful. Rich, round, and sweet it is full-fluid fresh. There are lots of plum, melon, date, apple, and purple fig flavors and maybe that’s why the label is purple. The brew does well in a mid-sized glass and it gets creamier as it warms in the glass. Very layered. Very lush. Very plump. This brew screams fall fruit flavors that flow on a fat fluid that feels lively and bright. WORD: Figs ',\n",
       "       'Grand Champion ', 'Extra Dry ', 'Refreshing ', 'Fun! ',\n",
       "       'Sake Power ', 'Perfect ', 'Creamy ', 'Godly ', 'Rewarding ',\n",
       "       'Honey ', 'Ultimate ', 'Huge ', 'Gentle Rich ', 'Bright-Rich ',\n",
       "       'Ice ', 'Cherries \\xa0', 'Adventure ', 'Luxurious ', 'Classy ',\n",
       "       'Viscous ', 'Pristine ', 'Citrus Basket ', 'Dynamic ', 'Tropical ',\n",
       "       'Feelings ', 'Yakitori ', 'Unique ', 'Ricey ', 'Flavor Shifter ',\n",
       "       'Intriguing ', 'Technique ', 'Magical ', 'Dexterous ', 'Exciting ',\n",
       "       'Harmony ', 'Legendary '], dtype=object)"
      ]
     },
     "execution_count": 3,
     "metadata": {},
     "output_type": "execute_result"
    }
   ],
   "source": [
    "df.kw_word.unique()"
   ]
  },
  {
   "cell_type": "markdown",
   "metadata": {},
   "source": [
    "Looks like I have a few listings where it didn't work so well... let's take a look: "
   ]
  },
  {
   "cell_type": "code",
   "execution_count": 4,
   "metadata": {
    "ExecuteTime": {
     "end_time": "2021-01-27T21:05:15.077110Z",
     "start_time": "2021-01-27T21:05:15.059456Z"
    }
   },
   "outputs": [
    {
     "data": {
      "text/html": [
       "<div>\n",
       "<style scoped>\n",
       "    .dataframe tbody tr th:only-of-type {\n",
       "        vertical-align: middle;\n",
       "    }\n",
       "\n",
       "    .dataframe tbody tr th {\n",
       "        vertical-align: top;\n",
       "    }\n",
       "\n",
       "    .dataframe thead th {\n",
       "        text-align: right;\n",
       "    }\n",
       "</style>\n",
       "<table border=\"1\" class=\"dataframe\">\n",
       "  <thead>\n",
       "    <tr style=\"text-align: right;\">\n",
       "      <th></th>\n",
       "      <th>url</th>\n",
       "      <th>name</th>\n",
       "      <th>type</th>\n",
       "      <th>price</th>\n",
       "      <th>prefecture</th>\n",
       "      <th>smv</th>\n",
       "      <th>acidity</th>\n",
       "      <th>kw_word</th>\n",
       "      <th>kw_wines</th>\n",
       "      <th>kw_beer</th>\n",
       "      <th>kw_foods</th>\n",
       "      <th>description</th>\n",
       "    </tr>\n",
       "  </thead>\n",
       "  <tbody>\n",
       "    <tr>\n",
       "      <th>23</th>\n",
       "      <td>https://www.truesake.com/collections/all/produ...</td>\n",
       "      <td>Narutotai Ginjo Nama Genshu \"Red Snapper\"</td>\n",
       "      <td>Ginjo Nama Genshu</td>\n",
       "      <td>38.00</td>\n",
       "      <td>Tokushima</td>\n",
       "      <td>+5</td>\n",
       "      <td>1.7</td>\n",
       "      <td>Superb WINE: Zesty Dry Reds/Crisp Whites BEER:...</td>\n",
       "      <td>Zesty Dry Reds/Crisp Whites BEER: Crisp Ales. ...</td>\n",
       "      <td>Crisp Ales. FOODS: The kitchen sink! Super foo...</td>\n",
       "      <td>The kitchen sink! Super food friendly. Updated...</td>\n",
       "      <td>We used to refer to this wonderful Can as “Bea...</td>\n",
       "    </tr>\n",
       "    <tr>\n",
       "      <th>123</th>\n",
       "      <td>https://www.truesake.com/collections/all/produ...</td>\n",
       "      <td>Masumi Arabashiri Junmai Ginjo Nama \"First Run\"</td>\n",
       "      <td>Junmai Ginjo Nama</td>\n",
       "      <td>urrent price        $25.00</td>\n",
       "      <td>Nagano</td>\n",
       "      <td>-0.6</td>\n",
       "      <td>1.7</td>\n",
       "      <td>Lively WINE: Tannin Reds/ Crisp Whites BEER: C...</td>\n",
       "      <td>Tannin Reds/ Crisp Whites BEER: Citrus Ales FO...</td>\n",
       "      <td>Citrus Ales FOODS: International Spice, Champa...</td>\n",
       "      <td>International Spice, Champagne Fare, Grilled f...</td>\n",
       "      <td>The nose on this very famous seasonally releas...</td>\n",
       "    </tr>\n",
       "    <tr>\n",
       "      <th>165</th>\n",
       "      <td>https://www.truesake.com/collections/all/produ...</td>\n",
       "      <td>Harushika Shiboribana Junmai Ginjo Nama \"Sprin...</td>\n",
       "      <td>Junmai Ginjo Nama</td>\n",
       "      <td>36.00</td>\n",
       "      <td>Nara</td>\n",
       "      <td>-2</td>\n",
       "      <td>1.8</td>\n",
       "      <td>Elegant WINE: Soft Reds/Clean Whites BEER: Lig...</td>\n",
       "      <td>Soft Reds/Clean Whites BEER: Light Beer FOODS:...</td>\n",
       "      <td>Light Beer FOODS: Clean cuisines, grilled fare...</td>\n",
       "      <td>Clean cuisines, grilled fare, shellfish, sashi...</td>\n",
       "      <td>The nose on this just released unpasteurized s...</td>\n",
       "    </tr>\n",
       "    <tr>\n",
       "      <th>194</th>\n",
       "      <td>https://www.truesake.com/collections/all/produ...</td>\n",
       "      <td>Masumi Junmai Ginjo Hiyaoroshi \"Sleeping Beauty\"</td>\n",
       "      <td>Junmai Ginjo Hiyaoroshi</td>\n",
       "      <td>41.00</td>\n",
       "      <td>Nagano</td>\n",
       "      <td>±0</td>\n",
       "      <td>1.8</td>\n",
       "      <td>Balanced WINE: Rich Reds/Fat Whites BEER: Belg...</td>\n",
       "      <td>Rich Reds/Fat Whites BEER: Belgian Ales FOODS:...</td>\n",
       "      <td>Belgian Ales FOODS: Fall cooked meats and fowl...</td>\n",
       "      <td>Fall cooked meats and fowl, grilled fish, smok...</td>\n",
       "      <td>The nose on this seasonally released “Draft Sa...</td>\n",
       "    </tr>\n",
       "    <tr>\n",
       "      <th>203</th>\n",
       "      <td>https://www.truesake.com/collections/all/produ...</td>\n",
       "      <td>Nechi Otokoyama Tokubetsu Honjozo Nama “Yukimi...</td>\n",
       "      <td>Tokubetsu Honjozo Nama</td>\n",
       "      <td>urrent price        $32.00</td>\n",
       "      <td>Niigata</td>\n",
       "      <td>+4</td>\n",
       "      <td>1.8</td>\n",
       "      <td>Clean WINE: Soft Reds/ Dry Whites BEER: Light ...</td>\n",
       "      <td>Soft Reds/ Dry Whites BEER: Light Beer FOODS: ...</td>\n",
       "      <td>Light Beer FOODS: Salty, oily, savory grilled ...</td>\n",
       "      <td>Salty, oily, savory grilled fare, fried foods,...</td>\n",
       "      <td>The nose on this seasonally released unpasteur...</td>\n",
       "    </tr>\n",
       "    <tr>\n",
       "      <th>214</th>\n",
       "      <td>https://www.truesake.com/collections/all/produ...</td>\n",
       "      <td>Shirataki Jozen Junmai Ginjo Hiyaoroshi</td>\n",
       "      <td>Junmai Ginjo Hiyaoroshi</td>\n",
       "      <td>42.00</td>\n",
       "      <td>Niigata</td>\n",
       "      <td>±0</td>\n",
       "      <td>1.5</td>\n",
       "      <td>Rich WINE: Deep Reds/Fat Whites BEER: Fruity A...</td>\n",
       "      <td>Deep Reds/Fat Whites BEER: Fruity Ales FOODS: ...</td>\n",
       "      <td>Fruity Ales FOODS: All the wonderful full-bodi...</td>\n",
       "      <td>All the wonderful full-bodied and complex autu...</td>\n",
       "      <td>The nose on this seasonally released single-pa...</td>\n",
       "    </tr>\n",
       "    <tr>\n",
       "      <th>219</th>\n",
       "      <td>https://www.truesake.com/collections/all/produ...</td>\n",
       "      <td>Shichida Hiyaoroshi Junmai</td>\n",
       "      <td>Hiyaoroshi Junmai</td>\n",
       "      <td>44.00</td>\n",
       "      <td>Saga</td>\n",
       "      <td>+1</td>\n",
       "      <td>1.6</td>\n",
       "      <td>Berry Pie WINE: Deep Reds/Fruity Whites BEER: ...</td>\n",
       "      <td>Deep Reds/Fruity Whites BEER: Fruity Ales FOOD...</td>\n",
       "      <td>Fruity Ales FOODS: Rich and full-bodied Autumn...</td>\n",
       "      <td>Rich and full-bodied Autumn cuisines, fatty fi...</td>\n",
       "      <td>The nose on this Fall Draft seasonally release...</td>\n",
       "    </tr>\n",
       "  </tbody>\n",
       "</table>\n",
       "</div>"
      ],
      "text/plain": [
       "                                                   url  \\\n",
       "23   https://www.truesake.com/collections/all/produ...   \n",
       "123  https://www.truesake.com/collections/all/produ...   \n",
       "165  https://www.truesake.com/collections/all/produ...   \n",
       "194  https://www.truesake.com/collections/all/produ...   \n",
       "203  https://www.truesake.com/collections/all/produ...   \n",
       "214  https://www.truesake.com/collections/all/produ...   \n",
       "219  https://www.truesake.com/collections/all/produ...   \n",
       "\n",
       "                                                  name  \\\n",
       "23           Narutotai Ginjo Nama Genshu \"Red Snapper\"   \n",
       "123    Masumi Arabashiri Junmai Ginjo Nama \"First Run\"   \n",
       "165  Harushika Shiboribana Junmai Ginjo Nama \"Sprin...   \n",
       "194   Masumi Junmai Ginjo Hiyaoroshi \"Sleeping Beauty\"   \n",
       "203  Nechi Otokoyama Tokubetsu Honjozo Nama “Yukimi...   \n",
       "214            Shirataki Jozen Junmai Ginjo Hiyaoroshi   \n",
       "219                         Shichida Hiyaoroshi Junmai   \n",
       "\n",
       "                        type                       price prefecture   smv  \\\n",
       "23         Ginjo Nama Genshu                       38.00  Tokushima    +5   \n",
       "123        Junmai Ginjo Nama  urrent price        $25.00     Nagano  -0.6   \n",
       "165        Junmai Ginjo Nama                       36.00       Nara    -2   \n",
       "194  Junmai Ginjo Hiyaoroshi                       41.00     Nagano    ±0   \n",
       "203   Tokubetsu Honjozo Nama  urrent price        $32.00    Niigata    +4   \n",
       "214  Junmai Ginjo Hiyaoroshi                       42.00    Niigata    ±0   \n",
       "219        Hiyaoroshi Junmai                       44.00       Saga    +1   \n",
       "\n",
       "     acidity                                            kw_word  \\\n",
       "23       1.7  Superb WINE: Zesty Dry Reds/Crisp Whites BEER:...   \n",
       "123      1.7  Lively WINE: Tannin Reds/ Crisp Whites BEER: C...   \n",
       "165      1.8  Elegant WINE: Soft Reds/Clean Whites BEER: Lig...   \n",
       "194      1.8  Balanced WINE: Rich Reds/Fat Whites BEER: Belg...   \n",
       "203      1.8  Clean WINE: Soft Reds/ Dry Whites BEER: Light ...   \n",
       "214      1.5  Rich WINE: Deep Reds/Fat Whites BEER: Fruity A...   \n",
       "219      1.6  Berry Pie WINE: Deep Reds/Fruity Whites BEER: ...   \n",
       "\n",
       "                                              kw_wines  \\\n",
       "23   Zesty Dry Reds/Crisp Whites BEER: Crisp Ales. ...   \n",
       "123  Tannin Reds/ Crisp Whites BEER: Citrus Ales FO...   \n",
       "165  Soft Reds/Clean Whites BEER: Light Beer FOODS:...   \n",
       "194  Rich Reds/Fat Whites BEER: Belgian Ales FOODS:...   \n",
       "203  Soft Reds/ Dry Whites BEER: Light Beer FOODS: ...   \n",
       "214  Deep Reds/Fat Whites BEER: Fruity Ales FOODS: ...   \n",
       "219  Deep Reds/Fruity Whites BEER: Fruity Ales FOOD...   \n",
       "\n",
       "                                               kw_beer  \\\n",
       "23   Crisp Ales. FOODS: The kitchen sink! Super foo...   \n",
       "123  Citrus Ales FOODS: International Spice, Champa...   \n",
       "165  Light Beer FOODS: Clean cuisines, grilled fare...   \n",
       "194  Belgian Ales FOODS: Fall cooked meats and fowl...   \n",
       "203  Light Beer FOODS: Salty, oily, savory grilled ...   \n",
       "214  Fruity Ales FOODS: All the wonderful full-bodi...   \n",
       "219  Fruity Ales FOODS: Rich and full-bodied Autumn...   \n",
       "\n",
       "                                              kw_foods  \\\n",
       "23   The kitchen sink! Super food friendly. Updated...   \n",
       "123  International Spice, Champagne Fare, Grilled f...   \n",
       "165  Clean cuisines, grilled fare, shellfish, sashi...   \n",
       "194  Fall cooked meats and fowl, grilled fish, smok...   \n",
       "203  Salty, oily, savory grilled fare, fried foods,...   \n",
       "214  All the wonderful full-bodied and complex autu...   \n",
       "219  Rich and full-bodied Autumn cuisines, fatty fi...   \n",
       "\n",
       "                                           description  \n",
       "23   We used to refer to this wonderful Can as “Bea...  \n",
       "123  The nose on this very famous seasonally releas...  \n",
       "165  The nose on this just released unpasteurized s...  \n",
       "194  The nose on this seasonally released “Draft Sa...  \n",
       "203  The nose on this seasonally released unpasteur...  \n",
       "214  The nose on this seasonally released single-pa...  \n",
       "219  The nose on this Fall Draft seasonally release...  "
      ]
     },
     "execution_count": 4,
     "metadata": {},
     "output_type": "execute_result"
    }
   ],
   "source": [
    "df[df['kw_word'].str.len() > 40]"
   ]
  },
  {
   "cell_type": "code",
   "execution_count": 5,
   "metadata": {
    "ExecuteTime": {
     "end_time": "2021-01-27T21:05:15.083741Z",
     "start_time": "2021-01-27T21:05:15.080062Z"
    },
    "scrolled": true
   },
   "outputs": [
    {
     "name": "stdout",
     "output_type": "stream",
     "text": [
      "https://www.truesake.com/collections/all/products/narutotai-nama-genshu\n",
      "https://www.truesake.com/collections/all/products/masumi-arabashiri\n",
      "https://www.truesake.com/collections/all/products/harushika-shiboribana\n",
      "https://www.truesake.com/collections/all/products/masumi-junmai-ginjo-hiyaoroshi-sleeping-beauty\n",
      "https://www.truesake.com/collections/all/products/nechi-otokoyama-tokubetsu-honjozo-nama-yukimizake\n",
      "https://www.truesake.com/collections/all/products/shirataki-jozen-junmai-ginjo-hiyaoroshi\n",
      "https://www.truesake.com/collections/all/products/shichida-hiyaoroshi-omachi-junmai\n"
     ]
    }
   ],
   "source": [
    "for link in df[df['kw_word'].str.len() > 40].url:\n",
    "    print(link)"
   ]
  },
  {
   "cell_type": "markdown",
   "metadata": {},
   "source": [
    "After reviewing these links, these products have revised descriptions. Basically duplicating the description section, including the 4 keywords. \n",
    "\n",
    "I'll do some data cleanup for these 7 products."
   ]
  },
  {
   "cell_type": "code",
   "execution_count": 6,
   "metadata": {
    "ExecuteTime": {
     "end_time": "2021-01-27T21:05:15.088748Z",
     "start_time": "2021-01-27T21:05:15.086169Z"
    }
   },
   "outputs": [],
   "source": [
    "def split_on_chars(chars, text):\n",
    "    if text is not None:\n",
    "        if chars in text:\n",
    "            return text.split(chars)[0].strip()\n",
    "        else:\n",
    "            return text.strip()\n",
    "    else:\n",
    "        return text"
   ]
  },
  {
   "cell_type": "code",
   "execution_count": 7,
   "metadata": {
    "ExecuteTime": {
     "end_time": "2021-01-27T21:05:15.093538Z",
     "start_time": "2021-01-27T21:05:15.090341Z"
    }
   },
   "outputs": [],
   "source": [
    "df['kw_word'] = df['kw_word'].apply(lambda description: split_on_chars('WINE', description))"
   ]
  },
  {
   "cell_type": "code",
   "execution_count": 8,
   "metadata": {
    "ExecuteTime": {
     "end_time": "2021-01-27T21:05:15.097954Z",
     "start_time": "2021-01-27T21:05:15.095772Z"
    }
   },
   "outputs": [],
   "source": [
    "#df.kw_word.unique()"
   ]
  },
  {
   "cell_type": "code",
   "execution_count": null,
   "metadata": {},
   "outputs": [],
   "source": []
  },
  {
   "cell_type": "markdown",
   "metadata": {},
   "source": [
    "Next - `kw_wines` column:"
   ]
  },
  {
   "cell_type": "code",
   "execution_count": 9,
   "metadata": {
    "ExecuteTime": {
     "end_time": "2021-01-27T21:05:15.102931Z",
     "start_time": "2021-01-27T21:05:15.099731Z"
    },
    "scrolled": false
   },
   "outputs": [],
   "source": [
    "df['kw_wines'] = df['kw_wines'].apply(lambda description: split_on_chars('BEER', description))"
   ]
  },
  {
   "cell_type": "code",
   "execution_count": null,
   "metadata": {},
   "outputs": [],
   "source": []
  },
  {
   "cell_type": "code",
   "execution_count": 10,
   "metadata": {
    "ExecuteTime": {
     "end_time": "2021-01-27T21:05:15.106715Z",
     "start_time": "2021-01-27T21:05:15.104627Z"
    },
    "scrolled": false
   },
   "outputs": [],
   "source": [
    "#df.kw_wines.unique()"
   ]
  },
  {
   "cell_type": "code",
   "execution_count": null,
   "metadata": {},
   "outputs": [],
   "source": []
  },
  {
   "cell_type": "markdown",
   "metadata": {},
   "source": [
    "Onto `kw_beer` column:"
   ]
  },
  {
   "cell_type": "code",
   "execution_count": 11,
   "metadata": {
    "ExecuteTime": {
     "end_time": "2021-01-27T21:05:15.111040Z",
     "start_time": "2021-01-27T21:05:15.108164Z"
    }
   },
   "outputs": [],
   "source": [
    "df['kw_beer'] = df['kw_beer'].apply(lambda description: split_on_chars('FOOD', description))"
   ]
  },
  {
   "cell_type": "code",
   "execution_count": 12,
   "metadata": {
    "ExecuteTime": {
     "end_time": "2021-01-27T21:05:15.114063Z",
     "start_time": "2021-01-27T21:05:15.112413Z"
    }
   },
   "outputs": [],
   "source": [
    "#df.kw_beer.unique()"
   ]
  },
  {
   "cell_type": "code",
   "execution_count": 13,
   "metadata": {
    "ExecuteTime": {
     "end_time": "2021-01-27T21:05:15.119231Z",
     "start_time": "2021-01-27T21:05:15.115556Z"
    }
   },
   "outputs": [],
   "source": [
    "df['kw_beer'] = df['kw_beer'].apply(lambda description: split_on_chars('BEER:', description))\n",
    "df['kw_beer'] = df['kw_beer'].apply(lambda description: split_on_chars('Foods:', description))"
   ]
  },
  {
   "cell_type": "code",
   "execution_count": 14,
   "metadata": {
    "ExecuteTime": {
     "end_time": "2021-01-27T21:05:15.122549Z",
     "start_time": "2021-01-27T21:05:15.120830Z"
    }
   },
   "outputs": [],
   "source": [
    "#df.kw_beer.unique()"
   ]
  },
  {
   "cell_type": "markdown",
   "metadata": {},
   "source": [
    "Onto `kw_foods` column: "
   ]
  },
  {
   "cell_type": "code",
   "execution_count": 15,
   "metadata": {
    "ExecuteTime": {
     "end_time": "2021-01-27T21:05:15.125970Z",
     "start_time": "2021-01-27T21:05:15.124091Z"
    }
   },
   "outputs": [],
   "source": [
    "#df.kw_foods.unique()"
   ]
  },
  {
   "cell_type": "code",
   "execution_count": 16,
   "metadata": {
    "ExecuteTime": {
     "end_time": "2021-01-27T21:05:15.132274Z",
     "start_time": "2021-01-27T21:05:15.127923Z"
    }
   },
   "outputs": [],
   "source": [
    "df['kw_foods'] = df['kw_foods'].apply(lambda description: split_on_chars('Updated', description))\n",
    "df['kw_foods'] = df['kw_foods'].apply(lambda description: split_on_chars('(', description))"
   ]
  },
  {
   "cell_type": "code",
   "execution_count": null,
   "metadata": {},
   "outputs": [],
   "source": []
  },
  {
   "cell_type": "code",
   "execution_count": 17,
   "metadata": {
    "ExecuteTime": {
     "end_time": "2021-01-27T21:05:15.143362Z",
     "start_time": "2021-01-27T21:05:15.139716Z"
    }
   },
   "outputs": [
    {
     "data": {
      "text/plain": [
       "array(['Yamaguchi', 'Niigata', 'Shizuoka', 'Yamanashi', 'Hyogo', 'Osaka',\n",
       "       'Kouchi', 'Hokkaido', 'Yamagata', 'Tottori', 'Tochigi', 'Fukui',\n",
       "       'Akita', 'Tokushima', 'Ohita', 'Wakayama', 'Shimane', 'Ishikawa',\n",
       "       'Fukushima', 'Aomori', 'Kyoto', 'Iwate', 'Saitama', 'Gifu',\n",
       "       'Nagano', 'Oakland, California', 'Shiga', 'Ehime', 'Kochi',\n",
       "       'Miyagi', 'Ibaraki', 'Aichi', 'Hiroshima', 'Saga', 'Nanago',\n",
       "       'Fukuoka', 'Nara', 'Domestic - San Francisco', None, 'Okayama',\n",
       "       'Okinawa', 'Tokyo', 'Shizouka', 'Gunma', 'Kanagawa'], dtype=object)"
      ]
     },
     "execution_count": 17,
     "metadata": {},
     "output_type": "execute_result"
    }
   ],
   "source": [
    "df.prefecture.unique()"
   ]
  },
  {
   "cell_type": "code",
   "execution_count": null,
   "metadata": {},
   "outputs": [],
   "source": []
  },
  {
   "cell_type": "code",
   "execution_count": 18,
   "metadata": {
    "ExecuteTime": {
     "end_time": "2021-01-27T21:05:15.151287Z",
     "start_time": "2021-01-27T21:05:15.147266Z"
    }
   },
   "outputs": [],
   "source": [
    "df['description'] = df['description'].apply(lambda description: split_on_chars('WORD', description))"
   ]
  },
  {
   "cell_type": "code",
   "execution_count": null,
   "metadata": {},
   "outputs": [],
   "source": []
  },
  {
   "cell_type": "code",
   "execution_count": 19,
   "metadata": {
    "ExecuteTime": {
     "end_time": "2021-01-27T21:05:15.155669Z",
     "start_time": "2021-01-27T21:05:15.153156Z"
    },
    "scrolled": false
   },
   "outputs": [],
   "source": [
    "#df.description.unique()"
   ]
  },
  {
   "cell_type": "code",
   "execution_count": 20,
   "metadata": {
    "ExecuteTime": {
     "end_time": "2021-01-27T21:05:21.806546Z",
     "start_time": "2021-01-27T21:05:21.792637Z"
    }
   },
   "outputs": [
    {
     "data": {
      "text/html": [
       "<div>\n",
       "<style scoped>\n",
       "    .dataframe tbody tr th:only-of-type {\n",
       "        vertical-align: middle;\n",
       "    }\n",
       "\n",
       "    .dataframe tbody tr th {\n",
       "        vertical-align: top;\n",
       "    }\n",
       "\n",
       "    .dataframe thead th {\n",
       "        text-align: right;\n",
       "    }\n",
       "</style>\n",
       "<table border=\"1\" class=\"dataframe\">\n",
       "  <thead>\n",
       "    <tr style=\"text-align: right;\">\n",
       "      <th></th>\n",
       "      <th>url</th>\n",
       "      <th>name</th>\n",
       "      <th>type</th>\n",
       "      <th>price</th>\n",
       "      <th>prefecture</th>\n",
       "      <th>smv</th>\n",
       "      <th>acidity</th>\n",
       "      <th>kw_word</th>\n",
       "      <th>kw_wines</th>\n",
       "      <th>kw_beer</th>\n",
       "      <th>kw_foods</th>\n",
       "      <th>description</th>\n",
       "    </tr>\n",
       "  </thead>\n",
       "  <tbody>\n",
       "    <tr>\n",
       "      <th>0</th>\n",
       "      <td>https://www.truesake.com/collections/all/produ...</td>\n",
       "      <td>Dassai 45 Junmai Daiginjo \"Otter Festival\"</td>\n",
       "      <td>Junmai Daiginjo</td>\n",
       "      <td>30.00</td>\n",
       "      <td>Yamaguchi</td>\n",
       "      <td>+3</td>\n",
       "      <td>1.4</td>\n",
       "      <td>Chunky</td>\n",
       "      <td>Pinot Noir / Chewy Whites</td>\n",
       "      <td>Ales</td>\n",
       "      <td>Mushroom risotto, tempura, fried chicken, cavi...</td>\n",
       "      <td>This sake has an older brother Daiginjo that h...</td>\n",
       "    </tr>\n",
       "    <tr>\n",
       "      <th>1</th>\n",
       "      <td>https://www.truesake.com/collections/all/produ...</td>\n",
       "      <td>Kikusui Junmai Ginjo \"Chrysanthemum Water\"</td>\n",
       "      <td>Junmai Ginjo</td>\n",
       "      <td>33.00</td>\n",
       "      <td>Niigata</td>\n",
       "      <td>+1</td>\n",
       "      <td>1.6</td>\n",
       "      <td>Citrus</td>\n",
       "      <td>Sharp Whites/Dry Reds</td>\n",
       "      <td>Ales/Ambers</td>\n",
       "      <td>Suitable for light and stronger flavored dishe...</td>\n",
       "      <td>True Sake owner Beau Timken recorded Kikusui a...</td>\n",
       "    </tr>\n",
       "    <tr>\n",
       "      <th>2</th>\n",
       "      <td>https://www.truesake.com/collections/all/produ...</td>\n",
       "      <td>Wakatake Onikoroshi Junmai Daiginjo \"Demon Sla...</td>\n",
       "      <td>Junmai Daiginjo</td>\n",
       "      <td>49.00</td>\n",
       "      <td>Shizuoka</td>\n",
       "      <td>+/-0</td>\n",
       "      <td>1.4</td>\n",
       "      <td>Popular</td>\n",
       "      <td>Elegant reds/Complex whites</td>\n",
       "      <td>Crisp Ales</td>\n",
       "      <td>Cuisines that like big white wines.</td>\n",
       "      <td>Talk about a nice aroma package on this ultra-...</td>\n",
       "    </tr>\n",
       "    <tr>\n",
       "      <th>3</th>\n",
       "      <td>https://www.truesake.com/collections/all/produ...</td>\n",
       "      <td>Shunnoten Tokubetsu Junmai \"Fishermen Cup\"</td>\n",
       "      <td>Tokubetsu Junmai</td>\n",
       "      <td>9.00</td>\n",
       "      <td>Yamanashi</td>\n",
       "      <td>+3</td>\n",
       "      <td>1.6</td>\n",
       "      <td>Smooth</td>\n",
       "      <td>Pinot Noir/Slippery Whites</td>\n",
       "      <td>Gentle Ales</td>\n",
       "      <td>None</td>\n",
       "      <td>The nose on this awesome looking “catch cup” i...</td>\n",
       "    </tr>\n",
       "    <tr>\n",
       "      <th>4</th>\n",
       "      <td>https://www.truesake.com/collections/all/produ...</td>\n",
       "      <td>Kenbishi Kuromatsu Honjozo \"Black Pine\"</td>\n",
       "      <td>Honjozo</td>\n",
       "      <td>40.00</td>\n",
       "      <td>Hyogo</td>\n",
       "      <td>±0.5</td>\n",
       "      <td>1.5</td>\n",
       "      <td>Rich</td>\n",
       "      <td>Deep Reds/Fat Whites</td>\n",
       "      <td>Stouts</td>\n",
       "      <td>Perfect for pub food salty and savory and grea...</td>\n",
       "      <td>The nose on this extremely famous Honjozo from...</td>\n",
       "    </tr>\n",
       "  </tbody>\n",
       "</table>\n",
       "</div>"
      ],
      "text/plain": [
       "                                                 url  \\\n",
       "0  https://www.truesake.com/collections/all/produ...   \n",
       "1  https://www.truesake.com/collections/all/produ...   \n",
       "2  https://www.truesake.com/collections/all/produ...   \n",
       "3  https://www.truesake.com/collections/all/produ...   \n",
       "4  https://www.truesake.com/collections/all/produ...   \n",
       "\n",
       "                                                name              type  price  \\\n",
       "0         Dassai 45 Junmai Daiginjo \"Otter Festival\"   Junmai Daiginjo  30.00   \n",
       "1         Kikusui Junmai Ginjo \"Chrysanthemum Water\"      Junmai Ginjo  33.00   \n",
       "2  Wakatake Onikoroshi Junmai Daiginjo \"Demon Sla...   Junmai Daiginjo  49.00   \n",
       "3         Shunnoten Tokubetsu Junmai \"Fishermen Cup\"  Tokubetsu Junmai   9.00   \n",
       "4            Kenbishi Kuromatsu Honjozo \"Black Pine\"           Honjozo  40.00   \n",
       "\n",
       "  prefecture   smv  acidity  kw_word                     kw_wines  \\\n",
       "0  Yamaguchi    +3      1.4   Chunky    Pinot Noir / Chewy Whites   \n",
       "1    Niigata    +1      1.6   Citrus        Sharp Whites/Dry Reds   \n",
       "2   Shizuoka  +/-0      1.4  Popular  Elegant reds/Complex whites   \n",
       "3  Yamanashi    +3      1.6   Smooth   Pinot Noir/Slippery Whites   \n",
       "4      Hyogo  ±0.5      1.5     Rich         Deep Reds/Fat Whites   \n",
       "\n",
       "       kw_beer                                           kw_foods  \\\n",
       "0         Ales  Mushroom risotto, tempura, fried chicken, cavi...   \n",
       "1  Ales/Ambers  Suitable for light and stronger flavored dishe...   \n",
       "2   Crisp Ales                Cuisines that like big white wines.   \n",
       "3  Gentle Ales                                               None   \n",
       "4       Stouts  Perfect for pub food salty and savory and grea...   \n",
       "\n",
       "                                         description  \n",
       "0  This sake has an older brother Daiginjo that h...  \n",
       "1  True Sake owner Beau Timken recorded Kikusui a...  \n",
       "2  Talk about a nice aroma package on this ultra-...  \n",
       "3  The nose on this awesome looking “catch cup” i...  \n",
       "4  The nose on this extremely famous Honjozo from...  "
      ]
     },
     "execution_count": 20,
     "metadata": {},
     "output_type": "execute_result"
    }
   ],
   "source": [
    "df.head()"
   ]
  },
  {
   "cell_type": "code",
   "execution_count": 21,
   "metadata": {
    "ExecuteTime": {
     "end_time": "2021-01-27T21:08:31.159723Z",
     "start_time": "2021-01-27T21:08:31.156185Z"
    }
   },
   "outputs": [
    {
     "data": {
      "text/plain": [
       "'This sake has an older brother Daiginjo that has an industry leading milling rate of 23. Dassai 45 has a collection of sweet aromas including grape juice, cotton candy, and a hint of lemonade. Talk about a sake with body! This uber Daiginjo has a full-figured flavor that rushes chewy fruit tones to all corners of your mouth. It is wide and heavy with lots of expansive elements that talk to those who like a mouthful. Pay attention for a hint of anise and sneaky mild veggie aftertaste. The subtle sweetness including grape and berries becomes more pronounced when the fluid warms in the mouth.'"
      ]
     },
     "execution_count": 21,
     "metadata": {},
     "output_type": "execute_result"
    }
   ],
   "source": [
    "d = df.description.unique()[0]\n",
    "d"
   ]
  },
  {
   "cell_type": "code",
   "execution_count": 25,
   "metadata": {
    "ExecuteTime": {
     "end_time": "2021-01-27T21:12:49.987515Z",
     "start_time": "2021-01-27T21:12:49.983737Z"
    }
   },
   "outputs": [],
   "source": [
    "# imports\n",
    "import unicodedata\n",
    "\n",
    "# function to remove accented characters\n",
    "def remove_accented_chars(text):\n",
    "    clean_text = unicodedata.normalize('NFKD', text).encode('ascii', 'ignore').decode('utf-8', 'ignore')\n",
    "    return clean_text\n",
    "\n",
    "import string\n",
    "\n",
    "# function to remove punctuation\n",
    "def remove_punctuation(text):\n",
    "    clean_text = ''.join([c for c in text if c not in string.punctuation])\n",
    "    return clean_text\n",
    "\n",
    "def clean_text(text):\n",
    "    clean_text = remove_punctuation(remove_accented_chars(text)).lower()\n",
    "    return clean_text"
   ]
  },
  {
   "cell_type": "code",
   "execution_count": 26,
   "metadata": {
    "ExecuteTime": {
     "end_time": "2021-01-27T21:12:51.096469Z",
     "start_time": "2021-01-27T21:12:51.093156Z"
    }
   },
   "outputs": [
    {
     "data": {
      "text/plain": [
       "'this sake has an older brother daiginjo that has an industry leading milling rate of 23 dassai 45 has a collection of sweet aromas including grape juice cotton candy and a hint of lemonade talk about a sake with body this uber daiginjo has a fullfigured flavor that rushes chewy fruit tones to all corners of your mouth it is wide and heavy with lots of expansive elements that talk to those who like a mouthful pay attention for a hint of anise and sneaky mild veggie aftertaste the subtle sweetness including grape and berries becomes more pronounced when the fluid warms in the mouth'"
      ]
     },
     "execution_count": 26,
     "metadata": {},
     "output_type": "execute_result"
    }
   ],
   "source": [
    "clean_text(d)"
   ]
  },
  {
   "cell_type": "code",
   "execution_count": null,
   "metadata": {},
   "outputs": [],
   "source": []
  },
  {
   "cell_type": "code",
   "execution_count": 27,
   "metadata": {
    "ExecuteTime": {
     "end_time": "2021-01-27T21:13:14.306128Z",
     "start_time": "2021-01-27T21:13:14.274247Z"
    }
   },
   "outputs": [
    {
     "data": {
      "text/plain": [
       "array(['This sake has an older brother Daiginjo that has an industry leading milling rate of 23. Dassai 45 has a collection of sweet aromas including grape juice, cotton candy, and a hint of lemonade. Talk about a sake with body! This uber Daiginjo has a full-figured flavor that rushes chewy fruit tones to all corners of your mouth. It is wide and heavy with lots of expansive elements that talk to those who like a mouthful. Pay attention for a hint of anise and sneaky mild veggie aftertaste. The subtle sweetness including grape and berries becomes more pronounced when the fluid warms in the mouth.',\n",
       "       'True Sake owner Beau Timken recorded Kikusui as the first entry in his personal journal of over 200 sakes and would later purchase Kikusui as his first case of sake, thus Kikusui holds a special place on our shelves. This Ginjo has a slightly fruity nose with hints of citrus and persimmons. Kikusui has a confidently smooth beginning with a gradual thickening viscosity that ends in a slightly salty aftertaste. Dry, sharp and smooth according to most, this Ginjo sits well in the mouth and will tease you with sweet fruit tones and a dry finish. Kikusui is fermented at a low temperature longer than most Ginjos to rid the sake of the sometimes \"heavy\" characteristics of a Junmai, thus giving it an overall light and dry complexion. Gin and vodka drinkers will enjoy.',\n",
       "       'Talk about a nice aroma package on this ultra-popular Daiginjo that is now single pasteurized! Look for plum, melon, peach scents in a sake that drinks with far more pop in a wine glass. This new version of Demon Slayer is semi-fruity brew with a unique dryness that speaks to wine drinkers as there is a flashy tail and an alertness that pings the 17% alcohol content. Good acidity meets good flavor hints of peach and tangerine elements in a fluid that has presence in the palate. As the fluid warms look for rich semi-sweets licks of honey and citrus. The new head brewer likes this sake coming into room temp, as there are great temperate flavors and a fatter feeling.',\n",
       "       'The nose on this awesome looking “catch cup” is made up of mild steamed rice, rain, and mineral elements. Okay! Talk about a smooth operator! This cup is one of the smoothest in the store and it drinks round, soft, and velvety. It is semi-thick with a nice viscous chewy mouth feel. There is a lot of body and it is extremely well balanced but the smoothness steals the show. There is a very feint anise vein on the finish but on the whole this cup sake is a smooth player of note!',\n",
       "       'The nose on this extremely famous Honjozo from the brewery that calls itself “The Oldest Brand Since 1505” is a dynamic collection of steamed rice, cocoa, maple syrup, and noughet aromas. The distinctive labels shows a sword tip coming at you just like the deep, rich and full-bodied flavors come right at your palate. This brew is dense and thick and feels great in the palate. Look for savory and sweet rice flavors that flow on a fat liquid that is excellent for warming. Dig deep and you find a layer of cocoa tones and even deeper you will happen upon a cream brulee flavor that is out of this world. Truly one of the classic Honjozos that every sake explorer should try at some point.',\n",
       "       'This \"ultra popular\" One Cup is exclusive to True Sake. Come on, is there a cooler one cup of sake that is dry and compact and extremely easy to empty? Talk about drinkable without thinkable! Light, clean, neutral and smooth this \"deer\" has hidden flavors such as rice, oatmeal, wheat and hint of good ol\\' nougat. There is more body and flavor present as the sake comes into room temperature, and do not be afraid to heat this cup as \"Bambi\" does well hot. A super approachable dry friendly one cup that tastes as fun as it looks.',\n",
       "       'Due to this item being super popular, delays may happen when fulfilling orders.',\n",
       "       'This Tokubetsu Junmai is said to be brewed for whales that reside off of the Pacific coast of Kochi. The nose is a collection of rose, wood, and grape scents. The brewery advertises that this Junmai is \"for the serious sake drinker\" and we agree. It is very dry throughout the mouth and ends in a \"he-man\" sort of finish. Nevertheless there is a strong presence of fennel and hops and this is underscored by an unripe strawberry vein. It is extremely clean in viscosity and texture and flavorful enough to drink all night!',\n",
       "       'This Tokubetsu Junmai has an earthy yet sweet aromatic nose that borders on ripe fruit. The strength in this Junmai rests in it unmistakable dryness and working acidity play. The flavor profile is very solid in the sense that it has a clean viscosity wrapped in a mouthful of dried fruit flavors and subtle earthiness. This is a very user-friendly dependable sake that is great for beginners and is well relied upon by old faithfuls.',\n",
       "       'All four of these sakes are pretty similar, but each has unique qualities. The nose on Gold is a mix of banana bread and honey. This guy is fat, chewy, viscous and packs an uppercut that feels good on the train ride home from work. (They are coin dispensed in Japan) There is a lot of impact from the 18% alc content and the flavor is rich sweet with honey and yeasty tones. It goes well with lots of spicy foods because it is such a blanket of flavor and feeling. It’s pretty huge!',\n",
       "       'Rice: Miyamanishiki, Yuki Kessho milled to 50% Yeast: Association #10 This Ginjo is the sister to Dewasansan and is also milled to Daiginjo levels. The nose is a beautiful blend of flower blossoms, peach, radish, and spring water. It has dry start that is accompanied by a soft and creamy middle mouth filled with dried fruit overtones and a subtle melon finish. The viscosity thickens as the fluid warms in the mouth, and there is an overall floral perception from start to ending. It is a very nice example of a sake that shimmers in one’s mouth as the roundness is quite prominent and appealing.',\n",
       "       'The rice for this Junmai Ginjo is really milled to a Daiginjo rate and has very floral nose filled with hints of cherry blossoms and pear. It has a light and smooth beginning that greets a fruity middle mouth made up of persimmon and peach flavors, and the sake slips into round and fresh finish with no aftertaste. Dry fruit tones mixed with a tender acidity makes for an elegant and refreshing sake that feels good in the mouth.',\n",
       "       'This Daiginjo fits in between Dassai “49” and “23” in terms of milling rates and is both similar and different to its sister brews. The nose is fruity with koji rice, apple, honeydew, and strawberry aromas. A very plush sake that is loaded with fruit basket flavors and has a very wine-like acidity presence with a long finish. Chewy, round, and soft, but bright – go figure! Hints of pear, apple, blueberry and honeydew on a fleshy fluid that is lively and velvety. “39” drinks almost nama-like and beware of fruit flies who will surely find your glass within minutes.',\n",
       "       'Say hello to one of the most polished sakes in Japan. This sake has been milled to 23% and it is in a class by itself. With a nose of grapes, flowers, strawberries and mineral water the flavor is as luscious as the aroma. Dassai is a clean and plump Daiginjo with chapters of flavors wrapped in a deep and layered structure. Look for hints of brown sugar, fleshy plums and minerals, and the closer to room temp. the more it tastes like water.',\n",
       "       'Great name and a great nose on this sake with hints of pear, apple, and purple plum aromas. Ahhhhh! A brew that gets it. A terrific feeling sake that fills the mouth with fat and gooey flavors but stays super smooth. The brilliant acidity-balancing act takes the sweetness out of the gambit of fruit flavors including pineapple and mango. Plump and complex this \"sexy beast\" is layered and luxurious with attitude and swagger. Drink closer to room temp if you want even more fruit tones, but chilled is happening.',\n",
       "       'With a unique nose of steamed rice, grains, and vanilla this classy “One Cup” sake is an example of the new style technique of placing great sake in formerly cheap packages. One Cups used to be considered cheap sake. This is not cheap sake in fact behold a wide and full-bodied brew that has deep recess hints of caramel, maple syrup, and mature fruit elements in an expressive fluid with a tingle tail. Red wine drinkers take note!',\n",
       "       'Have you ever tasted dry water? This unique sake in a cup is clean and dry with gentle flavors of rice and wheat toast. It is very even and balanced and does equally well at room temperature. Not a fruity sake in the least, but a great exploration of a dry sake that is so very drinkable.',\n",
       "       'This is another great Daiginjo from a brewery known for making Daiginjo sake. \"Gold\" has an elegant nose comprised of green apple, sweet rice, plum skin, and peach aromas. What do you call that sake that is complex enough for the pros and drinkable enough for the sake newbies? You call it Gold! Add some tremendous packaging and you get a stellar sake with layers of smooth and even fruit tones from grapes and pears to apple sauce and a hint of citrus. Behold a peek-a-boo vein of vanilla on a fluid flow that has far more personality in a smaller glass. A larger glass makes this easy drinking sake even easier. If you have a hard time with alcohol elements in a sake then this Daiginjo is for you as there is no alcohol twang. Truly Gold in a glass!',\n",
       "       'With a very mild nose of minerals and sugar cane this classy “One Cup” sake is an example of the new style technique of placing great sake in formerly cheap packages. One Cups used to be considered cheap sake. This is not cheap sake in fact look for a very well balanced brew with hints of powder sugar and cotton candy in a soft and gentle fluid. There are layers of silkiness that speak to those who like it clean and gone. White wine drinkers take note!',\n",
       "       'The nose on this very smooth futsushu is a mild collection of snowmelt, cherry and balsa wood. This is a very talented sake that is light and dry but so velvety smooth and not crisp. Round and clean this brew is extremely quaffable. Can water be dry? Well this sake drinks like dry water with hints of rice and powder sugar elements. As the fluid warms look for some vanilla tones to surface, but balance is the key to this \"Classic\\'s\" success. An everyday drinking sake that tastes like royalty in a glass.',\n",
       "       'This unfiltered sake has a very light nose filled with cream, cherry blossom, and white grape elements. “Sayuri” is a very special Nigori – it is not flashy and not simple – just clean and easy with a semi-sweet appearance and very smooth finish. There is a watery softness that is hard to explain amongst all of the Nigori qualities, but it is not watery! Light and creamy with subtle fruit tones and an overall “milkiness.” If you like it light and easy this brew is for you!',\n",
       "       'This is a solid example of a traditional tasting sake in the sense that it is barrel aged. Kikumasumune is known for its dry sakes, and this Taru does not disappoint. True to tradition and aged in cedar casks, Taru is bottled when the natural cedar fragrance strikes the perfect balance with the flavor of the sake. The nose is of course cedar and there is a rich golden color. The sake is thinner than one would think, and the mouth speed is quite fast. The texture is clear and the taste is cedar focused.',\n",
       "       \"This Limited Release Ginjo has a brilliant nose filled with peach, strawberry, and minerals. Talk about a fruity beast! A superbly innocent sake that has baskets of ripe fruit tones including strawberries and mangos that dance in a silky and clean flow. The softness of this Ginjo and the vivid acidity are muted by a fruitiness without being sweet. A tremendous treat for those looking for a fruity experience but don't want gooey sweet.\",\n",
       "       'We used to refer to this wonderful Can as “Beau-shu” because the owner, Beau Timken, discovered this sake on a trip to Tokushima to visit this brewery. It was an exclusive sake at True Sake for the the first year in the States, but we wanted everybody to enjoy this super special sake, and today it is one, of if not the top imported unpasteurized sake. It is a signature “Genshu” or undiluted (18.5% alc) sake with fruity licks but dry tricks. The perfect “semi” sake that is semi-dry, semi-sweet, semi-bold, semi-thick, and semi-rich, but fully fun! \\xa0Round and tingly. It has deep rich pear, white grape, and melon tones with a hint of citrus and rock candy. Lively, brisk and zesty. It drinks with a crisp attitude that appeals to all wine lovers. Truly one of the best selling sake in True Sake history! It was the first brew that we simply could not keep on the shelf! And if you see a can you should grab it quickly.',\n",
       "       'This Ginjo has a nose of soft ripe strawberries and grass. It has a very mild and dry start that develops into a more fruity finish. It is a perfect beginner’s example of a “Light and Smooth” type sake with a suppressed sweetness, and old faithfuls appreciate the rolling acidity play that rounds off this light Ginjo. As the White Crane (Hakutsuru) warms in your mouth one can find hints of ripe fruit and a balanced dryness that makes for a Ginjo that goes well with food pairings.',\n",
       "       'A thick and chewy sake at its best! Fat and rich this brew is so fun and so smooth. There is a gentle rice sweetness that flows across the palate in a full and blanketing flow. Feel that sake! There are hints of minerals, which also makes this sake good for warming! And yes you can put a cup in a warm bath of water!',\n",
       "       'The nose on this very special Junmai Ginjo sake is filled with earthy, ricey, honey, and leathery elements. Welcome to a sake that explains a rice varietal. Welcome to Omachi rice sakes. Black Bull is a wonderful expression of how Omachi rice works in the sake world. This extremely well balanced sake is supremely rich and very full-bodied. Red wine lovers take note, as there are many layers of rice tones all over the place. Each glass is an example of the depth and grace of an Omachi rice sake that is vast and solid and reminds one that drinking sake is drinking rice and not fruit. It is a hearty sake that has enough um-pah-pah to stand up to ton of large flavored cuisines, but is also very drinkable on its own. Black Bull is a special welcome to the world of Omachi rice sakes and it should not be missed.',\n",
       "       None,\n",
       "       'A tantalizing nose filled with hints of roasted coffee, mint, salt water taffy, tropical flowers, grapes and honey. This extremely well balanced sake achieves the near impossible of being both expansive in character and clean in feeling. There hints of fruits, minerals, and caramel but also peek-a-boo layers of grains and umami. Almost sweet and savory at once with a dry quick finish.',\n",
       "       'The nose on this very cool looking can is filled with ricy, woody, and nutty aromas. This is an extremely user friendly can of sake. It is super clean, light, thin and balanced and simply disappears from the palate. There are light steamed rice and yeasty bread flavors that glide by on the very gentle flow. Good chilled and at room temperature and speaks to those who like clean dry wines.',\n",
       "       'The nose on this very smooth one cup is a balance of rice and mineral tones. Talk about an easy sake to quaff! This brew is very smooth, very clean, and very gone! There is a velvety nature to the fluid with hints of nougat and sweet rice but has an over all dry appearance. This cup has an incredibly quick finish with no tail whatsoever, which means it is gone faster then you think!',\n",
       "       'A complex aroma profile touching on steamed rice, cream, slight toffee and a hint of plum skin. This nigori is the complete package for those looking for a subtle chewy and creamy sake that has flavor waves of nuts, ripe fruits, toffee, earth tones, and a tinge of banana. It is a multi-layered nigori with a pronounced acidity that has a subtle sweetness but leaves a dry mouth. Soft and supple Dreamy Clouds is that \"partially sunny or partially cloudy\" in between nigori that appeals to both the dry and sweet camp.',\n",
       "       'YeeHaw! The nose on this storied sake is a collection of musky fruits, straw, steamed rice, and caramel elements. Howdy Partner! And welcome to a super full-bodied sake that appeals to big red wine drinkers. Complex, layered, saucy, deep, rich, bold, ricey this Cowboy is the real deal. With an 19% alcohol content this vast and savory sake is a real mouthful that is as smooth as it is solid. It’s character is a perfect food pairing partner that compliments everything from steak and game to fowl and shellfish. There are creamy hints of sweet rice and nughet that pop on an acidity push. You kill it and grill it and Cowboy Yamahai will thrill it!',\n",
       "       'Tengumai is another of the \"to do\" sakes on your list, as it is ultra-popular in Japan for good reason. This Junmai is constructed the traditional way using the Yamahai method and easing on the carbon filtration thus leaving a gamey and syrupy amber nectar that is best served room temperature. It has a full nutty and earthy nose that smells slightly astringent. What comes next is a flavor forward rush of butterscotch and walnuts nestled in a solid acidity that brings a warm and thick texture to all the recesses of the mouth. This Junmai shimmers and plays very round in the corners of your mouth, and leaves a lasting and splendid tail that is more thick than sizzle.',\n",
       "       \"Too many sakes, not enough Beaus.Review coming shortly!\\xa0If you are desperate for a review,\\xa0email us\\xa0and we'll get Beau on it right away!\",\n",
       "       'This brewery has become famous for appearing in the movie called “The Birth of Sake,” but it was already famous for making some of the best sake in Ishikawa prefecture. The nose on this stalwart sake is made up of honey tea, sweet rice, maple syrup, and nutty aromas. Typically Yamahai style sake is big and bold with lots of acidity and tons of flavors. This brew is no exception, except for the high acidity! It drinks rich and bold with lots of action that wakes the palate with a bright and cutting sharpness that is addictive with each sip. There are hints of honey, cashews, yogurt, and a vein of citrus that drinks dry and fun. If you want to explore the Yamahai category then it’s very important to taste this sake that is as good room temperature and warmed as it is chilled. This is a food pairing masterpiece.',\n",
       "       'All four of these sakes are pretty similar, but each has unique qualities. The nose on Red is ricy, tangy and yeasty. This “can” has been aged for one year and that mellows the brew done a bit. It’s not as brash as Gold and Green, and has a more pronounced sweetness that is softer and less rich. It drinks more easy than the others and has a nectar, honey, and fruit juice sweetness on a very soft and semi-fat flow. There is a roundness to Red not found in the other four cans and that is the aging!',\n",
       "       'The nose on this \"arabashiri\" or \"Not pressed\" sake is a tantalizing collection of floral, lemon, green apple and lemon custard tones. Talk about a \"feel fun sake\"! Kinka always is a treat to taste as each year the sake gets better and more confident in its structure and delivery. Always very flavorful with hints of grapes, blueberries, pears and a dash of cucumber that come front and center with a peek-a-boo showing of honey tea. This is a very well balanced sake that gets more fruity in a small glass and more zesty in a large one.',\n",
       "       'The nose on this sake made with Miyaminishiki brewing rice and flower yeast is very floral with hints of gardenia, grape, blueberry, and pear. Round, soft and smooth this brew speaks the language of premium refined sake. Look for layers of gentle fruit elements such as strawberry, blueberry and concord grape, and take note of a layer of candy-like mild sweetness. Softer and sweeter in a smaller vessel; a larger glass brings forth more expressiveness especially in the finish. Think very soft, very smooth, and very drinkable.',\n",
       "       'This IWC Honjozo Trophy winner has a grassy and herbal nose with hints of white grapes, blueberry and mint. How can a round, lush, gentle, juicy, and silky sake be so flavorful? I dunno, but this added alcohol brew is at the peak of the smooth sake game as it caresses the palate. So flavorful yet so balanced. Look for mild melon, berry, apple and juicy pear swirls that harmonize. A great example of a honjozo that is in tune, and perhaps the low acidity level gives it that stellar texture play. Smaller glasses bring more flavor impact, and larger vessels bring forth more smoothness.',\n",
       "       '“Mu” has a ripe fruit aroma with elements of melon and grapes. Talk about a soft and clean sake, this Daiginjo lives up to its name “nothingness,” as full flavors such as white grapes and strawberries vanish in a whisper finish. It is surprisingly light for such a generous mouth speed. The acidity play is enveloped in fruit overtones that are well balanced, and unlike most Daiginjos this one gets smoother the more it warms up.',\n",
       "       'That’s it – you found one of the most crisp and dry sakes in the store! The nose on this cutting sake is a collection of floral, berries, rice, and mineral water aromas. Behold a sake that is built to appeal to those who like martinis. Yup I said it! This sake is so crisp and compact that it drinks with many similar flavors to a cocktail of sorts. Look for juniper berries, crisp pear, and dry melon tones on a fluid that is as clean and crisp as any in the business. This sake does open up the next day and drinks a little more fruit forward, but on the whole it is dry and sharp and does appeal to those who like the flavor and alcohol tingle of clear liquors.',\n",
       "       'This \"solid as your father\" sake has a mild nose filled with green apple, bamboo, steamed rice, apricot and pudding elements. Talk about a \"feeling\" brew that is grounded and drinks very well balanced. It\\'s a classic \"non-impactful\" sake that is a joy to drink because it is so solid and so sake! There is a smooth and subtle richness that hides within a tight and compact delivery that rounds out more in a larger vessel. Take the flavor elevator up for hints of rice crackers and steamed rice, and down for semi-sweet deep and earthy tones including maple syrup and caramel. A light and solid sake that has many masks, but one solid face.',\n",
       "       'The gentle nose on this undiluted Junmai (18%) is a mix of berries and green plums with cinnamon and steamed rice elements. Think fat, rich and creamy as this sake carries a “Wow!” smoothness. The layers of flavor are amazing as steamed rice tones give way to a rich fruitiness when the brew comes closer to room temperature. This extremely “food friendly” Junmai speaks to those who like a mouthful of fat and chewy smoothness that is neither particularly fruity nor dry – just balanced. Look for a vein of caramel and plum expressions, and enjoy the rich complexity from one of our favorite breweries.',\n",
       "       'This very drinkable cup sake has a very gentle nose made up of cream, rice, and a hint of wood aromas. This is a very light and very dry brew that drinks quick and gone. There is an interesting layer of mint that comes out as the fluid warms. Consider this a cup of liquid rice and that’s what you are looking for in a cup sake right? Clean and drinkable.',\n",
       "       'The nose on this Junmai is all steamed rice and earthy. Whitewall uses Gohyakumangoku brewing rice milled to 60% and this is evident by its deep earthy richness. Drinks far drier than the SMV indicates and is filled with layers of rice and grains. A good value sake to explore the rich and earthy tones found in a balanced sake that is brewed with amazing water. Does well chilled and even better warmed.',\n",
       "       'The nose on this sake that is made by a new master brewer at Wakatake is a gentle collection of blueberry, melon, sweet rice, and apple tones. This new \"Demon Slayer\" drinks far more controlled and drinkable than the former version, as it is slightly more reserved and dry. Gone are the fruit pops, but there is a gentle collection of fruit elements such as ripe pear, cooked grapes, fruit component with a hint of blueberry. Even and well balanced this brew has a new smoothness that does well in the mouth. Semi-fat, semi-dry and a lurking subtle rich sweetness only comes forth as the fluid warms and that is why the toji likes drinking it at room temp.',\n",
       "       'This is one of if not the most sought after Daiginjo in Japan. This Daiginjo is sophisticated and yet very drinkable, perhaps too drinkable as the phantom finish leaves you wondering if you swallowed or not. The nose is a clever balance of honeysuckle and tuberose. The first sip spells the strength in clarity of this sake. Subtle flavors of fuji apple and tart pear dance through the cleanest mouth in the sake world.',\n",
       "       'This unfiltered or \"Nigori\" sake has a plump nose filled with sweet cream, grape, honey and yogurt elements. At 19.9% alcohol one would expect a massive punch of a sake, but this creamy and fruity brew is smooth a round for such a robust dance partner. Look for hints of berry, grape, and vanilla tones that are carried on a velvety and expansive fluid. Not overtly sweet and a tremendous finish for a 20% milky madman! Think milky and silky.',\n",
       "       'The nose on this very flavorful Daiginjo is a splendid collection of steamed rice, oatmeal and banana tones. What a fine and solid sake this \"50\" is, so full of feeling and flavor. Look for hints of mint, steamed rice, and apple licks that drink thick and chewy. A very full bodied brew that is rich and long in flavor and feels great in the palate.',\n",
       "       'All four of these sakes are pretty similar, but each has unique qualities. The nose on Black is a clean rice and mineral mix. This is the least “premium” of the cans, but it tastes cleaner and more compact – elegant – than the others. The balance is the first thing that hits the palate. It is not as huge and impactful as the Gold, Red, and Green cans, and it drinks even from first sip to the tail. There is a gentle sweetness but that plays second fiddle to the clean feeling and there is no kick. There are no mood swings with Black just a gentle nama “unpasteurized” drinking experience that is far more balanced than the other cans.',\n",
       "       'Hakkaisan is one of the premier Junmai Ginjo’s in Japan (rated #2 in its type) and is quite difficult to obtain both here and there. This popular Ginjo has unique spicy nose of apples and roasted nuts, and this aroma translates over into the taste profile. It is obviously well built, as the consistency is overwhelming from first sip to the non-existent ending. Classic Niigata style brewing means that Hakkaisan has a superbly clean mouth texture and a whisper finish and should be tasted at least once in every sake drinker’s lifetime.',\n",
       "       'The nose on this sake with an incredible story is a gentle collection of steamed rice, forest floor, woody, and marshmallow elements. This sake is literally drinking a story! It is a very special brew that is round, clean, with a nice nougat finish. It has more body than most cup sake, and it is incredibly smooth. There are hints of rice sweetness, but the overall drinking experience is dry. It feels really good in the mouth as the texture is round, rich, chewy and very easy. And of course this can is filled with Hope! Read the incredible story on the can and then taste this incredible sake.',\n",
       "       'Behold a brilliant nose filled with green grapes, minerals, wheat, and steamed rice. This Ginjo is a Totem Pole of personalities and each flavor has a face. Look high for deep and rich chocolate tones and peer low for a creaminess that screams \"empty cup.\" The richness is the real play with this sake, as the depth and feel come forth when you use a larger drinking vessel. A cold weather Ginjo that has a warmth that red wine lovers could sink their teeth into.',\n",
       "       'This traditionally made sake has a very unique nose filled with chocolate, cream, and wool elements. Talk about a smooth and soft sake! This brew has different faces at different temperatures. Out of the fridge look for ripe rich fruit tones, including kiwi, and when it gets closer to room temp behold dryer elements that are more layered such as steamed rice, creamy pâtés\\xa0and potatoes. There is a nice vein of white chocolate for those who really spelunk for flavor! Round, soft and silky this Yamahai is gentle and expressive at once!',\n",
       "       'Okay folks! Every once in a while it’s fun to try a different type of sake and this is it. Basically this is a Tokubetsu Junmai sake with all-natural Yuzu (a Japanese citrus that is sort of lemony-orange) juice added to it. It is low in alcohol 7% and is considered to be sweet. The nose is obviously very citrusy and the first sip – after you smile – says that this is not a silly sake but a very flavorful drinking experience. There is an abundance of fat and chewy (but not goopy) citrus flavors that are balanced by a firm acidity all on a smooth and expansive flow. It is sweet, but not overtly so. This is not a cheap infused sake that you see out on the market with apple and lychee fake flavors, rather this a quality sake with quality Yuzu added for an amazingly bright and fun mouth party.',\n",
       "       'The nose on this clean and pristine sake is a collection of cherry, mineral water, corn, pineapple, and cotton candy elements. Is this the new old Jozen or the old new Jozen? Who cares, because this sake is light, clean, and dry with an underbelly of flavors such as melon, sweet rice, and vanilla. Talk about a juicy feel in a silky delivery this smooth operator tastes fresh with a quick finish. Lighter than its \"aged\" pink bottle sister sake, this brew speaks to those who like flavor and cutting finishes that are dry and gentle. Think clean and drinkable.',\n",
       "       'This unfiltered or \"Nigori\" sake has gentle nose filled with cherry, citrus and cream components. Wow! Looks can be deceiving as this fluffy looking brew actually drinks quite clean and watery with a nice dry finish. There is a muted sweetness which is highlighted by gently tangy citrus tones. A gentle Nigori for those who like crisp cocktails and were fans of lemon Creamsicles when they were young!',\n",
       "       'Bingo! One of the best noses in the sake world filled with grape, sweet rice, ash, mineral, balsa wood, and cotton candy aromas. Welcome to liquid style! This tremendous Ginjo is silky, plump and luscious. How can something be so watery-clean and luscious? Who knows, and who cares because you will be amazed at how soft and elegant this semi-sweet brew drinks. There are mild fruit tones including pear and apple and these are enhanced in a larger glass. So clean and no aftertaste, must be the awesome water!',\n",
       "       'All four of these sakes are pretty similar, but each has unique qualities. The nose on the Green is far more nama-like with floral and lemon grass aromas, which is appropriate because this can is a seasonal released sake that uses freshly harvested rice. This can has so much presence and drinks as impactful as the Gold can. Big, bright, boozy and fun this is a party in a can. It has layers of flavors from fruity to honey-like. Green drinks more like an unpasteurized fresh raw sake than the other cans and it is brashness personified.',\n",
       "       'Rice: Hida Homare milled to 55% This simple Ginjo nigori is a creamy coconut slide wrapped in a milky mouth with a great finish, fairly non-descript and clean. With a nose of rose petals and raisins, this nigori has a smooth texture and a silky finish of vanilla, coconut and cream. The viscosity is a bit thin, but the abundance of rice flavorings makes for a clean finish. This nigori is semi-sweet, thin and slippery.',\n",
       "       '“Okuden” has a soft nose of mixed berries, melon, and earth-tones. A semi-floral front is met by a middle-mouth filled with dried fruit flavors that culminate into a dry ending. The viscosity is slightly thick and the smoothness is unmistakable. The abundant amino acids in this Junmai give it a complete roundness that is further enhanced by warming. There is a wide range of flavors in each sip, resulting in waves or layers of flavor throughout the mouth.',\n",
       "       'DEN Batch #12The nose on this locally made craft sake is a nice collection of berry, pear, mineral, and sweet rice aromas. Den Sake’s owner/brewer Yoshihiro Sako has now delivered his 12th run of sake to the Bay Area and the world. Each step in the process has been a learning example for Yoshi using his local rice, water, and imported yeasts to create a balance and style unique to Den. It’s safe to say that after all of the previous efforts, Den has achieved their thumbprint in the sake world. And Batch #12 represents this thumbprint well with a tantalizing acidity and gentle fruit flavors, with an overall richness that is great alone and fantastic to pair with cuisines of all types. Clean, light, bright, and a little zesty, this living Nama (unpasteurized) sake has hints of green apple, young pear, tangerine, lime, and a little touch of banana candy flavors that excel in a wine glass. The citrusy flavors are balanced with a richness that supports an overall umami sensation. Enjoy Yoshi’s journey and enjoy Den.',\n",
       "       'This unique Ginjo uses a brewing rice called Ginfubuki and that may account for the nice richness and cocoa flavor that courses through the smooth fluid. The nose on this sake is a dusty collection of dried rice, cocoa, and balsa wood aromas. I always like saying a sake is rich and tastes like chocolate, and this is the case here. Smooth, rich, round, and full-bodied this is not your fruity or too clean Ginjo, rather it is a good expression of sake that has nougat, cream, and chocolate flavors galore. Enjoy a full-bodied Ginjo that speaks to those who like rich wines and beers.',\n",
       "       'This ultra-popular restaurant Honjozo has a nose filled with steamed rice, grains, dried leaves and onigiri. Kyoto is known for their soft water and this brew drinks smooth, round and very soft. The silky texture of this \"Devil Killer\" has hints of vanilla, caramel, toffee, popcorn balls, and sweet rice, and more caramel comes forth as the sake warms in the glass. Semi-rich and semi-sweet this brew is very drinkable and those who like a little tingle in the tail approve. Cool start with a hot finish this sake is a perennial fan favorite.',\n",
       "       'This is not your prototypical nigori as it is more misty than a white rush, and that is what makes this sake so elegant. The nose on the semi-cloudy Ginjo nigori that is milled to 50% is a light collection of creamcycle, star fruit, citrus, and cream aromas. Talk about a suave and very elegant slightly misty sake, this brew is a gateway sake to get nigori drinkers to gravitate to filtered sakes. It is very easy on the palate with layers of gentle flavors such as melon, star fruit, cream, and hint of citrus. And as nigoris go this delicate brew is semi-dry and that is a rarity in the unfiltered category. The importer says that she likes to slightly warm it too!',\n",
       "       'A very welcoming Junmai from a brewery known for their Ginjo sakes with a nose filled with grain, cocoa, rice, blueberry jam, and crème brulee elements. Behold a rich, round and solid Junmai that is incredibly smooth and soft, but has a backbone of flavors that says this sake is not only sexy but confident. Look for layers of rice, grains, and cocoa expressions on a solid flow that feels great in the mouth. In a word this brew drinks dry through and through, but there are rich semi-sweet tones of hot chocolate and oatmeal that get more pronounced as the sake warms in the glass. Very nice at room and good for warming.',\n",
       "       'The \"Upgrade\" on one of the most drinkable sakes in Japan resulted in a more full-bodied version of its former self. With a nose of plums, strawberries, cherries, white raisins, straw and steamed rice this brew, which used to be matured for 6 months now gets aged for a full year to bring out more smoothness and body. Behold a wider, fatter, and more dry sake than its previous incarnation. Round and smooth dried fruit flavors are well balanced with an elevated acidity level creating another great version of a Niigata dry and clean sake that has both body and flavor in a pristine package.',\n",
       "       'This Daiginjo embodies the definition of “Flavorful Type” sakes, as it has a supremely elegant nose of rose pedals and lichis, and pop with a flavor forward rush of melons and white peach. The flavor components are quite complex, but a shimmery soft viscosity blends perfectly with a muted acidity to give this Daiginjo a well-balanced mouthful. Pound for pound this Daiginjo represents the “closeness to wine” that many beginners must taste to explore tue similarities to wine. It is mostly for sipping and is quite difficult to pair food with.',\n",
       "       'Is it scary? You bet! Is it unusual? For sure. What the heck is it? Behold an Ume-shu or plum sake. Yup! This is a sake that is made like regular Junmai sake but at the end of the brewing cycle they add ume or plum “essences” to it. Most Ume-shu is made with a spirit called Shochu, but this brew is made with sake and that’s why we like it. But wait! There’s more! Really? You bet. Not only is this a plum sake, but it is also spicy! Forget it! Yes! Deal with it! This Hot Devil is a wonderful blend of sweet and sour AND spicy! A totally unique and refreshing drinking experience. Great served chilled by itself. Great with an ice cube. And as the owner said to me, “It’s awesome in a small glass of milk with an ice cube.” No way! Way! I’ve tried it and liked it! This is a great “sake” to play around with, so enjoy your Hot Devil.',\n",
       "       'Wow! What a tasty nigori that is so flavorful and feels so good in the palate. The nose is made up of rose water, cream, apple, and melon aromas. Fruity, light, buoyant, bouncy, and soft this unfiltered sake drinks like it is floating. This is no sweet bum rush of flavor like other nigoris, rather it is soft, airy, and feels like it swooshes through the palate. Look for hints of fruit tones like cherries, pears, apples, grapes, and a touch of light whipping cream. This is what a Daiginjo nigori should taste like elegant, special, high-end and delicious.',\n",
       "       'This “Woof Won Woof” dog bark cup sake is a very gentle and smooth walk on the easy side. Semi-sweet, rich, and creamy there are hidden treasure flavors of nougat, sweet rice, and vanilla. It has a very calm nature that speaks to those who like a good mouth feel without a boozy hotness. Good chilled and at room temp this doggie is perfect for a relaxing walk on the smooth and easy side.',\n",
       "       'Yes, the packaging looks like juice boxes for adults! But amazingly this is a very good Junmai Ginjo. This freezer-proof package is said by the brewers to be excellent for making a sake slush by placing both the package and a decanter in the freezer for 10 hours. Open package and pour into frozen decanter for a \"magical transformation\" into a sake slush. For the less inspired this packaging lends itself to smuggling into sporting events and concerts, but you didn\\'t just read this!',\n",
       "       'There are not a lot of Yamahai Daiginjos out there so it’s always fun to take note of amazing efforts such as this brew. The nose is nice collection of buttery corn, butterscotch, cream, and a hint of mint aromas. If you ever wanted to taste the term “creamy” in a sake then this sake is for you. It is a calm, even, soft and velvety sake that has a creamy side that moves on the silky flow. Not your typical Daiginjo with lots of fruity impact. Look for a roundness and richness that has a milkshake quality in flavor with hints of sweet nuts and whip cream. A larger glass brings forth more creaminess.',\n",
       "       'The nose on this “Exclusive” and sold out sake in Japan is a collection of oatmeal, cooked grains, steamed rice, cantaloupe and chestnut elements. The name of this sake translates to “Makes women cry” and for good reason as the complexity and drinkability of this sake is second to none. Far more masculine than the Wakatake Daiginjo this brew drinks rich, and round with a long tail. So many flavors on so many levels behold raisin, dry figs, vanilla, noughet, brown sugar, overly ripe fruit, and touch of breakfast bar. A true red wine drinker’s Daiginjo with a full-bodied personality and a long finish, which does better in a larger glass. More rich and creamy characteristics come forth as it warms, and actually warming this sake makes a nice rich and bright drinking experience.',\n",
       "       'The nose is a party of dried fruit, minerals, nutmeg, ripe plum, and banana cream pie. Oooooh the Kubota legend brings forth a honjozo that belts around flavors such as caramel, cotton candy and cocoa in a very dry and of course clean package. There is a bit of back door acidity and an unmistakable aftertaste that revisits the cotton candy elements. Clean and clear this honjozo gives one a good impression of a layered sake that works better at or near room temperature.',\n",
       "       'This unique sake was made specifically to celebrate women sake store-owners in Japan. Cool! It has a nose filled with green apple, sweet nuts, honeydew, and bubblegum aromas. Talk about a drinkable adventure in a glass. Lady Luck drinks lively, sprightly, and with a confident smoothness that excels in a mid-sized glass. Look for hints of honey tea, persimmon, young pear, and sweet rice flavors that are paired with a round & smooth fluidity that has a quick finish and a peek-a-boo tail. If you are looking for approachable complexity, then this Lady brings you Luck.',\n",
       "       'The nose on this flavorful Daiginjo is a collection of cherry, mango, tropical fruit, powder sugar and Marigold elements. This is a very unique and sneaky brew that drinks so easy but is so complex. It is supremely smooth and soft in a Kyoto water kind of way, and there is a very sublime peek-a-boo sweetness of pear, apple, and powdered sugar licks that beg the questions are they there or not? Most of the flavorful impact comes at the end of the sip and is late in the swallow – how cool is that? These “tears” are absolutely tears of joy and happiness in a glass!',\n",
       "       'Talk about packaging? This well-dressed Daiginjo has a nose filled with ripe peach, strawberry, pomegranate, and cotton elements. What a light and bright sake, with each grain of rice milled to 45% one can taste the cleanliness in this brew. There are citrus tones throughout the soft and even flow that jump out in the crispness of the finish. A nicely elegant sake that is as cool and clean as stream water. A perfect gifting sake that will please in many ways. Think smooth and divine.',\n",
       "       'This Junmai fits perfectly into the category of medium-dry. It has soft nose of rice and dried leaves, and has a pale yellow sheen. Different temperatures produce different flavors. At room temperature it has a very nice entrance of chocolate wisps and a savory aftertaste, and chilled this Junmai brings forth a fruitier feel of soft pear and mellow mango. It is disguised very well for a Junmai, subtle yet elusive, and all the while it sits remarkably well on the palate. This sake epitomizes a perfectly balanced sake.',\n",
       "       'The nose on this \"essential\" Junmai brew is filled with steamed rice, cereal, caramel corn, cocoa, and creamy elements. Sougen is a sake drinker\\'s sake. It quintessentially captures the Junmai experience with incredible balance for all of the creamy, savory, cocoa, and ricey flavors. A dry brew with a juicy smooth feeling that hides a peek-a-boo hint of sweet brown sugar elements. The plump acidity level speaks to red wine tannin geeks. And the wide body and juicy feeling speaks to those who like a well-balanced and flavorful sake that doesn\\'t forget its rice roots.',\n",
       "       '\"Sound of Water\" has a really superb nose filled with hints of peaches, grapes, and persimmons with an undercurrent of minerals and green grasses. The first sip spells a very gentle and delicate sake with a smoothness and confidence filled with a melon slickness. The middle-mouth is chewy and clean and the finish is a nice disappearing act with no aftertaste. This is a great \"bring to a party sake.\"',\n",
       "       'The nose on this unpasteurized Daiginjo (not many of these) is made up of rose pedals, cooked banana, leather, tropical fruit, and steamy night elements. This is a really plump and viscous Nama that is both smooth and soft. There are a ton of ripe flavors to choose from honeydew melon wrapped in prosciutto, to a sweet fruit compote, to honeycomb. Juicy and fruity and so darn lively - so much flavor and so little back! The overall celebration of this sake is the every allusive \"umami\" quality, which is so present that they put a sticker on the bottle that says \"umami.\" Rolling, fruity and soft like a sweet avocado!',\n",
       "       'This sake made with a special brewing rice has a rich nose filled with strawberry, \\xa0honeydew melon, and floral elements. This is a super smooth brew that is fat, lush, \\xa0and juicy and is a simple pleasure in the palate. Talk about a sake with personality. \\xa0This one has it! It’s sort of beefy, but very feminine in the same breath with hints of \\xa0honeydew melon, berries and honey. So smooth but also so even. Nothing about this \\xa0great tasting sake rocks the boat, as it drinks like pure comfort.',\n",
       "       'A delightful nose filled with blackberries, pineapple, purple grapes and Red Vines. Another extremely well balanced sake with hints of light honey and tea flavors. A unique dryness emerges with each sip and the overall feeling is a slide of gentle flavors. This Ginjo is as good as it gets!',\n",
       "       'A deep and rich aroma is filled with hints of lemons and candy. This Sparkling sake is a refreshing dance of small bubbles with a gentle sweetness. There are lots of subtle flavors such as steamed rice, hay, citrus and absolutely no aftertaste. Extremely well balanced for an \"odd\" sake. Great for those who want that new sake experience with a lower alcohol content 7.5%.',\n",
       "       'This Junmai has nose of mushrooms and minerals, very earthy. A very light beginning warms up into a thinly rich middle mouth and ends with a nice slide down back of throat. It has a rich and creamy earthy pull that goes thinly through the mouth, and has a very subtle sweetness near the back of the mouth. This Junmai is a great “comparison” sake to that of a sweet floral type. It is a subtle opposite to a “fruity sake” and yet it drinks lighter than a deep rich sake. A compact flavor that is secretive and inviting.',\n",
       "       'This is the number one selling Umeshu (plum sake) in Japan and has a sweet nose with lots of plum essences. It is extremely popular on account that it tastes like Umeshu “like mom used to make,” which is code for rich, fat, gooey, sweet and bright. Umeshu is basically meant to be refreshing and Choya has that combination of sweetness and acidity that allows all of that plum flavor to roll on the tongue and dance in the palate. And don’t forget those fermented plums left in the fluid, sort of like the worm in the tequila! Choya should be served chilled or on the rocks, and is considered a dessert-like brew.',\n",
       "       'How would you like to taste a sake that was made the way they did in 1712? This brew is your sake education in liquid form. It has a nose filled with aged honey, old lemons, musky leather, soy sauce, and maple syrup aromas. This lesson in sake is a lesson in flavor and feeling. Enjoy the rich and umami-filled experience that is rice and water in historical fashion. So fat it flops into the glass when you pour it. Chewy and viscous and so much umami that it over-rides the deep rich sweet fruit tones. A mid-sized glass works best for this unique drinking experience.',\n",
       "       'The front label on this sake is a traditional back of the bottle label with all of the pertinent info you’ll ever need. The nose on this brew is a collection of steamed rice, grain, melon, and blueberry elements. This is a very solid sake that is balance personified. There is a velvety flow of fruit elements but does not drink fruity. It has a tremendous mouth feel. It is smooth and round with hints of unripe pear, melon, white grape, and red apple. It speaks to those who like soft and chewy sake.',\n",
       "       'This dryer sparkling sake has a unique nose filled with grape, tangy citrus, plum and yogurt aromas. Tight, crisp and dry this is a “Brut” lovers bubbly brew. There are an array of sharp fruit tones like unripe strawberry, persimmon, and Asian apple pear. A gentle astringency is present and the finish is quick and compact. This sparkling sake has an elevated alcohol content of roughly 16% and this adds to the dryness level. More fruit presents itself closer to room temperature.',\n",
       "       'Ahhhh! Who said that there is no complexity in Nigori? The nose on this spritzy unfiltered sake is a collection of yogurt and cream tones on a fluid that drinks very bright and crisp in the palate. Look for layers of complex flavors such strawberry, melon, honey and a tingle of citrus tones that are zesty and sweet. Red wine drinkers take note of a tannin-like astringency that expands in the glass. This is a fun Nigori that is not like all of the others and that is saying something!',\n",
       "       'Talk about a beautiful bottle, well this Junmai drinks as great as it looks! The nose on this prototypical “neutral” sake (Not too fruity not too dry) is a gentle collection of mild rice, mineral water, apple, wheat and balsa wood aromas. This is a super user friendly sake that is so drinkable and light that it tastes like dry water! Yup, I said it, “dry water.” Look for steamed rice, pear, kiwi, and dried apple hints in a gentle and balanced flow that does well chilled and room temperature. As the sake warms a peek-a-boo vein of white chocolate emerges. Smooth, soft, clean and dry this brew is as easy as they come.',\n",
       "       'This smooth and user friendly Ginjo has a rolling nose filled with strawberries, and melon, and a hint of banana. Silky, juicy, fleshy, and super smooth Fukuju is a walk on the fruit side. How can rice and water taste like fruit? That is the amazing thing about this amazing sake that feels so great in the mouth – like a buoy on the bay! And best of all this juicy and fruity sake does not drink cloyingly sweet, rather it drinks velvety and extremely soft. A slick sake that walks the walk.',\n",
       "       \"This is the most celebrated sparkling sake in Japan and for good reason. The nose on this very limited released brew is a rich collection of yeast, melon, grape, and sweet rice elements. Behold a sparkling sake that drinks rich, bright, fat, and complex on a fluid that excels in a sparkling wine glass. There are so many flavors going on during this tingly ride over the palate but keep an eye out for honeydew melon, white grape and a hint of powdered sugar. The key to this sake's success is its balance and the reward is one of the best ways that you can ever enjoy rice and water.\",\n",
       "       'The nose on this extremely drinkable sake is a mild collection of sawdust, grains, \\xa0mineral water, and breakfast cereal elements. This is a sake drinker’s honjozo for real! A poem: Slippery and dry and whoosh down your palate goodbye! Thin fluid \\xa0with hints of cantaloupe and Jolly Rancher Melon this brew is very smooth and tastes like dry water. Huh? It’s dry but drinks super slippery slick like water. Can a sake be juicy and dry? You bet and your about to drink it!',\n",
       "       'The nose on this wonderfully drinking Junmai Daiginjo is a talented collection of strawberry, cherry, and floral aromas. Talk about a sake that drinks like a fruit basket! (But not sweet!) Look for papaya, pineapple, melon, and strawberry flavors on a super smooth flow that drinks round and plush. We call this a fleshy sake because it drinks thick and slow through the palate. Great balance and such a nice brightness to this brew, which makes this a very drinkable sake. Think fruit-forward without gooey sweetness. Think tasty!',\n",
       "       'This Daiginjo, which we call a Ginjo in the store, is the perfect example of a Niigata style sake known as tanrei karakuchi or light and dry. Hekijyu has a nutmeg and pear nose. This Ginjo is as smooth and clean as they come, and subtle flavors of ripe pears and grapes pervade the middle mouth. The ending is anything but, as you will not remember swallowing. This is an ultra-popular sake in Japan and should be tasted by all sake connoisseurs.',\n",
       "       'The nose on this Honjozo sake is a rich collection of caramel, cocoa, earthtone, and maple syrup elements. And guess what? It drinks that way to! Rich, dry and smooth look for your sweet rice, caramel and mild maple syrup licks on a velvety fluid flow. Smooth personified the beauty in this rich and savory beast is that it should drink sweet, but it doesn’t! This is the rich side of sake that drinks more soft than heavy and take note of the very solid finish.',\n",
       "       'This dream sake has a classic nose filled with ripe peach, cantaloupe, and raisins. The first sip of \"the Gate\" makes you a believer, as a chewy viscosity moves from start to finish in a velvety and creamy rush. A solid acidity play mingles with ripe and juicy flavors such as pears, bananas, and mangos. This sake spells for a very \"professional\" Junmai Daiginjo experience that allows a drinker to taste a bit of heaven.',\n",
       "       'The nose on this special Daiginjo is a wonderful collection of fruity and floral elements from green apple and honeydew to clover honey and rose pedal. Talk about a feel good sake that just rolls and shimmers in your palate. This is a fat, fruity, and floral brew with superb mouth feel and very long flavors of ripe tropical fruits that are chewy and gooey. Smooth and velvety soft look for melon, mango and white grape flavors in the fleshy and plump flow that drinks fruit forward in a small cup and round in lush in a mid-sized glass. There is a gentle acidity play that speaks to wine drinkers.',\n",
       "       'The nose on this extremely well-packaged sake is a tapestry of blueberry, pear, mango, and honeydew wafts. This very bright and fruit forward Daiginjo has an acidity act that speaks to wine drinkers. There is quite a collection of flavors that match the nose of this brew; white grape, pear, and honeydew melon abound. The strength of the sake however is the feeling of the fluid in the pallet – smooth, round and buoyed by a gentle acidity. A very expressive fruit first experience that drinks like a parade of flavors on a bright day.',\n",
       "       'Calling all chefs and foodies. Finally there is a premium cooking sake available in the US and this one is as good as it gets. The writing on the label basically says, \"We red snapper fish cannot wait to be cooked in this sake.\" Not joking! This cooking sake is basically like liquid umami, so flavorful and so meaningful. Yes you can drink the sake as you cook with it, but it\\'s pretty rich and full-bodied and totally dry compared to mirin - the other cheap and super sweet cooking sake. This is connoisseur sake at its best and if you like to cook there is no other sake out there that can touch the amazing flavors of this cooking brew.',\n",
       "       'The nose on this – yet another awesome sake from Dewazakura – is filled with honey, flower, steamed rice, and lemon peel aromas. Bingo! What an excellent sake. This brew is extremely flavorful sake that has so much taste and impact that it is excitement in the glass. Deep, rich and round this “Omachi” – an heirloom rice varietal – drinks smooth and lush for all of the outstanding flavors, which is the essence of balance. Look for honey, clover, sweet rice, and sweet tea hints that drink juicy and bright. A very expressive sake that celebrates the Omachi flavor and drinking experience.',\n",
       "       'This ultra-popular Junmai comes from a brewery that only makes 50,000 cases per year, which creates a hyper-demand for such a well-structured and flavorful sake. With a nose of soft grass tones and floral elements, \"Denshu\" has full flavored beginning of dried fruits and a subtle vanilla under-current. It is a very clean and fresh tasting sake that has a great deal of \"umami\" in its make-up. It also is rich and deep, which spells out the fact that this Junmai is so well-built that it is both strong and light.',\n",
       "       'This honjozo, polished to 65%, reflects a clean pure style of sake, with white mountain flowers on the nose. It has a wonderful clean and soft silky texture. The cleansing acidity also provides good structure and there is a subtle fruitiness with hints of mango, peach and pineapple.Sekiya Brewery producer of Black Dot 2015 was established in 1865 based in Kitashitara-gun is located in a mountain valley pass in the Japanese Alps between Nagoya and Nagano.\\xa0 For hundred of years the town was a waypoint and resting place for travelers between the two cities.\\xa0 Sekiya Brewery was established because of the clean water from the mountains and the thirsty travelers crossing the mountains.\\xa0 Now it is a state-of-the-art sake brewery with a tasting room and sake-focused restaurant built out of an ancient farmhouse in town as well.-Richie',\n",
       "       'This unique sake has a brilliant nose filled with citrus, blossoms, minerals, and hot wood. Nanago is fascinatingly delicious on so many levels. Firstly it is a Daiginjo made using the Yamahai technique, which should make it deep and rich, but it is quite the opposite. Bright and crisp elements push this sake to the pinnacle of flavor and the higher acidity level balances out like a dream. How do they do this? Nanago is a must for those wine lovers who think that they have had it all, and serious must for all sake aficionados.',\n",
       "       'This Junmai is on the opposite spectrum to a fruity floral sake. It has a full nose of shiitake mushrooms, woodsy earth-tones and damp leaves. This is a very deep Ginjo that starts soft and ends with a deep exhale of mushrooms and smoked wood. There is a very soft creaminess that is thick and chewy, almost like a moderately sweet sherry, and subtle anisette flavoring turns into a honey-like aftertaste when the sake warms up. This sake is best served room temperature or slightly warmed.',\n",
       "       'The nose on this very affordable premium sake is a collection of strawberry, floral, peach, pear and apricot aromas. This is an extremely drinkable fruit forward brew that has layers of smooth and juicy flavors with a surprisingly dry finish. Look for peach, apricot, and deep berry flavors on a gentle and inviting fluid that would speak to crisp white wine fans. \\xa0It is a bright sake that is not brisk, but rather a soft and round in the glass.',\n",
       "       'The nose on this “pole rammed” sake is a wonderful collection of roasted rice, chestnuts, honey and nougat aromas. This is very solid kimoto sake that feels great in the palate. Think smooth, round, creamy, fat, rich, and very velvety. Look for roasted, ricy, and chocolaty flavors that become more like rich fruit tones as the fluid warms. If you have never tried sun warming a sake for a cool evening this is the brew. Great at so many different temperatures because it is so balanced.',\n",
       "       'This sparkling sake is the bubbly result of a second bottle fermentation and not carbonation, which makes it lively and super tasty. The nose on “Natural” is a fun collection of steamed rice, yogurt, and lemon aromas. If you like your bubbles on the Brut side this sake is for you. Crisp, tight, bright, and dry the bubbles are small and lively. Look for compact flavors of grape, cherry, and dried pear with a tingle of citrus. Your Champagne glass is perfect for this sparkling sake that is really elegant and lovely. This is not a gooey and sweet sparkling rather it is tight and crisp and brings a smile to your lips. Super tasty.',\n",
       "       'This incredibly nuanced sake has a vivid nose filled with berries, mangos, white grapes, and clover honey elements. Talk about a gentle sake, this Daiginjo redefines expressive subtleties. If you blink you will miss it, but close your eyes and spelunk for layers and layers of hidden treasures such as minerals, melon, rock candy and white grape tones. Is it passive or passive aggressive? A superb sake to open the eyes of non-sake believers.',\n",
       "       'This old-style Junmai from Masumi brewery has a unique aroma profile filled rice, caramel, butterscotch, cream and grain elements. Talk about a smooth operator, this low-alcohol (12%) brew has a light buoyancy that is very drinkable. For such a subtle brew there are loads of flavors to unearth - like honeydew, Asian applepear, young peach and plum, with a hint of citrus tones. Thin texture and juicy flavor, elegant and light, with a tip-of-the-tongue sweetness that dances with gentle lactic acidity. At room temperature look for more richness and a hint of caramel.',\n",
       "       'The nose is filled with pineapple, koji rice, taffy, and white flower blossoms. The prototypical Daiginjo experience with a flavor that is there and then gone. Clean and superb with layers of complexity hidden in a velvety rush. Look for flinty tones dancing with mild fruit complexities and a dry finish. With \"The Most\" amazing label in the sake world!',\n",
       "       'This brewery is famous for making sakes using “hana” or flower “kobo” yeasts. The nose on this traditionally made Kimoto style sake that is made with Rhododendron flower yeast is filled with honey-clover, honeydew, floral and sweet rice dessert aromas. Say hello to a complex sake that drinks with total ease! There are a gambit of flavors moving here and there from a cooked fruit pie tartness to chewy and plump sweet tones that work melon, strawberry and honey elements. The rice varietal is Omachi, which creates bigger and more expressive flavors. Soft, smooth, plump and viscous, this brew is rich and layered that excels in a mid-sized glass.',\n",
       "       'This sake is unique in that they produce it using a black koji mold, which is used more for shochu production. The nose on this vividly floral sake is made-up of sweet rice, clover honey, apple, and peach skin aromas. Talk about a “smooth” operator! This un-charcoal filtered brew is round, fat, and juicy and each sip is like a velvet ride of gentle flavors on a viscous fluid. Behold sweet rice, honey, rich berries, and a tingle of citrus flavors that go with the smooth and full-feeling flow. There is a solid acidity play that ebbs the fruitiness factor and the result is a firm flavor-forward sake with a whisper departure. Warmed in the glass brings forth more acidity.',\n",
       "       'The nose on this special released Kubota is a mild collection of cherry, pear, mango, melon, and floral aromas. Kubota is known for making the prototypical light, clean, and dry style sakes, and this tribute brew is no exception. It is fleshy, smooth, round, dry, and clean with a little tingle that makes this brew drink sharp. Dry is the word, but there are hidden layers of raisins, apricot, and green grapes as the brew acclimates to your palate with a peek-a-boo hint of sweetness that comes later in the sip. It is chippy and fun to sippy! This Kubota was made for a wine glass to let the acidity jump and expand in your palate.',\n",
       "       'The nose on this famous “celebration” sake with tremendous packaging is a mild assortment of melon, pear, apple, and honey elements. Talk about one of “those” sake! Kaiun is the perfect marriage between a fruity sake and a creamy brew that drinks very balanced and very velvety. Plump, viscous, chewy, look for ripe fruit compote, rich pear, honeydew and a hint of banana tones only when the fluid warms. Smooth, fruity, and creamy how do they do that? This is a sake that screams impact and is a truly feel good brew. Wine drinkers will enjoy the talking tail on this pride of Shizuoka Prefecture.',\n",
       "       'This unfiltered sake is a nigori fan\\'s dream come true. It is bottled, undiluted and without pasteurization for a true \"fresh-from-the vat\" taste experience. With a nose of fresh cut hay and grapes the first sip tells you that this sake is a luscious carnival of goodness. A gentle viscosity meets a full melon and cotton candy flavor rush that settles into a dry and subtle ending. This nigori looks like egg-drop soup or a snow-globe and the taste is equally as dramatic with a rich and creamy walk from start to finish.',\n",
       "       'The nose on this very famous seasonally released sake is an eclectic collection of rose water, citrus, berries, lemon tea, yeast, and steamed rice aromas. Bravo! Yet another awesome year for Masumi Arabashiri, which is one of the longest standing seasonally released sakes in the US. Each year this brew is extremely similar and familiar, but each year there is a fun detectable difference that makes this brew a collectors dream come true. Bright, zesty, lively, crisp but not hot this Junmai Ginjo pops with flavor. Look for lots of their hallmark citrus tones like orange and grapefruit (How do they do that?) with a dash of tangerine. It’s a fun sake because it’s brash up front then it has a quick finish! Huh? This year is a far more expressive version with better balance and such a lively personality. Masumi for the win!',\n",
       "       'What a bottle! And yes it is the sister sake to the amazingly beautiful bottles for the Junmai and the Daiginjo. Do good looks translate to good tastes? You bet as the very mild nose on this Ginjo is a whisper of steamed rice, crushed leaves, cotton, and balsa wood. Huh? Yup – the nose has given this sake away as one of those “Mystery” sake that every sake fan at some point must try. Why a mystery? Because there is so much going on here but it is still just clean and simple and so easy to drink at three different temperatures. Huh? A three temperature Niigata Ginjo? See what I am saying? Of course this brew is clean and tight with a very nice tail. It is dry for sure, but call the sake Sherlock Holmes because there is some peek-a-boo sweet rice and a hint of cocoa elements that just appear. Differently sized glasses make the mystery all the more profound and it’s time for you to solve this riddle.',\n",
       "       'The aroma field on this extremely elegant and tasty Daiginjo is an array of grapefruit, melon, cooked pear, banana, and oatmeal elements. This sake is an elevator ride of flavors on a smooth and rich flow that is both elegant and complex. First floor find ripe pear tones, second floor look for blueberry hints, third floor behold applesauce, and the fourth floor will take you to the wonders of sweet rice flavors that combine to make a brew that drinks like royalty. There are peek-a-boo tingles of sweetness, but on the whole this velvety beast drinks smooth with a breath of richness that appeals to wine drinkers who admire complexity.',\n",
       "       'The nose on this award winning sake is a subtle collection of melon, pear and peach aromas. And yet another amazing sake from a killer brewery that makes sakes with attitude. Kisaragi a nice slippery Daiginjo with slow moving flavors that show up as the fluid warms across the palate. Bright, crisp, juicy and drinkable look for hints of mango, pear, and apple flavors with a little acidic kick. Crisp white wine drinkers take note of a juicy and tight brew that is slippery from start to the finish. A larger glass brings out more bounce!',\n",
       "       'Unpasteurized and undiluted this Ginjo has a full nose of ripe berries and Sweet Tarts. Primal Strength starts brilliantly with a rush of fruit flavors that sticks to the front teeth, a soft middle mouth and a hush for an ending. It is very well balanced despite being quite a complex brew with a sneaky acidity and possessing of a super fresh viscosity. This is a nama best acknowledged by sake drinkers with a lust for big flavors tied up neatly into pristine a packages that comes fresh pressed from the vat.',\n",
       "       'The nose on this sparkling sake that gets its bubbles from a 2nd fermentation in the bottle as opposed to being carbonated is a bright collection of steamed rice, white grapes, and dried fruit aromas. This is an extremely elegant sake that has everything that you would want in a sparkling brew from a round and soft richness to a creamy explosion of blueberry, pear, and mango flavors. Use your sparkling wine flute to accentuate the bubbles that bring forth hints of cherry and “Smarties” the candy. Very round and very flavorful, and very drinkable. Wabi won the trophy for sparkling sake at the 2016 International Wine Challenge.',\n",
       "       'The nose is filled with strawberry, banana, cantaloupe, and watermelon. A clean and bold Daiginjo with a snap that says, “I am a sword.” A perfect example of a sake that becomes you each and every sip with hints of minerals, ginger, and a dryness that speaks to all. There is an abundance of twangy flavors that makes this sake a favorite of those who like a clean and balanced Daiginjo with attitude.',\n",
       "       'Hold the phone folks! This sake is made with one of the most expensive sake brewing rice varietals out there, usually used for Daiginjo sakes, but not this brew which is only polished to a meager 80% remaining (That is less than the “premium” level). But why? So you can taste the rice silly! First look for a ricy, grainy, and earthy nose on this fat and plump Junmai. Next open your gullet because you are about to get a mouth rush of deep rich rice, butterscotch, cocoa, and creamy waves of flavor. So soft for so much flavor and feeling. Talk about drinking incredible body, this brew has a Bo Derrick “10.” Great at so many temperatures!',\n",
       "       'Some makers throw chunks of cedar into tanks for the flavor, but this brewery makes specific cedar barrels to age their “taru” sake in for full flavor and aroma. The nose on this brew is indeed woody, cedary and peppery! This is a very gentle but flavorful cedar sake that drinks very smooth with cedar whispers in each sip. Thick and balanced with a gentle sweetness that does not distract from mild cedar elements. Hints of sweet rice, honey, and a touch of pepper balance out the gentle flow of this sake that gets more cedary as it warms. A mid-sized glass works best!',\n",
       "       'This kijoshu has been aged for eight years and has a similar nose to a sherry or port with a honey/nutty aroma. This very rich kijoshu is a balanced blend of dried fruits and earthy mushroom elements that has a malty aftertaste coupled with a full-bodied start and middle mouth. The flavor perfectly compliments chocolates of all kinds, especially dark chocolate mousses and other thicker desserts. It does go well with nutty and earthy cigars as well. The red rose color is amazing for a sake, and this brew begs to be served instead of your normal dessert wine.',\n",
       "       'The nose on this unpasteurized or raw sake is a collection of strawberry, pear, honey, floral and of course strawberry aromas. Why \"of course strawberry\"? -because this brewery is known for making outstanding sakes using flower and fruit yeasts. And in this case the yeast comes from strawberries, which creates a very fruit forward sake that drinks soft, juicy and fun! But don\\'t be mistaken as this smooth brew does not drink sweet, rather it has layers of fruit tones and \"of course\" ends with a very nice long strawberry tail. A larger glass brings forth more of a wine-drinking experience and this strawberry does better chilled.',\n",
       "       'The nose on this very unique Daiginjo is a cool collection of rice, soil, toast and wheat aromas. This brew tastes like “Heaven and Earth” rich and gamey, soily and smooth, minerally and clean, but it doesn’t taste like a typical fruity Daiginjo. There are very wonderful earthy and veggie flavors that reduce down into a stunning raisin and molasses sweetness that delivers like brown sugar and cocoa when the fluid warms. Definitely a “different” premium brew that should call out to all those sake explorers who want to rock the Daiginjo boat. A very solid food pairing brew.',\n",
       "       'The nose on this “Drip” or Shizuku sake is a gentle collection of steamed rice, pear, and citrus aromas. Talk about a fun sake! This brew is round, smooth, and semisweet with an upfront fruit explosion followed by a great quick finish. How did they do that? So much flavor, but still so balanced and juicy. Look for layers of fruitiness like pear, mango, berries, and a superb grapefruit tickle. But also keep an eye out for powder sugar and pear hard candy with a very gentle nougat appearance as th fluid warms in the glass. Very silky and slippery and just a fun fruit party in the glass, and it’s just rice and water.',\n",
       "       'The nose on this flagship sake is a rich collection of creamy, savory, vanilla, honey, mango custard, and steamed rice aromas. This legendary sake from Akita is known the world over for slaying Gold Medals in most international and Japanese tastings. Round, soft, velvety, creamy, smooth and extremely well balanced this brew drinks rice rich with hints of fruits and has a complexity that screams out to wine drinkers. Look for nougat, rice cake, ripe pear and apple, apple cobbler, fleshy apricot, powder sugar, maple syrup, and oatmeal flavors. This brew is as “Akita” as a representative sake can be, that is slow across the palate and very fast in thought! Meaning it is an excellent brew that has layers of savory flavors on an expansive flow with a generous complexity and balance.',\n",
       "       'This “nama” or “unpasteurized” sake (Typically sake is heated – pasteurized – twice as the preservative mechanism) has an interesting nose filled with base aromas such as brown grass, corn, honey and of course sunflower! Why “Of course” sunflower? Amabuki is a brewery known for using fun and new yeasts made from flowers and fruits, and this particular brew is made from sunflower yeast. Yes indeed! The result is a very intruiging sake that has layers and layers of flavors not typically found in the sake world. Look for starchy corn tones with hints of sweet potato and “of course” sunflower seed elements. Sake is a starch of course! There is also a unique sweet vein that gets lost in a larger vessel, but the soft, smooth and lush fluid does best with a nice chill.',\n",
       "       'The nose on this special sake from the award winning brewery is plump with plum, berry, grape, peach and floral elements. A perfect example of a wine drinker’s sake – good fruit tones balanced with a good acidity play. How can rice and water do this? Amazing dry and fruity qualities to this sake. Look for juicy flavors including honey, peach, pear, red apple and fruit compote. Then there are dry flavors of apricot and steamed rice that balance out the movement of this Daiginjo that drinks better in a larger vessel.',\n",
       "       '\"Versatile and lively, everyday drinking style, the Nama has nice impact on the palate but a smooth, round flavor reminiscent of pear and tangerine and other citrus fruits. Like the Deer, this sake is well- mannered and graceful. Works well with a variety of foods, such as seafood or pasta, never stealing the show but the perfect supporting cast.In a few words: Lively, tangy, fresh fruits\"-Sequoia Sake',\n",
       "       'This \"Gold Flake\" sake has two pieces of gold that represent the fact that cranes mate for life. It is a soft and ripe sake with a nose filled with strawberry, banana, and tropical fruit tones. A very elegant Daiginjo that displays smooth and clean layers of light fruit elements in a clean and crisp delivery. Although airy and fruity the overall feeling is dry and brisk. A great example of an easy drinking sake with style!',\n",
       "       'This Junmai has a plum nose with subtle grass tones. The first sip has a fairly dry start filled with hints of lemon, plum, and grape skin tones. The viscosity is slick and shimmering and the overall feel is soft and balanced. This Junmai is a classic \"three sipper\" which means you need to realize three sips to find the soul and beauty of this semi-dry Junmai.',\n",
       "       'The nose on this Junmai that drinks very much like a Ginjo is an array of white grape, apple, pear, cucumber and berry essences. This is not your usual dry and simple Ohyama rather it is a very impactful brew with layers of powder sugar, sweet rice, apple, and young pear flavors. A super flavorful sake that drinks silky smooth and juicy but is not overtly sweet. There is a little astringency that speaks to wine drinkers and a smaller cup highlights the flavor ride. Good fruit tones, good feeling, good sake that speaks the Yamagata style of flavor and feeling.',\n",
       "       'The nose on this very tasty sake is a splendid collection of raisin,vanilla, strawberry, sweet rice and bamboo aromas. What the hell is a “round” sake? This one! Round means smooth and round on the edges like amarble and in this case also lush, velevity, viscous, and plump. Talk about a Daiginjo that drinks rich and not particularly fruity. Look for hints of vanilla, honey, nougat, and a touch of banana creme brullee. This sake is extremely well balanced and you can taste the solidness on a slow slide across the palate. Super smooth and of course round!',\n",
       "       'This is a very consistent flavorful, light and smooth type of Ginjo. The nose is full of vanilla and melon, and the first sip shines of a well-built Ginjo. The sake has a smooth start and an equally smooth finish with a middle made up of melon and citrus undertones. It is very well balanced and literally slides on the tongue. The viscosity spells a fruity type flavor but the taste is refreshingly dry. In sailing terms this Ginjo is even-keeled and the proof is in the easy and refreshing nature of each sip. Very user friendly for Ginjo lovers.',\n",
       "       'The nose on this sake aged for 5 years Hizo or “Treasured” is a very cool collection of sweet nut, white grape, grapefruit, and a touch of musky aromas. This is one of those “Bucket List” sakes that every sake drinker must try. Basically it is a competition-like sake that is stored for 5 years to bring out layers and layers of flavors. The amazing thing is that it is so approachable and drinkable, but sake thinkers will find a ton of elements to explore. Some get nutty flavors and some get rich fruit tones of kiwi, strawberry, and cooked pear, but they all agree that there is a great dry finish that is quick and to the point, which is awesome for an aged sake! How do they do that? Clean, crisp, round and very tight the fluid opens as it warms in the mouth. If the amazing box, bottle, and cork don’t seal the deal then behold a sake that is as “Professional” as they come. Try it to believe it!',\n",
       "       'Woot! They finally starting exporting unpasteurized sakes from one of the best breweries in Japan! The nose on this special sake is a gentle collection of apple, mineral, sweet rice, and citrus tones. Say Hello to a very elegant and gentle nama sake that has controlled flavors on a fluid that is extremely drinkable. Clean, round, dry and layered this brew is the antithesis of the large, fruity, and zesty other nama Junmai Ginjos in the fridge. It is a great example of Niigata-style clean and dry sakes but in a raw form. Look for hints of apple and pear flavors that snap to attention especially in a larger glass that pushes the acidity to the sides of the palate. If this brew feels or tastes familiar there is a very good chance that you have tasted it before but in its pasteurized form! They elevate the acidity for the nama release and take note of the great balance.',\n",
       "       'Talk about a Yamahai nose! Sniff around for earthy, yeasty, stinky cheese, citrus, muddy, and wet wool aromas. Typically a sake with this type of nose drinks big and beefy and you cannot drink too much. But Happy Owl is different. It has huge flavors but it is not too musky and immense to drink. Thus this is a great Yamahai to try for the experience of tasting a smoky and roasted brew that drinks more smooth and round. The huge upfront flavor splash features earthy, nougat, maple syrup, coffee, and nutty expressions that slide into a clean finish. How did they do that? Big flavor with a subtle back! Wow! This is like a Yamahai-Lite! Great for warming.',\n",
       "       'The nose on this unique sake is a wonderful collection of butterscotch, caramel, and maple syrup candy aromas. Why is this sake special? Because it has only been milled or polished to 80%, which isn’t that much but draws and emphasis on feeling and flavor. This brew is superb and shows you how tasty and confident a true Junmai sake can taste. Smooth and lush, rich and round, and layered and balanced. This sake represents and a new fuller bodied sake coming from Niigata prefecture and it drinks like a dream. There is a solid roasted rice vein with hints of honey and a dash of caramel tones. Great chilled and superb coming into room temp.',\n",
       "       'This Daiginjo has a nose filled with Muscat grapes and earthy wood tones. It is indeed a very light sake with a beautiful soft grape beginning and a tender chewiness that blends well in a refreshingly low acidity. A rolling sweetness pushes its way throughout the mouth and no trace of alcohol is detectable, making this Junmai Daiginjo a real treat for those looking for the perfect \"light\" and \"delicate\" sake.',\n",
       "       'This aged sake uses a flower yeast for fermentation and has a nose filled with banana, smoke, potato, sesame, vanilla, and anise elements. This is a perfect “daytime” Koshu sake as it is not heavy and musky, rather it is silky soft and very aromatic. The aging muffles the acidity and brings forth a smoother and layered drinking experience. Look for hints of ripe apricot, and plum flavors highlighted by a touch of raisins. So soft and so fast to the bottom of the glass.',\n",
       "       'This quintessential Ginjo from the \"Best Known Brewery In Japan\" has a dynamic nose filled with pear, rose petal, cucumber and steamed rice tones. Talk about an ultra clean experience, the term flavored water comes to mind. There are hints of cooked pear and grapefruit elements surrounded by silky waves of steamed rice wrapped in semi-thick fluid that has the famous \"phantom finish\" where you do not remember swallowing. If \"philosophy\" were a drink, this would be it.',\n",
       "       'This is straight up a “different sort of sake.” A two year-aged “fresh” sake doesn’t make sense, but the result is really a uniquely flavored brew that is extremely tasty and is an all-together different sake experience. The nose is a great collection of dried fruit, honey, citrus and musky elements. Fat and gooey this brew has a rich honey characteristic that speaks to after dinner drink fans. Is it complex or quaffable? Or is it both? Look for sweet honey, tangerine, and raisin flavors on a smokey fluid that is sort of a condensed nama flow. Port and Sherry fans rejoice!',\n",
       "       'The nose on this superb \"Yamahai\"-style (traditionally made sake) is a gentle collection of rice, bread, and cocoa elements. Bingo! A great sake at a great price point for what it is! This is a terrific feel-good-in-the-mouth sake that is super smooth and super round with a gentle sweetness of tangy citrus and sweet rice. Talk about velvety - the fluid of this sake is soft and heavy. But that amazing feeling is perfectly matched with unique flavors. Have you ever wanted to drink a lemon cookie with powder sugar on top? This is a very solid introduction to a Yamahai sake that has many attributes of an old-school brew.',\n",
       "       'This Daiginjo has been milled to 28%. It takes 3 days and nights to gently polish the rice grains to reach the incredibly small (2mm) pearly beads. Senshin is then aged “quietly” for over a year. Thus, we are talking about one of – if not – the most pampered sakes in Japan. The nose is laced with young cantaloupe and honey. This supreme sake borders more on a traditional flavor profile that is not afraid to use acidity to balance out the cantaloupe and citrus flavors. There are definite peppery flavors at work and the over-all mouth is multi-layered and delightful.',\n",
       "       'This single-pasteurized sake has a very sneaky nose filled with rose pedals, purple grapes, and blueberry elements. Ahhhh smooth and bright! A very unique combination in the sake world. This is a chewy and viscous sake with a gentle tingle that drinks more like a pure nama or unpasteurized sake with a crispness that highlights all of the fruit flavors. A \"one of those\" sakes that makes one wonder how rice and water can taste like all of these fruity and semi-sweet elements. In a word - a very smart Daiginjo with ripe melon and berry elements that flashes across the palate in a bright fluid that zings flavor and fun!',\n",
       "       'The nose is filled with a feint display of flower pedals and sweet tea. This Daiginjo is smooth and clean. There are nice ripe fruit flavors and a hint of mineral as in green vegetable. The sake drinks more clean than fruity sweet. It is subtle yet complex sake and would be considered dry by Daiginjo standards. Good for the sake “expanders” who would like to try a dryer Daiginjo made with Alps Yeast.',\n",
       "       'Shopping for someone else but not sure what to give them? Give them the gift of choice with a True Sake Gift Card.Gift Cards are delivered to you by email and contain instructions to redeem them at checkout. You can then easily send the Gift Card to your giftee electronically or print it out to physically hand it to them. Our gift cards have no additional processing fees.For security purposes, we do not have access to the codes that pertains to the Gift Cards. DO NOT lose the codes that comes with your Gift Card. We will not be able to retrieve them.',\n",
       "       'This expressive Daiginjo has been aged for over two years and has a nose filled with cherries, red grapes, yellow peppers and iceberg lettuce. Simple complexity! This is one of those brews that everybody should try at least once. Why? Because it is without borders – the flavor is so unique and the fluid itself is even more baffling. It’s as if the sake expands in your mouth, almost a springing back into shape feeling after being muted by the two years of aging. It is so calm and yet so dynamic. There is layer of fruit – strawberry - on a clean and “bouncy” fluid wing. The expansion of feeling and flavor factor is so impressive!',\n",
       "       '\"This lightly cloudy Nigori has delicate aromas of lychee and apricot, reminiscent of spring flowers, a creamy, supple mouthfeel and a clean finish due to the use of more highly refined sake lees. The Bunny is soft and approachable, and this refreshing and utterly drinkable style Nigori strikes an excellent balance between sweet and dry. Try with strawberries other fresh fruit desserts.In a few words: Creamy, smooth, lychee, yogurt\"-Sequoia Sake',\n",
       "       'This gold medal winning Daiginjo is a lion in a glass. With a complex nose of melon, koji rice, and floral elements this Yumedono impresses quickly. A fruit-filled start of melons, grapes, cherries, and dried apricots meets a subtle acidity play that creates a multi-layered sake that should be sweet, but really is quite dry. A smooth watery finish reminds the drinker that this sake excels at the crowning achievement in the sake universe of having a finish that vanishes effortlessly.',\n",
       "       'This unpasteurized and wild yeasty sake is one for the masculine ages and was made by the Brit Philip Harper and is quite frankly a flavor bomb. The nose is a crazy collection of leather, sour lemon, cooked chestnuts, cream and dark chocolate aromas. Is that all? Ha! Basically this brew drinks like a flavor handgernade going off in your palate and I have never used the word “balanced” when describing a sake with a 22% alc content. It is spastic and fantastic – a massive sake that has sweet and sour tones that includes a punchy citrus layer that just keeps on building. Great body that is thick and chewy with tangles of flavor like a thorny thicket. This brew is not for the feint of heart! Should be called White Flag.',\n",
       "       'The nose on this coarsely filtered unfiltered or “Nigori” sake is a loaded with minty, milky, yogurt and vanilla aromas. Say hello to a really cool sake. Why cool? It’s different, but more importantly is really tasty! Take a look at those chunks or flakes of unfermented rice particles. This is no nigori bum-rush of flavor, this is smooth and balanced brew that happens to have some serious texture. It’s not dry and it’s not sweet, in fact you can call it a connoisseur’s nigori for all of the wonderful balance involved with each sip. There is a great rice flavor that is more milky than creamy and a touch of pulp! Look for sweet rice and coconut licks, but enjoy all of the movement and the residual on your glass.',\n",
       "       '\"Full-strength sake, luscious on the palate with dried fruits and hints of anise and spice on the finish. Nice for pairing with similarly spicy foods, e.g. curries or charcuterie. Roosters are brash and bold, like the Genshu sake which is undiluted, with higher alcohol content (17.5%) and a richer and deeper taste than the Nama.In a few words: Rich, dried fruits, earth, spice\"-Sequoia Sake',\n",
       "       'The nose on this just released unpasteurized sake is a very mild collection of pear, raisin, and steamed rice aromas. This by far is the most gentle nama sake of these early spring releases. It is a “living” sake that drinks very much like a Ginjo that is smooth, clean, and easy. Easy freshness is a pretty cool concept then add in gentle flavors like Asian Apple Pear, young strawberry, melon, and apple and you get a fresh glass of easy elegance. This is a great starter nama to understand how rice and water can taste like so much more.',\n",
       "       'Say hello to a newer version of this outstanding sake with new packaging, all new flavors, and feelings. The nose on this Yamahai is mild collection of cream, nougat, rice candy, and steamed rice aromas. Smooth, light, with a nice body and a gentle acidity. This new Kiminoi is rich but not heavy, and superbly balanced. It is an elegant brew that celebrates the flavor of Gohyakumangoku brewing rice that is now milled to 55%. Look for hints of roasted rice, caramel, nougat, and rice pudding flavors that move along on a smooth and evenly balanced flow. A larger glass makes this drink more elegant and mid-sized glass is best for a solid feeling to flavor connection.',\n",
       "       'This Junmai Taru, which is cedar-kept sake from \"Ace Brewery\" is a terrific example of how sake used to taste way back in the day of all cedar casks. The nose is a blend of Japanese cedar and apple blossoms with a feint hint of tropical citrus. It has a very subtle start despite the robust nose and is filled with a savory middle-mouth of dried apples and overripe pears. There is a hint of thickness that makes the viscosity dance in a salty aftertaste. It is slightly chewy and syrupy, and changes flavors as the fluid warms in the mouth.',\n",
       "       '#1 Rated Honjozo in Japan. This sake has a brilliant nose of spice, sandalwood, campfire, mushroom, and tropical fruit. The first sip spells a syrupy and chewy Honjozo that brings forth elements of mango, steamed rice, nougat, mint, vanilla, and honey. It has an incredible amount of balance that brings forth a subtle sweetness in a dry and inviting package. Minerals become evident when the fluid warms and there is a hint of wood at every temperature. Dry and flavor packed!',\n",
       "       'Talk about an elegant nose filled sweet rice, white chocolate and juicy pineapple. Welcome to one of the preeminent Daiginjos in the history of premium sakes. Otokoyama is a silky walk of plum skin and straw flavors that fills the mouth with a velvety push that ends so quickly that it makes you wonder if you have already swallowed. There are many levels to this brew and at each floor you will discover delicate flavors such as pomegranate, minerals, and sweet potatoes. Balance is the theme of each sip as all the elements work in harmony to create more than just a sip of sake – you taste history itself. A special sake for those special occasions.',\n",
       "       'The nose on this powerhouse brew (21% alc) is a massive collection of woody, earthy, honey tea, citrus peel, and horse saddle aromas. Another Philip Harper flavor storm in a bottle. This massive brew is round, rich, chewy and vast! The first sip sells or kills the taster depending on your love of funky out of this world sake. Deep earthy flavors fill your palate and impact your mind; from deep dark chocolate to dandelion greens and from honey nut to chicory. There is a roasted component that tastes slightly woody like a cask aged sake, but it is not. You don’t sip this sake, it sips you! Lots of umami in this beast and it does much better room temperature and slightly warmed. Philip likes really heating it up.',\n",
       "       'The nose on this very elegant cedar sake is filled with cedar, vanilla, mineral, and roasted rice aromas. Wow! Talk about a cedar sake that doesn’t drink like the cedar element is right in your face. This very smooth, round, and gentle “taru” sake is one of the best balanced cedar sakes out there. There are smoky, roasted rice flavors, but it’s the cedar whispers that take the day. It’s not too zesty or fake woody like other taru efforts, and it’s not bold or heavy! It’s the opposite with a lower alcohol content (14.5%) and a gentle Omachi rice flow. There is a subtle complexity that gets more “woody” in a larger glass. Good chilled. Good at room temp, and really nice warmed!',\n",
       "       'Hand’s down the best packaging in sake – replicates the bottles used for national sake competitions. The dynamic nose on this “Shizuku – gravity trickle” sake is made up of sea water, melon, magnolia, vanilla, and marshmallow elements. This is a very intense Daiginjo with a lot of “action” in a very soft and succulent delivery. Chewy and dry it has hints of fruit but overall drinks dry with a tickle of umami hidden amongst crisp flavor expressions. It is indeed soft and has a way of grabbing your attention one drop at a time.',\n",
       "       'A unique collection of aromas from rice and grains to berries and a touch of mint. This is a great example of a semi-fruity sake that drinks dry and compact. Dry, clean and smooth with a touch of crispness look for hints of cherry, cranberry, cantaloupe and an expression of almonds or sweet nuts. Although the brew drinks tight and clean it has a wideness that balances out the round and softness of the fluid. This dry Ginjo has a very quick finish with a tickle of tartness. Think clean and flavorful!',\n",
       "       'The nose on this elegant sake made by a female master sake brewer is a collection of pear, honeydew, yellow apple and sweet rice aromas. Talk\\xa0about a ripe and layered sake. This Junmai Ginjo drinks like a Daiginjo in that it is clean and nuanced with a very gentle roundness. There are hints of apple, pear, and mango fruit tones but this brew is not sweet. It is a very drinkable sake that is a celebration of smoothness and the fluid feels great in the palate. Soft but with impact is a great combination in the sake world.',\n",
       "       'The nose on this competition-style Daiginjo is plump with strawberry, melon, Concord grape, peach, sweet rice, and powder sugar aromas. This is a wonderful “wine drinkers” Daiginjo with fruit and acidity pushed by a gentle flintiness that melds minerality with apple and white peach hues. Round and soft with layers of flavors that are extremely well balanced on a solid body that becomes slightly crisper as the temperature warms in the glass. Look for honeydew licks and a very unique mineral personality that emerges in a larger glass, which sets this brew apart. The best part – this tremendous sake is made by my friend Philip Harper – the first gaijin head brewer!',\n",
       "       'The nose on this dynamic genshu (19%) has a collection of aromas from grains, steamed rice and minerals to butterscotch, burnt sugar and roasted caramel. Talk about a round and smooth brew that is very large in presence. Beefy, chunky, immense - take your pick, but enjoy the chewy rush of rich flavors and feelings. A deep and profound sake that has layers of brown sugar and caramel tones that float on a fleshy fluid. Smokey rice elements present themselves closer to room temperature.',\n",
       "       \"Fuin 2.0 is a new version of a really great brew and guess what? It's better! This is a very drinkable sake with a nose like a fruit basket but with an over all dry drinking experience. How did they do that? Very clean, round, smooth and dry look for hints of apple, dry pear, and white grape elements on a gentle fluid flow with a quick finish. A tricky sake that drinks far dryer than it's amazing nose and a mid-size glass brings out the best flavor and feeling ratio. Just so easy going down this brew is rice and water at it's best.\",\n",
       "       '\"Great Plan\" is one of those sake that break the mold. It\\'s quite a dry brew, but doesn\\'t have the typical sharp, staccato profile of a dry sake. Rather it drinks clean and round and provides a great example of a shimmering sake. The nose is collection of aromas from marshmallow and cream to apple and plums. Hints of cherries and caramel don\\'t arrive until the dead-stop finish.',\n",
       "       'The nose on this special sake is an awesome collection of melon, pear, and apple tones. The point of \"Fu-In\" sakes is for Junmai Ginjos to drink like Ginjo sake (a little added alcohol) with bright aromas and flavors. This baby does not disappoint. It is bright, juicy and super smooth with an incredible balance and a terrific finish. Look for whisper fruit tones on a semi-thick flow that has great presence. Such an easy sake to drink which is amazing as this brew also has solid impact.',\n",
       "       'The nose on this connoisseur’s sake is an amazing array of berry, melon, plum, sweet rice and honey aromas. Okay! It’s time to put on your professional sake drinking cap! This 5-year aged Daiginjo sake is a walk through the understanding of aged premium sakes. Why do it? Because of Yukimanman! Behold a complex brew that drinks round, soft, fleshy, slippery, and relaxed. You can literally taste the relaxation of the sake as it aged. The body is superb. The weight of the mouth feel is heavy, but it is not cloying. There are condensed flavors of minerals, plum, melon, ripe pear, white raisin, and fruit compote. (There is a hint of bubblegum tones, but we’ve been advised not to say this by a customer) This is a sipping sake indeed, as it has a vast flow without being flabby. A great food pairing brew that works like a deep red wine.',\n",
       "       'The nose on this \"traditionally\" made sake is a collection of cooked rice, cream, chestnuts, cocoa and mint tones. This is a very balanced and tasty Yamahai that is solid and richly confident. There is a gentle sweetness of powder sugar, honey, sweet nuts, and milk chocolate that rides on a round body with a quick finish. Dig deep amongst the candy bar flavors and find a vein of mint hidden in the creaminess. Just a very well balanced and a supremely drinkable Yamahai that shows a little acidity in a larger vessel.',\n",
       "       'The nose on this newly released nama is filled with cherry, pear, and candy aromas. We love this brewery so much, and it’s great to finally get their first unpasteurized brew in the States. Plump, bright, chewy, and juicy this brew makes you realize that you are tasting a living sake. Look for hints of pear, crisp apple, and honey clover licks that drink fruity, but not sweet. They grow their own rice and this sake let’s one taste the Yamagata experience known as Dewasansan rice. A superbly balanced nama sake that drinks more evenly out of a larger glass. Clean, round, and layered this brew is an 18% party in the palate.',\n",
       "       \"This luscious sparkling sake has a nose filled with sweet rice, minerals, mint and melon aromas. Use a Champagne flute to catch the most impressive fruitiness of this semi-thick brew. The sweetness is pronounced but the high acidity really breaks the wild bronco of fruit, and the fizz is full and fun. It is both chewy and fat and look for flavor elements including white grapes and raisins. The finish is fast and quick for so much wonderful flavor, and don't forget to lick your teeth for a grapefruit farewell.\",\n",
       "       'A very deceptive nose on this sake displays creamy, nutty, apple, caramel, and graham cracker elements on a sake that is quite dry for a \"flower\" = \"hana.\" This is a very unique Junmai from a brewery that makes light and dry sakes for easy coiffing. It\\'s dry but drinks wet and very clean with a laser fast finish. Displaying many white wine qualities that speak to a nice acidity play with very good flavors of green apple, yogurt, young pear, and green grapes this brew is very easy and subtle. Be warned the first glass may just lead to the end of the bottle.',\n",
       "       'You know the brewery but you don’t this brew! Nobody does as it is exclusive to True Sake and is a calling card for Sake Day 2018! You’ve bought your tickets already right? The owner of Otokoyama is coming to Sake Day as a special guest and he will pour this amazingly flavorful Daiginjo! But why wait? Try this 150th Anniversary of Hokkaido sake now. This brew is a celebration sake of sorts, but once in your palate you will notice the celebration immediately. Clean, round, and instant impact this velvety soft sake just explodes in your mouth layers and layers of ripe pear, mango, and apple flavors. I like to refer to sakes such as these as flavor bombs! But sometimes a bomb can be too much, not this impeccable Daiginjo from a brewery known for making dry sakes. Otokoyama means “Man’s Mountain,” but this brew is “Everybody’s Mountain” of flavor and feeling. It is a world-class sake that folks will die to try in September, but you don’t have to wait!',\n",
       "       'Say hello to the IWC Grand Prize Champion for 2017. This top trophy winner has an expressive nose filled with strawberry, sweet rice, and mineral water aromas. Lush, velvety, plump, and expressive enjoy a sake that walks the walk! It is smooth and gentle but with a complexity that speaks to wine drinkers who like brightness and depth. This \"Beauty\" is fruit-forward with shades of pear, berries, and a hint of creaminess. But the overall drinking experience is semi dry with a gentle tail. A midsize glass brings out the balance of this sake that is a reflection of the Tohoku sake style.',\n",
       "       'The nose is a basket filled with strawberries, bananas, citrus fruits and minerals. Yanagi is a deeply elegant sake made with outstanding water and perfect brewing rice. It is a very easy to understand Ginjo that borders on beautiful complexity. Yanagi is a very light Ginjo filled with incredible flavors like dry pear, cucumber, and hides a deep sweetness that is so subtle it is more of an expression than a flavor. Close your eyes and you will pull hints of vanilla in this graceful and classy sake.',\n",
       "       'Get your nose into this bouquet of complexity with hints of ripe fruit, rose petals, and a hint of oregano. Sanka is a wine-lover’s Daiginjo with mountains of flavor wrapped in a luscious flow. Pick a fruit and you’ll find it! Pick an earthy element and you’ll find it! Dig deep enough and you’ll find a layer of cranberry. Perfect for you largest red-wine glass.',\n",
       "       'The nose on this International Wine Challenge Grand Champion Trophy winner is a superb collection of melon, grape, mineral water, and strawberry aromas. Have you ever wanted to taste a sake that defines a category? Well this brew is for you! Using Yamadanishiki milled to 39%, get ready for a sake made with just rice and water but tastes like a fruit basket. Smooth, round, and soft. This sexy and alluring Daiginjo is velvet personified. It’s both juicy and watery, slippery and expressive and it excels in a white wine glass. Look for hints of red apple, pear, mango, and strawberry on a fluid that drinks bright and zesty, which might have something to do with the 1801 yeast.',\n",
       "       \"The nose on this traditionally made brew is a unique collection of nutty, earthy, leather, roasted rice, and sour lemon tones. This is a very tasty and complex Kimoto that drinks smooth and round for all of the action within. Rich, full bodied, juicy, plump and a little musky look for velvety layers of nutty, earthy, and steamed rice flavors. It's not too big like many Ishikawa brews, and that makes the drinking experience all the more smooth and expressive - more drinkable.\",\n",
       "       \"Beau promises he'll review this as soon as possible and we guarantee that it's a great sake. If you're here to order it because you've had it before and really liked it, you can beat Beau to the punch and review it first!\",\n",
       "       'Another rich and full bodied Ishikawa Junmai with a nose made up of musky, tangerine, yeast, caramel, and cooked rice aromas. This is a deep and smooth sake that drinks in flavor waves filled with honey, cocoa, burnt maple syrup and cooked raisin flavors that slide through the palate. Talk about a red wine lovers brew that speaks to those who like a whole story in the glass and then some. If you are an umami hunter take note of this Yuho!',\n",
       "       'The nose on this seasonally released “Draft Sake,” has a gentle nose filled with plum, raisin, grape, cooked pear, and herbaceous aromas. Check out the new label to an old fan favorite Hiyaoroshi! This is another version of a very elegant Namazume that tastes like how it’s built – fresh and aged a little to relax the fluid and increase the richness and body. Round, smooth, rich, and light, with a quick finish that has a very nice velvety quality that feels great on the palate. Exceptionally balanced, look for rich fruit tones of raisin, cooked pear, apple pie crust, persimmon, pomegranate, cranberry, and cooked stone fruit flavors. This brew lends itself to warming as it stays soft. Warm oatmeal and breakfast flavors emerge, with a touch of rice sweetness.',\n",
       "       'This is a traditional, old-method sake that would appeal to the American palate. Welcoming and rich, it has a big, creamy nose with sides of banana and vanilla. It’s soft and rolling, with expansive flavors hidden in a clean and delicate finish. A huge bite of flavor offers up all sorts of mouth feel—chewy, syrupy, wide—with hints of nuts and a subtle backdoor fruitiness.',\n",
       "       'The nose on this “Genshu” sake is an amazing collection of citrus, peach, melon, mango, and white floral aromas. Wow! What a sake. For a brewery that has been making dry sake since 1603 this is such a masterpiece for those who are blown away by how rice and water can taste like so many fruity flavors and still drinks dry. Simply a masterpiece! Lush, thick, chewy, smooth and incredibly balanced this sake drinks like a dream in your glass. There is a distinctive ripe balance of fruit tones such as grape, blueberry, Mandarin orange, peach, mango, fleshy papaya, and a hint of rock candy and powder sugar flavors.\\xa0 And for the most incredible act of brewing technique this brew has an alcohol content of 17.5%, which you can’t detect in the least. And that is the essence of balance and harmony. A very romantic sake that is great to gift, because everybody loves it. The packaging is superb, and the fluid is a wonder in the sake world. When you want or deserve the best this King of the Peony is for you.',\n",
       "       'Zen is one of the great benchmark sake that has not changed in flavor and feeling over the past two decades. It is an historically important sake that was first produced to take to Europe to introduce the west to excellent sake. The nose is a rich collection of butter, steamed rice, and a hint of mint. Rich, round, and solid this sake speaks to red wine drinkers. Very smooth and velvety and one of the best balanced sake in the business. Learn the term “savory” with this brew and look for hints of milk chocolate, sweet nuts, rice pudding, and rich nougat flavors. If you’ve never tried Zen then you haven’t tasted one of the classic sake in the history of this ancient libation.',\n",
       "       'How can one describe perfection in a bottle? This stellar Daiginjo has a nose filled with white peach, apples, grapes and pear. If we used an “Owner’s Recommendation” system this sake would carry that title. A very soft pear tonality pervades this deeply complex sake that drinks as easy as a “wet dream.” A full-bodied sake wrapped in a delicate texture that drinks like poetry. Once in a lifetime sake for all fans of “rice wine.”',\n",
       "       \"The tremendous nose on this superb Daiginjo is a vast array of watermelon, strawberry, banana, vanilla, and steamed koji (sweet) rice. This sake is simply a flavor rush with an ending of hush! Talk about a juicy and fruity brew that drinks fat and fun. I mean come on! How is this sake made of just rice and water? With layers and layers of strawberry, melon, and mild banana flavors that drink chewy and ripe you'd think it would be goopy and sweet, but it isn't and actually has a dramatically quiet and disappearing finish. Truly a sake work of art! The vein of watermelon hints is classic.\",\n",
       "       'This Junmai has a nose of caramel and bananas. A smooth start is followed by a mellow fruit middle with strawberry tones and finishes with a dry ending. The thin viscosity plays with a hidden acidity to achieve a round and smooth crispness, which leaves a prolonged lingering flavor of cooked pears and subtle minerals. This is a classic dry sake that tastes fruitier than it really presents itself.',\n",
       "       'Some sakes are built well and some are built like this amazing Daiginjo. With a gentle collection of cherry, sweet rice, melon, lavender, and powdered sugar aromas, this brew is a mouth-ride at its finest. Thick and chewy with a super soft texture, behold the definitive \"fat\" sake. There are hints of grains and steamed rice on one floor and far more savory flavors on another, and hidden amongst it all are deep rich fruit veins that one must seek or miss altogether. Plump and rewarding this Daiginjo has a structure like no other, enjoy the acidity and revel in the complexity.',\n",
       "       'The nose on this lovingly packaged sparkling sake is a gentle collection of yeast, dried fruits, peach, and cream aromas. Say hello to a very well balanced “Happo” or sparkling sake that is not too sweet and not too dry and crisp. Rather it is creamy, rich, and very refreshing. Look for bright creamy flavors of pear, mango, and lemon that all excel in a champagne flute rather than an open bowl glass. Don’t look for a gooey sweetness! It’s not there. Instead you will find a fluid with weight to it that drinks more bright and light than heavy. The strengths of this brew are the facts that it is ricey, rich, and nicely balanced. Taste deeply enough and behold a vein of raisin flavors that reminds you that this is rice and water only! How ironic.',\n",
       "       'The nose on this seasonally released unpasteurized sake is a fun collection of green apple, mineral snowmelt, and cut grass aromas. We are very excited to have this awesome sake back in stock, because it drinks like early spring. It is a very clean Nama that is drinks with an elegance and complexity that speaks to those who like to pull subtle flavors in their brews. Clean, light, and dry it has a lot of body for being so pristine. There are flinty and mineral snowmelt-like flavors that have layers of tangerine, grilled lemon, and lemon custard licks that are lively and clean. This special sake brings out the best in seasonally released brews that are fun and fresh, and have an 18% alcohol content that you can’t even taste.',\n",
       "       'This very soft and smooth brew has a gentle nose filled with pineapple, grape, papaya, and a hint of cocoa elements. The brewers use a “flower yeast” to make a very soft, round and clean drinking sake that is milled to Daiginjo rates (50% remaining). Look for hints of apricot, minerals, apple and vein of rock candy. A very well balanced sake that defines “drinkable” and appeals to those looking for a clean – not boozy – drinking experience. A larger vessel makes even rounder and softer and coming into room temp brings out a little richness.',\n",
       "       'This \"New World\" sake is actually called \"Karen\" in Japan, and it is a low-alcohol brew (10%) with a nose filled with peach, lychee and apple aromas. Talk about complexity and questions! How can rice and water taste like such an array of fruit tones? There is nothing \"Coy\" about this sake as large Fuji apple elements dance in a clean and viscous flow. Behold a layer of sweetness that is brilliantly balanced by a very heady acidity level. Bright and chewy, this fruity brew drinks with an elegance not found in a typical Junmai.',\n",
       "       'Made with the most expensive brewing rice in Japan this sake has a nose filled with strawberry, vanilla, cream, and honeydew elements. Round and creamy behold a sake that redefines smooth with a world-class finish. This super soft Daiginjo has hints of strawberry and cream flavors that are balanced very well and drink more rich than sweet. Velvety, plump, and succulent there is so much going on but the overall feeling is smooth as silk. The calmness of the brew does far better chilled. A very good gift giving sake.',\n",
       "       'The nose on this wonderfully packaged sake is a unique collection of honeydew melon, green apple, nougat, and cream tones. Talk about a different Daiginjo! No this is no fruit bomb, or some silly sweet brew. It is however a rich and round sake that has a complexity that would make big red wine drinkers drool. This brew is impactful from the first sip to the very long and active tail with lots of upfront character and flavors that boarder on far richer sakes. Look for cocoa, nougat, sweet rice, and bread crust flavors that bounce on a lively acidity play. This is not a chunky rich Junmai and as such it drinks with a clean attitude that would appeal to anybody looking to try a different Daiginjo with deep complexity.',\n",
       "       'The aroma profile on this single pasteurized sake has a suave collection of grape skin, papaya, melon, and peach elements. This is a very elegant, clean, and flavorful sake that has semi-chewy layers of flavors that bounce between melon, peach and blueberry- floating on a mineral water quality. It’s a mouthful of flavor with a soft and round finish that ends quickly for so many faces of fruit and fun. In a word this sake is a very good example of a Ginjo in the raw form. For the very “in-tune” this sake used to be a full-nama, but the brewers feel that a single heating makes this sake drink more balanced and stable and we agree. PS. A good brew for warming but we didn’t say that!',\n",
       "       'The nose on this special sake is an immense collection of earthy, musky, hoppy, burnt rice, and lemon peel aromas. Say hello to one of “Those” sakes! This brew is so flavorful and so unique that it is a must for the sake adventurers who are looking for great sakes cut from a different cloth! I call this brew a gentle giant, because it has all of that and is still very drinkable and delicious. Thick, smooth, beefy but not bulky! Velvety, round, and creamy, it is very savory with yeasty and creamy elements that scream deep impact. There are rich components all over the place and amongst the roasted rice and forest floor flavors, look for hidden deep rich flavors of pancakes with burnt butter and maple syrup. It is bottled from one single glorious tank of fermented sake. Enjoy this True Vision.',\n",
       "       'The nose on this \"new-style\" sake is deep and complex with a mixture of citrus elements and hint of umami. Princess food is a wonder to behold as rice and water combine to taste like grapefruit juice and lemonade. A beautifully refreshing beginning meets a chewy middle-mouth filled with citrus gooeyness. It is light for being so thick, and remember to lick the front of your teeth when the sip is gone. The higher acidity and lower alcohol combine to make a brightly flavored sake that is the quintessential palate cleanser between courses.',\n",
       "       'Let’s cut to the chase! This sake won a category trophy at the IWC for being the best Junmai sake in 2013 and 2015. That’s amazing and it’s for good reason. The nose on this special sake is a gentle collection of ricey aromas, steamed rice, cooked rice, and raw rice. The first sip gives it all away! Smooth, fluffy, rich, full-bodied, and damn tasty! There is a gentle rich sweetness that is rounded out by an elevated acidity that makes this brew drink chunky and vast. It is chewy and there are secret hints of citrus and honey tea among the more evident marshmallow, sweet rice, and steamed rice flavors. Hard to believe that there is a 17% alc content with all of that viscous goodness swimming around that glass that makes this sake one of “those” feel good brews that your mouth is waiting for!',\n",
       "       'The nose on this very gentle Junmai Daiginjo is an enjoyable collection of mango, ripe peach, citrus, and a touch of coconut aromas. Pretty cool packaging for this very tasty sake that is smooth, round, soft, and very clean. User friendly is not a negative term as this brew appeals to a whole wide range of sake drinkers, because it’s – wait for it – very drinkable! Silky and mildly fruity with hints of pear and melon there is a touch of minerality that speaks to the Niigata snowmelt water. As clean as Soto is, it’s also very wide in flavor with a nice ricey long tail. A smaller cup brings forth more of the hidden sweetness, and a larger glass brings out the balance and softer feeling.',\n",
       "       'The nose on this seasonally released single-pasteurized brew is a unique collection of cherry, tangerine, plum, powder sugar, chestnut, and potato aromas. Say hello to a real fan favorite that is round, smooth, fleshy, and full-bodied. This well-packaged Fall Draft sake has an awesome flavor array filled with pear, apple pie, grape, and a hint of powder sugar licks on a fluid that is smooth and velvety. Rich and semi-fruity it drinks more savory as the fluid warms and there is a very classy mineral-filled finish. The key word here is the richness that lends for great food pairing abilities.',\n",
       "       'The nose on this unpasteurized “Nama” sake is a fruity collection of apple, pear, melon, mango, and floral aromas. File this living and breathing raw sake under the title of “Juicy Plus.” Lively, juicy, fruity, lush, and fat; this brew has a ton of mouth feel to go with a ton of fruity flavors. Look for melon, mango, apple and sweet rice flavors that are pushed along by a chewy and dramatic flow. It is full-bodied and fun, and is actually a genshu at only 14% alc, which gives it that fat puffiness. A great sake to play with in the zone of how can rice and water taste like so many fruit tones. It is so dramatic, but is still so round and soft. There is a slight tingle of effervescence that proves this baby is living in your glass.',\n",
       "       '“Goriki” is a very hearty sake brewing rice varietal and the nose on this very hearty unpasteurized and undiluted (Nama Genshu) sake is unique blend of steamed rice, cocoa, dust and musky aromas. This is a loaded nama with lots of rice and umami characteristics that taste a lot like the powerful goriki rice itself. At 18% alc content look for hints of nougat, dark chocolate, and steamed rice flavors on a rich, round and dry fluid. This is a sake drinkers nama that celebrates fat brews with hints of cocoa loveliness and a supreme lively richness. Fat, full-bodied and chewy – Goriki will do the job!',\n",
       "       'The nose on this special sake that proceeds go to the Japanese Red Cross is a gentle collection of cherry, mango, berry, pear, and apricot aromas. Smooth, round, silky, clean, and balanced this brew is very user friendly and good example of the qualities found in a “premium” sake. A mid-sized glass brings out the best flavor profiles of cooked pear, apple, and mineral notes. It is a very slippery sake, which means you can really taste the special brewing water, and there is a nice rice-neutrality that is neither too fruity or too dry. Is this sake restrained or just a very unpretentious Junmai Daiginjo? Either way it drinks great and is for a great cause.',\n",
       "       'This Ginjo is a genshu with a subtle fruity nose mixed with koji rice and vanilla. The flavor in this genshu is all forward with a nice round middle and a complete and confident finish. There is no denying the fruit-filled flavors but the clean and crisp acidity blends perfectly with the over-all mouth to make a harmonized sake full of potency and subtlety. A great example of a Ginjo that goes both ways – well with food and well on its own. This is one of the best sakes to pair with cooked fish.',\n",
       "       'The nose on this Fall Draft seasonally released brew is filled with plum, raisin, apple, pear, blackberry, and apricot aromas. Typically Hiyaoroshi sake that is made in the winter and released in Autumn has rich, full-bodied, and often savory qualities, but not this brew that is made with the rice varietal called Aiyama milled to 75%. Look for deep Fall fruit tones including cooked pear, fleshy plum, blueberry, raspberry, raisin, and grape flavors. It’s almost like drinking a holiday berry pie that has loads of fruit basket flavors on a rich, round, and lively flow. As the fluid warms it becomes softer and lusher, which makes the vastness of this brew all the more special.',\n",
       "       'The nose on this IWC Grand Champion Sake is a very cool collection of floral, citrus, cherry, honeydew, and raisin aromas. You don’t just win a Gold Medal, Ginjo Trophy, and the overall best sake at the IWC if you’re an average Ginjo sake. Nothing about this brew is average. Look for hints of mineral, grapefruit, strawberry, and honeydew flavors that dance on a bright and silky fluid that finishes clean and quickly. So much flavor that vanishes with a wonderful whisper. How did they do that? When this brew is just released it is crisp and tingly with bright flavors. As it bottle ages the water seems to blend better and it drinks far more smooth and balanced. This is a world class sake at a very great price point.',\n",
       "       'The nose on this world class gold medal winning Daiginjo is a splendid collection of blueberry, kiwi, honeydew, and tangerine peel aromas. Talk about a sake that talks back to you! This is one of “those’ kinds of sakes that has the amazing ability to linger in the palate in such a way that it would peak the interest of a professional judge. Look for layers of ripe and tropical fruit tones that explode at certain moments throughout the sip. Juicy licks of strawberry and pear tart roll on the fleshy smoothness, and there is a sneaky heat that compounds the flavor. Chilled and in a white wine glass brings forth the brightness.',\n",
       "       \"The nose on this “Extremely Dry” sake is a collection of grains, steamed rice, and crushed leaves. It’s about time that we added a true really dry sake to the mix. With an SMV rounded up to 16 you are looking at a bone dry brew that doesn't make the mistake of sacrificing flavor to get that high dry. It is ricey and tight with a real compact drinking feel. It’s light and goes down easy, but speaks to those who like a little heat in their palate. Does well chilled, room temperature and lightly warmed look out! A perfect brew to throw at your fatty foods ensemble to wash away the greasy oils and preserve the flavor.\",\n",
       "       'The nose on this secondary bottle fermented (not carbonated) sparkling brew is a tight collection of yogurt, cream, yeast, citrus, and Lemonhead Candy aromas. Talk about a fun, bright, and very Brut-like sparking sake that was made specifically for all things that come from the sea like oysters, shellfish, and the other goodies. So by definition it needs to be crisp, tight and dry and that is exactly what the female master brewer made, except she went a step further and used a white koji (mold) to bring out a citrus pop! It drinks brighter and fruitier in a Champagne flute with tight bubbles and a great citrus tingle. Look for pear and crisp apple hints with a clean and compact crisp finish.',\n",
       "       'The nose on this private labeled sake made by the Dassai brewery has a loaded nose with grape, pear, apple, and lush tropical fruit aromas. Behold a profoundly expressive Junmai Daiginjo that reminds sake drinkers that rice and water can truly drink like a tropical fruit storm. How do they do it? I don’t know, but I do know that you will need to bring your favorite fruit basket to collect all of the fruit expression flavors that are found on a slippery and silky fluid flow. Look for blueberry, white grape, apple, cooked pear, and pineapple flavors with a very subtle banana note that all play perfectly with a mineral kick! I cannot stop smiling when I drink this sake, because it is a lush, semi-chewy, and vivid drinking experience that works wonders in a white wine glass.',\n",
       "       'This traditional old method sake was fermented in a cedar tank. Consider it a new version of old-school sake, with a gentle nose made up of dry cedar, celery, and pepper. A tremendously elegant sake with tons of character but in a very mild presentation. There are flavors galore such as white pepper, cinnamon, and chestnuts but they all stay forward as this brew has no tail! Perhaps it is the stellar balance of this sake, or just a new twist on an ancient brew.',\n",
       "       'WARNING – Be Careful Opening This Sake! The nose on this magical brew is a unique collection of ricey, earthy, woody, banana, and pear aromas. This is “refreshing” sake at its best. Spritzy, lively, tingly, and fun it drinks like a mouth party but is incredibly well balanced for a brew that has so much going on. There are fruity hints of blueberry, grapes, pear, apple, and white raisins on a fluid that makes the flavors pop in the palate. A mid-sized glass controls all of the action the most and makes all of the lively flavors drink their brightest. We’ve been waiting a long time for this sake to be available and now it is, so get ready to get refreshed the sake way.',\n",
       "       'The nose on one of the most popular sakes at Sake Day 2018 is a collection of cherry, blueberry, melon, sweet rice, and floral aromas. Hey big red wine drinkers this brew is for you! Plump, smooth, and with a little edge this sake drinks slippery in the glass and leaves the palate awake and with a tannin-like dryness. Look for soft layered flavors of pear, apple, and kiwi that form a juicy fluid that is tight, compact, and crisp. There are lots of dried fruit tones that show a hint of vanilla and are slightly tangy as they warm in the glass. A wine glass makes this Tiger Cub all the more cuddly, and for you super palates look for a vein of quince that pulls all of the flavors together. A very balanced Junmai Daiginjo that jumps the boarder to very wine-like!',\n",
       "       'We’ve been waiting a long time for this work of art sake to be available in the US. The nose on this special brew is a lively collection of cherries, pear, mango, and white flower blossoms. Fruity and silky this semi-chewy brew drinks plump but very clean and smooth. And therein is the “art” of this sake that has a fruit basket full of flavors that are upfront and welcoming and then disappear in a clean and balanced finish. This begs the question how can rice and water taste like so many fruit tones and then finish so clean and smooth? Your mouth is exploring huge pear, melon, apple, and honey flavors and then whoosh they are gone with a whisper. Truly a special sake that is as good as it gets!',\n",
       "       'The nose on this misty “Usu” unfiltered sake is yeasty collection of creamy, sour, and ricey aromas. Talk about a cocktail drinker’s Nigori sake! This snowy brew is loaded with layers of sweet and sour elements that play on and off together. I think the lady’s faces on the label look like sweet and sour, but what is amazing for all of the flavors it is so well balanced. It is very different than your usual creamy fruity nigori. It’s like biting into an unripe pear or a sour apple, but there are swarming dried fruit tones, citrus, and Lemonheads candy elements that makes you think sweet first with a gentle sour departure. If you like complexity in your nigori sakes then this misty brew using the ancient Bodai method is for you!',\n",
       "       'The nose on this “Specially Limited” sake is an amazing array of rose water, peach, papaya, sweet rice, nougat, and sugar aromas. It’s no fair! I’m sure when brewery owners taste sake that is not of their own\\xa0making they become jealous if they taste a sake like this. It’s simply not fair! How can rice and water taste like the best flavors in your life? Smooth, round, and velvety, this masterpiece is lush and sumptuous. So expressively smooth and layered that flavors start counting themselves 1. Honey 2. Papaya 3. Maple syrup 4. Mango 5. Lemon sorbet. And on and on. This is more of an experience than a libation as you feel your way to the soul of this brew.\\xa0 The take away from this sake is that there is a big difference between balance and perfect balance. And for the new comers this sake is a great lesson in rice umami goodness that rests on a seamless fluid that excels in a wine glass.',\n",
       "       \"This genshu (undiluted sake with 17% alcohol) has a subtle aroma profile that hints of damp wood, whipping cream and a tingle of licorice. It is a deep and rich sake that drinks thin even though it feels robust. With a layered acidity, it's a perfect genshu for pairing with largely flavored Western-style cuisines. Look for the red snapper on the label as this sake was constructed to pair perfectly with this fish.\",\n",
       "       'The nose on this well packaged single pasteurized sake is a gentle collection of steamed rice, roasted nuts, mineral, and yeast aromas. This fun little can is extremely drinkable. Maybe that’s why they provide the cup! Light, clean, creamy, and bright. It has a long tail that reminds you that you are drinking sake. Not too fruity and not too dry. It is a silky drinking experience. The sake itself drinks more expressive in a wine glass with hints of rice-based desserts, nougat, steamed rice, and rice candy. Basically, it is a clever smooth operator that actually works warmed as well with hints of cocoa emerging as the fluid warms. Cool brewery and a cool can!',\n",
       "       'The nose on this world-class sake that is made with Koshitenrei brewing rice is milled to 40% and has been aged for two years. In this amazing collection of caramel, butter, sweet rice, and nougat aromas. This is a once in a lifetime sake that is made by fanatics and drinks like the best dream ever. A magical sake that does so much with just a whisper and a lower alcohol percentage of 14.5%. Smooth, smooth, smooth and so rich it is like a velvet assassin that was sent to pair with French fare, game, and venison. Round and subtle with hints of Crème brûlée, wafers, cereal, steamed rice, and rich nougat. It is so well balanced that you cannot tell where the sake ends and you begin. It is a perfect brew to show you how rice can take you beyond the distance of mere grapes. Miroku furthers the dining and drinking experience, and is the flag in the ground for the betterment of sake.',\n",
       "       'The nose on the this sake, which is part of a series that can only be found outside of Japan at True Sake, has a unique nose filled with roasted rice, toasted wheat bread, corn, cream, and yeasty rice aromas. No. 7 is rich, round, expansive, and savory. Be on the look out for very rich and solid flavors such as marshmallow, sourdough bread, sushi rice, and very ripe apricot. This is a beefy sake with meaty and rich action all over the place. There is a refreshing astringency play (Shibumi) that brings all of the roasted and full-bodied flavors together. The strength of this “Chapter” is the undying richness that can almost be described as a reduction in cooking terms. The Omachi rice varietal manifests itself in the richness and solid like nature of this full-bodied nama sake.',\n",
       "       'The nose on this traditionally pole-rammed sake is a nice collection of nuts, nougat, cream, and steamed rice. What is a pole-rammed sake? It’s a brew that requires a ton of extra work – smashing the steamed rice into a paste – to promote naturally occurring lactic acid to help with fermentation. Some breweries “cheat” and use an automatic power drill, but traditional Kimoto sake is made with a long pole with a paddle attached to the end to mash the steamed rice in a small barrel. It’s a cool process and a labor of love. The result is a sake that has a certain more depth to it. This sake is rich, layered and has a great creamy nuttiness to it. Look for a velvet flow that hides nougat, sweet nuts, and a hint of caramel flavors. There is a peek-a-boo bitter chocolate note that appeals to deep red wine drinkers and this sake does great chilled and at room temperature, and even better warmed!',\n",
       "       'The nose on this outstanding aged sake is filled with caramel, deep chocolate, honey, citrus, black tea, and leather elements. The Tiger Woods of Koshu sake! Talk about a round and soft drinking experience with so much flavor. This blended brew has a book full of flavors – find raisin, find plum, find cinnamon, find chocolate and find the essence of why they age rice and water. The soft and easy texture excels at room temp. and lightly warming brings out a roundness. The smoothness is legendary!',\n",
       "       'The nose on this sister sake to the “wind of the woods” is a killer collection of honeycomb, tangerine peel, honey tea, steamed rice, and orange blossoms. Bright, expansive, and immediate complexity; this is a “sake drinker’s sake.” Boom! It is a minefield of flavors and each sip is an exploration of the nooks and crannies found on the dark side of the sake moon. There are hints of citrus, persimmon, apricots, veggies, strawberries and cream, SweatTarts, and candied ginger. This is not a sake. This is a reward! So much damn excitement in the glass especially exploring the rice varietal called Tsuyuhakaze, which is only grown locally in Nara, and is milled to 80%. Sometimes “complexity” is code for brewing confusion, but not this “Black Label, which is an exercise in the best a complex sake can get. A large glass makes for more layers of flavors, and do not hesitate warming this “Nama” unpasteurized brew.',\n",
       "       'The nose on this private labeled sake made by the Urakasumi brewery has a gentle collection of sweet rice, lemon peel, cocoa and crème brûlée aromas. Talk about an elegant and supremely balanced Junmai Ginjo! This heavenly sake is not your typical fruity Ginjo, rather it plays in the rich flavor zone of sweet rice, honeycomb, nougat, white raisin, and crème brûlée flavors on a fluid that is as smooth as velvet. There are earthy elements that expand as the fluid warms, and a white wine glass brings forth the most flavor and feeling. Look for hints of creamy flavors and enjoy this sake that has one of the best looking bottles in the sake biz.',\n",
       "       'The nose on this Ginjo sake that was infused with plums to extract the sweet and sour flavoring is a robust collection of honey, plum, and juicy aromas. Look at that color! This beautiful umeshu drinks as lovely as it looks. Sweet, full, lush, round, chewy, viscous, and herbaceous it is not your typically overly sweet plum sake. It is gooey and tart, but there are roasted plum and honey tones galore. It is thick and fun, but not cloying sweet, and it definitely does better with a chill or even an ice cube or two. A round and chewy umeshu with honey tones and herbal hints.',\n",
       "       'The nose on this re-incarnated sake brand is a vivid collection of mint, peach, apple and pear aromas. No your eyes aren’t deceiving you! This is an entirely new Ginga Shizuku from an entirely new brewery that has been a stalwart since 1579 in Yamagata. Why rebrand a sake? Who knows and who cares when this sake is simply superb! Using local Dewasansan milled to 50% this superstar drinks clean, bright with a cool fruit pick-up that is uplifting and refreshing. Look for crisp hints of melon, radish, peach, and ripe pineapple flavors. There is a tickle of acidity that pops like white pepper and mint. Welcome Home Ginga Shizuku and thanks for giving us a bright and fresh sake that feels perfect in a white wine glass.',\n",
       "       'At long last Toko is available in the US and that is great news. The nose on this incredibly luxurious sake is a special collection of sweet rice, pear, sugar, and cotton candy aromas. This is biblical sake that is a perfect snapshot of how amazing rice and water can feel and taste. Behold a tremendous sake with one of the best starts, middle palate, and finishing sips in the sake world. There is an impressive sweet rush filled with rice candy, lychee, sweet grapes, citrus and powdered sugar flavors that are uplifted by a gentle acidity that actually makes the middle sip tingly and wonderful. A world-class sake that is more than a sipping sake, it’s a ride! I never knew that complexity could drink so easy and lush. This brew needs to be on your Sake Bucket List.',\n",
       "       'The nose on this hefty brew is a wild collection of leather, earthy, nutty, creamy, and musky aromas. Made with a rice varietal called Ippon-Jime milled to 88% get ready for a full-bodied and bold sake. Rich, fat, chewy, and solid this brew packs a punch of flavor. Look for roasted rice, nutty, caramel apple, butterscotch, flan, and rice custard flavors on a bold and thick fluid. Basically this sake tastes like a rice field with lots of umami layers and a hint of meatiness. A salty and savory sake this is like a cup of soup in a glass. Huge and fun at three different temperatures.',\n",
       "       'The nose on this Fall Draft sake called Hiyaoroshi (only pasteurized once) is a cool collection of apricot, nectarine, steamed rice, banana, and rice pudding aromas. This is the first time that we have offered Kid Hiyaoroshi (Take that 2020!) to our Fall Draft collection and we are really glad it’s here. What a sake! Round, soft, and with a gentle richness this sake is smooth and has mature fruit tones and lots of umami. Look for rich fruit, ripe apple, apple pie, apricot, blueberry, grape, banana, and rice pudding flavors. Using the Gohyakumangoku rice varietal brings out a richness and complexity that is delicious and the elevated acidity is great for pairing with Autumn food flavors. This is a fruity brewery’s version of a Hiyaoroshi sake, which translates to a rich fruit brew that is very fun to warm as a unique banana quality emerges. Very happy for this Kid!',\n",
       "       'The nose on this sake that is made with Omachi rice milled to 50% is a bright collection of mango, berry, melon, and sweet rice aromas. Welcome to New World Sakes that bridge the gap between the sake and the wine world. This sake is built to be bright and expressive in the glass and is very wine-like. Fat and fruity is drinks zesty, crisp, and with great expression. It has a very fresh feel that is tingly and vibrant and then you notice all of the flavors. Look for fruit flavors such as red apple, mango, pear, and bright berry elements that explode in the palate. There is a misty hue to this fluid and that almost makes you feel the flavors popping and bubbling around in the glass.',\n",
       "       'The nose on this very class Junmai Ginjo is a gentle collection of honey, apple blossom, citrus, and rice aromas. This is a great diversion from the bright and fruity Ginjos that have flooded the sake market. Rich, round, and super smooth this brew has layers of creamy flavors and drinks fluffy and soft. There are hints of honey, grains, rich fruit compote, and breakfast cereal flavors that evolve into a creamy raisin and pear finish. Chogetsu is a great example of a creamy sake and it warms quite nicely too. A terrific “feeling” sake that should not be missed.',\n",
       "       'The nose on this very unique Junmai sake is vast collection of cream, nougat, cocoa, and steamed rice dessert aromas. Behold an eye-opening new world Junmai sake that is all things rich, but also all things bright and light. How do they do that? Ricey, zesty, light-bodied with a full-body sprightliness, creamy, and very layered. Huh? So much action in the glass this brew is one to really get crazy with. There are hints of cocoa, cinnamon and ripe persimmon with a vein of creaminess that is very buoyant in the glass. A full-bodied sake, but made to be light and lively, which is both satisfying and refreshing. Basically this Junmai takes rice to a new altitude and that view is amazing.',\n",
       "       'The nose on this very talked about sake is a cool collection of cocoa, wet wood, cream, and nut aromas. Another liquid adventure from Philip Harper. This sake is round, chewy and drinks like a liquid Bazaar. With so many odd shapes, colors, and flavors that forms a tasty tapestry that is so unique and delicious. This is one of those sakes where it is fun to exhale after your sip it! Why? Because it is so many different things in a wonderfully balanced fluid that feels great in the mouth. Thick, fat, chewy, and solid it drinks smooth and fleshy with a subtle citrus tingle and a splash of minerals. Round and viscous there is a grittiness and a flinty character that is so intriguing sort of like taking a bite out of a tightly packed snowball. The best balance for this brew is found in a mid-sized cup, which produces hints of maple syrup and ash with a touch of powder sugar. A wine glass produces a long tail, and an ochoko makes the brew smooth and beefy. They recommend drinking on the rocks and if you do I recommend distilled water ice cubes.',\n",
       "       'This “brown rice” (milled only to 85%) aged sake has an exciting nose filled with herbs, cooked citrus, wet wool, dried cherry and pepper elements. Talk about juicy but not being super sweet, this old brew has layers and layers of flavors from dried fruits to candied apricots all dancing with earthy elements such as crushed damp leaves and cooked chestnuts. Soft, rich, fat and gooey – all balanced perfectly on a solid fluid that has a long gentle tail. So smooth for such a low polished Koshu. A perfect Koshu for warming, and look for more fruit at room temp.',\n",
       "       'The nose on this new offering from an old famous brewery is an interesting collection of melon, apple, banana, citrus, and floral aromas. It is a fun, lively, bright Junmai Daiginjo that is crisp overall but drinks with some weight to the fluid. Spritzy, chippy, lively, and a little tingly this is one of those sakes that screams, “I am alive and I am fun!” Call it a nice attitude brew that has dried cranberries, tangerine, and crisp apple flavors that excel in a white wine glass. It is a happy brew that is great for those new to sake and a wonder to behold for those who know the run of the lot Yamadanishiki sake milled to 50%.',\n",
       "       \"This special sake is from the super popular Kikusui Brewery in Niigata. This sake is milled to a tiny 23% and is brewed with an ultra premium Koshihikari rice. Get your hands on this super sexy sake while you can\\xa0and stay toned for Beau's full review!\",\n",
       "       'The nose on this 12-month aged unpasteurized sake is a gentle collection of peach, apple, plum, red apple, and blueberry aromas. Why age a Nama sake? To get a feeling and flavor profile such as this Junmai Ginjo. Instead of being jagged, edgy, and brash the aging of this Nama creates a more comfortable feeling of the fluid. It helps the flavors meld better to produce a juicy yet smooth and round brew that is like a mellow Junmai Ginjo. Look for hints of green apple, grapes, blueberry and lots of pear as it warms in the glass. Milled to 50% this is actually like an unpasteurized Daiginjo, which makes the drinking experience all the more ethereal. This Nama is not bulky or sweet it is smooth and in the grove.',\n",
       "       'In your pursuit of the complete sake experience, one must venture into the so-called sweet zone to discover the splendors and quirks of a Junmai that has a –12 SMV value. \\xa0This Junmai has a ripe cherry and mushroom nose with hints of earth tones. It is a “mover” Junmai as the sweet flavor rush on the tip of the tongue moves from a robust front to a nice syrupy slide down the back of the throat. The most prominent flavor enveloped in the viscosity is ripe cherries in a syrup sauce, which meets a nice acidity play for a snappy finish. It is freakishly sublime, like a bad hair day that actually looks cool, and it is not Kool-Aide sweet. \\xa0Recommended by brewer as an after dinner drink.',\n",
       "       'The nose on this very important Yamahai Koshu is an amazing collection of toffee, candied nuts, honey, lemon, and Heath Bar aromas. This is a sake drinker’s koshu as it is an aged sake that has a very unique flavor profile. It surely looks the part of an aged sake with that amazing golden color. Add to that the fact that it is a genshu and a yamahai sake then you know things are funky in a good way. Look for amazing flavors such as sour apple, tart orange, smoked sea minerals, cocoa, and hot honey lemon tea and you know that your are in the Koshu Twilight Zone. Made with Yamadanishiki and Koshi Tanrei this brew boast an alc. content of 17.2%, and drinks with different flavors at different temperature points. Chilled brings more tanginess, and room temperature brings forth the rich ricey and sweeter flavors. There are many treasures hiding within.',\n",
       "       'The nose on this very clever Junmai Daiginjo is a great collection of strawberry, sweet rice, melon, and honey aromas. Say hello to a Yamagata powerhouse sake that is extremely flavorful and one of those reminder sakes that scream, “How can this be made of rice and water only?” Soft, ripe, smooth, round and lush feel the fluid as it cascades flavors down the palate. Look for honeydew, strawberry, sweet pear, and lychee hints that are ripe and expressive. A perfect feel good brew that is juicy and layered and so fruit-forward but not sweet. It’s literally a high five of flavor. Semi-thick, semi-sweet, but with a dry finish that is fully awesome.',\n",
       "       'The nose on this stellar Junmai Daiginjo is a cool collection of crème brulee, cantaloupe, honeydew, banana, rose water, and mint aromas. Are you ready to take a walk on the full-bodied side? There are not a lot of full-bodied Daiginjos on the market, and that’s what makes this brew so special. It is very luxurious! Viscous, round, velvety, chewy, and vast the fluid is one of those feel good stories in your palate. Look for tropical fruit flavors such as mango, papaya, sweet pear, strawberry, grape, honeydew, and touch of citrus. How in the world can rice and water taste like this fruit basket of flavors? That’s the magic of this sake, and the chewy body is the bonus. This brewery makes killer sake, and this premium full-bodied brew will soon become a cult classic.',\n",
       "       'The nose on this very classy cloudy sake has a wonderful collection of vanilla, cream, ice cream, and steamed rice aromas. This is a great addition to our Nigori collection, because this sake is so well balanced for an “undiluted” sake. Made with Ippanmai rice that is milled to 75% and categorized as a Futsushu, this sake drinks more like a Ginjo! It is very smooth and creamy with a terrific softness. There are layers of gentle flavors such as pear, powdered sugar, vanilla, and ice cream, but the sake does not drink sweet. The balance of the sake makes for a clean drinking experience so this Nigori is perfect for those cloudy fans who do not like all of the gunk of a sweet chewy coarsely filtered brew. A larger glass brings forth more elegance.',\n",
       "       'The nose on this super seasonal sake is a gorgeous collection of strawberry, honey, melon, and mint aromas. Talk about a sake that walks the walk! First the stunning blue bottle and cool label, then the brew itself that is plump, juicy, full-bodied, and rich. Juicy, minty, bright, and chewy, this sake is very fun! It drinks smooth for being so lively, and that might have to do with a viscous body that hides flavorful hints of melon, mango, honey, and sweet rice. It’s a “Nama Genshu,” which means the sake has not been diluted at the end of the brewing process, but it’s very difficult to find the hidden 17% alcohol content. This brewery is known for tight and lean amazing sake, but this pivot to a full-bodied chewy and fat brew is a great tasting and feeling delight.',\n",
       "       'The nose on this very user friendly Junmai Ginjo is a collection of berry, mint, lavender, and steamed rice aromas. Okay! Ready for a quick lesson that I learned 15 years ago? Niigata Prefecture is known for quick, clean and dry sakes and everybody loves that! But I discovered Yamagata sakes and said that this type of brew is a totally different kind of “clean” sake. Behold a soft, round, silky, and clean brew that has longer flavor and feeling. It’s still so clean – like water – but it is a little juicier and more slippery. There are light layers of apple & pear flavors with a gentle layer of minerals. But the operative word here is smooth! It is so drinkable and smooth. Supremely soft and clean, it is a great sake to give to beginners. But it’s also good to tease the professionals who would ask, “How is this brew so soft and flavorful?”',\n",
       "       'The nose on this very special premium sake that uses the highest graded brewing rice is a subtle collection of steamed rice, berry, and melon aromas. Quite frankly this is professionally clean sake! Huh? It is basically one of those “like water” sakes that drinks so clean you’d think it was just water. BUT! This brew is on a much higher level, because it drinks so clean, but there is so much complexity in the nuance. It’s drinkable as hell, but the fun is finding all of the deep components that come forth at different times. It epitomizes balanced sake. Ricey and rich, but watery and slippery. Look for a vein of nougat or a tease of pear. Oddly this sake is too complex for a wine glass as it gets too like water, so a small O’choko or small cup works the best to feel the uniqueness of this sake. Very surprising it is from Ishikawa, or is it?',\n",
       "       'The nose on this very unique sake made with white koji and the typical yellow koji (mold) has an amazing nose filled with citrus, floral, green apple, grasses, and koji rice aromas. This is a very tasty new sake expression from Yoshi at Den who wanted to try brewing with a white koji like they use in shochu.\\xa0 Lively, and bright you immediately taste a wonderful array of acidity and flavors that jump in the glass with an astringent kiss. Look for a kaleidoscope of flavors such as tangerine, lemon, grapefruit, green apple, grape, black berry, and umami goodness. There are tannin-like elements that appeal to wine drinkers and a sweet and tart profile that hints at a sneaky sour vein that makes this sake quite fun to consume. And talk about a food-pairing monster! Lastly, Yoshi had a special helper (me) while making the first batch of this expressive sake creation.',\n",
       "       'This ultra popular brewery in Japan has a huge following and for good reason – they make great sake. Their Dassai 50 and 39 and 23 are extremely well made sakes that drink velvety with layers of flavor, and so it is no surprise that their super secret “Beyond” project is even better then the others. In a word – it is! Talk about a sake that is the perfect combination of feel great and taste great. Beyond is just that, it is beyond great. There are certain sakes that one should not miss in their sake drinking lifetimes and this is one of them. When great sake makers claim that they have made a “great” sake then you should take their word for it.',\n",
       "       'The nose on this traditionally made sake is a wonderful collection of apple, melon, cream, fruit salsa, and salty aromas. Wow! This is a superb expanding sake that pushes rice and water into the stratosphere of the flavor belt. Round, smooth, creamy and a little flinty it is very complex with an elegant and nuanced tingle of sourness. It has a great mouth filling quality that delivers hints of brown sugar, nougat, apple compote, and candied almonds that literally float in the mouth. This Nechi is rich and full-bodied but interesting light in structure. It is a deep deep sake that has elevator levels of flavors that all go up! As the fluid warms to room temperature or when warmed say hello to liquid umami in a glass. Very umami rich and very tasty.',\n",
       "       'The nose on this sake from a brewery that is famed for using the best brewing rice in Japan is a gathering of pear, melon, sweet rice, and mango aromas. Come on! A green velvet box? You bet, and this sake drinks as cool as it looks and of course the label has a rice stalk that announces the amazing Yamadanishiki brewing rice within. Round, smooth, and tropical. This brew drinks fleshy and fun, and is dramatically tasty! Guess that has something to do with the prized brewing rice that they grow. There are elevator floors of flavors, strawberry here, mango there, and white grape up there. And talk about elegant, not only does the sake drink charmed but the long neck of the bottle makes for a very sweet pouring sound that is pure elegance. Velvety, balanced, and very approachable. This is a perfect gifting sake that can’t miss!',\n",
       "       'The nose on this IWC Gold Medal winning Ginjo is a fun collection of citrus, tropical, and cream soda aromas. This world class Ginjo is round, bright, juicy, clean and subtly spritzy. It is layered, expressive and very lively with plenty of citrus and creamy elements. Look for tangerine, cherry, and orange flavors that bounce on a great acidity play that leaves this sake drinking fresh, crisp and bright. This is a very good standard for today’s bombastic Ginjo style sakes that jump out of the glass and excite the senses.',\n",
       "       'The nose on this sake from one of our favorite breweries is a stellar collection of butternut, beets, green beans, minerals, and rich rice aromas. This is a professional sake personified, and if you are following the path of the rice varietal called Omachi it’s important to try this awesome version. Ripe, full-bodied, rich, and frisky look for lots of flavors from honeydew melon, white grape, crisp apple, a young pear, and a heaping helping of Umami qualities. It is a very layered brew that has vocal rice tones on savory flow that thickens as it warms in the glass. Rich and zesty in a single glass is a great accomplishment, and this sake will win you over on the palate feel.',\n",
       "       'The nose on this cool looking sake is a clever collection of honey, clover, lemon peel, earthy, cocoa, yeasty, caramel, and leather aromas. This is a superb feeling Yamahai with loads of flavors that slide across the palate. It is a “feeling” brew, but wait it is a “flavor” brew too, which makes it an F&F sake which definitely is not a FAIL. Smooth, rich, round and velvety it drinks creamy with lots of oatmeal and toasted rice tones that almost border on Rice Krispie Treat-like. There are sweet hints but the sake is comfortable with the acidity and richness balance. When warmed look for a great creamy and nougat blast. And there is a buttery element that makes any Yamahai sake fan smile.',\n",
       "       'The nose on this very food friendly sake is a great collection of cocoa, caramel, soy sauce, pudding, and almonds. Say hello to a very tasty Junmai Ginjo that celebrates all things Yakitori. Yup! The amazing flavors of all sorts of chicken parts grilled on a skewer. The name of this brew is “94”(read as \"Nine Four\") and that’s a play on words for the name “Kushi,” which is short for Kushiyaki or anything on a stick.\\xa0 Rich, round, smooth, and savory this sake has an incredible body that has creamy tones and a long umami tail. Look for hints of cocoa, maple syrup, peanut butter, nougat, dark chocolate, and burnt sugar. Does this mean it drinks sweet? Nope, not at all. It drinks more rich and velvety, which is great with the flavor of the chicken in sauce or with salt. We’ve been trained to pair light and dry sake with chicken, but this semi-sweets and savory sake dances like Ginger Rogers and Fred Astaire. Definitely pair this brew at different temperatures, because the brewery used AI to determine the perfect matches for this sake with salt, sauce, umami, at several different serving temperatures.',\n",
       "       'The nose on this “Blend” of sake is a cool collection of melon, blackberries, ripe pear, nougat, and steamed rice aromas. If you take some Junmai Daiginjo and some Junmai Ginjo and blend it together what do you get? You get this very intelligent sake that moves in truly balanced ways. Smooth with an upfront fruitiness that disappears with a dry finish. It is round and slippery with gentle pear, mango, powder sugar, cherry, and sweet rice flavors. Sometimes the description of being complex is intimidating, but not in this case. Alt.3 is very stylish and smart and it’s complexity is delicious, which is highlighted by the feeling of this brew through your palette. This “project” sake is a great new expression from a brewery known for their Taru and Kimoto sakes. Get your “Blend” on!',\n",
       "       'The nose on this new style Junmai is an interesting collection of sweet corn, melon, apple pie, sweet peas, and honey tea aromas. Say hello to a very modern sake that is expressive, expansive, and very lively in the palate with a rich tingle that is refreshing and bright. Talk about a wide flavor field! There is so much going on in each sip with peach and ripe persimmon here, cantaloupe and apple there, blackberry and champagne grapes here, and veggie and herbaceous licks there. A sliver of bitterness dances with the acidity and the higher alcohol content (17%) to produce a unique liveliness that is very enjoyable on the palate. It’s hard to say that a Junmai sake can be “refreshing,” but this new world effort is all that!',\n",
       "       'The nose on this very Fukushima Style-like sake is a gentle collection of grape, green apple, and Asian Apple Pear aromas. Welcome to yet another Fukushima sake that drinks like Gold! Fukushima has won more Gold Medals in the past seven years than any other prefecture and this is not by accident. They make very flavorful and expressive brews that appeal to most all sake drinkers. Yokikana is a great example of this style. Look for upfront impact, with a very soft and buoyant middle, followed by a clean and dry finish. There is a sweetness that evolves into a dryness, which is really cool. There are hints of powder sugar, apple, and melon that glide on a slippery and silky fluid that finishes very cleanly. Say hello to Fukushima sip by sip with this Master’s Touch.',\n",
       "       'The nose on this specially brewed Daiginjo is a bright collection of grape, berry, tropical fruit, and grapefruit aromas. Say hello to a sake that is made in the most labor intensive capacity (Shizuku or gravity drip) and has a frisky attitude that says I’m both smooth and bright. How cool is that? A daiginjo with kick. Juicy, lush, plump, lively, brash, chewy, and smooth each sip is a delicious wonder. How do all of those great flavors jump around so much? Look for vanilla, berry, grape, tangerine, and tropical flavors on a plump and viscous flow that is very active in the palate. If you like exciting sake this brew is for you! If you like attitude this brew is for you! If you like both smooth and bright this brew is for you!',\n",
       "       'The nose on this very special sake is a gentle collection of melon, green apple, and rose water aromas. This is a very elegant Daiginjo that is more on the full-bodied side, but with light flavors and feeling. Smooth, rich, and clean with a very quick finish. There is a touch of “shibumi” or astringency that makes the full-body drink more light and round. Talk about a plush sake. Look for dried apple, rich pear, melon, and peach flavors on a smooth and velvety flow. This Soul of the Sensei, which was made as a tribute to one of the best master brewers of all time, does very well chilled in a mid-sized glass that brings forth a lot of umami and a hidden sweetness.',\n",
       "       'The nose on this very unique sake is a cool collection of grapefruit, cranberry, tomato water, grass, Sherry, and yeasty aromas. Say hello to a sexy and wonderfully delicious Junmai Daiginjo that drinks as great as it looks. It is juicy but dry, crisp and a little tart, sweet but not too sweet. Basically it is a ballroom dance in a glass with hidden layers of flavors that taste differently with your eyes closed. Yup the color can trick the palate. With eyes open taste the plum, cranberries, and crisp red tart apples, and with the eyes closed taste the sweet rice, orange, and apricot flavors that all dance on smooth fluid that ends with a SweetTart finish. Wait! What about the color? The brewers were the first to use a red colored yeast called “Sekishoku Kobo” that gives this brew its great looks and unique flavors. With a lower alcohol content of 12% this Genshu drinks better in a larger glass.',\n",
       "       'The nose on this bottle fermented sparkling sake is a great collection of Granny Smith Apple, cream, yeast, popsicle, and grape aromas. Say hello to one of the most Brut-like sparkling sake in the biz! But this baby is all rice action that is tight, compact, and with crisp dry flavors and feelings with lots of bubbles and a good Pop on the cork! Look for Asian Apple Pear, raisin, Muscat Grape, tangerine, young melon and other fruit flavors with a hint of coconut that drinks dry and refreshing. This is “clear” sake at it’s dry and crisp best, and the cork and cage makes this a great gifting Sparkling Sake for those who want to share a dry crisp experience with family and friends.',\n",
       "       'The nose on this sparkling sake that uses the technique of secondary fermentation is a gentle collection of yeast, rice, white grape, and mineral aromas. Unlike other sparkling sake Sorah is filtered to remove extra rice particles and makes for a cleaner and tighter sparkling sake. As such it is very “Brute-like” and drinks dry with a gentle richness that has a touch of savory elements to it. Sorah is definitely ricey and does not drink fruity, sweet, or goopey, which makes it very good in a champagne flute drinking like your favorite tight bubbled Brute. There is a welcoming hint of creaminess and some dried apple elements, but the strength is in the Tottori sourced rice, which drinks dry, lively, and very well-balanced. A perfect sake to celebrate happy times and good fortune. It’s Japanese “Champagne” at it’s finest!',\n",
       "       'There are not a lot of sakes in the states from Okayama so this represents another prefecture’s sake to check off your list. The nose on this brew that is made using a very traditional method of sake called the Bodai method is an amazing collection of nutty, creamy, earthy, oatmeal, bread and peach tones. This “9” won the 2014 Best Sake to Pair With British Food Award, because it is rich and wonderful, very solid, and very well balanced. It is one of those sakes that expands in the palate exposing hints of nougat, caramel, maple syrup and a dash of mint flavors. Slightly creamy it drinks smooth and fast with richness throughout each sip. Start chilled but this brew does best at room temperature and in a mid-sized glass.',\n",
       "       'The nose on this “Once in a lifetime” masterpiece is an amazing collection of rose petal, cream, raisins, bananas, and cotton candy aromas. This sake wasn’t built; it evolved into a superb Daiginjo standing on the shoulders of both the Kimoto and Shizuku style of sake brewing. Throw in 4 years of aging and you get a complexity not found in most sake. Fruit-forward, full-bodied, rich and complex it drinks you more than you drink it. Look for ripe persimmon, raisin, marshmallow, nougat, and woody elements that grow in a wine glass and feel more aged as the fluid warms. Heavenly Flower drinks like rich liquid umami especially in a white wine glass. This is not your dainty and elegant Daiginjo sake, it is a brew that is in the upper stratosphere of the sake-drinking world. Not to be missed in your lifetime!',\n",
       "       'The nose on this Junmai that has been aged for two years is a vast collection of earthy, nutty, forest floor, steamed rice, and wet wool aromas. Talk about a sake drinker’s sake. This is a Junmai for those who think they know Junmai sake. It is very full bodied, very rich, very round, and very smooth. Oh! And it’s very dry. If you like vast red wines then this brew is for you because it has earth tones, dark chocolate, and cocoa flavors that drink complex and dry. I call it almost “Liquid Dry.” This brew also falls along the lines of a “3 Sipper” sake that takes 3 sips for the sake to blend well in your palate. I think that is the complexity talking.',\n",
       "       'Truly a connoisseur’s experience this one of a kind Daiginjo has an aroma profile filled with cherries, white grapes, ginger and aloe vera. For those who know their wines behold a sake that transcends layers of grape flavors and achieves a personality that one can never find in a fruit juice. Fat, silky, beefy, and solid do not do justice to this brew that drinks crisp, bright and dry. There are hints of mint, white grape, and tangerine elements with a finish that speaks to those who like a hint of clean twang.',\n",
       "       'The nose on this Genshu or undiluted sake is a very nice collection of strawberry, melon, honey and apple aromas. Say hello to a thick and chewy “high end” sake that drinks with a little attitude. It is very smooth, very lush, very round, and goes across the palate-like liquid velvet. A fantastic “feeling” sake that speaks to wine drinkers who like large reds and impactful whites. The rice used for this brew is the very local Niigata rice called Kikusui, which is the name of the brewery as well, and is polished to 40% remaining. The 17% alcohol content also brings forth a savory boldness and robustness that’s not usually found in ultra Daiginjo sake. Look for hints of apple, honeydew melon, and steamed rice flavors with a long and sophisticated tail.',\n",
       "       'The nose on this ultra Daiginjo is sexy collection of strawberry, melon, pear, apple, and white blossom aromas. Say hello to a “Once in a lifetime” sake that should be on every sake drinker’s bucket list. Kodama Jozo brewery as taken AAA Yamadanishiki brewing rice milled to 20% (80% removal) to new and amazing levels. This is a very very velvety sake that is liquid luxury in a glass. It is beautiful and a work of art, but more importantly it is amazing tasting. Clean, round, and semi-viscous there are juicy flavors such as papaya, apple, mango, pear, and powdered sugar. It is very soft and very layered and defines “silky” sake. It is a great feeling sake and excels in a white wine glass.',\n",
       "       'This private label sake is made by the ancient Konishi Sake Brewery and has a very gentle nose of hay, butterscotch, nougat, and steamed rice. The methodology of this sake is to be a super drinkable Junmai that pairs very well with foods. The mission was a success! First, the lower alc. content of 12% (instead of the typical 15-16) makes this brew gentle. Smooth, light, and compact. It drinks more full because of the Nihonbare rice varietal and the elevated acidity, which speaks to tannin lovers who enjoy a little astringency complexity in their glass. Speaking to you red wine drinkers who enjoy subtle yet complex flavors such as persimmon, apricot, chicory, dark chocolate, and caramel licks. There is a tickle of bitterness in the finish that speaks to the craft coffee crew and far more ricey expressions come out as the fluid warms in the glass. A mid-sized glass makes for more flavor bumps, but a wine glass captures the smoothness and drying finish better.',\n",
       "       'The nose on this Daiginjo is a gentle collection of apple, melon, sweet rice, honey, and floral aromas. Say hello to a rich Daiginjo! You don’t often get a lot of richness in the Daiginjo category, so it is very exciting to explore this velvety brew with a rich roundness and is loaded with umami expressions. Smooth, round, and layered look for hints of sweet rice, pear, rice candy, and cupcake icing flavors. It is unique in that it is rich and drinks with a balance that is made even more impressive in a white wine glass. Great label and a great brew that shows the fact that sake has far more umami that found in the wine world, but don’t tell them!',\n",
       "       'The nose on this unpasteurized Honjozo that is made using Gohyakumangoku milled to 60% is an amazing collection of melon, creamy fruit, grape, berry, honey, sweet nuts, butterscotch, and cream cheese aromas. If you drink sake long enough, eventually you find those brews that blow your socks off. Count this sake as one of your Bucket-List-brews that takes “flavorful” sake to the next frontier. Oh my gosh! Talk about controlled madness. Talk about controlled brashness. The entire world of flavors is in this brew, which could be crazy, but the balance of this Nama Honjozo is superb and this makes the whole thing dance perfectly. Look for hints of persimmon, melon, vanilla, citrus, cinnamon, crisp apples, grapes, pineapple, forest floor, pomegranate, dark chocolate filled with raspberry, dried fruit, and pear compote flavors. Wow! In a nutshell this sake is a flavor shifter along the lines of a shape shifter. It changes with every sip, but never let’s you get lost. Who said Honjozo sake is boring? Not a chance here!',\n",
       "       'With over a century of history, located in the Kaga region, Nishide Shuzo operates under the mantra that “sake brewing is our life.” Nishide brews handmade sake, with only 3 employees, just as it has had for the past 5 generations.Ishikawa’s 17th century Kutani Yaki porcelain artwork gracing this bottle helps tell the story that this sake has been made with local ingredients only. Discovered 100 years ago, the yeast known as kuratsuki kobo is especially unique as it exists naturally within the brewery itself, and is therefore only found in Nishide’s sakes. This Junmai Daiginjo exhibits notes of apricot and young banana that starts off soft and mild, giving way to the smooth umami of sake rice, finishing dry with balanced acidity.Recommended dishes: sushi and dashi rich dishesRecommended temperature: best served chilled.-Sake Suki',\n",
       "       'The nose on this “Concept” sake is a gentle collection of honeydew, green apple, rose water, and snowmelt aromas. Using Gohyakumangoku brewing rice and lowering the alcohol content to 14% this extremely nuanced sake is made to be consumed outdoor-picnic style. Light, clean, slipper, silky, and smooth this beauty has a sneaky body and complexity to it. I call it “Clean Complexity” as it is refreshing and gentle, but there is a lot going on in this very stylized sake. Look for hints of red apple, melon, citrus, blueberry and that subtle snowmelt flintiness. You could say that it is refreshing and guessing! Guessing? Yes, because it leaves you guessing how they made such an easy drinking sake that has so many facets to! The packaging itself is stunning, but the fluid is the clear winner, and so too will you be if you “gift” this sake to a picnic friend.',\n",
       "       'The nose on this Honjozo is a clean collection of bread, yeast, soup, veggie, melon, and candy aromas. Say Hello to our third Nama Can Sake! This brew fits right between our other cans for good reason. It is unique! And in this case, that is a very good thing. Also unpasteurized with a higher alcohol content of 19% this brew is savory and dry and not fruity or sweet with fruit tones. It is watery, slick, and crisp with a little tail. There is a gentle brine salty quality that makes the brew drink far more savory than other can brews. Look for tomato water, veggie, savory radish, biscuit sweetness and an overall savory dry finish of white pepper. A very tight and compact brew that drinks far too easy. It is such a unique flavor that is better tasted than described almost like drinking Saltine and Veggie crackers. A very fun and tasty sake that does well chilled in that compact can.',\n",
       "       'The nose on this traditionally made pole-rammed (Kimoto) sake that has been aged for two years is a great collection of chestnuts, cream, lemon peel, cucumber, and steamed rice aromas. This is a very intriguing Kimoto Junmai that is rich and full-bodied, but drinks light and elegant in feeling. How do they do that? Smooth, creamy, soft, and buttery, this brew glides across the palate with hints of sweet rice, nougat, marshmallow, cocoa, burnt sugar, and loads of umami licks. A very sneaky sake that has such full-bodied qualities, but drinks more light and very well balanced. And when warmed look for dark chocolate and nougat qualities that drink very light for a warmed sake.',\n",
       "       'The nose on this super popular Junmai sake is a lively collection of red apple, grape, blueberry, and mango aromas. Some sake breweries are known for a “flagship” brew that symbolizes the brewery and their techniques. Say hello to a very well known sake from a stalwart brewery. Zesty, frisky, spritzy this brew is bright, lively, and juicy and it drinks exactly how they want to make it. Talk about a different breed of brew look for apple, pear, Asian apple pear, peach, and a touch of orange soda flavors that drink crisp in the glass. Again this sake is made with rice and water only but there is a basket full of fruit flavors and even a hint of Jolly Roger Candy. A mid-sized glass works best for the acidity and the action.',\n",
       "       'Having problems with your friends or family members drinking all your sake especially during these quarantine times?Check out our awesome \"6 Feet Away\" T-shirts!Now available for ordering due\\xa0to popular demand! Get them while they last!\\xa0100% Combed Ring-Spun Cotton. Crew Neck from NEXT LEVEL APPAREL. Available in Men\\'s and Women\\'s cut.',\n",
       "       'The nose on this traditionally pole-rammed sake is a great collection of cocoa, cream, nougat, lemon peel, and breakfast cereal aromas. Say hello to a professional sake that is actually made with consumption (food) rice, rather than highly sensitive sake brewing rice. The result of this is a sake that highlights how well sake are made technique-wise. Smooth, creamy, and yet clean! This brew is liquid complexity with a subtle tangy element on a super smooth and crisp fluid that has a tantalizing acidity play that features a Tannin-like dryness with layers of astringent flavors. A small cup brings forth honey lemon tea flavors. A mid-sized glass shows young pear and apricot hints, and a large glass highlights the “shibumi” and features persimmon flavors.',\n",
       "       'This brewery loves their own estate grown rice so much they put rice grains under the label to prove their fascination. The nose on this JSA certified Organic sake is a great collection of cooked peach, pear, cinnamon, and cocoa aromas. How refreshing to drink a sake that actually tastes like rice in today’s age of fruity sake. This is a sake drinker’s brew with loads of rich and ricey flavors on a very dry fluid. The finish is very quick, which is impressive after upfront flavors of cocoa, wheat, roasted rice, and cinnamon. Very large in flavor and very easy in feeling means that this bottle disappears pretty quickly. There is a gentle bitter vein that speaks to coffee fans, and as the fluid warms look for some wood tones. A food-pairing monster.',\n",
       "       'The nose on this 1 year aged Junmai Ginjo is a brilliant collection of maple syrup, cinnamon, cereal, melon, pear, and chestnut aromas. This one of those “Hallmark” sakes that best represents the brewing style of a prefecture. In this case the prefecture is Fukushima, which has become one of the most nationally and internationally decorated brewing prefectures in all of the sake world. This Gold Medal brew is so representative of the super flavorful and balanced style that has made Fukushima famous. The formula is an expressive and flavorful start that has a glorious middle palate that is almost fluffy or buoyant, with a quick and balanced finish. Round, soft, smooth and with a luxurious softness this brew glides through the mouth. Look for hints of apple, breakfast cereal, persimmon, and honey on a rolling, fluffy, and chewy fluid. A great example of “sake balance” that is highlighted in a white wine glass.',\n",
       "       'The nose on this traditionally made “Kimoto” or pole rammed sake is a cool collection of nutty, cheesy, creamy, toasty, buttery, and ricey aromas. This classic old style sake is made with a Hyogo rice varietal called Yumenishiki milled to 70% and drinks creamy and smooth. Soft, round, and gentle it is a great sake to play with at three different temperatures. Look for sweet nuts, cream, earth tones, toast, and ricey flavors that are balanced with a hint of wood and sweet rice components. As the fluid warms in the glass the brew gets even more creamy and savory. This is a classic Kimoto sake that is great for beginners and will fascinate sake enthusiasts.',\n",
       "       '',\n",
       "       'The nose on this collaborative sake between outdoor supply company Snow Peak and Niigata Prefecture’s Asahi Shuzo is a unique collection of chestnuts, steamed rice, grains, butterscotch, and cereal aromas. This very limited collector’s edition sake is a departure from your usual Kubota products, and it’s perfect for a campfire and campfire cuisine. Rich, tight, crisp, and smooth with a little bite; this brew drinks very confidently and is on the dry side. Light in body, but with a generous richness and frisky texture. Look for hints of caramel, sweet rice, and nougat. As the brew warms in the glass, a slight peppery and cocoa quality emerges. This is very much a red wine drinker’s version of Kubota sake that is edgy and intelligent. The Yamahai brewing technique gives this Junmai Daiginjo attitude that drinks with an elevated acidity level, which means it’s great with food.',\n",
       "       'The nose on this very special sake is a brilliant blend of cranberry, apple, berry, citrus, and yeast aromas. Say hello to one of the most exciting sake in the sake world. Why so? Because this unpasteurized sake is made with a Red Yeast that is very uncommon in the industry. What is the result of using such a yeast? First take a look at that color and then remember that it is completely natural – no red food dye #2! Lively, bright, expressive, and very refreshing this sake drinks semi-sweet with a hint of tartness. Talk about flavors check out this flavor field that boasts peach and citrus tones when your eyes are closed. With your eyes open discover raspberry, strawberry, pink grapefruit, tart cherries, and cherry slushy flavors. Yes let that glorious color influence your palate. This is a very expressive brew that pounds confidence, and is a total flavor shifter, which means it’s an “experience” sake that should not be missed.',\n",
       "       \"The nose on this unique sake that is new to True Sake is a gentle collection of caramel, Rice Krispies Treat, White Chocolate, and steamed rice aromas. Soft, round, and semi-thick this brew drinks fat and fleshy on the palate. It is very creamy and velvety that is not too fruity and not too dry, but rather smooth, rich, and ricey with layers of umami flavors. Look for hints of graham cracker, caramel, nougat, marshmallow, and breakfast cereal flavors.\\xa0 The incredible aspect of this Akita sake is that you can taste the brewery's water in each sip amongst all of the amazing rich flavors. It is a very good warming sake that brings forth chocolate and creamy fudge flavors.\",\n",
       "       'The nose on this elegant Junmai Daiginjo is a cool collection of berry, peach, melon, and honey aromas. Say hello to a very flavorful and mellow Junmai Daiginjo that drinks like a smooth dream. Round, soft, juicy, and silky this brew is the definition of relaxing with a glass of sake. In a word it is gentle and extremely drinkable and that is a good thing – a very good thing. A wine glass works best to explore the flavor field of apple, pear, strawberry and mineral water tones. As the fluid warms in the glass take note of a subtle layer of honey flavor that makes the experience all the more soothing. Elegant, soft, and as gentle as a whisper that fills your palate with wonderful sake calmness.',\n",
       "       'The nose on this ultra-daiginjo milled to 35% is a glorious collection of strawberry, mango, pineapple, melon, and Gardenia petal aromas. It’s no wonder that this sake has won numerous gold medals in the Japan national competition. Talk about liquid luxury in a glass. This brew is as velvety as sake can get with layers of flavors that roll on a smooth and semi-thick fluid. Look for honey, mango, citrus, and melon flavors that move in a lush and chewy flow. It is a great feeling sake for sure and the lower acidity makes this brew world-class and does wonders in your white wine glass.',\n",
       "       'The nose on this specially made type of sake is an amazing collection of yeast, lemon peel, apple, and grapefruit aromas. Say hello to a wonderful category of sake called Kijoshu, which is essentially sake that is made with more sake in place of water during the fermentation process. Huh? Wouldn’t that make the sake super sweet and cloying? Take a sip and then listen to the resounding NO from the great brewers at the Mutsu Hassen brewery. This intriguing brew drinks bright, fruity, crisp and has a tantalizing acidity play. Zesty and tingly the fluid literally bubbles through the palate like a lesser version of soda. And get ready to get some citrus senses going as there are several versions of lemon-like flavors such as lemonade, Lemoncello, lemon sorbet, Lemonheads, and lemon honey tea as the fluid warms. Also discover crisp apple, white grape, and apricot effervescent goodness. A little more sourness emerges as the Kijoshu gets to room temperature, and a larger glass vessel like a white wine glass works best to distribute the acidity. For fun try pouring a glass and putting it in the freezer on a hot day.',\n",
       "       'The nose on this elegant “Ultra” Junmai Daiginjo is a tantalizing collection of mineral, pear, sweet rice, and citrus aromas. This is a great example of rice and water turned into excellence! Urara is one of those “Top of the Mountain” sake that is a terrific example of how good a sake can be. Silky, lively, viscous, fruit forward, and very expressive this sake is world class. Delve for green apple, orange sherbet, pineapple, strawberry candy, and sweet rice flavors that flow on a supremely balanced fluid that drinks like magic water. There is a very fresh tingle to this brew, which explains the bottle cap that pops a little. A larger glass brings forth more excellence, and highlights the labor intensive “drip” form of pressing -technique.',\n",
       "       'The nose on this special brew is a glorious collection of green apple, tangerine, orange blossom, lemon custard, pear, melon, and Gardena aromas. Say hello to a talking sake. Huh? Yes, this amazing Daiginjo from Akita Prefecture made with Yamadanishiki brewing rice milled to 40% talks-the-talk. It literally begins a conversation on the first sip, which is electric with a tingle and just pops in the palate. We call this type of sake an “exciting” brew that drinks very vivid with bright and juicy flavors. Look for mango, papaya, candied ginger, berry, orange candy, melon, ripe peach, white pepper, and crisp fruit flavors. Delicious and exhilarating this Daiginjo is world class in that it has so many flavors that go in so many directions and yet it ties back together with great balance. And that is the hallmark of great brewing technique.',\n",
       "       'The nose on this special sake is a great collection of pear, red grape, veggie, cut grasses, bamboo, and blueberry aromas. With a nose like that what the heck is in the glass? Let’s just say that this ultra Junmai Daiginjo that is made with one of our favorite brewing rice varietal\\xa0– Kura no Hana milled to 40% remaining – has a sneaky complexity that will baffle and reward your senses with each glorious sip. What the heck is sneaky complexity? Basically, it’s a sake that tastes great and is a joy drinking but it makes you think! Thinking while drinking is the best. Smooth, round, layered, semi-sweet, velvety, rich, and clever this brew is like magic in your glass. Look for pear, yellow apple, grape, sweet rice, and lots of ricey umami licks. And coolest of all the fluid has a rolling richness that literally moves across the palate. A very even and balanced JDG that pokes you in the side of your head as you enjoy each sip, and asks \"am I complex or what?\" Quaffable Complexity.',\n",
       "       'The nose on this brew that is made using the Goriki brewing rice varietal has a nice collection of berry, melon, grape, strawberry, and Gardenia aromas.\\xa0 Take a bite out of this bright, expansive, tingly, and crisp sake and be rewarded with a fruit basket full of flavors. Hints of apple, sweet melon, and berries come first then look for the sugar tones like rock candy, sugar cubes, and powder sugar on strawberries. The excellent acidity vividness offsets the sweet flavors to create a very energetic and bright sake drinking experience. Full-bodied and chewy it is a viscous sake that is considered an “Ultra” Daiginjo because it’s been milled to 40%. Another one of those sakes that makes you think how can rice and water taste like fruit and sugar goodness! A solid brew that is a good gift-giving sake appealing to most!',\n",
       "       'The nose on this brew that is made by a husband and wife brewing duo is a very interesting collection of honey roasted nuts, grains, pancakes, breakfast cereal and hay aromas. This is a real treat to the Junmai category that has lots of rich, savory, and full-bodied flavors, but is also elegant with an attitude that celebrates the ricey umami-side of flavorful sake. Smooth, rich, with a little brightness in acidity there are layers of very unique flavors such as pound cake, maple syrup, bread pudding, freshly baked cookies, lemon icing, baked Cinnabon, and apple strudel. It is slightly earthy and very deep in the Junmai category, but they brew using a technique that calls for two days of pressing, which gives this sake a layer of elegance best described as soft or silky which highlights all of the natural umami in the fluid.',\n",
       "       'This sake was built to baffle and amaze sake drinkers who enjoy drier brews with incredible amounts of flavor. The nose on this aged sake is quite fresh with hints of cherry, honey, steamed rice, apple, wheat, and hay aromas. Talk about a complex but very drinkable ultra Daiginjo that is made with the AAA Yamadanishiki brewing rice from Hyogo milled to 40%. If a sake could be sly this brew would be it. Why? Because it baffles you with amazing flavors such as wheat, honey, cereal, butterscotch and nougat flavors that are there upfront then are gone with a dry and crisp finish. It is sneaky to load so much flavor in a light and smooth fluid only to have the weight vanish as the sake dries in the palate. This is more of an experience than a sake. And it is one experience not to be missed if you love the legendary brewery that makes the killer Daiginjo called “BY.” If you really focus you can find a unique vein of caramel, but the SMV of +7 tells you that you will really have to look. A super intelligent aged sake that is a wonder to behold.',\n",
       "       'The nose on this very unique three year-aged Junmai Daiginjo is a wonderful collection of earthy, forest floor, milk chocolate, cocoa, and cocoa powder aromas. Ok, it must be said, the bottle is awesome. What a beautifully packaged sake. And guess what? What’s inside the bottle is just as beautiful. This is not your ordinary aged Daiginjo sake, and it is an amazing celebration of the local Niigata Prefecture’s rice varietal called Koshi Tanrei milled to 50%. Who doesn’t like fascinating sake that just happens to also be delicious? This is no chunky oxidized aged brew that drinks flabby and bulky. It actually drinks very light and layered with a rich complexity that is baffling. How can it be so rich, but also so clean and flavorful? It is a very expressive aged brew with lots of chocolate and cocoa aromas. Look for chocolate truffle, hot cocoa, brownie, chocolate nibs, and other rich earthy flavors that drink dry and with a mineral tail. When warmed just think of smooth warm cocoa and how cool is that? This is a perfect gifting sake to big red wine drinkers, and foodies who would like to pair this brew with complex fall flavors and big seasonal dinners.',\n",
       "       'The nose on this specially released winter unpasteurized sake, has a gentle collection of green apple, peach, grape, and mineral aromas. Say hello to the first edition of KID “Shiboritate” that is new to the US market. This is a unique sake that is very elegant and easy in the palate. Fresh and light, it carries gentle flavors like green apple, kiwi, young strawberry, apricot, and fresh pear notes with a crisp flow. And let’s talk about the flavor of water in this Junmai Ginjo that is subtle, soft, and has a twinkle of minerals. For you professional sake drinkers, try to process the acidity level of 2.0 in this elegant brew. It’s a phantom acidity that plays like a whisper, and makes the sake balanced and elegant. Enjoy fresh sake at its freshest.',\n",
       "       'The nose on this sake, that is made with the local Iwate popular Gin Ginga rice varietal, is a gentle collection of plum, honeydew melon, sweet rice, pear, and honey aromas. The head sake brewer Ryunosuke Furudate of Akabu Shuzo has a simple philosophy for his sake, and that is to not think too much about the brews and simply just enjoy them. This sake, like their other offerings, is a great example of playing in the subtle zone of sake making. It’s so gentle and nuanced, that your first thought is that this is a simple sake, and that’s the key to the elegance and balance of this brew. It’s silky, light, fresh, and balanced, with a gentle water-like texture that makes this sake very easy to drink. Look for blueberry, grape, melon, pear, lychee, and snow-cone flavors, that excel in a medium-sized cup. As the fluid warms in the glass, a creaminess comes forth and lots of umami. This is phantom sake at its best, because it drinks like a whisper and just disappears.',\n",
       "       'For the first time available in the US, this Ultra Junmai Daiginjo sake is a work of art in liquid form. Using absolutely the best Yamadanishiki brewing rice from Hyogo Prefecture milled to the insanely low rate of 30%. This treasure is not to be missed! (Especially considering the brewery only produces a few hundred bottles per year) The nose on this elegant sake is a gentle collection of steamed rice, honey, bamboo, and white pepper. Finally! Finally a super premium sake that has some body and depth to it! This is no “like-water”, thin brew, but rather it is a smooth operator with great texture play. Look for hints of melon, ripe pear, honeycomb, and vanilla bean. Muryozan is so complex, but oh so drinkable, with a tremendously soft, smooth, plump, and velvety body. Served chilled in a white wine glass.',\n",
       "       'The nose on this cult favorite sake has corn, steamed rice, persimmon, peach, sweet carrots, and citrus aromas. The brewer of this sake purposely doesn’t give out technical specs, because he simply wants you to not geek out and “just drink the sake.” That’s pretty funny in an industry where we try to know everything, and sometimes forget to simply enjoy a brew. Light, silky, gentle, and clean, this sake is very mischievous, because it drinks very easily, but it has so much going on. “Drinkable” is not a bad word in the sake world, but it has a negative connotation in that it could mean it’s basic. This Junmai is anything but basic as it has whispers of phantom-like qualities, that drink so gently and balanced. Look for hints of grapefruit, blood orange, cucumber, sweet veggies, citrus, and blueberry flavors in a supremely silky fluid. A mid-sized glass finds peak balance, and there is a very unique creaminess that emerges as the sake warms. It’s also a great brew for warming, that drinks slightly fruity and clean.',\n",
       "       '*All sales are final with Juyondai. Must call the shop to order Juyondai. Limit 1 bottle per person. Even though inventory says \"sold out\", we might have it in stock. Just ask!True Sake was able to source 12 bottles of this Juyondai dated 2019.06 which has been bottle aging for 18 months. This is considered leaving its prime tasting form, but we as a group, all agreed that this sake still drinks very much like how the toji intended it to taste. By purchasing this sake you accept the conditions that it is as is! So what is it? The nose on this extremely sought after Junmai Ginjo is a gentle collection of berry, cantaloupe, pear, sweet rice, and apple aromas. Juyondai is known for impact on first sip, and this brew is exactly that – pure impact. It is lively, effervescent, bright, fleshy, and very fruit-forward. Look for a large flavor field of apple, cooked pear, ripe cantaloupe, mango, strawberry, honey, and a hint of fennel. Basically, this is world-class sake that everybody wants to taste and for good reason. A great example of a fruity and balanced sake that excels in a wine glass. If you have ever wanted to taste a brew from the fabled Juyondai brewery this might be your best shot, and we feel it’s worth that shot!'],\n",
       "      dtype=object)"
      ]
     },
     "execution_count": 27,
     "metadata": {},
     "output_type": "execute_result"
    }
   ],
   "source": [
    "df.description.unique()"
   ]
  },
  {
   "cell_type": "code",
   "execution_count": 29,
   "metadata": {
    "ExecuteTime": {
     "end_time": "2021-01-27T21:14:16.731642Z",
     "start_time": "2021-01-27T21:14:16.729493Z"
    }
   },
   "outputs": [],
   "source": [
    "d = 'We used to refer to this wonderful Can as “Beau-shu” because the owner, Beau Timken, discovered this sake on a trip to Tokushima to visit this brewery. It was an exclusive sake at True Sake for the the first year in the States, but we wanted everybody to enjoy this super special sake, and today it is one, of if not the top imported unpasteurized sake. It is a signature “Genshu” or undiluted (18.5% alc) sake with fruity licks but dry tricks. The perfect “semi” sake that is semi-dry, semi-sweet, semi-bold, semi-thick, and semi-rich, but fully fun! \\xa0Round and tingly. It has deep rich pear, white grape, and melon tones with a hint of citrus and rock candy. Lively, brisk and zesty. It drinks with a crisp attitude that appeals to all wine lovers. Truly one of the best selling sake in True Sake history! It was the first brew that we simply could not keep on the shelf! And if you see a can you should grab it quickly.'"
   ]
  },
  {
   "cell_type": "code",
   "execution_count": 30,
   "metadata": {
    "ExecuteTime": {
     "end_time": "2021-01-27T21:14:22.360687Z",
     "start_time": "2021-01-27T21:14:22.357265Z"
    }
   },
   "outputs": [
    {
     "data": {
      "text/plain": [
       "'we used to refer to this wonderful can as beaushu because the owner beau timken discovered this sake on a trip to tokushima to visit this brewery it was an exclusive sake at true sake for the the first year in the states but we wanted everybody to enjoy this super special sake and today it is one of if not the top imported unpasteurized sake it is a signature genshu or undiluted 185 alc sake with fruity licks but dry tricks the perfect semi sake that is semidry semisweet semibold semithick and semirich but fully fun  round and tingly it has deep rich pear white grape and melon tones with a hint of citrus and rock candy lively brisk and zesty it drinks with a crisp attitude that appeals to all wine lovers truly one of the best selling sake in true sake history it was the first brew that we simply could not keep on the shelf and if you see a can you should grab it quickly'"
      ]
     },
     "execution_count": 30,
     "metadata": {},
     "output_type": "execute_result"
    }
   ],
   "source": [
    "clean_text(d)"
   ]
  },
  {
   "cell_type": "code",
   "execution_count": 32,
   "metadata": {
    "ExecuteTime": {
     "end_time": "2021-01-27T21:15:25.735020Z",
     "start_time": "2021-01-27T21:15:25.731348Z"
    }
   },
   "outputs": [
    {
     "data": {
      "text/plain": [
       "'we used to refer to this wonderful can as beaushu because the owner beau timken discovered this sake on a trip to tokushima to visit this brewery it was an exclusive sake at true sake for the the first year in the states but we wanted everybody to enjoy this super special sake and today it is one of if not the top imported unpasteurized sake it is a signature genshu or undiluted 185 alc sake with fruity licks but dry tricks the perfect semi sake that is semidry semisweet semibold semithick and semirich but fully fun round and tingly it has deep rich pear white grape and melon tones with a hint of citrus and rock candy lively brisk and zesty it drinks with a crisp attitude that appeals to all wine lovers truly one of the best selling sake in true sake history it was the first brew that we simply could not keep on the shelf and if you see a can you should grab it quickly'"
      ]
     },
     "execution_count": 32,
     "metadata": {},
     "output_type": "execute_result"
    }
   ],
   "source": [
    "re.sub('  ', ' ', clean_text(d))"
   ]
  }
 ],
 "metadata": {
  "kernelspec": {
   "display_name": "Python [conda env:metis] *",
   "language": "python",
   "name": "conda-env-metis-py"
  },
  "language_info": {
   "codemirror_mode": {
    "name": "ipython",
    "version": 3
   },
   "file_extension": ".py",
   "mimetype": "text/x-python",
   "name": "python",
   "nbconvert_exporter": "python",
   "pygments_lexer": "ipython3",
   "version": "3.8.5"
  },
  "toc": {
   "base_numbering": 1,
   "nav_menu": {},
   "number_sections": true,
   "sideBar": true,
   "skip_h1_title": false,
   "title_cell": "Table of Contents",
   "title_sidebar": "Contents",
   "toc_cell": false,
   "toc_position": {},
   "toc_section_display": true,
   "toc_window_display": false
  },
  "varInspector": {
   "cols": {
    "lenName": 16,
    "lenType": 16,
    "lenVar": 40
   },
   "kernels_config": {
    "python": {
     "delete_cmd_postfix": "",
     "delete_cmd_prefix": "del ",
     "library": "var_list.py",
     "varRefreshCmd": "print(var_dic_list())"
    },
    "r": {
     "delete_cmd_postfix": ") ",
     "delete_cmd_prefix": "rm(",
     "library": "var_list.r",
     "varRefreshCmd": "cat(var_dic_list()) "
    }
   },
   "types_to_exclude": [
    "module",
    "function",
    "builtin_function_or_method",
    "instance",
    "_Feature"
   ],
   "window_display": false
  }
 },
 "nbformat": 4,
 "nbformat_minor": 4
}

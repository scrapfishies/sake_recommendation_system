{
 "cells": [
  {
   "cell_type": "markdown",
   "metadata": {},
   "source": [
    "# Data Cleanup"
   ]
  },
  {
   "cell_type": "code",
   "execution_count": 1,
   "metadata": {
    "ExecuteTime": {
     "end_time": "2021-01-27T00:35:21.081211Z",
     "start_time": "2021-01-27T00:35:20.801814Z"
    }
   },
   "outputs": [],
   "source": [
    "import pandas as pd\n",
    "import numpy as np\n",
    "import re"
   ]
  },
  {
   "cell_type": "code",
   "execution_count": 2,
   "metadata": {
    "ExecuteTime": {
     "end_time": "2021-01-27T00:35:21.622147Z",
     "start_time": "2021-01-27T00:35:21.083439Z"
    },
    "scrolled": false
   },
   "outputs": [
    {
     "data": {
      "text/html": [
       "<div>\n",
       "<style scoped>\n",
       "    .dataframe tbody tr th:only-of-type {\n",
       "        vertical-align: middle;\n",
       "    }\n",
       "\n",
       "    .dataframe tbody tr th {\n",
       "        vertical-align: top;\n",
       "    }\n",
       "\n",
       "    .dataframe thead th {\n",
       "        text-align: right;\n",
       "    }\n",
       "</style>\n",
       "<table border=\"1\" class=\"dataframe\">\n",
       "  <thead>\n",
       "    <tr style=\"text-align: right;\">\n",
       "      <th></th>\n",
       "      <th>url</th>\n",
       "      <th>name</th>\n",
       "      <th>type</th>\n",
       "      <th>price</th>\n",
       "      <th>prefecture</th>\n",
       "      <th>smv</th>\n",
       "      <th>acidity</th>\n",
       "      <th>kw_word</th>\n",
       "      <th>kw_wines</th>\n",
       "      <th>kw_beer</th>\n",
       "      <th>kw_foods</th>\n",
       "      <th>description</th>\n",
       "    </tr>\n",
       "  </thead>\n",
       "  <tbody>\n",
       "    <tr>\n",
       "      <th>0</th>\n",
       "      <td>https://www.truesake.com/collections/all/produ...</td>\n",
       "      <td>Dassai 45 Junmai Daiginjo \"Otter Festival\"</td>\n",
       "      <td>Junmai Daiginjo</td>\n",
       "      <td>30.00</td>\n",
       "      <td>Yamaguchi</td>\n",
       "      <td>+3</td>\n",
       "      <td>1.4</td>\n",
       "      <td>Chunky</td>\n",
       "      <td>Pinot Noir / Chewy Whites</td>\n",
       "      <td>Ales</td>\n",
       "      <td>Mushroom risotto, tempura, fried chicken, cavi...</td>\n",
       "      <td>This sake has an older brother Daiginjo that h...</td>\n",
       "    </tr>\n",
       "    <tr>\n",
       "      <th>1</th>\n",
       "      <td>https://www.truesake.com/collections/all/produ...</td>\n",
       "      <td>Kikusui Junmai Ginjo \"Chrysanthemum Water\"</td>\n",
       "      <td>Junmai Ginjo</td>\n",
       "      <td>33.00</td>\n",
       "      <td>Niigata</td>\n",
       "      <td>+1</td>\n",
       "      <td>1.6</td>\n",
       "      <td>Citrus</td>\n",
       "      <td>Sharp Whites/Dry Reds</td>\n",
       "      <td>Ales/Ambers</td>\n",
       "      <td>Suitable for light and stronger flavored dishe...</td>\n",
       "      <td>True Sake owner Beau Timken recorded K...</td>\n",
       "    </tr>\n",
       "    <tr>\n",
       "      <th>2</th>\n",
       "      <td>https://www.truesake.com/collections/all/produ...</td>\n",
       "      <td>Wakatake Onikoroshi Junmai Daiginjo \"Demon Sla...</td>\n",
       "      <td>Junmai Daiginjo</td>\n",
       "      <td>49.00</td>\n",
       "      <td>Shizuoka</td>\n",
       "      <td>+/-0</td>\n",
       "      <td>1.4</td>\n",
       "      <td>Popular</td>\n",
       "      <td>Elegant reds/Complex whites</td>\n",
       "      <td>Crisp Ales</td>\n",
       "      <td>Cuisines that like big white wines.</td>\n",
       "      <td>Talk about a nice aroma package on thi...</td>\n",
       "    </tr>\n",
       "    <tr>\n",
       "      <th>3</th>\n",
       "      <td>https://www.truesake.com/collections/all/produ...</td>\n",
       "      <td>Shunnoten Tokubetsu Junmai \"Fishermen Cup\"</td>\n",
       "      <td>Tokubetsu Junmai</td>\n",
       "      <td>9.00</td>\n",
       "      <td>Yamanashi</td>\n",
       "      <td>+3</td>\n",
       "      <td>1.6</td>\n",
       "      <td>Smooth</td>\n",
       "      <td>Pinot Noir/Slippery Whites</td>\n",
       "      <td>Gentle Ales</td>\n",
       "      <td>None</td>\n",
       "      <td>The nose on this awesome looking “catch cup” i...</td>\n",
       "    </tr>\n",
       "    <tr>\n",
       "      <th>4</th>\n",
       "      <td>https://www.truesake.com/collections/all/produ...</td>\n",
       "      <td>Kenbishi Kuromatsu Honjozo \"Black Pine\"</td>\n",
       "      <td>Honjozo</td>\n",
       "      <td>40.00</td>\n",
       "      <td>Hyogo</td>\n",
       "      <td>±0.5</td>\n",
       "      <td>1.5</td>\n",
       "      <td>Rich</td>\n",
       "      <td>Deep Reds/Fat Whites</td>\n",
       "      <td>Stouts</td>\n",
       "      <td>Perfect for pub food salty and savory and grea...</td>\n",
       "      <td>The nose on this extremely famous Honjozo from...</td>\n",
       "    </tr>\n",
       "  </tbody>\n",
       "</table>\n",
       "</div>"
      ],
      "text/plain": [
       "                                                 url  \\\n",
       "0  https://www.truesake.com/collections/all/produ...   \n",
       "1  https://www.truesake.com/collections/all/produ...   \n",
       "2  https://www.truesake.com/collections/all/produ...   \n",
       "3  https://www.truesake.com/collections/all/produ...   \n",
       "4  https://www.truesake.com/collections/all/produ...   \n",
       "\n",
       "                                                name              type  price  \\\n",
       "0         Dassai 45 Junmai Daiginjo \"Otter Festival\"   Junmai Daiginjo  30.00   \n",
       "1         Kikusui Junmai Ginjo \"Chrysanthemum Water\"      Junmai Ginjo  33.00   \n",
       "2  Wakatake Onikoroshi Junmai Daiginjo \"Demon Sla...   Junmai Daiginjo  49.00   \n",
       "3         Shunnoten Tokubetsu Junmai \"Fishermen Cup\"  Tokubetsu Junmai   9.00   \n",
       "4            Kenbishi Kuromatsu Honjozo \"Black Pine\"           Honjozo  40.00   \n",
       "\n",
       "  prefecture   smv  acidity   kw_word                      kw_wines  \\\n",
       "0  Yamaguchi    +3      1.4   Chunky     Pinot Noir / Chewy Whites    \n",
       "1    Niigata    +1      1.6   Citrus         Sharp Whites/Dry Reds    \n",
       "2   Shizuoka  +/-0      1.4  Popular   Elegant reds/Complex whites    \n",
       "3  Yamanashi    +3      1.6   Smooth    Pinot Noir/Slippery Whites    \n",
       "4      Hyogo  ±0.5      1.5     Rich          Deep Reds/Fat Whites    \n",
       "\n",
       "        kw_beer                                           kw_foods  \\\n",
       "0         Ales   Mushroom risotto, tempura, fried chicken, cavi...   \n",
       "1  Ales/Ambers   Suitable for light and stronger flavored dishe...   \n",
       "2   Crisp Ales           Cuisines that like big white wines.         \n",
       "3   Gentle Ales                                               None   \n",
       "4       Stouts   Perfect for pub food salty and savory and grea...   \n",
       "\n",
       "                                         description  \n",
       "0  This sake has an older brother Daiginjo that h...  \n",
       "1          True Sake owner Beau Timken recorded K...  \n",
       "2          Talk about a nice aroma package on thi...  \n",
       "3  The nose on this awesome looking “catch cup” i...  \n",
       "4  The nose on this extremely famous Honjozo from...  "
      ]
     },
     "execution_count": 2,
     "metadata": {},
     "output_type": "execute_result"
    }
   ],
   "source": [
    "df = pd.read_json('raw_data.json')\n",
    "df.head()"
   ]
  },
  {
   "cell_type": "markdown",
   "metadata": {},
   "source": [
    "First, I'm curious to see how well the description parsing worked: "
   ]
  },
  {
   "cell_type": "code",
   "execution_count": 3,
   "metadata": {
    "ExecuteTime": {
     "end_time": "2021-01-27T00:35:21.629818Z",
     "start_time": "2021-01-27T00:35:21.625916Z"
    }
   },
   "outputs": [
    {
     "data": {
      "text/plain": [
       "array(['Chunky ', 'Citrus ', 'Popular ', 'Smooth ', 'Rich ', 'Even ',\n",
       "       None, 'Hops ', 'Consistent ', 'Big ', 'Pear ', 'Peach ', 'Velvet ',\n",
       "       '23% ', 'Vivacious ', 'Full Monty ', 'Dry      ', 'Gentle ',\n",
       "       'Light ', 'Cedar ', 'Strawberry ',\n",
       "       \"Superb WINE: Zesty Dry Reds/Crisp Whites BEER: Crisp Ales. FOODS: The kitchen sink! Super food friendly. Updated 2019/02\\xa0Vivid, voluptuous and vibrant sake in a can? You bet! This exclusive unpasteurized brew is Beau Timken's prized sake offering for True Sake customers. With a nose of strawberry, watermelon, sweet rice and cinnamon this undiluted sake (18.5%) is fat, happy, bright and chewy. Fruity, but not overly sweet, think big thoughts when tasting this velvety Nama that is pure pleasure in a can. (Yes cans keep sake colder longer!) This abundantly flavored sake is available only at True Sake! WORD: Jolly \",\n",
       "       'Clean ', 'Chewy', 'Big Clean ', 'Dry ', 'Milky ', 'Beefy ',\n",
       "       'Amber ', 'Flavorful ', 'Floral\\xa0', 'Grapes – ', 'Fat ',\n",
       "       'Earthy ', 'Divine ', 'Velvety ', 'Balanced ', 'Desirable ',\n",
       "       'Special ', 'Layered ', 'Yuzu ', 'Creamsicle ', 'Juicy ',\n",
       "       'Bright ', 'Coconut. ', 'Waves ', 'Lively ', 'Cocoa ', 'Soft ',\n",
       "       'Elegant ', 'Solid ', 'Structured ', 'Juice Box ', 'Complex ',\n",
       "       'Soft WINE ', 'Clever ', 'Melon ', 'Umami ', 'Smooth \\xa0',\n",
       "       'Effervescent ', 'Mushroom ', 'Gooey ', 'Historical ', 'Snappy ',\n",
       "       'Slick ', 'Fruity ', 'Stellar ', 'Ripe\\xa0', 'Lush ',\n",
       "       'Fruit Basket ', 'Liquid Umami ', 'Expressive ',\n",
       "       'Shiitake Mushroom ', 'Crisp ', 'Subtle\\xa0', 'Voluptuous ',\n",
       "       'Lively WINE: Tannin Reds/ Crisp Whites BEER: Citrus Ales FOODS: International Spice, Champagne Fare, Grilled fare, Shellfish, Seafood, Citrus salads. (2020)\\xa0The nose on this very-old-friend-of-True-Sake has a great collection of cherry, grape, berry, sweet rice, and powder sugar aromas. Since you’ve had this brew before what’s it like this year? The ’19 version of Arabashiri is more controlled and smooth than in year’s past. It is smooth with round and rolling fruit tones that are juicy and soft, semi-thick, semi-rich and fully tasty. The larger the vessel the more zesty and fresh feeling with honeydew melon, pear, apple, and a hint of grapefruit. A mid-sized glass brings out the best flavor to feeling play, but whatever you drink out of you will taste fresh sake at its best. WORD: Fresh ',\n",
       "       'Professional ', 'Slippery ', 'Brisk ',\n",
       "       'Clean Wine: Cabs/crisp whites ', 'Smooth Cedar ', 'Chocolate ',\n",
       "       'Brown Sugar ', 'Sunflower ', 'Round ', 'Cantaloupe - ', 'Silky ',\n",
       "       'Supreme ', 'Clean \\xa0', 'Simple Complexity ', 'Sublime ',\n",
       "       'Massive ', 'Professional Nigori ',\n",
       "       'Elegant WINE: Soft Reds/Clean Whites BEER: Light Beer FOODS: Clean cuisines, grilled fare, shellfish, sashimi, sushi (2020)The nose on this spring released seasonal sake is a subtle collection of white grapes, tangerine, and sweet rice aromas. Say hello to a very full and ripe Nama that has lots of Ginjo qualities and flavors. Look for pink grapefruit, white grape, and blood orange flavors on a fluid that is fat and chewy that has a little tingle, which means it’s still living! Very vivid with a very proud plumpness this brew has lots of glucose-like feelings with a dry finish. Fleshy and fun, this “Spring Deer” is a full-bodied Nama with bright citrus fruit tones on a juicy fluid that jumps. WORD: Citrus ',\n",
       "       'Apple ', 'Chewy ', 'Beast ', 'Deep ', 'Drinkable ', 'Grapes ',\n",
       "       'Engaging ',\n",
       "       'Balanced WINE: Rich Reds/Fat Whites BEER: Belgian Ales FOODS: Fall cooked meats and fowl, grilled fish, smoked meats and fish, soups and stews. (2020)\\xa0The nose on this fall released sake is a gentle collection of cocoa, lemon peel, oatmeal, and steamed rice aromas. Behold a very unique version of Masumi’s Hiyaoroshi that is far more complex than year’s past. Round, smooth, and a little snappy this brew is loaded with some very interesting flavors such as raisin, crisp apple, black berries, and cooked persimmon. There is a very interesting astringency that jumps between a subtle tartness and a refreshing sour quality that makes this sake drink very much like a big dry red wine. A wine glass makes this sake drink with better balance, and it drinks much more rich closer to room temperature. Warming brings out more tartness. WORD: Complex ',\n",
       "       'Plush ', 'Masterpiece ',\n",
       "       'Clean WINE: Soft Reds/ Dry Whites BEER: Light Beer FOODS: Salty, oily, savory grilled fare, fried foods, bar snacks.(2020)\\xa0The nose on this unpasteurized sake that is made with “Estate” brewing rice, which means that they grow their own, is a very fresh collection of cucumber, powder sugar, rice candy, cocoa, and mineral aromas. Damn! This sake tastes like the bottle looks - light, cool, and minerally. What an awesome Nama. It is so light, bright, and refreshing but is loaded with really tasty flavors such as white grape, honeydew melon, blueberry, and tons of minerals like snowball melt. There is also a very unique vein of citrus tones such as tangerine, and grapefruit, with an added powder sugar touch. A fantastic drinking brew that has a 1.8 acidity level, and has an 18% alcohol level, which you cannot even tell that they’re there, so we will call it the “Crazy 8’s.” WORD: Snowmelt ',\n",
       "       'Whisper ', 'Confident ', 'Gentle Giant ', 'Lemonade\\xa0',\n",
       "       'Trophy ',\n",
       "       'Rich WINE: Deep Reds/Fat Whites BEER: Fruity Ales FOODS: All the wonderful full-bodied and complex autumn dishes. (2020)\\xa0The nose on this seasonally released Fall Draft sake is a gentle collection of nectarine, dried fruits, cranberries, bok choy, and steamed rice. Say hello to a very elegant Junmai Ginjo single pasteurized Hiyaoroshi that is well balanced with a snow melt quality that is mineral-like and slippery. Talk about a mouthful of dried fruit flavors! Look out for dried cranberries, dried raspberries, dried mangos, with a hint of white raisins. Not too heavy and not too light it is a semi-dry slippery slide that has Ginjo elegance and a very nice acidity balance. This brew has the best finish of all ten Fall Draft Hiyaoroshi this year. A wine glass brings out the elegance and highlights of snowmelt and dried fruit tones. WORD: Elegant ',\n",
       "       'Berry Pie WINE: Deep Reds/Fruity Whites BEER: Fruity Ales FOODS: Rich and full-bodied Autumn cuisines, fatty fish, rich meats, game, pastas, and Thanksgiving turkey. (2020)\\xa0The nose on this specially released fall draft sake is a cool collection of leather, cocoa, plums, red grapes, and steamed rice aromas. This Hiyaoroshi’19 is different from last year’s offering because it uses an entirely different rice varietal called Aiyama milled to 75%. The result is a fruity and wonderful. Rich, round, and sweet it is full-fluid fresh. There are lots of plum, melon, date, apple, and purple fig flavors and maybe that’s why the label is purple. The brew does well in a mid-sized glass and it gets creamier as it warms in the glass. Very layered. Very lush. Very plump. This brew screams fall fruit flavors that flow on a fat fluid that feels lively and bright. WORD: Figs ',\n",
       "       'Grand Champion ', 'Extra Dry ', 'Refreshing ', 'Fun! ',\n",
       "       'Sake Power ', 'Perfect ', 'Creamy ', 'Godly ', 'Rewarding ',\n",
       "       'Honey ', 'Ultimate ', 'Huge ', 'Gentle Rich ', 'Bright-Rich ',\n",
       "       'Ice ', 'Cherries \\xa0', 'Adventure ', 'Luxurious ', 'Classy ',\n",
       "       'Viscous ', 'Pristine ', 'Citrus Basket ', 'Dynamic ', 'Tropical ',\n",
       "       'Feelings ', 'Yakitori ', 'Unique ', 'Ricey ', 'Flavor Shifter ',\n",
       "       'Intriguing ', 'Technique ', 'Magical ', 'Dexterous ', 'Exciting ',\n",
       "       'Harmony ', 'Legendary '], dtype=object)"
      ]
     },
     "execution_count": 3,
     "metadata": {},
     "output_type": "execute_result"
    }
   ],
   "source": [
    "df.kw_word.unique()"
   ]
  },
  {
   "cell_type": "markdown",
   "metadata": {},
   "source": [
    "Looks like I have a few listings where it didn't work so well... let's take a look: "
   ]
  },
  {
   "cell_type": "code",
   "execution_count": 4,
   "metadata": {
    "ExecuteTime": {
     "end_time": "2021-01-27T00:35:21.650712Z",
     "start_time": "2021-01-27T00:35:21.631491Z"
    }
   },
   "outputs": [
    {
     "data": {
      "text/html": [
       "<div>\n",
       "<style scoped>\n",
       "    .dataframe tbody tr th:only-of-type {\n",
       "        vertical-align: middle;\n",
       "    }\n",
       "\n",
       "    .dataframe tbody tr th {\n",
       "        vertical-align: top;\n",
       "    }\n",
       "\n",
       "    .dataframe thead th {\n",
       "        text-align: right;\n",
       "    }\n",
       "</style>\n",
       "<table border=\"1\" class=\"dataframe\">\n",
       "  <thead>\n",
       "    <tr style=\"text-align: right;\">\n",
       "      <th></th>\n",
       "      <th>url</th>\n",
       "      <th>name</th>\n",
       "      <th>type</th>\n",
       "      <th>price</th>\n",
       "      <th>prefecture</th>\n",
       "      <th>smv</th>\n",
       "      <th>acidity</th>\n",
       "      <th>kw_word</th>\n",
       "      <th>kw_wines</th>\n",
       "      <th>kw_beer</th>\n",
       "      <th>kw_foods</th>\n",
       "      <th>description</th>\n",
       "    </tr>\n",
       "  </thead>\n",
       "  <tbody>\n",
       "    <tr>\n",
       "      <th>23</th>\n",
       "      <td>https://www.truesake.com/collections/all/produ...</td>\n",
       "      <td>Narutotai Ginjo Nama Genshu \"Red Snapper\"</td>\n",
       "      <td>Ginjo Nama Genshu</td>\n",
       "      <td>38.00</td>\n",
       "      <td>Tokushima</td>\n",
       "      <td>+5</td>\n",
       "      <td>1.7</td>\n",
       "      <td>Superb WINE: Zesty Dry Reds/Crisp Whites BEER:...</td>\n",
       "      <td>Zesty Dry Reds/Crisp Whites BEER: Crisp Ales. ...</td>\n",
       "      <td>Crisp Ales. FOODS: The kitchen sink! Super foo...</td>\n",
       "      <td>The kitchen sink! Super food friendly. Updated...</td>\n",
       "      <td>We used to refer to this wonderful Can as “Bea...</td>\n",
       "    </tr>\n",
       "    <tr>\n",
       "      <th>123</th>\n",
       "      <td>https://www.truesake.com/collections/all/produ...</td>\n",
       "      <td>Masumi Arabashiri Junmai Ginjo Nama \"First Run\"</td>\n",
       "      <td>Junmai Ginjo Nama</td>\n",
       "      <td>urrent price        $25.00</td>\n",
       "      <td>Nagano</td>\n",
       "      <td>-0.6</td>\n",
       "      <td>1.7</td>\n",
       "      <td>Lively WINE: Tannin Reds/ Crisp Whites BEER: C...</td>\n",
       "      <td>Tannin Reds/ Crisp Whites BEER: Citrus Ales FO...</td>\n",
       "      <td>Citrus Ales FOODS: International Spice, Champa...</td>\n",
       "      <td>International Spice, Champagne Fare, Grilled f...</td>\n",
       "      <td>The nose on this very famous seasonally releas...</td>\n",
       "    </tr>\n",
       "    <tr>\n",
       "      <th>165</th>\n",
       "      <td>https://www.truesake.com/collections/all/produ...</td>\n",
       "      <td>Harushika Shiboribana Junmai Ginjo Nama \"Sprin...</td>\n",
       "      <td>Junmai Ginjo Nama</td>\n",
       "      <td>36.00</td>\n",
       "      <td>Nara</td>\n",
       "      <td>-2</td>\n",
       "      <td>1.8</td>\n",
       "      <td>Elegant WINE: Soft Reds/Clean Whites BEER: Lig...</td>\n",
       "      <td>Soft Reds/Clean Whites BEER: Light Beer FOODS:...</td>\n",
       "      <td>Light Beer FOODS: Clean cuisines, grilled fare...</td>\n",
       "      <td>Clean cuisines, grilled fare, shellfish, sashi...</td>\n",
       "      <td>The nose on this just released unpasteurized s...</td>\n",
       "    </tr>\n",
       "    <tr>\n",
       "      <th>194</th>\n",
       "      <td>https://www.truesake.com/collections/all/produ...</td>\n",
       "      <td>Masumi Junmai Ginjo Hiyaoroshi \"Sleeping Beauty\"</td>\n",
       "      <td>Junmai Ginjo Hiyaoroshi</td>\n",
       "      <td>41.00</td>\n",
       "      <td>Nagano</td>\n",
       "      <td>±0</td>\n",
       "      <td>1.8</td>\n",
       "      <td>Balanced WINE: Rich Reds/Fat Whites BEER: Belg...</td>\n",
       "      <td>Rich Reds/Fat Whites BEER: Belgian Ales FOODS:...</td>\n",
       "      <td>Belgian Ales FOODS: Fall cooked meats and fowl...</td>\n",
       "      <td>Fall cooked meats and fowl, grilled fish, smok...</td>\n",
       "      <td>The nose on this seasonally released “Draft Sa...</td>\n",
       "    </tr>\n",
       "    <tr>\n",
       "      <th>203</th>\n",
       "      <td>https://www.truesake.com/collections/all/produ...</td>\n",
       "      <td>Nechi Otokoyama Tokubetsu Honjozo Nama “Yukimi...</td>\n",
       "      <td>Tokubetsu Honjozo Nama</td>\n",
       "      <td>urrent price        $32.00</td>\n",
       "      <td>Niigata</td>\n",
       "      <td>+4</td>\n",
       "      <td>1.8</td>\n",
       "      <td>Clean WINE: Soft Reds/ Dry Whites BEER: Light ...</td>\n",
       "      <td>Soft Reds/ Dry Whites BEER: Light Beer FOODS: ...</td>\n",
       "      <td>Light Beer FOODS: Salty, oily, savory grilled ...</td>\n",
       "      <td>Salty, oily, savory grilled fare, fried foods,...</td>\n",
       "      <td>The nose on this seasonally released unpasteur...</td>\n",
       "    </tr>\n",
       "    <tr>\n",
       "      <th>214</th>\n",
       "      <td>https://www.truesake.com/collections/all/produ...</td>\n",
       "      <td>Shirataki Jozen Junmai Ginjo Hiyaoroshi</td>\n",
       "      <td>Junmai Ginjo Hiyaoroshi</td>\n",
       "      <td>42.00</td>\n",
       "      <td>Niigata</td>\n",
       "      <td>±0</td>\n",
       "      <td>1.5</td>\n",
       "      <td>Rich WINE: Deep Reds/Fat Whites BEER: Fruity A...</td>\n",
       "      <td>Deep Reds/Fat Whites BEER: Fruity Ales FOODS: ...</td>\n",
       "      <td>Fruity Ales FOODS: All the wonderful full-bodi...</td>\n",
       "      <td>All the wonderful full-bodied and complex autu...</td>\n",
       "      <td>The nose on this seasonally released single-pa...</td>\n",
       "    </tr>\n",
       "    <tr>\n",
       "      <th>219</th>\n",
       "      <td>https://www.truesake.com/collections/all/produ...</td>\n",
       "      <td>Shichida Hiyaoroshi Junmai</td>\n",
       "      <td>Hiyaoroshi Junmai</td>\n",
       "      <td>44.00</td>\n",
       "      <td>Saga</td>\n",
       "      <td>+1</td>\n",
       "      <td>1.6</td>\n",
       "      <td>Berry Pie WINE: Deep Reds/Fruity Whites BEER: ...</td>\n",
       "      <td>Deep Reds/Fruity Whites BEER: Fruity Ales FOOD...</td>\n",
       "      <td>Fruity Ales FOODS: Rich and full-bodied Autumn...</td>\n",
       "      <td>Rich and full-bodied Autumn cuisines, fatty fi...</td>\n",
       "      <td>The nose on this Fall Draft seasonally release...</td>\n",
       "    </tr>\n",
       "  </tbody>\n",
       "</table>\n",
       "</div>"
      ],
      "text/plain": [
       "                                                   url  \\\n",
       "23   https://www.truesake.com/collections/all/produ...   \n",
       "123  https://www.truesake.com/collections/all/produ...   \n",
       "165  https://www.truesake.com/collections/all/produ...   \n",
       "194  https://www.truesake.com/collections/all/produ...   \n",
       "203  https://www.truesake.com/collections/all/produ...   \n",
       "214  https://www.truesake.com/collections/all/produ...   \n",
       "219  https://www.truesake.com/collections/all/produ...   \n",
       "\n",
       "                                                  name  \\\n",
       "23           Narutotai Ginjo Nama Genshu \"Red Snapper\"   \n",
       "123    Masumi Arabashiri Junmai Ginjo Nama \"First Run\"   \n",
       "165  Harushika Shiboribana Junmai Ginjo Nama \"Sprin...   \n",
       "194   Masumi Junmai Ginjo Hiyaoroshi \"Sleeping Beauty\"   \n",
       "203  Nechi Otokoyama Tokubetsu Honjozo Nama “Yukimi...   \n",
       "214            Shirataki Jozen Junmai Ginjo Hiyaoroshi   \n",
       "219                         Shichida Hiyaoroshi Junmai   \n",
       "\n",
       "                        type                       price prefecture   smv  \\\n",
       "23         Ginjo Nama Genshu                       38.00  Tokushima    +5   \n",
       "123        Junmai Ginjo Nama  urrent price        $25.00     Nagano  -0.6   \n",
       "165        Junmai Ginjo Nama                       36.00       Nara    -2   \n",
       "194  Junmai Ginjo Hiyaoroshi                       41.00     Nagano    ±0   \n",
       "203   Tokubetsu Honjozo Nama  urrent price        $32.00    Niigata    +4   \n",
       "214  Junmai Ginjo Hiyaoroshi                       42.00    Niigata    ±0   \n",
       "219        Hiyaoroshi Junmai                       44.00       Saga    +1   \n",
       "\n",
       "     acidity                                            kw_word  \\\n",
       "23       1.7  Superb WINE: Zesty Dry Reds/Crisp Whites BEER:...   \n",
       "123      1.7  Lively WINE: Tannin Reds/ Crisp Whites BEER: C...   \n",
       "165      1.8  Elegant WINE: Soft Reds/Clean Whites BEER: Lig...   \n",
       "194      1.8  Balanced WINE: Rich Reds/Fat Whites BEER: Belg...   \n",
       "203      1.8  Clean WINE: Soft Reds/ Dry Whites BEER: Light ...   \n",
       "214      1.5  Rich WINE: Deep Reds/Fat Whites BEER: Fruity A...   \n",
       "219      1.6  Berry Pie WINE: Deep Reds/Fruity Whites BEER: ...   \n",
       "\n",
       "                                              kw_wines  \\\n",
       "23   Zesty Dry Reds/Crisp Whites BEER: Crisp Ales. ...   \n",
       "123  Tannin Reds/ Crisp Whites BEER: Citrus Ales FO...   \n",
       "165  Soft Reds/Clean Whites BEER: Light Beer FOODS:...   \n",
       "194  Rich Reds/Fat Whites BEER: Belgian Ales FOODS:...   \n",
       "203  Soft Reds/ Dry Whites BEER: Light Beer FOODS: ...   \n",
       "214  Deep Reds/Fat Whites BEER: Fruity Ales FOODS: ...   \n",
       "219  Deep Reds/Fruity Whites BEER: Fruity Ales FOOD...   \n",
       "\n",
       "                                               kw_beer  \\\n",
       "23   Crisp Ales. FOODS: The kitchen sink! Super foo...   \n",
       "123  Citrus Ales FOODS: International Spice, Champa...   \n",
       "165  Light Beer FOODS: Clean cuisines, grilled fare...   \n",
       "194  Belgian Ales FOODS: Fall cooked meats and fowl...   \n",
       "203  Light Beer FOODS: Salty, oily, savory grilled ...   \n",
       "214  Fruity Ales FOODS: All the wonderful full-bodi...   \n",
       "219  Fruity Ales FOODS: Rich and full-bodied Autumn...   \n",
       "\n",
       "                                              kw_foods  \\\n",
       "23   The kitchen sink! Super food friendly. Updated...   \n",
       "123  International Spice, Champagne Fare, Grilled f...   \n",
       "165  Clean cuisines, grilled fare, shellfish, sashi...   \n",
       "194  Fall cooked meats and fowl, grilled fish, smok...   \n",
       "203  Salty, oily, savory grilled fare, fried foods,...   \n",
       "214  All the wonderful full-bodied and complex autu...   \n",
       "219  Rich and full-bodied Autumn cuisines, fatty fi...   \n",
       "\n",
       "                                           description  \n",
       "23   We used to refer to this wonderful Can as “Bea...  \n",
       "123  The nose on this very famous seasonally releas...  \n",
       "165  The nose on this just released unpasteurized s...  \n",
       "194  The nose on this seasonally released “Draft Sa...  \n",
       "203  The nose on this seasonally released unpasteur...  \n",
       "214  The nose on this seasonally released single-pa...  \n",
       "219  The nose on this Fall Draft seasonally release...  "
      ]
     },
     "execution_count": 4,
     "metadata": {},
     "output_type": "execute_result"
    }
   ],
   "source": [
    "df[df['kw_word'].str.len() > 40]"
   ]
  },
  {
   "cell_type": "code",
   "execution_count": 5,
   "metadata": {
    "ExecuteTime": {
     "end_time": "2021-01-27T00:35:21.657017Z",
     "start_time": "2021-01-27T00:35:21.652974Z"
    },
    "scrolled": true
   },
   "outputs": [
    {
     "name": "stdout",
     "output_type": "stream",
     "text": [
      "https://www.truesake.com/collections/all/products/narutotai-nama-genshu\n",
      "https://www.truesake.com/collections/all/products/masumi-arabashiri\n",
      "https://www.truesake.com/collections/all/products/harushika-shiboribana\n",
      "https://www.truesake.com/collections/all/products/masumi-junmai-ginjo-hiyaoroshi-sleeping-beauty\n",
      "https://www.truesake.com/collections/all/products/nechi-otokoyama-tokubetsu-honjozo-nama-yukimizake\n",
      "https://www.truesake.com/collections/all/products/shirataki-jozen-junmai-ginjo-hiyaoroshi\n",
      "https://www.truesake.com/collections/all/products/shichida-hiyaoroshi-omachi-junmai\n"
     ]
    }
   ],
   "source": [
    "for link in df[df['kw_word'].str.len() > 40].url:\n",
    "    print(link)"
   ]
  },
  {
   "cell_type": "markdown",
   "metadata": {},
   "source": [
    "After reviewing these links, these products have revised descriptions. Basically duplicating the description section, including the 4 keywords. \n",
    "\n",
    "I'll do some data cleanup for these 7 products."
   ]
  },
  {
   "cell_type": "code",
   "execution_count": 6,
   "metadata": {
    "ExecuteTime": {
     "end_time": "2021-01-27T00:35:21.664074Z",
     "start_time": "2021-01-27T00:35:21.661183Z"
    }
   },
   "outputs": [],
   "source": [
    "def split_on_chars(chars, text):\n",
    "    if text is not None:\n",
    "        if chars in text:\n",
    "            return text.split(chars)[0].strip()\n",
    "        else:\n",
    "            return text.strip()\n",
    "    else:\n",
    "        return text"
   ]
  },
  {
   "cell_type": "code",
   "execution_count": 7,
   "metadata": {
    "ExecuteTime": {
     "end_time": "2021-01-27T00:35:21.670806Z",
     "start_time": "2021-01-27T00:35:21.667328Z"
    }
   },
   "outputs": [],
   "source": [
    "df['kw_word'] = df['kw_word'].apply(lambda description: split_on_chars('WINE', description))"
   ]
  },
  {
   "cell_type": "code",
   "execution_count": 8,
   "metadata": {
    "ExecuteTime": {
     "end_time": "2021-01-27T00:35:21.677855Z",
     "start_time": "2021-01-27T00:35:21.673220Z"
    }
   },
   "outputs": [
    {
     "data": {
      "text/plain": [
       "array(['Chunky', 'Citrus', 'Popular', 'Smooth', 'Rich', 'Even', None,\n",
       "       'Hops', 'Consistent', 'Big', 'Pear', 'Peach', 'Velvet', '23%',\n",
       "       'Vivacious', 'Full Monty', 'Dry', 'Gentle', 'Light', 'Cedar',\n",
       "       'Strawberry', 'Superb', 'Clean', 'Chewy', 'Big Clean', 'Milky',\n",
       "       'Beefy', 'Amber', 'Flavorful', 'Floral', 'Grapes –', 'Fat',\n",
       "       'Earthy', 'Divine', 'Velvety', 'Balanced', 'Desirable', 'Special',\n",
       "       'Layered', 'Yuzu', 'Creamsicle', 'Juicy', 'Bright', 'Coconut.',\n",
       "       'Waves', 'Lively', 'Cocoa', 'Soft', 'Elegant', 'Solid',\n",
       "       'Structured', 'Juice Box', 'Complex', 'Clever', 'Melon', 'Umami',\n",
       "       'Effervescent', 'Mushroom', 'Gooey', 'Historical', 'Snappy',\n",
       "       'Slick', 'Fruity', 'Stellar', 'Ripe', 'Lush', 'Fruit Basket',\n",
       "       'Liquid Umami', 'Expressive', 'Shiitake Mushroom', 'Crisp',\n",
       "       'Subtle', 'Voluptuous', 'Professional', 'Slippery', 'Brisk',\n",
       "       'Clean Wine: Cabs/crisp whites', 'Smooth Cedar', 'Chocolate',\n",
       "       'Brown Sugar', 'Sunflower', 'Round', 'Cantaloupe -', 'Silky',\n",
       "       'Supreme', 'Simple Complexity', 'Sublime', 'Massive',\n",
       "       'Professional Nigori', 'Apple', 'Beast', 'Deep', 'Drinkable',\n",
       "       'Grapes', 'Engaging', 'Plush', 'Masterpiece', 'Whisper',\n",
       "       'Confident', 'Gentle Giant', 'Lemonade', 'Trophy', 'Berry Pie',\n",
       "       'Grand Champion', 'Extra Dry', 'Refreshing', 'Fun!', 'Sake Power',\n",
       "       'Perfect', 'Creamy', 'Godly', 'Rewarding', 'Honey', 'Ultimate',\n",
       "       'Huge', 'Gentle Rich', 'Bright-Rich', 'Ice', 'Cherries',\n",
       "       'Adventure', 'Luxurious', 'Classy', 'Viscous', 'Pristine',\n",
       "       'Citrus Basket', 'Dynamic', 'Tropical', 'Feelings', 'Yakitori',\n",
       "       'Unique', 'Ricey', 'Flavor Shifter', 'Intriguing', 'Technique',\n",
       "       'Magical', 'Dexterous', 'Exciting', 'Harmony', 'Legendary'],\n",
       "      dtype=object)"
      ]
     },
     "execution_count": 8,
     "metadata": {},
     "output_type": "execute_result"
    }
   ],
   "source": [
    "df.kw_word.unique()"
   ]
  },
  {
   "cell_type": "code",
   "execution_count": null,
   "metadata": {},
   "outputs": [],
   "source": []
  },
  {
   "cell_type": "markdown",
   "metadata": {},
   "source": [
    "Next - `kw_wines` column:"
   ]
  },
  {
   "cell_type": "code",
   "execution_count": 9,
   "metadata": {
    "ExecuteTime": {
     "end_time": "2021-01-27T00:35:21.683162Z",
     "start_time": "2021-01-27T00:35:21.680058Z"
    },
    "scrolled": false
   },
   "outputs": [],
   "source": [
    "df['kw_wines'] = df['kw_wines'].apply(lambda description: split_on_chars('BEER', description))"
   ]
  },
  {
   "cell_type": "code",
   "execution_count": null,
   "metadata": {},
   "outputs": [],
   "source": []
  },
  {
   "cell_type": "code",
   "execution_count": 10,
   "metadata": {
    "ExecuteTime": {
     "end_time": "2021-01-27T00:35:21.689420Z",
     "start_time": "2021-01-27T00:35:21.684898Z"
    },
    "scrolled": false
   },
   "outputs": [
    {
     "data": {
      "text/plain": [
       "array(['Pinot Noir / Chewy Whites', 'Sharp Whites/Dry Reds',\n",
       "       'Elegant reds/Complex whites', 'Pinot Noir/Slippery Whites',\n",
       "       'Deep Reds/Fat\\xa0Whites', 'Dry reds/gentle whites', None,\n",
       "       'Dry Whites/Strong Reds', 'Dry Whites and Tannin-laced reds',\n",
       "       'Huge reds and sweet whites.', 'White Burgundy/Sauvignon Blanc',\n",
       "       'Merlots/Sauvignon Blanc', 'Plump Reds/Smooth Whites',\n",
       "       'Merlot/soft Chardonnay', 'French Pinot Noir/French Chardonnay',\n",
       "       'Zins and Cabs', 'Smooth Reds/ Round whites',\n",
       "       'Pinot Noir/White Burgundy', 'easy reds/dry whites',\n",
       "       'Soft reds/round whites', 'Very Cedary Whites',\n",
       "       'Fruity reds/ Chardonnay', 'Zesty Dry Reds/Crisp Whites',\n",
       "       'Sauvignon Blancs/Dry Reds', 'Huge Reds/Massive Whites',\n",
       "       'Merlot/Pinot Noir/Sauvignon Blanc', 'Clean reds/Dry whites',\n",
       "       'Merlot', 'Chardonay', 'Big reds/Huge whites',\n",
       "       'Thick Reds/Chewy Whites', 'Massive Dry Reds/Crisp Tight Whites',\n",
       "       'Soft Reds/Fat whites', 'Zesty reds/crisp whites',\n",
       "       'Fruity reds and whites', 'Pinot Noir/Merlot/Soft fat whites',\n",
       "       'Soft reds/light whites –', 'Clear Liquors/ crisp whites',\n",
       "       'Merlot/Sauvignon Blanc', 'Chewy Pinot Noirs/Deep Whites',\n",
       "       'Dry reds/woody whites', 'Dirty reds/Big whites',\n",
       "       'Pinot Noir/Fat whites', 'Light Sauvignon Blancs',\n",
       "       'Fruity reds/Chewy whites', 'Large reds/fat whites',\n",
       "       'Cabs/Sauvignon Blanc', 'Super clean sauvignon blancs',\n",
       "       'Soft Reds/Rich Whites', 'Cabs-Zins/White Burgundy',\n",
       "       'Soft reds/ thick whites', 'Sweet wines', 'Soft reds/Dry whites',\n",
       "       'Crisp reds/Tangy whites', 'Plump Pinot Noir/Chardonnay',\n",
       "       'Beaujolais/Bright Whites', 'Semi-dry whites',\n",
       "       'Dry Chardonnay/Soft Reds', 'Zesty Reds/Crisp Whites',\n",
       "       'Rich reds/smooth whites', 'Pinot Noir/Soft whites',\n",
       "       'Soft reds/dry whites', 'Deep Reds / Complex Whites',\n",
       "       'Soft Chardonays', 'Fruity reds/light whites',\n",
       "       'Rich Reds/Creamy Whites.', 'Dry Whites/Merlots',\n",
       "       'Creamy reds/Velvety whites', 'Bordeaux', 'Dry reds/crisp whites',\n",
       "       'Crisp Reds/Tight Whites', 'Soft reds/chewy whites',\n",
       "       'Light dry reds/ crisp whites', 'Sauvignon Blanc',\n",
       "       'Pinot Noir/ Dry Chardonnay', 'Soft Reds/Gentle Whites',\n",
       "       'Nouveau Beaujolais', 'Pinot Noir /round whites',\n",
       "       'Complex Reds/ Dry whites', 'Sparkling wines',\n",
       "       'Shiraz/Zins/Sauvignon Blancs', 'Dessert Wines',\n",
       "       'Smooth reds & fat whites,', 'Sparkling', 'Zins/Zesty Whites',\n",
       "       'Dry reds/clean whites', 'Soft reds/juicy whites',\n",
       "       'Dry Reds/whites', 'Dry crisp whites', 'Pinot Noir/Fat dry whites',\n",
       "       'Chewy Reds/Chardonay', 'Fruity Reds and Whites',\n",
       "       'Bright reds/Chardonnay', 'Nope', 'Rich Reds/Smooth Whites',\n",
       "       'Tannin reds/crisp whites', 'Deep Rich Reds',\n",
       "       'Crisp reds/juicy whites', 'Pinot Noir/Fat Whites', 'Champagne',\n",
       "       'Layered reds/complex whites', 'Light reds/Crisp whites',\n",
       "       'Reds with attitude and layered whites', 'Fat reds/Fruity whites',\n",
       "       'Bordeaux/Chardonnay', 'Dry Reds/Crisp Whites',\n",
       "       'Soft reds/creamy whites', 'None', 'Tannin Reds/ Crisp Whites',\n",
       "       'Tight reds/Crisp whites', 'Pinot Noir/Complex whites',\n",
       "       'Juicy reds/crisp whites', 'Pinot Grigio/Zins/Big Cabs',\n",
       "       'Merlot/Pinot Noir/Rich Whites', 'Oaky Chardonnay', 'Sherry/Port',\n",
       "       'Fruity Reds and Sweet Whites', 'Dirty reds/minerally whites',\n",
       "       'Fruity seasonal reds/fruity whites', 'Deep Reds/Complex Whites',\n",
       "       'Big reds/Dry whites', 'Fruity Reds/Fat Whites',\n",
       "       'Fruity reds/Crisp Whites', 'Sauvignon Blanc/Pinot Griggio',\n",
       "       'Pinot Noir/Chewy fat whites', 'Gewurztraminer/Sauvignon Blanc -',\n",
       "       'Dry Reds/Clean Whites', 'Zins and big reds', 'Soft Chardonnay',\n",
       "       'Complex reds/Layered whites', 'Port/Sherry',\n",
       "       'Soft reds/Round whites', 'Zesty reds/ Crisp whites',\n",
       "       'Pinot Noir/Merlot/Dry Chardonnay', 'Pinot Noir/fat whites',\n",
       "       'Dry Chardonay/Soft Reds', 'Huge Reds', 'Soft Reds/Clean Whites',\n",
       "       'Rich reds/Dry whites', 'Cedar-aged whites',\n",
       "       'Chewy reds/meaty whites', 'Dry reds / Sauvignon blanc',\n",
       "       'Massive reds/ Funky whites', 'Deep reds/Oaky whites',\n",
       "       'Deep reds/complex whites', 'Compact Reds/Dry Whites',\n",
       "       'Mooth reds/fruity whites', 'Flinty reds/ crisp whites',\n",
       "       'light reds/dry whites', 'Fat reds/Chewy whites',\n",
       "       'Bordeaux/Deep Whites', 'Deep Reds/Bright Whites',\n",
       "       'Crisp Reds/ Dry Whites', 'Soft Reds/Complex Whites',\n",
       "       'Complex reds/expressive whites', 'Big reds/white burgundy',\n",
       "       'Huge reds/ Fat whites', 'Vast reds/ dirty whites',\n",
       "       'Rich Reds/Fat Whites', 'Pinot Noir/Hefty whites',\n",
       "       'Ripe Reds/Fruity Wines', 'Complex reds/Dry whites',\n",
       "       'Bordeaux/layered whites', 'Fruity reds/Chardonnay',\n",
       "       'Pinot Grigio/Dry Whites', 'Deep reds/Fat whites',\n",
       "       'Soft Reds/ Dry Whites', 'Dry Reds/Sauv Blanc',\n",
       "       'Rieslings/ Sauternes', 'Pinot Noir/ Expansive whites',\n",
       "       'Compex Reds/whites', 'Complex reds/ Minerally whites',\n",
       "       'Huge Complex Reds/Earthy Whites', 'Fat Pinot Noir/Chewy Whites',\n",
       "       'Soft reds/Easy whites', 'Deep Reds/Fat Whites',\n",
       "       'Big reds/Fat whites', 'Confident Reds/Strong Whites',\n",
       "       'Deep Reds/Fruity Whites', 'Crisp reds/Flinty Whites',\n",
       "       'Complex reds/hot whites', 'Tannin Reds/Tight Whites',\n",
       "       'Brut Sparkling Wines', 'Fruity reds/Mineral whites',\n",
       "       'Complex reds/peppery whites', 'Beaujolais /Bright Whites',\n",
       "       'Tannin Reds/Crisp Whites', 'Fruity Reds/Bright Whites',\n",
       "       'Dry reds/Citrus whites', 'Soft Reds/Fat Whites',\n",
       "       'Merlots/Soft Reds', 'Round reds/Dry whites',\n",
       "       'Deep reds/Complex whites', 'Huge Reds/Vast Whites',\n",
       "       'Pinot Noir/French Chardonnay', 'Complex Pinot Noirs/Fruit whites',\n",
       "       'Crisp Reds/Juicy Whites', 'Fat reds/Rich whites',\n",
       "       'Complex Reds/Juicy Whites', 'Complex reds/Chewy Whites',\n",
       "       'Pinot Noir/Fruity Whites', 'Crisp Reds/Zesty Whites',\n",
       "       'Tight reds/Zesty whites', 'Vast reds/Flinty whites',\n",
       "       'Red and White Burgundy', 'Sharp Reds/Crisp Whites',\n",
       "       'Merlot/Soft Whites', 'Riesling', 'Deep Reds/ Sharp whites',\n",
       "       'Complex Reds/Fruity Whites', 'Large Reds/Fat Whites',\n",
       "       'Soft reds/fruity whites', 'Full-bodied Reds/Plump Whites',\n",
       "       'Soft reds/gentle whites', 'Light Reds/Clean Whites',\n",
       "       'Tannin Reds/Zesty Whites',\n",
       "       'Round Reds/Layered Whites with soft body',\n",
       "       'Full reds/Deep whites', 'Fruity reds/bright whites',\n",
       "       'Crisp Reds/Bright Whites', 'Complex Reds/Zesty Whites',\n",
       "       'Pinot Noir/Creamy Whites', 'Pinot Noir/Fat Chardonnay',\n",
       "       'Smooth reds/Fat whites', 'Frisky Reds/Crisp Whites',\n",
       "       'Pinot Noir/Chewy Whites', 'Tart Reds/Crisp Dry Whites',\n",
       "       'Sparkling Wines', 'Deep reds/Earthy whites',\n",
       "       'Complex Reds/Immense Whites', 'Deep dry reds/dry whites',\n",
       "       'Huge Reds/Fat Whites', 'Vintage Reds/Round Whites',\n",
       "       'Complex Reds/Deep Whites', 'Crisp Reds/Gentle Whites',\n",
       "       'Dry Reds/Crisp Mineral Whites', 'Complex Reds/Creamy Whites',\n",
       "       'Beaujolais', 'Soft Reds/Creamy Whites',\n",
       "       'Tannic Reds/Crisp Whites', 'Complex Beaujolais',\n",
       "       'Soft Reds/Round Whites', 'Fat Reds/Big Whites',\n",
       "       'Sour Reds/Crisp Whites', 'Rich Reds/Layered Whites',\n",
       "       'Full-Bodied Reds/Fruity Whites', 'Deep Reds/Rich Whites',\n",
       "       'Soft Reds/Crisp Whites', 'Gentle Reds/Clean Whites',\n",
       "       'Chewy Reds/Complex Whites'], dtype=object)"
      ]
     },
     "execution_count": 10,
     "metadata": {},
     "output_type": "execute_result"
    }
   ],
   "source": [
    "df.kw_wines.unique()"
   ]
  },
  {
   "cell_type": "code",
   "execution_count": null,
   "metadata": {},
   "outputs": [],
   "source": []
  },
  {
   "cell_type": "markdown",
   "metadata": {},
   "source": [
    "Onto `kw_beer` column:"
   ]
  },
  {
   "cell_type": "code",
   "execution_count": 11,
   "metadata": {
    "ExecuteTime": {
     "end_time": "2021-01-27T00:35:21.694454Z",
     "start_time": "2021-01-27T00:35:21.691113Z"
    }
   },
   "outputs": [],
   "source": [
    "df['kw_beer'] = df['kw_beer'].apply(lambda description: split_on_chars('FOOD', description))"
   ]
  },
  {
   "cell_type": "code",
   "execution_count": 12,
   "metadata": {
    "ExecuteTime": {
     "end_time": "2021-01-27T00:35:21.700938Z",
     "start_time": "2021-01-27T00:35:21.696196Z"
    }
   },
   "outputs": [
    {
     "data": {
      "text/plain": [
       "array(['Ales', 'Ales/Ambers', 'Crisp Ales', 'Gentle Ales', 'Stouts',\n",
       "       'light beers', None, 'Hoppy Ales/Pilsners', 'High alc ales',\n",
       "       'Ambers/Smooth Stouts', 'Amber/Honey Ales', 'Soft Ales',\n",
       "       'Soft ales', 'Deep Belgians', 'Belgian Ales', 'Clean Ales',\n",
       "       'Creamy Ales', 'soft ales', 'Sweet ales', 'Special Seasonal Brews',\n",
       "       'Fruity ales', 'Crisp Ales.', 'Blond Ales/Hefeweizen',\n",
       "       'Light Ales.', 'Creamy ales', 'Strong ales', 'Ambers/Honey Stouts',\n",
       "       'IPA', 'Pale Ales –', 'Sharp ales', 'Hefeweizen', 'Soft dry ales',\n",
       "       'Ales/pilsners', 'Light Ales', 'Clean ales', 'Light beers',\n",
       "       'Rich Ales', 'Citrus pale ales', 'Crisp ales', 'Honey Ales',\n",
       "       'Pilsners', 'Crisp Fruity Ales', 'Belgians', 'Gentle ales',\n",
       "       'Honey Wheat Beers', 'Creamy Belgians', 'Pilsners/Ambers',\n",
       "       'Large ales', 'Balanced ales', 'fruity ales', 'Earthy Pilsners',\n",
       "       'Sweet honey ales', 'Sweet Ales', 'big ales.', 'Light ales',\n",
       "       'Fruity Ales', 'rich ales', 'Smooth Ales', 'Nope', 'Ambers/Stouts',\n",
       "       'Tight ales', 'Blond Ales', 'Belgian Ales.', 'None', 'Citrus Ales',\n",
       "       'Spicy Pilsners', 'Pilsners/spicy ales', 'Woody Belgians',\n",
       "       'Thick dessert beers', 'Big Belgians', 'Pilsner', 'Belgian ales',\n",
       "       'Hefeweizen/Honey Ales –', 'Minerally Ales',\n",
       "       'Full Bodied Reds/ Large whites', 'Deep ales', 'Peppery Pilsners',\n",
       "       'Stouts galore', 'Not Really', 'Light Beer', 'Smoky Ambers',\n",
       "       'Big ales', 'Fresh Ales', 'light ales', 'Dry Ales',\n",
       "       'Crisp Ales/Light Beer', 'stouts', 'Big ol stouts', 'Chewy',\n",
       "       'Rich Belgian Ales', 'Pale and fruity ales',\n",
       "       'Ambers /Octoberfest Releases',\n",
       "       'Creamy ales Foods: Champagne fare, cheese plates, desserts.',\n",
       "       'Sweet Belgian Ales', 'Large ales and stouts',\n",
       "       'Shandy (beer/lemonade mix)', 'Clean ales.', 'Crisp snappy ales',\n",
       "       'Woody ales', 'Zesty Ales', 'Pale Ales', 'Big smooth Belgians',\n",
       "       'Creamy Belgian Ales', 'Soft Stouts', 'Crisp ales.',\n",
       "       'Mineral ales', 'Fruity Belgian Ales', 'Lemon Ales',\n",
       "       'Full-bodied Belgians.',\n",
       "       'Fruity Ales BEER: Shellfish, oysters, sushi, sashimi, grilled fare.',\n",
       "       'Crisp dry ales', 'Tight Ales', 'Crisp Dry Ales', 'Bitter Ales',\n",
       "       'Fruity Belgians', 'Chocolate Stouts', 'Chewy Ales'], dtype=object)"
      ]
     },
     "execution_count": 12,
     "metadata": {},
     "output_type": "execute_result"
    }
   ],
   "source": [
    "df.kw_beer.unique()"
   ]
  },
  {
   "cell_type": "code",
   "execution_count": 13,
   "metadata": {
    "ExecuteTime": {
     "end_time": "2021-01-27T00:35:21.708467Z",
     "start_time": "2021-01-27T00:35:21.704064Z"
    }
   },
   "outputs": [],
   "source": [
    "df['kw_beer'] = df['kw_beer'].apply(lambda description: split_on_chars('BEER:', description))\n",
    "df['kw_beer'] = df['kw_beer'].apply(lambda description: split_on_chars('Foods:', description))"
   ]
  },
  {
   "cell_type": "code",
   "execution_count": 14,
   "metadata": {
    "ExecuteTime": {
     "end_time": "2021-01-27T00:35:21.714172Z",
     "start_time": "2021-01-27T00:35:21.710432Z"
    }
   },
   "outputs": [
    {
     "data": {
      "text/plain": [
       "array(['Ales', 'Ales/Ambers', 'Crisp Ales', 'Gentle Ales', 'Stouts',\n",
       "       'light beers', None, 'Hoppy Ales/Pilsners', 'High alc ales',\n",
       "       'Ambers/Smooth Stouts', 'Amber/Honey Ales', 'Soft Ales',\n",
       "       'Soft ales', 'Deep Belgians', 'Belgian Ales', 'Clean Ales',\n",
       "       'Creamy Ales', 'soft ales', 'Sweet ales', 'Special Seasonal Brews',\n",
       "       'Fruity ales', 'Crisp Ales.', 'Blond Ales/Hefeweizen',\n",
       "       'Light Ales.', 'Creamy ales', 'Strong ales', 'Ambers/Honey Stouts',\n",
       "       'IPA', 'Pale Ales –', 'Sharp ales', 'Hefeweizen', 'Soft dry ales',\n",
       "       'Ales/pilsners', 'Light Ales', 'Clean ales', 'Light beers',\n",
       "       'Rich Ales', 'Citrus pale ales', 'Crisp ales', 'Honey Ales',\n",
       "       'Pilsners', 'Crisp Fruity Ales', 'Belgians', 'Gentle ales',\n",
       "       'Honey Wheat Beers', 'Creamy Belgians', 'Pilsners/Ambers',\n",
       "       'Large ales', 'Balanced ales', 'fruity ales', 'Earthy Pilsners',\n",
       "       'Sweet honey ales', 'Sweet Ales', 'big ales.', 'Light ales',\n",
       "       'Fruity Ales', 'rich ales', 'Smooth Ales', 'Nope', 'Ambers/Stouts',\n",
       "       'Tight ales', 'Blond Ales', 'Belgian Ales.', 'None', 'Citrus Ales',\n",
       "       'Spicy Pilsners', 'Pilsners/spicy ales', 'Woody Belgians',\n",
       "       'Thick dessert beers', 'Big Belgians', 'Pilsner', 'Belgian ales',\n",
       "       'Hefeweizen/Honey Ales –', 'Minerally Ales',\n",
       "       'Full Bodied Reds/ Large whites', 'Deep ales', 'Peppery Pilsners',\n",
       "       'Stouts galore', 'Not Really', 'Light Beer', 'Smoky Ambers',\n",
       "       'Big ales', 'Fresh Ales', 'light ales', 'Dry Ales',\n",
       "       'Crisp Ales/Light Beer', 'stouts', 'Big ol stouts', 'Chewy',\n",
       "       'Rich Belgian Ales', 'Pale and fruity ales',\n",
       "       'Ambers /Octoberfest Releases', 'Sweet Belgian Ales',\n",
       "       'Large ales and stouts', 'Shandy (beer/lemonade mix)',\n",
       "       'Clean ales.', 'Crisp snappy ales', 'Woody ales', 'Zesty Ales',\n",
       "       'Pale Ales', 'Big smooth Belgians', 'Creamy Belgian Ales',\n",
       "       'Soft Stouts', 'Crisp ales.', 'Mineral ales',\n",
       "       'Fruity Belgian Ales', 'Lemon Ales', 'Full-bodied Belgians.',\n",
       "       'Crisp dry ales', 'Tight Ales', 'Crisp Dry Ales', 'Bitter Ales',\n",
       "       'Fruity Belgians', 'Chocolate Stouts', 'Chewy Ales'], dtype=object)"
      ]
     },
     "execution_count": 14,
     "metadata": {},
     "output_type": "execute_result"
    }
   ],
   "source": [
    "df.kw_beer.unique()"
   ]
  },
  {
   "cell_type": "markdown",
   "metadata": {},
   "source": [
    "Onto `kw_foods` column: "
   ]
  },
  {
   "cell_type": "code",
   "execution_count": 15,
   "metadata": {
    "ExecuteTime": {
     "end_time": "2021-01-27T00:35:21.722213Z",
     "start_time": "2021-01-27T00:35:21.715832Z"
    }
   },
   "outputs": [
    {
     "data": {
      "text/plain": [
       "array(['Mushroom risotto, tempura, fried chicken, caviar, smoked salmon pate.',\n",
       "       'Suitable for light and stronger flavored dishes such as dim sum, chicken/pork with mild spice, creamy cheeses and fresh fruits.      ',\n",
       "       'Cuisines that like big white wines.      ', None,\n",
       "       'Perfect for pub food salty and savory and\\xa0greasy, also soup and stews when warmed.',\n",
       "       'Bar snacks and grilled fare.      ',\n",
       "       'Vegetable tempura, albacore sashimi, salads with ginger-soy dressings.      ',\n",
       "       'Miso-based dishes, Sashimi, Stir-fries.      ',\n",
       "       'All spice dishes from anywhere in the world, salty fare, pub snacks.      ',\n",
       "       'Shrimp tempura, scallops with broccoli, sake steamed clams, Japanese omelets.\\xa0',\n",
       "       'Steamed white fish, fried scampi, daikon stew.      ',\n",
       "       'Clean fare, elegant flavors, fruit salads, avocado salads, cheese plates.',\n",
       "       'Best to drink as is!      ',\n",
       "       'Oily and grilled fare, sushi, shellfish.      ',\n",
       "       'Forget about it.      ',\n",
       "       'Look for cuisines with gentle attitude and subtle complexities from exotic flavors to everyday fare.      ',\n",
       "       'Forget about it!',\n",
       "       'Clean and pristine fare from the ocean, air and ground.',\n",
       "       'Spicey fare, grilled meats, desserts.\\xa0',\n",
       "       'Works well with smoked foods such as fish, chicken and duck.      ',\n",
       "       'Shellfish, Chinese cuisine, grilled salty fare.      ',\n",
       "       \"The kitchen sink! Super food friendly. Updated 2019/02\\xa0Vivid, voluptuous and vibrant sake in a can? You bet! This exclusive unpasteurized brew is Beau Timken's prized sake offering for True Sake customers. With a nose of strawberry, watermelon, sweet rice and cinnamon this undiluted sake (18.5%) is fat, happy, bright and chewy. Fruity, but not overly sweet, think big thoughts when tasting this velvety Nama that is pure pleasure in a can. (Yes cans keep sake colder longer!) This abundantly flavored sake is available only at True Sake! WORD: Jolly WINE: Cabernet/non-oaky chardonnay BEER: Belgian Ales FOODS: If it's on a plate or in a bowl it works!\",\n",
       "       'Steamed Crab, sautéed filet of sole, soba noodles.',\n",
       "       'The kitchen sink – this pairs with such a wide variety of flavors from off the grill to in the stew.',\n",
       "       'Anything Grilled!      ', 'Snack foods!      ',\n",
       "       'Smoked and salty fish, salty bar snacks, mac and cheese, coconut rice.      ',\n",
       "       'The works! Bigger the better.',\n",
       "       'simmered seasoned fish, salmon teriyaki, yakitori with sauce, ginger pork and chicken.      ',\n",
       "       'The kitchen sink, salty and savory, rich and full-bodied fare. \\xa0',\n",
       "       'All spice dishes from anywhere in the world, salty fare, pub snacks.\\xa0',\n",
       "       'Think seasonally fresh fare, sushi, sashimi, clean and bright cuisines that lean towards international spicy fare.      ',\n",
       "       'Shellfish, oysters, cheese and fruit plates.',\n",
       "       'Simple fare with clean flavors. Think steamed or boiled or raw.      ',\n",
       "       'Oysters, shell fish, sashimi, oily pasta.',\n",
       "       'Clean and compact fare.\\xa0',\n",
       "       'Sushi, sashimi, grilled oily fish, Asian fried fare.      ',\n",
       "       'Anything from the land or sea – the bigger the flavor the better.\\xa0',\n",
       "       'Bar snacks.\\xa0\\xa0',\n",
       "       'Very versatile and can stand cuisines from salty and savory to spicy with big acidity.      ',\n",
       "       'Shellfish, light seafood salad, sushi/sashimi.',\n",
       "       'Big flavored and spicy dishes, creamy and cheesy pasta, desserts.      ',\n",
       "       'shellfish, sushi, creamy dishes, grilled fare.',\n",
       "       'Salty and savory fare that has a gentle greasiness.\\xa0',\n",
       "       'Sashimi, light meats, grilled fish.      ',\n",
       "       'Salty and Savory Fare.',\n",
       "       'Pasta, soups, cooked fish, and your favorite hamburger.      ',\n",
       "       'Sushi, grill fare, French fries.      ',\n",
       "       'Desert foods, fruit salads.',\n",
       "       'Sashimi, sushi, steamed fish, tofu, light complexity fare.      ',\n",
       "       'Bar snacks, sushi, spicy fare, citrus salads.      ',\n",
       "       'Think cuisines that have natural sweetness, shellfish, avocados, and pastas that are clean and savory.      ',\n",
       "       'All spice dishes from anywhere in the world, salty fare, pub snacks.',\n",
       "       'Bar snacks.      ',\n",
       "       'Salmon sauteed in butter, tempura, hamburgers.      ',\n",
       "       'Shellfish, grilled fare, salty and savory fare, citrus-based fare.',\n",
       "       'Rich fare, salty, savory, off the grill.\\xa0\\xa0',\n",
       "       'Grilled fare, salty and savory fare, sushi and sashimi, bar foods.      ',\n",
       "       'Sushi, sashimi, very clean cuisines.\\xa0\\xa0',\n",
       "       'Grilled salty fare, cooked fish and chicken, sushi, sashimi, tempura.',\n",
       "       'Shellfish, sushi, sashimi, grilled fish and chicken.      ',\n",
       "       'Sparkling wine fare.\\xa0', 'Bar snacks\\xa0',\n",
       "       'Grilled eggplant, smoked fish, stir-friend shrimp.      ',\n",
       "       'Meats, game, creamy sauces, complex fare. ',\n",
       "       'Savory dishes, grilled fish and chicken, exotic sushi rolls, rich sauces.',\n",
       "       'Sake pub fare, salty and savory, grilled everything!      ',\n",
       "       'Salty and savory fare, shellfish, fresh veggies.',\n",
       "       'Clean fare like sashimi and shellfish, and gently cooked dishes.\\xa0',\n",
       "       'Sushi, sashimi, citrus marinated fish, salads.      ',\n",
       "       'Salty and savory fair, shrimp dumplings, soba noodles, sautéed filet of sole, spaghetti with basil.',\n",
       "       'Oily and salty fare, rich sauces, grilled meats, cooked fish.      ',\n",
       "       'Sushi, sashimi, and clean flavors.      ',\n",
       "       'White fish in a rich soy sauce, avocado salad, grilled oily fish, tofu.      ',\n",
       "       'Gentle fare that is clean\\xa0with a dash of salty qualities, sushi/sashimi.',\n",
       "       'Sushi and lightly seasoned dishes.', 'Champagne fare.      ',\n",
       "       'Hamburgers, Fried pork, salmon sautéed with butter.      ',\n",
       "       'Dessert fare.\\xa0',\n",
       "       'Think cheese plates and cured meats and cigars.\\xa0',\n",
       "       'anything off the grill, shellfish, and sushi.\\xa0',\n",
       "       'Champagne fare.       ',\n",
       "       'Spicy international fare, cheese plates, bar snacks.',\n",
       "       'Salty and savory fare, clean sashimi, sushi, gently cooked fish.\\xa0',\n",
       "       'Clean flavors, sushi, sashimi, elegant cuisines.\\xa0',\n",
       "       'Champagne fare.',\n",
       "       'Pub fare, salty and savory and even greasy!      ',\n",
       "       'Salty and savory fare off of a grill with a little grease!      ',\n",
       "       'Seafood pate, ankimo, cold lobster, seared albacore, and white fish sashimi.',\n",
       "       'Off the grill and fried food specialist.',\n",
       "       'Cuisine with a natural sweetness, oysters, lobster, crab.',\n",
       "       'Clean flavors, steamed fish and chicken, sushi, sashimi, fruit salads.      ',\n",
       "       'Cook your heart out with this!',\n",
       "       'Salty and savory pub and grill fare.      ',\n",
       "       'Dances with citrus based dishes, salty grilled meats/fish, and great with salads.      ',\n",
       "       'Duck, meat, Bar-B-Q, risotto.      ',\n",
       "       'Shellfish, sushi, sashimi, grilled fish.      ',\n",
       "       'Rich cuisines, grilled veggies, salty savory off of the grill.',\n",
       "       'Champagne food. \\xa0', 'Lightly flavored cuisines',\n",
       "       'Soft flavors with salty and greasy goodness.      ',\n",
       "       'Naturally sweet foods such lobster, scallops, and avocados.      ',\n",
       "       'Oysters, shellfish, grilled fish',\n",
       "       'Complex cuisines, salty and savory dishes, clean sushi/sashimi, cheese plates.\\xa0',\n",
       "       'Sushi, Sashimi, shellfish, oysters, cheese plates, dried meats and fish.',\n",
       "       'Shellfish, clean seafood, sushi, sashimi.',\n",
       "       'Cheese, pasta, spicy fare.      ',\n",
       "       'International Spice, Champagne Fare, Grilled fare, Shellfish, Seafood, Citrus salads. (2020)\\xa0The nose on this very-old-friend-of-True-Sake has a great collection of cherry, grape, berry, sweet rice, and powder sugar aromas. Since you’ve had this brew before what’s it like this year? The ’19 version of Arabashiri is more controlled and smooth than in year’s past. It is smooth with round and rolling fruit tones that are juicy and soft, semi-thick, semi-rich and fully tasty. The larger the vessel the more zesty and fresh feeling with honeydew melon, pear, apple, and a hint of grapefruit. A mid-sized glass brings out the best flavor to feeling play, but whatever you drink out of you will taste fresh sake at its best. WORD: Fresh WINE: Brights Reds/Fruity Whites BEER: Crisp Ales FOODS: International spice, sushi, sashimi, American sushi. (2019)',\n",
       "       'Clean cuisines that make you think.\\xa0',\n",
       "       'Clean and naturally sweet fare, shellfish, sushi, sashimi, grilled white meat.\\xa0',\n",
       "       'Clean fare, sushi, sashimi, shellfish, oysters.\\xa0\\xa0',\n",
       "       'Spicy foods, grilled eel, chili shrimp.      ',\n",
       "       'Champagne fare. ',\n",
       "       'Grilled salty fare, pizza with anchovies, peppered beef.      ',\n",
       "       'Anything from the grill including fish and veggies, salty and savory, and warm soups and stews.\\xa0\\xa0',\n",
       "       'A very amazing food pairing sake that takes on smoky fare, salty and savory – think the grill!      ',\n",
       "       'Chocolate and sweet desserts of all kinds.',\n",
       "       'Salads, fruit dishes, international spicy fare.      ',\n",
       "       '“prosciutto, duck, chicken, sashimi.”\\xa0',\n",
       "       'Seafood, shellfish, oysters, sashimi, cold crab.      ',\n",
       "       'An array of international cuisines from French to Italian and all rich and savory Japanese dishes.',\n",
       "       'Salty, savory, grilled fare with oils and saltiness.\\xa0',\n",
       "       'Appetizer friendly, cheese plates, sushi/sashimi, fruit plates.\\xa0',\n",
       "       'Party fare!',\n",
       "       'Amazingly cuisines do not change the flavor of this sake!      ',\n",
       "       'Steamed cuisines, lightly flavored dishes, sushi, sashimi.      ',\n",
       "       'Great with shellfish, oysters, grilled fish, and light pastas.',\n",
       "       'Omelets, fish mousses, oysters with vinaigrette, fried scampi.',\n",
       "       'Seafood, shellfish, sushi, sashimi.',\n",
       "       'This brew does well at the sushi counter for certain or clean grilled fare. ',\n",
       "       'Big flavorful cuisines, cured meats and cheeses.\\xa0',\n",
       "       'The works, salty and savory, rich flavors, and even soups and stews.',\n",
       "       'Fresh oysters in a vinaigrette, cold seafood dishes.',\n",
       "       'Complex flavors, grilled fish, thinly sliced meats, asparagus.\\xa0\\xa0',\n",
       "       'Sushi, sashimi, most things off of the grill.      ',\n",
       "       'Meat and Game, hugely flavored fare, cheese plates and cigars! (2012)',\n",
       "       'Anything off the grill, think salty fare, smooth pastas.      ',\n",
       "       'Light fare with attitude!      ',\n",
       "       'Sushi/sashimi, grilled white fish, oysters, and shellfish.      ',\n",
       "       'Sushi and sashimi, grilled fish, lightly flavored pastas.',\n",
       "       'Pâtés, foie gras, avocados, shellfish.\\xa0',\n",
       "       'Fresh Oysters in a Vinaigrette.      ',\n",
       "       'It’s a meal in a glass. Bear meat, neighbor, yak!\\xa0',\n",
       "       'International spices, cheese boards, dried fruits, dry desserts. \\xa0\\xa0',\n",
       "       'Clean cuisines, grilled fare, shellfish, sashimi, sushi (2020)The nose on this spring released seasonal sake is a subtle collection of white grapes, tangerine, and sweet rice aromas. Say hello to a very full and ripe Nama that has lots of Ginjo qualities and flavors. Look for pink grapefruit, white grape, and blood orange flavors on a fluid that is fat and chewy that has a little tingle, which means it’s still living! Very vivid with a very proud plumpness this brew has lots of glucose-like feelings with a dry finish. Fleshy and fun, this “Spring Deer” is a full-bodied Nama with bright citrus fruit tones on a juicy fluid that jumps. WORD: Citrus WINE: Fat Reds/Plump Whites BEER: Crisp Ales FOODS: International spicy fare, grilled fare, fruit plates. (2019)',\n",
       "       'Smoked fish, fowl, and cheese, salty and savory things on a stick. ',\n",
       "       'Stews, dumplings, cooked veggies, pates.      ',\n",
       "       'Anything off of the grill, pub food, meat skewers, Teriyaki, soups.',\n",
       "       'Fish mousse, salty seafood ensembles, fresh oysters, sashimi, mild pastas.',\n",
       "       'The kitchen sink, but it probably works best with hugely flavored fare with some kick. \\xa0',\n",
       "       'The brewers recommend seafood, meats, teriyaki chicken, and I say try burgers.',\n",
       "       'Cuisine celebrating\\xa0complexity!      ',\n",
       "       'Sashimi, clean grilled fish and chicken, fruit salads.      ',\n",
       "       'Sushi, sashimi, gently flavored dishes.',\n",
       "       'Shellfish, sushi/sashimi, lightly seared white fish, cold chicken.      ',\n",
       "       'Anything off of the grill, salty and savory fare, meats, fowl and game.      ',\n",
       "       'clean fare, sushi and sashimi, steamed fish, oysters      ',\n",
       "       'Steamed clams, cooked fish, salty fare and fresh oysters.      ',\n",
       "       'Cheese plates, complex flavors, game, meats, and pates. ',\n",
       "       'Big dishes as well as small, from grilled to raw.      ',\n",
       "       'International spice, salty and savory, grilled fare.',\n",
       "       'Anything off of the grill, any white wine fare.      ',\n",
       "       'Shellfish, Oysters, grilled fish and chicken.\\xa0',\n",
       "       'Steamed Edamame, veggies, cold beef, turkey, polenta.      ',\n",
       "       'Oysters and more oysters, grilled chicken, pasta in oils.      ',\n",
       "       'Shellfish, sashimi, cheese plates, champagne fare. ',\n",
       "       'complex fare, all things from grill, veggies.',\n",
       "       'Rich and complex red wine cuisines, anything on a stick!      ',\n",
       "       'Fall cooked meats and fowl, grilled fish, smoked meats and fish, soups and stews. (2020)\\xa0The nose on this fall released sake is a gentle collection of cocoa, lemon peel, oatmeal, and steamed rice aromas. Behold a very unique version of Masumi’s Hiyaoroshi that is far more complex than year’s past. Round, smooth, and a little snappy this brew is loaded with some very interesting flavors such as raisin, crisp apple, black berries, and cooked persimmon. There is a very interesting astringency that jumps between a subtle tartness and a refreshing sour quality that makes this sake drink very much like a big dry red wine. A wine glass makes this sake drink with better balance, and it drinks much more rich closer to room temperature. Warming brings out more tartness. WORD: Complex WINE: Dry reds/Crisp whites BEER: Crisp Ales FOODS: Rich fall fare, meats, game, fowl. (2019)',\n",
       "       'Tomato-based dishes, grilled meats, smoked fish',\n",
       "       'Sushi, sashimi, shellfish, crab, oysters, lobster, cheese plates, Champagne fare. ',\n",
       "       'Seafood, shellfish, oysters, pasta, and stews. ',\n",
       "       'Think drinking experience!',\n",
       "       'Sashimi, tofu, poultry, fusion, stock and soy dishes.      ',\n",
       "       'Sautéed fish dishes, fresh oysters in a vinaigrette, steamed crab and lobster.',\n",
       "       'Made for grilled fare and complex cuisine.      ',\n",
       "       'Salty, oily, savory grilled fare, fried foods, bar snacks.(2020)\\xa0The nose on this unpasteurized sake that is made with “Estate” brewing rice, which means that they grow their own, is a very fresh collection of cucumber, powder sugar, rice candy, cocoa, and mineral aromas. Damn! This sake tastes like the bottle looks - light, cool, and minerally. What an awesome Nama. It is so light, bright, and refreshing but is loaded with really tasty flavors such as white grape, honeydew melon, blueberry, and tons of minerals like snowball melt. There is also a very unique vein of citrus tones such as tangerine, and grapefruit, with an added powder sugar touch. A fantastic drinking brew that has a 1.8 acidity level, and has an 18% alcohol level, which you cannot even tell that they’re there, so we will call it the “Crazy 8’s.” WORD: Snowmelt WINE: Light reds/Mineral Whites BEER: Crisp Ales FOODS: Oysters, shellfish, sashimi, poached fish. (2019)\\xa0',\n",
       "       'Sashimi, gentle pastas, grilled chicken, poached salmon.\\xa0',\n",
       "       'Dim sum, fried fish, tempura, fruit plates, creamy cheese.      ',\n",
       "       'Sushi, sashimi, creamy dishes, fruit salads, cheese plates.',\n",
       "       'Confident cuisines that need a large wine to accompany.      ',\n",
       "       'Shellfish, grilled shrimps, lightly flavored pasta, cold chicken, and sushi.',\n",
       "       'Hit that meat, fowl, and game! Large pasta dishes. fare, fruits, cheese plates.',\n",
       "       'Seafood salad with citrus dressing, seared Foie Gras, grilled crab with salt.',\n",
       "       'Salty and savory fare, shellfish, grilled fish, and beef. ',\n",
       "       'Gentle flavors, sushi, sashimi, steamed fish, tofu, clams. ',\n",
       "       'All the wonderful full-bodied and complex autumn dishes. (2020)\\xa0The nose on this seasonally released Fall Draft sake is a gentle collection of nectarine, dried fruits, cranberries, bok choy, and steamed rice. Say hello to a very elegant Junmai Ginjo single pasteurized Hiyaoroshi that is well balanced with a snow melt quality that is mineral-like and slippery. Talk about a mouthful of dried fruit flavors! Look out for dried cranberries, dried raspberries, dried mangos, with a hint of white raisins. Not too heavy and not too light it is a semi-dry slippery slide that has Ginjo elegance and a very nice acidity balance. This brew has the best finish of all ten Fall Draft Hiyaoroshi this year. A wine glass brings out the elegance and highlights of snowmelt and dried fruit tones. WORD: Elegant WINE: Dry Reds/Flinty Whites BEER: Crisp Ales FOODS: Sushi, Sashimi, Grilled fish, Oysters, Shellfish, Dried meats. (2019)\\xa0',\n",
       "       'International spicy fare, fruit and cheese plates, American sushi and rolls. ',\n",
       "       'Grilled salty and savory fare.\\xa0',\n",
       "       'Clean cuisine. Steamed fish, tofu dishes, and gentle veggies. ',\n",
       "       'All cooked fish dishes, will stand up to spice.',\n",
       "       'Rich and full-bodied Autumn cuisines, fatty fish, rich meats, game, pastas, and Thanksgiving turkey. (2020)\\xa0The nose on this specially released fall draft sake is a cool collection of leather, cocoa, plums, red grapes, and steamed rice aromas. This Hiyaoroshi’19 is different from last year’s offering because it uses an entirely different rice varietal called Aiyama milled to 75%. The result is a fruity and wonderful. Rich, round, and sweet it is full-fluid fresh. There are lots of plum, melon, date, apple, and purple fig flavors and maybe that’s why the label is purple. The brew does well in a mid-sized glass and it gets creamier as it warms in the glass. Very layered. Very lush. Very plump. This brew screams fall fruit flavors that flow on a fat fluid that feels lively and bright. WORD: Figs WINE: Big Reds/Fat Whites BEER: Creamy Belgians FOODS: Fall full-bodied fare that has salty and savory elements, soups, stews. (2019)',\n",
       "       'Shellfish, oysters, sushi, sashimi, salty and savory fare. ',\n",
       "       'Sushi, sashimi, clean fare, oysters.',\n",
       "       'Salty and savory, fried everything.',\n",
       "       'Champagne fare and all seafood.',\n",
       "       'Smoked fish, creamed fish, grilled fare.      ',\n",
       "       'Champagne fare, shellfish, American sushi, fruit salads. ',\n",
       "       'Clean fare, sushi, sashimi, steamed fish, shellfish, oysters.',\n",
       "       'Shellfish, oysters, sushi, sashimi, crab. ',\n",
       "       'International Spice, cheeses, peppery fare. ',\n",
       "       'Champagne fare, shellfish, oysters, sashimi.',\n",
       "       'Cooked fish, juicy game dishes, vegetable tempura, holiday turkey and ham.      ',\n",
       "       'Clean fare and snacks. ',\n",
       "       'French fare, venison, fowl, foie gras, exotic and premium cuisines. ',\n",
       "       'More for drinking exploration, but would work wonders with steak, steak, steak!',\n",
       "       'BBQ and Grill fare, salty and savory fare. ', 'Too good to pair!',\n",
       "       'International spicy fare, game, fowl, meat, smoked fish, pasta. ',\n",
       "       'Full-bodied cuisines that are savory and creamy. \\xa0',\n",
       "       'Ice cream, cheese, cigars. ',\n",
       "       'Smoked salmon, grilled shrimp and chicken, olive fare, and vinegar based salads.',\n",
       "       'Luxurious cuisine, shellfish, lobster, Champagne fare, cheese plates. ',\n",
       "       'Rich pastas, meats, game, grilled salty and savory fare. ',\n",
       "       'Fall flavors, fatty fish, game, fowl, complex dishes, creamy pasta',\n",
       "       'Fresh flavors, salads, cheese plates, tofu, sashimi. ',\n",
       "       'Meats, game, stews, pasta, roasted chicken and potatoes.',\n",
       "       'Can handle full-bodied fare with ease and can go light as well.',\n",
       "       'International spice from curry to tacos and everything in between. ',\n",
       "       'Smoked meats and cheeses, large pasta dishes, cigars.',\n",
       "       'Sushi and sashimi, Champagne fare, fruit and cheese plates. ',\n",
       "       'Great for grilled fare from chicken and fish to burgers and chops! ',\n",
       "       'Anything that concludes a meal.',\n",
       "       'Meats, game, fowl, goose liver, duck pâté. ',\n",
       "       'Shellfish, oysters, and champagne fare.',\n",
       "       'Champagne fare, shellfish, sashimi and American Sushi, fruit salads, pasta, and Pates. ',\n",
       "       'American sushi, International Spice, desserts, fruit and cheese plates. ',\n",
       "       'Has the body and acidity to go to any red wine cuisine and International spice. (2020)',\n",
       "       'Clean and very simple fare, tofu, steamed chicken, sashimi. ',\n",
       "       'Sushi, sashimi, shellfish, oysters',\n",
       "       'lemon, fruit salads, and lemon chicken.',\n",
       "       'If you must! Shellfish and oysters.\\xa0',\n",
       "       'Meat, game, fowl, stews and rich fare. ',\n",
       "       'Steamed and grilled everything. ',\n",
       "       'Light clean sushi sashimi, salads, steamed fish and chicken      ',\n",
       "       'Grilled fare and anything from the Bar-B-Q and anything on a stick.',\n",
       "       'Salty and savory fare, cream dishes, tofu, steamed fish. ',\n",
       "       'Come on you have to ask? (Think meats, fowl, game, and barbeque)\\xa0 ',\n",
       "       'Creamy fare, shellfish, buttery pasta, oysters, fried chicken. ',\n",
       "       'Sushi, sashimi, shellfish, oysters, grilled salty and savory fare. ',\n",
       "       'American sushi, international spice, bright fruit and cheese plates, champagne fare.',\n",
       "       'Complex cuisines with lots of body, shellfish, oysters.',\n",
       "       'Champagne fare, fresh seafood, oysters, shellfish',\n",
       "       'Champagne fare.\\xa0\\xa0', 'Champagne Fare. ',\n",
       "       'Rich fare, complex meat and game dishes, pate, creamy sauces, BBQ, and Blue Cheese. ',\n",
       "       'Rich cuisines, game, fowl, smoked fish, complex pastas.',\n",
       "       'A super food friendly sake that works with everything including the kitchen sink',\n",
       "       'Rich and savory cuisine from the grill and from oil. \\xa0',\n",
       "       'Champagne fare, shellfish, American sushi, International Spice. ',\n",
       "       'Meats, game, fowl, and fish. Complex pastas, and crisp veggies. ',\n",
       "       'Full-bodied rich dishes, grilled fare, fried fare, soups, stews, and shellfish. ',\n",
       "       'The kitchen sink! ',\n",
       "       'Picnic fare, veggies, shellfish, oysters, sashimi. ',\n",
       "       'Chicken Chicken and more Chicken, salty and savory and greasy fare. ',\n",
       "       'Salty and savory, meats and fowl on a stick, fried foods. ',\n",
       "       'Fruit and cheese plates, champagne fare, bright dishes, and American sushi.',\n",
       "       'Salty, savory, grilled, and greasy cuisine, comfort foods, meats, game, and fowl.\\xa0',\n",
       "       'Great for the grill and BBQ, things on a stick, salty and savory. ',\n",
       "       'Rich and complex fare, grilled meats and fowl, fish, shellfish, creamy pastas. ',\n",
       "       'Everything grilled, pasta, steaks, meats, and game.',\n",
       "       'Meat, fowl, game, and everything grilled from burgers to steak.\\xa0\\xa0',\n",
       "       'International spice, complex cuisines, cheeses, fruit salads. ',\n",
       "       'Salty and savory fare, sushi, sashimi, grilled meats and fowl.      ',\n",
       "       'Champagne fare, sashimi, sushi, shellfish.      ',\n",
       "       'Sushi, sashimi, oysters, shellfish, cheese plates. ',\n",
       "       'fruit and cheese plates, shellfish, ankimo, citrus based dishes.',\n",
       "       'Shellfish, sashimi, oysters, fruit salads, champagne fare.',\n",
       "       'Salty and savory fare, sashimi, creamy pasta, shellfish, grilled chicken.\\xa0\\xa0',\n",
       "       'Sushi, sashimi, shellfish, oysters, cheese and fruit plates.      ',\n",
       "       'All things on a stick, grilled, roasted, stewed, and comfort foods.\\xa0',\n",
       "       'Juicy meat, game, and fowl.',\n",
       "       'Complex fare with mushroom based sauces, smoked meats and fowl. ',\n",
       "       'Sashimi, tofu, grilled chicken, oysters, shellfish. (Winter 2020)',\n",
       "       'Gentle fare, shellfish, grilled fish, poached fish and chicken.',\n",
       "       'Champagne Fare',\n",
       "       'Gentle cuisines, crab, shellfish, grilled fish, tofu dishes.',\n",
       "       'Sushi, sashimi, shellfish, oysters, Champagne fare.'],\n",
       "      dtype=object)"
      ]
     },
     "execution_count": 15,
     "metadata": {},
     "output_type": "execute_result"
    }
   ],
   "source": [
    "df.kw_foods.unique()"
   ]
  },
  {
   "cell_type": "code",
   "execution_count": 16,
   "metadata": {
    "ExecuteTime": {
     "end_time": "2021-01-27T00:35:21.728199Z",
     "start_time": "2021-01-27T00:35:21.723988Z"
    }
   },
   "outputs": [],
   "source": [
    "df['kw_foods'] = df['kw_foods'].apply(lambda description: split_on_chars('Updated', description))\n",
    "df['kw_foods'] = df['kw_foods'].apply(lambda description: split_on_chars('(', description))"
   ]
  },
  {
   "cell_type": "code",
   "execution_count": null,
   "metadata": {},
   "outputs": [],
   "source": []
  },
  {
   "cell_type": "code",
   "execution_count": 17,
   "metadata": {
    "ExecuteTime": {
     "end_time": "2021-01-27T00:35:21.735045Z",
     "start_time": "2021-01-27T00:35:21.730596Z"
    }
   },
   "outputs": [
    {
     "data": {
      "text/plain": [
       "array(['Yamaguchi', 'Niigata', 'Shizuoka', 'Yamanashi', 'Hyogo', 'Osaka',\n",
       "       'Kouchi', 'Hokkaido', 'Yamagata', 'Tottori', 'Tochigi', 'Fukui',\n",
       "       'Akita', 'Tokushima', 'Ohita', 'Wakayama', 'Shimane', 'Ishikawa',\n",
       "       'Fukushima', 'Aomori', 'Kyoto', 'Iwate', 'Saitama', 'Gifu',\n",
       "       'Nagano', 'Oakland, California', 'Shiga', 'Ehime', 'Kochi',\n",
       "       'Miyagi', 'Ibaraki', 'Aichi', 'Hiroshima', 'Saga', 'Nanago',\n",
       "       'Fukuoka', 'Nara', 'Domestic - San Francisco', None, 'Okayama',\n",
       "       'Okinawa', 'Tokyo', 'Shizouka', 'Gunma', 'Kanagawa'], dtype=object)"
      ]
     },
     "execution_count": 17,
     "metadata": {},
     "output_type": "execute_result"
    }
   ],
   "source": [
    "df.prefecture.unique()"
   ]
  },
  {
   "cell_type": "code",
   "execution_count": null,
   "metadata": {},
   "outputs": [],
   "source": []
  },
  {
   "cell_type": "code",
   "execution_count": null,
   "metadata": {},
   "outputs": [],
   "source": []
  },
  {
   "cell_type": "code",
   "execution_count": null,
   "metadata": {},
   "outputs": [],
   "source": []
  },
  {
   "cell_type": "code",
   "execution_count": null,
   "metadata": {},
   "outputs": [],
   "source": []
  },
  {
   "cell_type": "code",
   "execution_count": null,
   "metadata": {},
   "outputs": [],
   "source": []
  },
  {
   "cell_type": "code",
   "execution_count": null,
   "metadata": {},
   "outputs": [],
   "source": []
  }
 ],
 "metadata": {
  "kernelspec": {
   "display_name": "Python [conda env:metis] *",
   "language": "python",
   "name": "conda-env-metis-py"
  },
  "language_info": {
   "codemirror_mode": {
    "name": "ipython",
    "version": 3
   },
   "file_extension": ".py",
   "mimetype": "text/x-python",
   "name": "python",
   "nbconvert_exporter": "python",
   "pygments_lexer": "ipython3",
   "version": "3.8.5"
  },
  "toc": {
   "base_numbering": 1,
   "nav_menu": {},
   "number_sections": true,
   "sideBar": true,
   "skip_h1_title": false,
   "title_cell": "Table of Contents",
   "title_sidebar": "Contents",
   "toc_cell": false,
   "toc_position": {},
   "toc_section_display": true,
   "toc_window_display": false
  },
  "varInspector": {
   "cols": {
    "lenName": 16,
    "lenType": 16,
    "lenVar": 40
   },
   "kernels_config": {
    "python": {
     "delete_cmd_postfix": "",
     "delete_cmd_prefix": "del ",
     "library": "var_list.py",
     "varRefreshCmd": "print(var_dic_list())"
    },
    "r": {
     "delete_cmd_postfix": ") ",
     "delete_cmd_prefix": "rm(",
     "library": "var_list.r",
     "varRefreshCmd": "cat(var_dic_list()) "
    }
   },
   "types_to_exclude": [
    "module",
    "function",
    "builtin_function_or_method",
    "instance",
    "_Feature"
   ],
   "window_display": false
  }
 },
 "nbformat": 4,
 "nbformat_minor": 4
}

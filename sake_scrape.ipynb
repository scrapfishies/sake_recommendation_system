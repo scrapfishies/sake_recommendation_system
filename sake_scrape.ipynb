{
 "cells": [
  {
   "cell_type": "markdown",
   "metadata": {},
   "source": [
    "# Sake Scrape!\n",
    "\n",
    "Source Website: [TrueSake.com](https://www.truesake.com/)"
   ]
  },
  {
   "cell_type": "code",
   "execution_count": 1,
   "metadata": {
    "ExecuteTime": {
     "end_time": "2021-01-26T17:49:04.527898Z",
     "start_time": "2021-01-26T17:49:03.661836Z"
    }
   },
   "outputs": [],
   "source": [
    "from scrape_truesake import *"
   ]
  },
  {
   "cell_type": "code",
   "execution_count": 2,
   "metadata": {
    "ExecuteTime": {
     "end_time": "2021-01-26T18:00:11.686522Z",
     "start_time": "2021-01-26T17:49:07.213060Z"
    }
   },
   "outputs": [
    {
     "name": "stdout",
     "output_type": "stream",
     "text": [
      "Starting scrape...\n",
      "Product listings url list compiled!\n"
     ]
    },
    {
     "name": "stderr",
     "output_type": "stream",
     "text": [
      "\r",
      "  0%|          | 0/322 [00:00<?, ?it/s]"
     ]
    },
    {
     "name": "stdout",
     "output_type": "stream",
     "text": [
      "322 product urls scraped\n",
      "Individual product url list compiled!\n",
      "\n",
      "Starting product url scrape...\n"
     ]
    },
    {
     "name": "stderr",
     "output_type": "stream",
     "text": [
      "100%|██████████| 322/322 [10:49<00:00,  2.02s/it]"
     ]
    },
    {
     "name": "stdout",
     "output_type": "stream",
     "text": [
      "323 products scraped!\n"
     ]
    },
    {
     "name": "stderr",
     "output_type": "stream",
     "text": [
      "\n"
     ]
    }
   ],
   "source": [
    "start_url = 'https://www.truesake.com/collections/all'\n",
    "\n",
    "df = scrape_truesake(start_url)"
   ]
  },
  {
   "cell_type": "code",
   "execution_count": 3,
   "metadata": {
    "ExecuteTime": {
     "end_time": "2021-01-26T18:02:36.484759Z",
     "start_time": "2021-01-26T18:02:36.455766Z"
    }
   },
   "outputs": [
    {
     "data": {
      "text/html": [
       "<div>\n",
       "<style scoped>\n",
       "    .dataframe tbody tr th:only-of-type {\n",
       "        vertical-align: middle;\n",
       "    }\n",
       "\n",
       "    .dataframe tbody tr th {\n",
       "        vertical-align: top;\n",
       "    }\n",
       "\n",
       "    .dataframe thead th {\n",
       "        text-align: right;\n",
       "    }\n",
       "</style>\n",
       "<table border=\"1\" class=\"dataframe\">\n",
       "  <thead>\n",
       "    <tr style=\"text-align: right;\">\n",
       "      <th></th>\n",
       "      <th>url</th>\n",
       "      <th>name</th>\n",
       "      <th>type</th>\n",
       "      <th>price</th>\n",
       "      <th>prefecture</th>\n",
       "      <th>smv</th>\n",
       "      <th>acidity</th>\n",
       "      <th>kw_word</th>\n",
       "      <th>kw_wines</th>\n",
       "      <th>kw_beer</th>\n",
       "      <th>kw_foods</th>\n",
       "      <th>description</th>\n",
       "    </tr>\n",
       "  </thead>\n",
       "  <tbody>\n",
       "    <tr>\n",
       "      <th>0</th>\n",
       "      <td>https://www.truesake.com/collections/all/produ...</td>\n",
       "      <td>Dassai 45 Junmai Daiginjo \"Otter Festival\"</td>\n",
       "      <td>Junmai Daiginjo</td>\n",
       "      <td>30.00</td>\n",
       "      <td>Yamaguchi</td>\n",
       "      <td>+3</td>\n",
       "      <td>1.4</td>\n",
       "      <td>Chunky</td>\n",
       "      <td>Pinot Noir / Chewy Whites</td>\n",
       "      <td>Ales</td>\n",
       "      <td>Mushroom risotto, tempura, fried chicken, cavi...</td>\n",
       "      <td>This sake has an older brother Daiginjo that h...</td>\n",
       "    </tr>\n",
       "    <tr>\n",
       "      <th>1</th>\n",
       "      <td>https://www.truesake.com/collections/all/produ...</td>\n",
       "      <td>Kikusui Junmai Ginjo \"Chrysanthemum Water\"</td>\n",
       "      <td>Junmai Ginjo</td>\n",
       "      <td>33.00</td>\n",
       "      <td>Niigata</td>\n",
       "      <td>+1</td>\n",
       "      <td>1.6</td>\n",
       "      <td>Citrus</td>\n",
       "      <td>Sharp Whites/Dry Reds</td>\n",
       "      <td>Ales/Ambers</td>\n",
       "      <td>Suitable for light and stronger flavored dishe...</td>\n",
       "      <td>True Sake owner Beau Timken recorded K...</td>\n",
       "    </tr>\n",
       "    <tr>\n",
       "      <th>2</th>\n",
       "      <td>https://www.truesake.com/collections/all/produ...</td>\n",
       "      <td>Wakatake Onikoroshi Junmai Daiginjo \"Demon Sla...</td>\n",
       "      <td>Junmai Daiginjo</td>\n",
       "      <td>49.00</td>\n",
       "      <td>Shizuoka</td>\n",
       "      <td>+/-0</td>\n",
       "      <td>1.4</td>\n",
       "      <td>Popular</td>\n",
       "      <td>Elegant reds/Complex whites</td>\n",
       "      <td>Crisp Ales</td>\n",
       "      <td>Cuisines that like big white wines.</td>\n",
       "      <td>Talk about a nice aroma package on thi...</td>\n",
       "    </tr>\n",
       "    <tr>\n",
       "      <th>3</th>\n",
       "      <td>https://www.truesake.com/collections/all/produ...</td>\n",
       "      <td>Shunnoten Tokubetsu Junmai \"Fishermen Cup\"</td>\n",
       "      <td>Tokubetsu Junmai</td>\n",
       "      <td>9.00</td>\n",
       "      <td>Yamanashi</td>\n",
       "      <td>+3</td>\n",
       "      <td>1.6</td>\n",
       "      <td>Smooth</td>\n",
       "      <td>Pinot Noir/Slippery Whites</td>\n",
       "      <td>Gentle Ales</td>\n",
       "      <td>NaN</td>\n",
       "      <td>The nose on this awesome looking “catch cup” i...</td>\n",
       "    </tr>\n",
       "    <tr>\n",
       "      <th>4</th>\n",
       "      <td>https://www.truesake.com/collections/all/produ...</td>\n",
       "      <td>Kenbishi Kuromatsu Honjozo \"Black Pine\"</td>\n",
       "      <td>Honjozo</td>\n",
       "      <td>40.00</td>\n",
       "      <td>Hyogo</td>\n",
       "      <td>±0.5</td>\n",
       "      <td>1.5</td>\n",
       "      <td>Rich</td>\n",
       "      <td>Deep Reds/Fat Whites</td>\n",
       "      <td>Stouts</td>\n",
       "      <td>Perfect for pub food salty and savory and grea...</td>\n",
       "      <td>The nose on this extremely famous Honjozo from...</td>\n",
       "    </tr>\n",
       "    <tr>\n",
       "      <th>...</th>\n",
       "      <td>...</td>\n",
       "      <td>...</td>\n",
       "      <td>...</td>\n",
       "      <td>...</td>\n",
       "      <td>...</td>\n",
       "      <td>...</td>\n",
       "      <td>...</td>\n",
       "      <td>...</td>\n",
       "      <td>...</td>\n",
       "      <td>...</td>\n",
       "      <td>...</td>\n",
       "      <td>...</td>\n",
       "    </tr>\n",
       "    <tr>\n",
       "      <th>317</th>\n",
       "      <td>https://www.truesake.com/collections/all/produ...</td>\n",
       "      <td>Heiwa Shuzo KID Junmai Ginjo Shiboritate</td>\n",
       "      <td>Junmai Ginjo Nama</td>\n",
       "      <td>39.00</td>\n",
       "      <td>Wakayama</td>\n",
       "      <td>+1</td>\n",
       "      <td>2.0</td>\n",
       "      <td>Elegant</td>\n",
       "      <td>Soft Reds/Crisp Whites</td>\n",
       "      <td>Crisp Ales</td>\n",
       "      <td>Sashimi, tofu, grilled chicken, oysters, shell...</td>\n",
       "      <td>The nose on this specially released winter unp...</td>\n",
       "    </tr>\n",
       "    <tr>\n",
       "      <th>318</th>\n",
       "      <td>https://www.truesake.com/collections/all/produ...</td>\n",
       "      <td>Akabu Junmai Ginjo</td>\n",
       "      <td>Junmai Ginjo</td>\n",
       "      <td>45.00</td>\n",
       "      <td>Iwate</td>\n",
       "      <td>N/A</td>\n",
       "      <td>NaN</td>\n",
       "      <td>Balanced</td>\n",
       "      <td>Gentle Reds/Clean Whites</td>\n",
       "      <td>Creamy Ales</td>\n",
       "      <td>Gentle fare, shellfish, grilled fish, poached ...</td>\n",
       "      <td>The nose on this sake, that is made with the l...</td>\n",
       "    </tr>\n",
       "    <tr>\n",
       "      <th>319</th>\n",
       "      <td>https://www.truesake.com/collections/all/produ...</td>\n",
       "      <td>Heiwa Shuzo KID Muryozan 30 Junmai Daiginjo</td>\n",
       "      <td>Junmai Daiginjo</td>\n",
       "      <td>580.00</td>\n",
       "      <td>Wakayama</td>\n",
       "      <td>-3.0</td>\n",
       "      <td>1.7</td>\n",
       "      <td>Harmony</td>\n",
       "      <td>Chewy Reds/Complex Whites</td>\n",
       "      <td>Chewy Ales</td>\n",
       "      <td>Champagne Fare</td>\n",
       "      <td>For the first time available in the US, this U...</td>\n",
       "    </tr>\n",
       "    <tr>\n",
       "      <th>320</th>\n",
       "      <td>https://www.truesake.com/collections/all/produ...</td>\n",
       "      <td>Akabu Junmai</td>\n",
       "      <td>Junmai</td>\n",
       "      <td>37.00</td>\n",
       "      <td>Iwate</td>\n",
       "      <td>N/A</td>\n",
       "      <td>NaN</td>\n",
       "      <td>Umami</td>\n",
       "      <td>Pinot Noir/White Burgundy</td>\n",
       "      <td>Creamy Ales</td>\n",
       "      <td>Gentle cuisines, crab, shellfish, grilled fish...</td>\n",
       "      <td>The nose on this cult favorite sake has corn, ...</td>\n",
       "    </tr>\n",
       "    <tr>\n",
       "      <th>321</th>\n",
       "      <td>https://www.truesake.com/collections/all/produ...</td>\n",
       "      <td>Juyondai Junmai Ginjo Bottle Aged 2019.06 \"14t...</td>\n",
       "      <td>Junmai Ginjo</td>\n",
       "      <td>200.00</td>\n",
       "      <td>Yamagata</td>\n",
       "      <td>+2</td>\n",
       "      <td>1.3</td>\n",
       "      <td>Legendary</td>\n",
       "      <td>Fruity Reds/Bright Whites</td>\n",
       "      <td>Fruity Ales</td>\n",
       "      <td>Sushi, sashimi, shellfish, oysters, Champagne ...</td>\n",
       "      <td>*All sales are final with Juyondai. Must call ...</td>\n",
       "    </tr>\n",
       "  </tbody>\n",
       "</table>\n",
       "<p>322 rows × 12 columns</p>\n",
       "</div>"
      ],
      "text/plain": [
       "                                                   url  \\\n",
       "0    https://www.truesake.com/collections/all/produ...   \n",
       "1    https://www.truesake.com/collections/all/produ...   \n",
       "2    https://www.truesake.com/collections/all/produ...   \n",
       "3    https://www.truesake.com/collections/all/produ...   \n",
       "4    https://www.truesake.com/collections/all/produ...   \n",
       "..                                                 ...   \n",
       "317  https://www.truesake.com/collections/all/produ...   \n",
       "318  https://www.truesake.com/collections/all/produ...   \n",
       "319  https://www.truesake.com/collections/all/produ...   \n",
       "320  https://www.truesake.com/collections/all/produ...   \n",
       "321  https://www.truesake.com/collections/all/produ...   \n",
       "\n",
       "                                                  name               type  \\\n",
       "0           Dassai 45 Junmai Daiginjo \"Otter Festival\"    Junmai Daiginjo   \n",
       "1           Kikusui Junmai Ginjo \"Chrysanthemum Water\"       Junmai Ginjo   \n",
       "2    Wakatake Onikoroshi Junmai Daiginjo \"Demon Sla...    Junmai Daiginjo   \n",
       "3           Shunnoten Tokubetsu Junmai \"Fishermen Cup\"   Tokubetsu Junmai   \n",
       "4              Kenbishi Kuromatsu Honjozo \"Black Pine\"            Honjozo   \n",
       "..                                                 ...                ...   \n",
       "317           Heiwa Shuzo KID Junmai Ginjo Shiboritate  Junmai Ginjo Nama   \n",
       "318                                 Akabu Junmai Ginjo       Junmai Ginjo   \n",
       "319        Heiwa Shuzo KID Muryozan 30 Junmai Daiginjo    Junmai Daiginjo   \n",
       "320                                       Akabu Junmai             Junmai   \n",
       "321  Juyondai Junmai Ginjo Bottle Aged 2019.06 \"14t...       Junmai Ginjo   \n",
       "\n",
       "      price prefecture   smv  acidity     kw_word  \\\n",
       "0     30.00  Yamaguchi    +3      1.4     Chunky    \n",
       "1     33.00    Niigata    +1      1.6     Citrus    \n",
       "2     49.00   Shizuoka  +/-0      1.4    Popular    \n",
       "3      9.00  Yamanashi    +3      1.6     Smooth    \n",
       "4     40.00      Hyogo  ±0.5      1.5       Rich    \n",
       "..      ...        ...   ...      ...         ...   \n",
       "317   39.00   Wakayama    +1      2.0    Elegant    \n",
       "318   45.00      Iwate   N/A      NaN   Balanced    \n",
       "319  580.00   Wakayama  -3.0      1.7    Harmony    \n",
       "320   37.00      Iwate   N/A      NaN      Umami    \n",
       "321  200.00   Yamagata    +2      1.3  Legendary    \n",
       "\n",
       "                         kw_wines       kw_beer  \\\n",
       "0      Pinot Noir / Chewy Whites          Ales    \n",
       "1          Sharp Whites/Dry Reds   Ales/Ambers    \n",
       "2    Elegant reds/Complex whites    Crisp Ales    \n",
       "3     Pinot Noir/Slippery Whites    Gentle Ales   \n",
       "4           Deep Reds/Fat Whites        Stouts    \n",
       "..                            ...           ...   \n",
       "317       Soft Reds/Crisp Whites    Crisp Ales    \n",
       "318     Gentle Reds/Clean Whites   Creamy Ales    \n",
       "319    Chewy Reds/Complex Whites    Chewy Ales    \n",
       "320    Pinot Noir/White Burgundy   Creamy Ales    \n",
       "321    Fruity Reds/Bright Whites   Fruity Ales    \n",
       "\n",
       "                                              kw_foods  \\\n",
       "0    Mushroom risotto, tempura, fried chicken, cavi...   \n",
       "1    Suitable for light and stronger flavored dishe...   \n",
       "2            Cuisines that like big white wines.         \n",
       "3                                                  NaN   \n",
       "4    Perfect for pub food salty and savory and grea...   \n",
       "..                                                 ...   \n",
       "317  Sashimi, tofu, grilled chicken, oysters, shell...   \n",
       "318  Gentle fare, shellfish, grilled fish, poached ...   \n",
       "319                                     Champagne Fare   \n",
       "320  Gentle cuisines, crab, shellfish, grilled fish...   \n",
       "321  Sushi, sashimi, shellfish, oysters, Champagne ...   \n",
       "\n",
       "                                           description  \n",
       "0    This sake has an older brother Daiginjo that h...  \n",
       "1            True Sake owner Beau Timken recorded K...  \n",
       "2            Talk about a nice aroma package on thi...  \n",
       "3    The nose on this awesome looking “catch cup” i...  \n",
       "4    The nose on this extremely famous Honjozo from...  \n",
       "..                                                 ...  \n",
       "317  The nose on this specially released winter unp...  \n",
       "318  The nose on this sake, that is made with the l...  \n",
       "319  For the first time available in the US, this U...  \n",
       "320  The nose on this cult favorite sake has corn, ...  \n",
       "321  *All sales are final with Juyondai. Must call ...  \n",
       "\n",
       "[322 rows x 12 columns]"
      ]
     },
     "execution_count": 3,
     "metadata": {},
     "output_type": "execute_result"
    }
   ],
   "source": [
    "df"
   ]
  },
  {
   "cell_type": "code",
   "execution_count": 4,
   "metadata": {
    "ExecuteTime": {
     "end_time": "2021-01-26T18:02:49.457580Z",
     "start_time": "2021-01-26T18:02:48.343777Z"
    }
   },
   "outputs": [],
   "source": [
    "# Save dataframe as json file to be used later!\n",
    "df.to_json('raw_data.json')"
   ]
  },
  {
   "cell_type": "code",
   "execution_count": null,
   "metadata": {},
   "outputs": [],
   "source": []
  }
 ],
 "metadata": {
  "kernelspec": {
   "display_name": "Python [conda env:metis] *",
   "language": "python",
   "name": "conda-env-metis-py"
  },
  "language_info": {
   "codemirror_mode": {
    "name": "ipython",
    "version": 3
   },
   "file_extension": ".py",
   "mimetype": "text/x-python",
   "name": "python",
   "nbconvert_exporter": "python",
   "pygments_lexer": "ipython3",
   "version": "3.8.5"
  },
  "toc": {
   "base_numbering": 1,
   "nav_menu": {},
   "number_sections": true,
   "sideBar": true,
   "skip_h1_title": false,
   "title_cell": "Table of Contents",
   "title_sidebar": "Contents",
   "toc_cell": false,
   "toc_position": {},
   "toc_section_display": true,
   "toc_window_display": false
  },
  "varInspector": {
   "cols": {
    "lenName": 16,
    "lenType": 16,
    "lenVar": 40
   },
   "kernels_config": {
    "python": {
     "delete_cmd_postfix": "",
     "delete_cmd_prefix": "del ",
     "library": "var_list.py",
     "varRefreshCmd": "print(var_dic_list())"
    },
    "r": {
     "delete_cmd_postfix": ") ",
     "delete_cmd_prefix": "rm(",
     "library": "var_list.r",
     "varRefreshCmd": "cat(var_dic_list()) "
    }
   },
   "types_to_exclude": [
    "module",
    "function",
    "builtin_function_or_method",
    "instance",
    "_Feature"
   ],
   "window_display": false
  }
 },
 "nbformat": 4,
 "nbformat_minor": 4
}

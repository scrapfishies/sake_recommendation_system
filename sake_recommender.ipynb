{
 "cells": [
  {
   "cell_type": "code",
   "execution_count": 1,
   "metadata": {
    "ExecuteTime": {
     "end_time": "2021-03-05T22:42:44.925850Z",
     "start_time": "2021-03-05T22:42:42.931207Z"
    }
   },
   "outputs": [],
   "source": [
    "import pandas as pd\n",
    "import numpy as np\n",
    "import matplotlib.pyplot as plt\n",
    "import seaborn as sns\n",
    "%matplotlib inline\n",
    "\n",
    "# NLP Imports \n",
    "# set up spacy\n",
    "import spacy\n",
    "\n",
    "# get stopwords from NLTK\n",
    "from nltk.corpus import stopwords\n",
    "stopwords = stopwords.words(\"english\")\n",
    "\n",
    "from sklearn.feature_extraction.text import TfidfVectorizer\n",
    "from sklearn.metrics import pairwise_distances\n",
    "from sklearn.decomposition import PCA"
   ]
  },
  {
   "cell_type": "code",
   "execution_count": 2,
   "metadata": {
    "ExecuteTime": {
     "end_time": "2021-03-05T22:42:45.330533Z",
     "start_time": "2021-03-05T22:42:44.967218Z"
    },
    "scrolled": false
   },
   "outputs": [
    {
     "data": {
      "text/html": [
       "<div>\n",
       "<style scoped>\n",
       "    .dataframe tbody tr th:only-of-type {\n",
       "        vertical-align: middle;\n",
       "    }\n",
       "\n",
       "    .dataframe tbody tr th {\n",
       "        vertical-align: top;\n",
       "    }\n",
       "\n",
       "    .dataframe thead th {\n",
       "        text-align: right;\n",
       "    }\n",
       "</style>\n",
       "<table border=\"1\" class=\"dataframe\">\n",
       "  <thead>\n",
       "    <tr style=\"text-align: right;\">\n",
       "      <th></th>\n",
       "      <th>url</th>\n",
       "      <th>name</th>\n",
       "      <th>type</th>\n",
       "      <th>price</th>\n",
       "      <th>prefecture</th>\n",
       "      <th>smv</th>\n",
       "      <th>acidity</th>\n",
       "      <th>kw_word</th>\n",
       "      <th>kw_wines</th>\n",
       "      <th>kw_beer</th>\n",
       "      <th>kw_foods</th>\n",
       "      <th>description</th>\n",
       "    </tr>\n",
       "  </thead>\n",
       "  <tbody>\n",
       "    <tr>\n",
       "      <th>0</th>\n",
       "      <td>https://www.truesake.com/collections/all/produ...</td>\n",
       "      <td>Dassai 45 Junmai Daiginjo \"Otter Festival\"</td>\n",
       "      <td>junmai daiginjo</td>\n",
       "      <td>30</td>\n",
       "      <td>yamaguchi</td>\n",
       "      <td>3.0</td>\n",
       "      <td>1.4</td>\n",
       "      <td>chunky</td>\n",
       "      <td>pinot noir  chewy whites</td>\n",
       "      <td>ales</td>\n",
       "      <td>mushroom risotto tempura fried chicken caviar ...</td>\n",
       "      <td>this sake has an older brother daiginjo that h...</td>\n",
       "    </tr>\n",
       "    <tr>\n",
       "      <th>1</th>\n",
       "      <td>https://www.truesake.com/collections/all/produ...</td>\n",
       "      <td>Kikusui Junmai Ginjo \"Chrysanthemum Water\"</td>\n",
       "      <td>junmai ginjo</td>\n",
       "      <td>33</td>\n",
       "      <td>niigata</td>\n",
       "      <td>1.0</td>\n",
       "      <td>1.6</td>\n",
       "      <td>citrus</td>\n",
       "      <td>sharp whites dry reds</td>\n",
       "      <td>ales ambers</td>\n",
       "      <td>suitable for light and stronger flavored dishe...</td>\n",
       "      <td>true sake owner beau timken recorded kikusui a...</td>\n",
       "    </tr>\n",
       "    <tr>\n",
       "      <th>2</th>\n",
       "      <td>https://www.truesake.com/collections/all/produ...</td>\n",
       "      <td>Wakatake Onikoroshi Junmai Daiginjo \"Demon Sla...</td>\n",
       "      <td>junmai daiginjo</td>\n",
       "      <td>49</td>\n",
       "      <td>shizuoka</td>\n",
       "      <td>0.0</td>\n",
       "      <td>1.4</td>\n",
       "      <td>popular</td>\n",
       "      <td>elegant reds complex whites</td>\n",
       "      <td>crisp ales</td>\n",
       "      <td>cuisines that like big white wines</td>\n",
       "      <td>talk about a nice aroma package on this ultrap...</td>\n",
       "    </tr>\n",
       "    <tr>\n",
       "      <th>3</th>\n",
       "      <td>https://www.truesake.com/collections/all/produ...</td>\n",
       "      <td>Shunnoten Tokubetsu Junmai \"Fishermen Cup\"</td>\n",
       "      <td>tokubetsu junmai</td>\n",
       "      <td>9</td>\n",
       "      <td>yamanashi</td>\n",
       "      <td>3.0</td>\n",
       "      <td>1.6</td>\n",
       "      <td>smooth</td>\n",
       "      <td>pinot noir slippery whites</td>\n",
       "      <td>gentle ales</td>\n",
       "      <td>none</td>\n",
       "      <td>the nose on this awesome looking catch cup is ...</td>\n",
       "    </tr>\n",
       "    <tr>\n",
       "      <th>4</th>\n",
       "      <td>https://www.truesake.com/collections/all/produ...</td>\n",
       "      <td>Kenbishi Kuromatsu Honjozo \"Black Pine\"</td>\n",
       "      <td>honjozo</td>\n",
       "      <td>40</td>\n",
       "      <td>hyogo</td>\n",
       "      <td>0.5</td>\n",
       "      <td>1.5</td>\n",
       "      <td>rich</td>\n",
       "      <td>deep reds fat whites</td>\n",
       "      <td>stouts</td>\n",
       "      <td>perfect for pub food salty and savory and grea...</td>\n",
       "      <td>the nose on this extremely famous honjozo from...</td>\n",
       "    </tr>\n",
       "  </tbody>\n",
       "</table>\n",
       "</div>"
      ],
      "text/plain": [
       "                                                 url  \\\n",
       "0  https://www.truesake.com/collections/all/produ...   \n",
       "1  https://www.truesake.com/collections/all/produ...   \n",
       "2  https://www.truesake.com/collections/all/produ...   \n",
       "3  https://www.truesake.com/collections/all/produ...   \n",
       "4  https://www.truesake.com/collections/all/produ...   \n",
       "\n",
       "                                                name              type  price  \\\n",
       "0         Dassai 45 Junmai Daiginjo \"Otter Festival\"   junmai daiginjo     30   \n",
       "1         Kikusui Junmai Ginjo \"Chrysanthemum Water\"      junmai ginjo     33   \n",
       "2  Wakatake Onikoroshi Junmai Daiginjo \"Demon Sla...   junmai daiginjo     49   \n",
       "3         Shunnoten Tokubetsu Junmai \"Fishermen Cup\"  tokubetsu junmai      9   \n",
       "4            Kenbishi Kuromatsu Honjozo \"Black Pine\"           honjozo     40   \n",
       "\n",
       "  prefecture  smv  acidity  kw_word                     kw_wines      kw_beer  \\\n",
       "0  yamaguchi  3.0      1.4   chunky     pinot noir  chewy whites         ales   \n",
       "1    niigata  1.0      1.6   citrus        sharp whites dry reds  ales ambers   \n",
       "2   shizuoka  0.0      1.4  popular  elegant reds complex whites   crisp ales   \n",
       "3  yamanashi  3.0      1.6   smooth   pinot noir slippery whites  gentle ales   \n",
       "4      hyogo  0.5      1.5     rich         deep reds fat whites       stouts   \n",
       "\n",
       "                                            kw_foods  \\\n",
       "0  mushroom risotto tempura fried chicken caviar ...   \n",
       "1  suitable for light and stronger flavored dishe...   \n",
       "2                 cuisines that like big white wines   \n",
       "3                                               none   \n",
       "4  perfect for pub food salty and savory and grea...   \n",
       "\n",
       "                                         description  \n",
       "0  this sake has an older brother daiginjo that h...  \n",
       "1  true sake owner beau timken recorded kikusui a...  \n",
       "2  talk about a nice aroma package on this ultrap...  \n",
       "3  the nose on this awesome looking catch cup is ...  \n",
       "4  the nose on this extremely famous honjozo from...  "
      ]
     },
     "execution_count": 2,
     "metadata": {},
     "output_type": "execute_result"
    }
   ],
   "source": [
    "raw_sake = pd.read_json('prepared_data.json')\n",
    "raw_sake.head()"
   ]
  },
  {
   "cell_type": "code",
   "execution_count": 16,
   "metadata": {
    "ExecuteTime": {
     "end_time": "2021-03-05T22:51:49.945902Z",
     "start_time": "2021-03-05T22:51:49.937403Z"
    }
   },
   "outputs": [],
   "source": [
    "class SakeRecommender:\n",
    "    \n",
    "    def __init__(self, preprocessed_sake_data):\n",
    "        \n",
    "        self.data = preprocessed_sake_data\n",
    "\n",
    "        \n",
    "        \n",
    "    def recommend_sake(self, liked_sakes: list, num_recs=5, metric='cosine') -> list:\n",
    "        \n",
    "        self.sake = self.data[[\n",
    "                               'name', \n",
    "                               'url', \n",
    "                               'price', \n",
    "                               'smv', \n",
    "                               'acidity', \n",
    "                               'type', \n",
    "                               'prefecture', \n",
    "                            ]]\n",
    "\n",
    "        self.sake = pd.get_dummies(data=self.sake, \n",
    "                                   columns=['type', 'prefecture'])\n",
    "         \n",
    "        self.pca = PCA(n_components=1)\n",
    "\n",
    "        self.df_pca = self.pca.fit_transform(self.sake.iloc[:, 5:])\n",
    "        \n",
    "        self.df = self.sake[['name', 'url', 'price', 'smv', 'acidity']]\n",
    "        \n",
    "        self.df['pca_feats'] = self.df_pca\n",
    "        \n",
    "        \n",
    "        \n",
    "        self.liked_sakes = liked_sakes\n",
    "        self.num_recs = num_recs\n",
    "        self.metric = metric\n",
    "    \n",
    "        self.dists = pairwise_distances(self.df.iloc[:, 2:], metric=self.metric)\n",
    "        self.dists = pd.DataFrame(data=self.dists, index=self.df['name'], columns=self.df['name'])\n",
    "\n",
    "        self.sake_summed = self.dists[self.liked_sakes].sum(axis=1)\n",
    "        self.sake_summed = self.sake_summed.sort_values(ascending=True)\n",
    "\n",
    "\n",
    "        self.ranked_sakes = self.sake_summed.index[~self.sake_summed.index.isin(self.liked_sakes)]\n",
    "        self.ranked_sakes = self.ranked_sakes.tolist()\n",
    "\n",
    "        self.recommendations = self.ranked_sakes[:self.num_recs]\n",
    "\n",
    "        self.df_recs = self.data.copy()\n",
    "        self.df_recs['rec_label'] = np.where(self.df_recs.name.isin(self.liked_sakes), 'Liked',\n",
    "                                       np.where(self.df_recs.name.isin(self.recommendations), 'Recommended',\n",
    "                                               'Other'))\n",
    "\n",
    "        self.df_recs = self.df_recs[self.df_recs['rec_label'].isin(['Liked', 'Recommended'])]\n",
    "        \n",
    "        self.df_recs = self.df_recs[['rec_label', \n",
    "                                    'name',\n",
    "                                    'type',\n",
    "                                    'price',\n",
    "                                    'prefecture',\n",
    "                                    'smv',\n",
    "                                    'acidity',\n",
    "                                    'kw_word',\n",
    "                                    'kw_wines',\n",
    "                                    'kw_beer',\n",
    "                                    'description',\n",
    "                                    'url']]\n",
    "        \n",
    "        \n",
    "\n",
    "        return self.df_recs"
   ]
  },
  {
   "cell_type": "code",
   "execution_count": 17,
   "metadata": {
    "ExecuteTime": {
     "end_time": "2021-03-05T22:51:52.747879Z",
     "start_time": "2021-03-05T22:51:52.745421Z"
    }
   },
   "outputs": [],
   "source": [
    "s = SakeRecommender(raw_sake)"
   ]
  },
  {
   "cell_type": "code",
   "execution_count": 20,
   "metadata": {
    "ExecuteTime": {
     "end_time": "2021-03-05T22:52:53.026083Z",
     "start_time": "2021-03-05T22:52:52.980223Z"
    }
   },
   "outputs": [
    {
     "name": "stderr",
     "output_type": "stream",
     "text": [
      "<ipython-input-16-0849ba34a8b8>:30: SettingWithCopyWarning: \n",
      "A value is trying to be set on a copy of a slice from a DataFrame.\n",
      "Try using .loc[row_indexer,col_indexer] = value instead\n",
      "\n",
      "See the caveats in the documentation: https://pandas.pydata.org/pandas-docs/stable/user_guide/indexing.html#returning-a-view-versus-a-copy\n",
      "  self.df['pca_feats'] = self.df_pca\n"
     ]
    },
    {
     "data": {
      "text/html": [
       "<div>\n",
       "<style scoped>\n",
       "    .dataframe tbody tr th:only-of-type {\n",
       "        vertical-align: middle;\n",
       "    }\n",
       "\n",
       "    .dataframe tbody tr th {\n",
       "        vertical-align: top;\n",
       "    }\n",
       "\n",
       "    .dataframe thead th {\n",
       "        text-align: right;\n",
       "    }\n",
       "</style>\n",
       "<table border=\"1\" class=\"dataframe\">\n",
       "  <thead>\n",
       "    <tr style=\"text-align: right;\">\n",
       "      <th></th>\n",
       "      <th>rec_label</th>\n",
       "      <th>name</th>\n",
       "      <th>type</th>\n",
       "      <th>price</th>\n",
       "      <th>prefecture</th>\n",
       "      <th>smv</th>\n",
       "      <th>acidity</th>\n",
       "      <th>kw_word</th>\n",
       "      <th>kw_wines</th>\n",
       "      <th>kw_beer</th>\n",
       "      <th>description</th>\n",
       "      <th>url</th>\n",
       "    </tr>\n",
       "  </thead>\n",
       "  <tbody>\n",
       "    <tr>\n",
       "      <th>33</th>\n",
       "      <td>Liked</td>\n",
       "      <td>Tengumai Yamahai Junmai \"Dance of the Demon\"</td>\n",
       "      <td>yamahai junmai</td>\n",
       "      <td>30</td>\n",
       "      <td>ishikawa</td>\n",
       "      <td>4.0</td>\n",
       "      <td>1.8</td>\n",
       "      <td>amber</td>\n",
       "      <td>thick reds chewy whites</td>\n",
       "      <td>ambers honey stouts</td>\n",
       "      <td>tengumai is another of the to do sakes on your...</td>\n",
       "      <td>https://www.truesake.com/collections/all/produ...</td>\n",
       "    </tr>\n",
       "    <tr>\n",
       "      <th>63</th>\n",
       "      <td>Liked</td>\n",
       "      <td>DEN Junmai Nama</td>\n",
       "      <td>junmai nama</td>\n",
       "      <td>29</td>\n",
       "      <td>california</td>\n",
       "      <td>3.6</td>\n",
       "      <td>2.4</td>\n",
       "      <td>lively</td>\n",
       "      <td>zesty reds crisp whites</td>\n",
       "      <td>crisp fruity ales</td>\n",
       "      <td>den batch 12the nose on this locally made craf...</td>\n",
       "      <td>https://www.truesake.com/collections/all/produ...</td>\n",
       "    </tr>\n",
       "    <tr>\n",
       "      <th>68</th>\n",
       "      <td>Recommended</td>\n",
       "      <td>Shirataki Jozen Jukusei Junmai Ginjo \"Pink\"</td>\n",
       "      <td></td>\n",
       "      <td>25</td>\n",
       "      <td>niigata</td>\n",
       "      <td>3.0</td>\n",
       "      <td>1.4</td>\n",
       "      <td>smooth</td>\n",
       "      <td>pinot noir white burgundy</td>\n",
       "      <td>ales</td>\n",
       "      <td>the upgrade on one of the most drinkable sakes...</td>\n",
       "      <td>https://www.truesake.com/collections/all/produ...</td>\n",
       "    </tr>\n",
       "    <tr>\n",
       "      <th>118</th>\n",
       "      <td>Recommended</td>\n",
       "      <td>Amabuki Junmai Daiginjo Kimoto \"Rhododendron\"</td>\n",
       "      <td>junmai daiginjo kimoto</td>\n",
       "      <td>36</td>\n",
       "      <td>saga</td>\n",
       "      <td>5.0</td>\n",
       "      <td>1.8</td>\n",
       "      <td>complex</td>\n",
       "      <td>fat reds fruity whites</td>\n",
       "      <td>crisp ales</td>\n",
       "      <td>this brewery is famous for making sakes using ...</td>\n",
       "      <td>https://www.truesake.com/collections/all/produ...</td>\n",
       "    </tr>\n",
       "    <tr>\n",
       "      <th>140</th>\n",
       "      <td>Recommended</td>\n",
       "      <td>Kamotsuru Tokusei Kinpaku \"Gold Flake\"</td>\n",
       "      <td>daiginjo</td>\n",
       "      <td>18</td>\n",
       "      <td>hiroshima</td>\n",
       "      <td>2.0</td>\n",
       "      <td>1.4</td>\n",
       "      <td>strawberry</td>\n",
       "      <td>fruity reds crisp whites</td>\n",
       "      <td>ales ambers</td>\n",
       "      <td>this gold flake sake has two pieces of gold th...</td>\n",
       "      <td>https://www.truesake.com/collections/all/produ...</td>\n",
       "    </tr>\n",
       "  </tbody>\n",
       "</table>\n",
       "</div>"
      ],
      "text/plain": [
       "       rec_label                                           name  \\\n",
       "33         Liked   Tengumai Yamahai Junmai \"Dance of the Demon\"   \n",
       "63         Liked                                DEN Junmai Nama   \n",
       "68   Recommended    Shirataki Jozen Jukusei Junmai Ginjo \"Pink\"   \n",
       "118  Recommended  Amabuki Junmai Daiginjo Kimoto \"Rhododendron\"   \n",
       "140  Recommended         Kamotsuru Tokusei Kinpaku \"Gold Flake\"   \n",
       "\n",
       "                       type  price  prefecture  smv  acidity     kw_word  \\\n",
       "33           yamahai junmai     30    ishikawa  4.0      1.8       amber   \n",
       "63              junmai nama     29  california  3.6      2.4      lively   \n",
       "68                              25     niigata  3.0      1.4      smooth   \n",
       "118  junmai daiginjo kimoto     36        saga  5.0      1.8     complex   \n",
       "140                daiginjo     18   hiroshima  2.0      1.4  strawberry   \n",
       "\n",
       "                      kw_wines              kw_beer  \\\n",
       "33     thick reds chewy whites  ambers honey stouts   \n",
       "63     zesty reds crisp whites    crisp fruity ales   \n",
       "68   pinot noir white burgundy                 ales   \n",
       "118     fat reds fruity whites           crisp ales   \n",
       "140   fruity reds crisp whites          ales ambers   \n",
       "\n",
       "                                           description  \\\n",
       "33   tengumai is another of the to do sakes on your...   \n",
       "63   den batch 12the nose on this locally made craf...   \n",
       "68   the upgrade on one of the most drinkable sakes...   \n",
       "118  this brewery is famous for making sakes using ...   \n",
       "140  this gold flake sake has two pieces of gold th...   \n",
       "\n",
       "                                                   url  \n",
       "33   https://www.truesake.com/collections/all/produ...  \n",
       "63   https://www.truesake.com/collections/all/produ...  \n",
       "68   https://www.truesake.com/collections/all/produ...  \n",
       "118  https://www.truesake.com/collections/all/produ...  \n",
       "140  https://www.truesake.com/collections/all/produ...  "
      ]
     },
     "execution_count": 20,
     "metadata": {},
     "output_type": "execute_result"
    }
   ],
   "source": [
    "sake_i_like = [\n",
    "    'DEN Junmai Nama',\n",
    "    'Tengumai Yamahai Junmai \"Dance of the Demon\"'\n",
    "              ]\n",
    "\n",
    "s.recommend_sake(sake_i_like, num_recs=3)"
   ]
  },
  {
   "cell_type": "code",
   "execution_count": null,
   "metadata": {},
   "outputs": [],
   "source": []
  },
  {
   "cell_type": "code",
   "execution_count": null,
   "metadata": {},
   "outputs": [],
   "source": []
  },
  {
   "cell_type": "code",
   "execution_count": null,
   "metadata": {},
   "outputs": [],
   "source": []
  },
  {
   "cell_type": "code",
   "execution_count": null,
   "metadata": {},
   "outputs": [],
   "source": []
  },
  {
   "cell_type": "code",
   "execution_count": null,
   "metadata": {},
   "outputs": [],
   "source": []
  },
  {
   "cell_type": "code",
   "execution_count": null,
   "metadata": {
    "ExecuteTime": {
     "end_time": "2021-03-05T22:04:00.395589Z",
     "start_time": "2021-03-05T22:04:00.386412Z"
    }
   },
   "outputs": [],
   "source": [
    "s.df.head()"
   ]
  },
  {
   "cell_type": "code",
   "execution_count": null,
   "metadata": {},
   "outputs": [],
   "source": []
  },
  {
   "cell_type": "code",
   "execution_count": 3,
   "metadata": {
    "ExecuteTime": {
     "end_time": "2021-03-05T22:42:50.729155Z",
     "start_time": "2021-03-05T22:42:50.713957Z"
    }
   },
   "outputs": [
    {
     "data": {
      "text/html": [
       "<div>\n",
       "<style scoped>\n",
       "    .dataframe tbody tr th:only-of-type {\n",
       "        vertical-align: middle;\n",
       "    }\n",
       "\n",
       "    .dataframe tbody tr th {\n",
       "        vertical-align: top;\n",
       "    }\n",
       "\n",
       "    .dataframe thead th {\n",
       "        text-align: right;\n",
       "    }\n",
       "</style>\n",
       "<table border=\"1\" class=\"dataframe\">\n",
       "  <thead>\n",
       "    <tr style=\"text-align: right;\">\n",
       "      <th></th>\n",
       "      <th>name</th>\n",
       "      <th>url</th>\n",
       "      <th>price</th>\n",
       "      <th>smv</th>\n",
       "      <th>acidity</th>\n",
       "      <th>type</th>\n",
       "      <th>prefecture</th>\n",
       "      <th>kw_word</th>\n",
       "      <th>kw_wines</th>\n",
       "      <th>kw_beer</th>\n",
       "      <th>kw_foods</th>\n",
       "      <th>description</th>\n",
       "    </tr>\n",
       "  </thead>\n",
       "  <tbody>\n",
       "    <tr>\n",
       "      <th>0</th>\n",
       "      <td>Dassai 45 Junmai Daiginjo \"Otter Festival\"</td>\n",
       "      <td>https://www.truesake.com/collections/all/produ...</td>\n",
       "      <td>30</td>\n",
       "      <td>3.0</td>\n",
       "      <td>1.4</td>\n",
       "      <td>junmai daiginjo</td>\n",
       "      <td>yamaguchi</td>\n",
       "      <td>chunky</td>\n",
       "      <td>pinot noir  chewy whites</td>\n",
       "      <td>ales</td>\n",
       "      <td>mushroom risotto tempura fried chicken caviar ...</td>\n",
       "      <td>this sake has an older brother daiginjo that h...</td>\n",
       "    </tr>\n",
       "    <tr>\n",
       "      <th>1</th>\n",
       "      <td>Kikusui Junmai Ginjo \"Chrysanthemum Water\"</td>\n",
       "      <td>https://www.truesake.com/collections/all/produ...</td>\n",
       "      <td>33</td>\n",
       "      <td>1.0</td>\n",
       "      <td>1.6</td>\n",
       "      <td>junmai ginjo</td>\n",
       "      <td>niigata</td>\n",
       "      <td>citrus</td>\n",
       "      <td>sharp whites dry reds</td>\n",
       "      <td>ales ambers</td>\n",
       "      <td>suitable for light and stronger flavored dishe...</td>\n",
       "      <td>true sake owner beau timken recorded kikusui a...</td>\n",
       "    </tr>\n",
       "    <tr>\n",
       "      <th>2</th>\n",
       "      <td>Wakatake Onikoroshi Junmai Daiginjo \"Demon Sla...</td>\n",
       "      <td>https://www.truesake.com/collections/all/produ...</td>\n",
       "      <td>49</td>\n",
       "      <td>0.0</td>\n",
       "      <td>1.4</td>\n",
       "      <td>junmai daiginjo</td>\n",
       "      <td>shizuoka</td>\n",
       "      <td>popular</td>\n",
       "      <td>elegant reds complex whites</td>\n",
       "      <td>crisp ales</td>\n",
       "      <td>cuisines that like big white wines</td>\n",
       "      <td>talk about a nice aroma package on this ultrap...</td>\n",
       "    </tr>\n",
       "    <tr>\n",
       "      <th>3</th>\n",
       "      <td>Shunnoten Tokubetsu Junmai \"Fishermen Cup\"</td>\n",
       "      <td>https://www.truesake.com/collections/all/produ...</td>\n",
       "      <td>9</td>\n",
       "      <td>3.0</td>\n",
       "      <td>1.6</td>\n",
       "      <td>tokubetsu junmai</td>\n",
       "      <td>yamanashi</td>\n",
       "      <td>smooth</td>\n",
       "      <td>pinot noir slippery whites</td>\n",
       "      <td>gentle ales</td>\n",
       "      <td>none</td>\n",
       "      <td>the nose on this awesome looking catch cup is ...</td>\n",
       "    </tr>\n",
       "    <tr>\n",
       "      <th>4</th>\n",
       "      <td>Kenbishi Kuromatsu Honjozo \"Black Pine\"</td>\n",
       "      <td>https://www.truesake.com/collections/all/produ...</td>\n",
       "      <td>40</td>\n",
       "      <td>0.5</td>\n",
       "      <td>1.5</td>\n",
       "      <td>honjozo</td>\n",
       "      <td>hyogo</td>\n",
       "      <td>rich</td>\n",
       "      <td>deep reds fat whites</td>\n",
       "      <td>stouts</td>\n",
       "      <td>perfect for pub food salty and savory and grea...</td>\n",
       "      <td>the nose on this extremely famous honjozo from...</td>\n",
       "    </tr>\n",
       "  </tbody>\n",
       "</table>\n",
       "</div>"
      ],
      "text/plain": [
       "                                                name  \\\n",
       "0         Dassai 45 Junmai Daiginjo \"Otter Festival\"   \n",
       "1         Kikusui Junmai Ginjo \"Chrysanthemum Water\"   \n",
       "2  Wakatake Onikoroshi Junmai Daiginjo \"Demon Sla...   \n",
       "3         Shunnoten Tokubetsu Junmai \"Fishermen Cup\"   \n",
       "4            Kenbishi Kuromatsu Honjozo \"Black Pine\"   \n",
       "\n",
       "                                                 url  price  smv  acidity  \\\n",
       "0  https://www.truesake.com/collections/all/produ...     30  3.0      1.4   \n",
       "1  https://www.truesake.com/collections/all/produ...     33  1.0      1.6   \n",
       "2  https://www.truesake.com/collections/all/produ...     49  0.0      1.4   \n",
       "3  https://www.truesake.com/collections/all/produ...      9  3.0      1.6   \n",
       "4  https://www.truesake.com/collections/all/produ...     40  0.5      1.5   \n",
       "\n",
       "               type prefecture  kw_word                     kw_wines  \\\n",
       "0   junmai daiginjo  yamaguchi   chunky     pinot noir  chewy whites   \n",
       "1      junmai ginjo    niigata   citrus        sharp whites dry reds   \n",
       "2   junmai daiginjo   shizuoka  popular  elegant reds complex whites   \n",
       "3  tokubetsu junmai  yamanashi   smooth   pinot noir slippery whites   \n",
       "4           honjozo      hyogo     rich         deep reds fat whites   \n",
       "\n",
       "       kw_beer                                           kw_foods  \\\n",
       "0         ales  mushroom risotto tempura fried chicken caviar ...   \n",
       "1  ales ambers  suitable for light and stronger flavored dishe...   \n",
       "2   crisp ales                 cuisines that like big white wines   \n",
       "3  gentle ales                                               none   \n",
       "4       stouts  perfect for pub food salty and savory and grea...   \n",
       "\n",
       "                                         description  \n",
       "0  this sake has an older brother daiginjo that h...  \n",
       "1  true sake owner beau timken recorded kikusui a...  \n",
       "2  talk about a nice aroma package on this ultrap...  \n",
       "3  the nose on this awesome looking catch cup is ...  \n",
       "4  the nose on this extremely famous honjozo from...  "
      ]
     },
     "execution_count": 3,
     "metadata": {},
     "output_type": "execute_result"
    }
   ],
   "source": [
    "sake = raw_sake[[\n",
    "           'name', \n",
    "           'url', \n",
    "           'price', \n",
    "           'smv', \n",
    "           'acidity', \n",
    "           'type', \n",
    "           'prefecture', \n",
    "           'kw_word', \n",
    "           'kw_wines', \n",
    "           'kw_beer', \n",
    "           'kw_foods', \n",
    "           'description'\n",
    "          ]]\n",
    "\n",
    "sake.head()"
   ]
  },
  {
   "cell_type": "code",
   "execution_count": 4,
   "metadata": {
    "ExecuteTime": {
     "end_time": "2021-03-05T22:43:14.331125Z",
     "start_time": "2021-03-05T22:43:13.646649Z"
    }
   },
   "outputs": [],
   "source": [
    "disabled_components = ['parser', 'tagger', 'ner']\n",
    "nlp = spacy.load('en_core_web_sm', disable=disabled_components)"
   ]
  },
  {
   "cell_type": "code",
   "execution_count": 5,
   "metadata": {
    "ExecuteTime": {
     "end_time": "2021-03-05T22:43:14.878555Z",
     "start_time": "2021-03-05T22:43:14.875021Z"
    }
   },
   "outputs": [],
   "source": [
    "## Lemmatize!\n",
    "\n",
    "def lemmatize(doc: str) -> str:\n",
    "    \n",
    "    # Set up spacy \n",
    "    disabled_components = ['parser', 'tagger', 'ner']\n",
    "    nlp = spacy.load('en_core_web_sm', disable=disabled_components)\n",
    "    \n",
    "    # Lemmatize doc\n",
    "    doc = nlp(doc)\n",
    "    lemma_list = [str(tok.lemma_) for tok in doc if tok.text not in stopwords]\n",
    "    lem_string = \" \".join(lemma_list)\n",
    "    return lem_string"
   ]
  },
  {
   "cell_type": "code",
   "execution_count": 6,
   "metadata": {
    "ExecuteTime": {
     "end_time": "2021-03-05T22:43:18.610809Z",
     "start_time": "2021-03-05T22:43:18.608389Z"
    }
   },
   "outputs": [],
   "source": [
    "df = sake.copy()\n",
    "\n",
    "# df['kw_foods'] = df['kw_foods'].map(lemmatize)\n",
    "# df['description'] = df['description'].map(lemmatize)"
   ]
  },
  {
   "cell_type": "code",
   "execution_count": 7,
   "metadata": {
    "ExecuteTime": {
     "end_time": "2021-03-05T22:43:20.766315Z",
     "start_time": "2021-03-05T22:43:20.201286Z"
    }
   },
   "outputs": [
    {
     "data": {
      "text/plain": [
       "'sample'"
      ]
     },
     "execution_count": 7,
     "metadata": {},
     "output_type": "execute_result"
    }
   ],
   "source": [
    "s = 'this is a sample'\n",
    "\n",
    "lemmatize(s)"
   ]
  },
  {
   "cell_type": "code",
   "execution_count": 8,
   "metadata": {
    "ExecuteTime": {
     "end_time": "2021-03-05T22:43:22.724157Z",
     "start_time": "2021-03-05T22:43:22.716220Z"
    },
    "scrolled": true
   },
   "outputs": [],
   "source": [
    "df['text'] = df['type'] + ' ' + \\\n",
    "            df['prefecture'] + ' ' + \\\n",
    "            df['kw_word'] + ' ' + \\\n",
    "            df['kw_wines'] + ' ' + \\\n",
    "            df['kw_beer'] + ' ' + \\\n",
    "            df['kw_foods'] + ' ' + \\\n",
    "            df['description']\n",
    "\n",
    "df.drop(columns=['type', \n",
    "                 'prefecture', \n",
    "                 'kw_word', \n",
    "                 'kw_wines', \n",
    "                 'kw_beer', \n",
    "                 'kw_foods', \n",
    "                 'description'], inplace=True)\n",
    "\n",
    "# df['text'] = df['text'].map(lemmatize)"
   ]
  },
  {
   "cell_type": "code",
   "execution_count": 9,
   "metadata": {
    "ExecuteTime": {
     "end_time": "2021-03-05T22:43:23.802130Z",
     "start_time": "2021-03-05T22:43:23.792614Z"
    }
   },
   "outputs": [
    {
     "data": {
      "text/html": [
       "<div>\n",
       "<style scoped>\n",
       "    .dataframe tbody tr th:only-of-type {\n",
       "        vertical-align: middle;\n",
       "    }\n",
       "\n",
       "    .dataframe tbody tr th {\n",
       "        vertical-align: top;\n",
       "    }\n",
       "\n",
       "    .dataframe thead th {\n",
       "        text-align: right;\n",
       "    }\n",
       "</style>\n",
       "<table border=\"1\" class=\"dataframe\">\n",
       "  <thead>\n",
       "    <tr style=\"text-align: right;\">\n",
       "      <th></th>\n",
       "      <th>name</th>\n",
       "      <th>url</th>\n",
       "      <th>price</th>\n",
       "      <th>smv</th>\n",
       "      <th>acidity</th>\n",
       "      <th>text</th>\n",
       "    </tr>\n",
       "  </thead>\n",
       "  <tbody>\n",
       "    <tr>\n",
       "      <th>0</th>\n",
       "      <td>Dassai 45 Junmai Daiginjo \"Otter Festival\"</td>\n",
       "      <td>https://www.truesake.com/collections/all/produ...</td>\n",
       "      <td>30</td>\n",
       "      <td>3.0</td>\n",
       "      <td>1.4</td>\n",
       "      <td>junmai daiginjo yamaguchi chunky pinot noir  c...</td>\n",
       "    </tr>\n",
       "    <tr>\n",
       "      <th>1</th>\n",
       "      <td>Kikusui Junmai Ginjo \"Chrysanthemum Water\"</td>\n",
       "      <td>https://www.truesake.com/collections/all/produ...</td>\n",
       "      <td>33</td>\n",
       "      <td>1.0</td>\n",
       "      <td>1.6</td>\n",
       "      <td>junmai ginjo niigata citrus sharp whites dry r...</td>\n",
       "    </tr>\n",
       "    <tr>\n",
       "      <th>2</th>\n",
       "      <td>Wakatake Onikoroshi Junmai Daiginjo \"Demon Sla...</td>\n",
       "      <td>https://www.truesake.com/collections/all/produ...</td>\n",
       "      <td>49</td>\n",
       "      <td>0.0</td>\n",
       "      <td>1.4</td>\n",
       "      <td>junmai daiginjo shizuoka popular elegant reds ...</td>\n",
       "    </tr>\n",
       "    <tr>\n",
       "      <th>3</th>\n",
       "      <td>Shunnoten Tokubetsu Junmai \"Fishermen Cup\"</td>\n",
       "      <td>https://www.truesake.com/collections/all/produ...</td>\n",
       "      <td>9</td>\n",
       "      <td>3.0</td>\n",
       "      <td>1.6</td>\n",
       "      <td>tokubetsu junmai yamanashi smooth pinot noir s...</td>\n",
       "    </tr>\n",
       "    <tr>\n",
       "      <th>4</th>\n",
       "      <td>Kenbishi Kuromatsu Honjozo \"Black Pine\"</td>\n",
       "      <td>https://www.truesake.com/collections/all/produ...</td>\n",
       "      <td>40</td>\n",
       "      <td>0.5</td>\n",
       "      <td>1.5</td>\n",
       "      <td>honjozo hyogo rich deep reds fat whites stouts...</td>\n",
       "    </tr>\n",
       "  </tbody>\n",
       "</table>\n",
       "</div>"
      ],
      "text/plain": [
       "                                                name  \\\n",
       "0         Dassai 45 Junmai Daiginjo \"Otter Festival\"   \n",
       "1         Kikusui Junmai Ginjo \"Chrysanthemum Water\"   \n",
       "2  Wakatake Onikoroshi Junmai Daiginjo \"Demon Sla...   \n",
       "3         Shunnoten Tokubetsu Junmai \"Fishermen Cup\"   \n",
       "4            Kenbishi Kuromatsu Honjozo \"Black Pine\"   \n",
       "\n",
       "                                                 url  price  smv  acidity  \\\n",
       "0  https://www.truesake.com/collections/all/produ...     30  3.0      1.4   \n",
       "1  https://www.truesake.com/collections/all/produ...     33  1.0      1.6   \n",
       "2  https://www.truesake.com/collections/all/produ...     49  0.0      1.4   \n",
       "3  https://www.truesake.com/collections/all/produ...      9  3.0      1.6   \n",
       "4  https://www.truesake.com/collections/all/produ...     40  0.5      1.5   \n",
       "\n",
       "                                                text  \n",
       "0  junmai daiginjo yamaguchi chunky pinot noir  c...  \n",
       "1  junmai ginjo niigata citrus sharp whites dry r...  \n",
       "2  junmai daiginjo shizuoka popular elegant reds ...  \n",
       "3  tokubetsu junmai yamanashi smooth pinot noir s...  \n",
       "4  honjozo hyogo rich deep reds fat whites stouts...  "
      ]
     },
     "execution_count": 9,
     "metadata": {},
     "output_type": "execute_result"
    }
   ],
   "source": [
    "df.head()"
   ]
  },
  {
   "cell_type": "code",
   "execution_count": 10,
   "metadata": {
    "ExecuteTime": {
     "end_time": "2021-03-05T22:44:34.512730Z",
     "start_time": "2021-03-05T22:43:35.641439Z"
    }
   },
   "outputs": [
    {
     "ename": "KeyboardInterrupt",
     "evalue": "",
     "output_type": "error",
     "traceback": [
      "\u001b[0;31m---------------------------------------------------------------------------\u001b[0m",
      "\u001b[0;31mKeyboardInterrupt\u001b[0m                         Traceback (most recent call last)",
      "\u001b[0;32m<ipython-input-10-58a14a489e31>\u001b[0m in \u001b[0;36m<module>\u001b[0;34m\u001b[0m\n\u001b[0;32m----> 1\u001b[0;31m \u001b[0mdf\u001b[0m\u001b[0;34m[\u001b[0m\u001b[0;34m'text'\u001b[0m\u001b[0;34m]\u001b[0m \u001b[0;34m=\u001b[0m \u001b[0mdf\u001b[0m\u001b[0;34m[\u001b[0m\u001b[0;34m'text'\u001b[0m\u001b[0;34m]\u001b[0m\u001b[0;34m.\u001b[0m\u001b[0mmap\u001b[0m\u001b[0;34m(\u001b[0m\u001b[0mlemmatize\u001b[0m\u001b[0;34m)\u001b[0m\u001b[0;34m\u001b[0m\u001b[0;34m\u001b[0m\u001b[0m\n\u001b[0m",
      "\u001b[0;32m~/opt/anaconda3/envs/metis/lib/python3.8/site-packages/pandas/core/series.py\u001b[0m in \u001b[0;36mmap\u001b[0;34m(self, arg, na_action)\u001b[0m\n\u001b[1;32m   3968\u001b[0m         \u001b[0mdtype\u001b[0m\u001b[0;34m:\u001b[0m \u001b[0mobject\u001b[0m\u001b[0;34m\u001b[0m\u001b[0;34m\u001b[0m\u001b[0m\n\u001b[1;32m   3969\u001b[0m         \"\"\"\n\u001b[0;32m-> 3970\u001b[0;31m         \u001b[0mnew_values\u001b[0m \u001b[0;34m=\u001b[0m \u001b[0msuper\u001b[0m\u001b[0;34m(\u001b[0m\u001b[0;34m)\u001b[0m\u001b[0;34m.\u001b[0m\u001b[0m_map_values\u001b[0m\u001b[0;34m(\u001b[0m\u001b[0marg\u001b[0m\u001b[0;34m,\u001b[0m \u001b[0mna_action\u001b[0m\u001b[0;34m=\u001b[0m\u001b[0mna_action\u001b[0m\u001b[0;34m)\u001b[0m\u001b[0;34m\u001b[0m\u001b[0;34m\u001b[0m\u001b[0m\n\u001b[0m\u001b[1;32m   3971\u001b[0m         return self._constructor(new_values, index=self.index).__finalize__(\n\u001b[1;32m   3972\u001b[0m             \u001b[0mself\u001b[0m\u001b[0;34m,\u001b[0m \u001b[0mmethod\u001b[0m\u001b[0;34m=\u001b[0m\u001b[0;34m\"map\"\u001b[0m\u001b[0;34m\u001b[0m\u001b[0;34m\u001b[0m\u001b[0m\n",
      "\u001b[0;32m~/opt/anaconda3/envs/metis/lib/python3.8/site-packages/pandas/core/base.py\u001b[0m in \u001b[0;36m_map_values\u001b[0;34m(self, mapper, na_action)\u001b[0m\n\u001b[1;32m   1158\u001b[0m \u001b[0;34m\u001b[0m\u001b[0m\n\u001b[1;32m   1159\u001b[0m         \u001b[0;31m# mapper is a function\u001b[0m\u001b[0;34m\u001b[0m\u001b[0;34m\u001b[0m\u001b[0;34m\u001b[0m\u001b[0m\n\u001b[0;32m-> 1160\u001b[0;31m         \u001b[0mnew_values\u001b[0m \u001b[0;34m=\u001b[0m \u001b[0mmap_f\u001b[0m\u001b[0;34m(\u001b[0m\u001b[0mvalues\u001b[0m\u001b[0;34m,\u001b[0m \u001b[0mmapper\u001b[0m\u001b[0;34m)\u001b[0m\u001b[0;34m\u001b[0m\u001b[0;34m\u001b[0m\u001b[0m\n\u001b[0m\u001b[1;32m   1161\u001b[0m \u001b[0;34m\u001b[0m\u001b[0m\n\u001b[1;32m   1162\u001b[0m         \u001b[0;32mreturn\u001b[0m \u001b[0mnew_values\u001b[0m\u001b[0;34m\u001b[0m\u001b[0;34m\u001b[0m\u001b[0m\n",
      "\u001b[0;32mpandas/_libs/lib.pyx\u001b[0m in \u001b[0;36mpandas._libs.lib.map_infer\u001b[0;34m()\u001b[0m\n",
      "\u001b[0;32m<ipython-input-5-321f6336ad21>\u001b[0m in \u001b[0;36mlemmatize\u001b[0;34m(doc)\u001b[0m\n\u001b[1;32m      5\u001b[0m     \u001b[0;31m# Set up spacy\u001b[0m\u001b[0;34m\u001b[0m\u001b[0;34m\u001b[0m\u001b[0;34m\u001b[0m\u001b[0m\n\u001b[1;32m      6\u001b[0m     \u001b[0mdisabled_components\u001b[0m \u001b[0;34m=\u001b[0m \u001b[0;34m[\u001b[0m\u001b[0;34m'parser'\u001b[0m\u001b[0;34m,\u001b[0m \u001b[0;34m'tagger'\u001b[0m\u001b[0;34m,\u001b[0m \u001b[0;34m'ner'\u001b[0m\u001b[0;34m]\u001b[0m\u001b[0;34m\u001b[0m\u001b[0;34m\u001b[0m\u001b[0m\n\u001b[0;32m----> 7\u001b[0;31m     \u001b[0mnlp\u001b[0m \u001b[0;34m=\u001b[0m \u001b[0mspacy\u001b[0m\u001b[0;34m.\u001b[0m\u001b[0mload\u001b[0m\u001b[0;34m(\u001b[0m\u001b[0;34m'en_core_web_sm'\u001b[0m\u001b[0;34m,\u001b[0m \u001b[0mdisable\u001b[0m\u001b[0;34m=\u001b[0m\u001b[0mdisabled_components\u001b[0m\u001b[0;34m)\u001b[0m\u001b[0;34m\u001b[0m\u001b[0;34m\u001b[0m\u001b[0m\n\u001b[0m\u001b[1;32m      8\u001b[0m \u001b[0;34m\u001b[0m\u001b[0m\n\u001b[1;32m      9\u001b[0m     \u001b[0;31m# Lemmatize doc\u001b[0m\u001b[0;34m\u001b[0m\u001b[0;34m\u001b[0m\u001b[0;34m\u001b[0m\u001b[0m\n",
      "\u001b[0;32m~/opt/anaconda3/envs/metis/lib/python3.8/site-packages/spacy/__init__.py\u001b[0m in \u001b[0;36mload\u001b[0;34m(name, **overrides)\u001b[0m\n\u001b[1;32m     28\u001b[0m     \u001b[0;32mif\u001b[0m \u001b[0mdepr_path\u001b[0m \u001b[0;32mnot\u001b[0m \u001b[0;32min\u001b[0m \u001b[0;34m(\u001b[0m\u001b[0;32mTrue\u001b[0m\u001b[0;34m,\u001b[0m \u001b[0;32mFalse\u001b[0m\u001b[0;34m,\u001b[0m \u001b[0;32mNone\u001b[0m\u001b[0;34m)\u001b[0m\u001b[0;34m:\u001b[0m\u001b[0;34m\u001b[0m\u001b[0;34m\u001b[0m\u001b[0m\n\u001b[1;32m     29\u001b[0m         \u001b[0mwarnings\u001b[0m\u001b[0;34m.\u001b[0m\u001b[0mwarn\u001b[0m\u001b[0;34m(\u001b[0m\u001b[0mWarnings\u001b[0m\u001b[0;34m.\u001b[0m\u001b[0mW001\u001b[0m\u001b[0;34m.\u001b[0m\u001b[0mformat\u001b[0m\u001b[0;34m(\u001b[0m\u001b[0mpath\u001b[0m\u001b[0;34m=\u001b[0m\u001b[0mdepr_path\u001b[0m\u001b[0;34m)\u001b[0m\u001b[0;34m,\u001b[0m \u001b[0mDeprecationWarning\u001b[0m\u001b[0;34m)\u001b[0m\u001b[0;34m\u001b[0m\u001b[0;34m\u001b[0m\u001b[0m\n\u001b[0;32m---> 30\u001b[0;31m     \u001b[0;32mreturn\u001b[0m \u001b[0mutil\u001b[0m\u001b[0;34m.\u001b[0m\u001b[0mload_model\u001b[0m\u001b[0;34m(\u001b[0m\u001b[0mname\u001b[0m\u001b[0;34m,\u001b[0m \u001b[0;34m**\u001b[0m\u001b[0moverrides\u001b[0m\u001b[0;34m)\u001b[0m\u001b[0;34m\u001b[0m\u001b[0;34m\u001b[0m\u001b[0m\n\u001b[0m\u001b[1;32m     31\u001b[0m \u001b[0;34m\u001b[0m\u001b[0m\n\u001b[1;32m     32\u001b[0m \u001b[0;34m\u001b[0m\u001b[0m\n",
      "\u001b[0;32m~/opt/anaconda3/envs/metis/lib/python3.8/site-packages/spacy/util.py\u001b[0m in \u001b[0;36mload_model\u001b[0;34m(name, **overrides)\u001b[0m\n\u001b[1;32m    168\u001b[0m             \u001b[0;32mreturn\u001b[0m \u001b[0mload_model_from_link\u001b[0m\u001b[0;34m(\u001b[0m\u001b[0mname\u001b[0m\u001b[0;34m,\u001b[0m \u001b[0;34m**\u001b[0m\u001b[0moverrides\u001b[0m\u001b[0;34m)\u001b[0m\u001b[0;34m\u001b[0m\u001b[0;34m\u001b[0m\u001b[0m\n\u001b[1;32m    169\u001b[0m         \u001b[0;32mif\u001b[0m \u001b[0mis_package\u001b[0m\u001b[0;34m(\u001b[0m\u001b[0mname\u001b[0m\u001b[0;34m)\u001b[0m\u001b[0;34m:\u001b[0m  \u001b[0;31m# installed as package\u001b[0m\u001b[0;34m\u001b[0m\u001b[0;34m\u001b[0m\u001b[0m\n\u001b[0;32m--> 170\u001b[0;31m             \u001b[0;32mreturn\u001b[0m \u001b[0mload_model_from_package\u001b[0m\u001b[0;34m(\u001b[0m\u001b[0mname\u001b[0m\u001b[0;34m,\u001b[0m \u001b[0;34m**\u001b[0m\u001b[0moverrides\u001b[0m\u001b[0;34m)\u001b[0m\u001b[0;34m\u001b[0m\u001b[0;34m\u001b[0m\u001b[0m\n\u001b[0m\u001b[1;32m    171\u001b[0m         \u001b[0;32mif\u001b[0m \u001b[0mPath\u001b[0m\u001b[0;34m(\u001b[0m\u001b[0mname\u001b[0m\u001b[0;34m)\u001b[0m\u001b[0;34m.\u001b[0m\u001b[0mexists\u001b[0m\u001b[0;34m(\u001b[0m\u001b[0;34m)\u001b[0m\u001b[0;34m:\u001b[0m  \u001b[0;31m# path to model data directory\u001b[0m\u001b[0;34m\u001b[0m\u001b[0;34m\u001b[0m\u001b[0m\n\u001b[1;32m    172\u001b[0m             \u001b[0;32mreturn\u001b[0m \u001b[0mload_model_from_path\u001b[0m\u001b[0;34m(\u001b[0m\u001b[0mPath\u001b[0m\u001b[0;34m(\u001b[0m\u001b[0mname\u001b[0m\u001b[0;34m)\u001b[0m\u001b[0;34m,\u001b[0m \u001b[0;34m**\u001b[0m\u001b[0moverrides\u001b[0m\u001b[0;34m)\u001b[0m\u001b[0;34m\u001b[0m\u001b[0;34m\u001b[0m\u001b[0m\n",
      "\u001b[0;32m~/opt/anaconda3/envs/metis/lib/python3.8/site-packages/spacy/util.py\u001b[0m in \u001b[0;36mload_model_from_package\u001b[0;34m(name, **overrides)\u001b[0m\n\u001b[1;32m    189\u001b[0m     \u001b[0;34m\"\"\"Load a model from an installed package.\"\"\"\u001b[0m\u001b[0;34m\u001b[0m\u001b[0;34m\u001b[0m\u001b[0m\n\u001b[1;32m    190\u001b[0m     \u001b[0mcls\u001b[0m \u001b[0;34m=\u001b[0m \u001b[0mimportlib\u001b[0m\u001b[0;34m.\u001b[0m\u001b[0mimport_module\u001b[0m\u001b[0;34m(\u001b[0m\u001b[0mname\u001b[0m\u001b[0;34m)\u001b[0m\u001b[0;34m\u001b[0m\u001b[0;34m\u001b[0m\u001b[0m\n\u001b[0;32m--> 191\u001b[0;31m     \u001b[0;32mreturn\u001b[0m \u001b[0mcls\u001b[0m\u001b[0;34m.\u001b[0m\u001b[0mload\u001b[0m\u001b[0;34m(\u001b[0m\u001b[0;34m**\u001b[0m\u001b[0moverrides\u001b[0m\u001b[0;34m)\u001b[0m\u001b[0;34m\u001b[0m\u001b[0;34m\u001b[0m\u001b[0m\n\u001b[0m\u001b[1;32m    192\u001b[0m \u001b[0;34m\u001b[0m\u001b[0m\n\u001b[1;32m    193\u001b[0m \u001b[0;34m\u001b[0m\u001b[0m\n",
      "\u001b[0;32m~/opt/anaconda3/envs/metis/lib/python3.8/site-packages/en_core_web_sm/__init__.py\u001b[0m in \u001b[0;36mload\u001b[0;34m(**overrides)\u001b[0m\n\u001b[1;32m     10\u001b[0m \u001b[0;34m\u001b[0m\u001b[0m\n\u001b[1;32m     11\u001b[0m \u001b[0;32mdef\u001b[0m \u001b[0mload\u001b[0m\u001b[0;34m(\u001b[0m\u001b[0;34m**\u001b[0m\u001b[0moverrides\u001b[0m\u001b[0;34m)\u001b[0m\u001b[0;34m:\u001b[0m\u001b[0;34m\u001b[0m\u001b[0;34m\u001b[0m\u001b[0m\n\u001b[0;32m---> 12\u001b[0;31m     \u001b[0;32mreturn\u001b[0m \u001b[0mload_model_from_init_py\u001b[0m\u001b[0;34m(\u001b[0m\u001b[0m__file__\u001b[0m\u001b[0;34m,\u001b[0m \u001b[0;34m**\u001b[0m\u001b[0moverrides\u001b[0m\u001b[0;34m)\u001b[0m\u001b[0;34m\u001b[0m\u001b[0;34m\u001b[0m\u001b[0m\n\u001b[0m",
      "\u001b[0;32m~/opt/anaconda3/envs/metis/lib/python3.8/site-packages/spacy/util.py\u001b[0m in \u001b[0;36mload_model_from_init_py\u001b[0;34m(init_file, **overrides)\u001b[0m\n\u001b[1;32m    237\u001b[0m     \u001b[0;32mif\u001b[0m \u001b[0;32mnot\u001b[0m \u001b[0mmodel_path\u001b[0m\u001b[0;34m.\u001b[0m\u001b[0mexists\u001b[0m\u001b[0;34m(\u001b[0m\u001b[0;34m)\u001b[0m\u001b[0;34m:\u001b[0m\u001b[0;34m\u001b[0m\u001b[0;34m\u001b[0m\u001b[0m\n\u001b[1;32m    238\u001b[0m         \u001b[0;32mraise\u001b[0m \u001b[0mIOError\u001b[0m\u001b[0;34m(\u001b[0m\u001b[0mErrors\u001b[0m\u001b[0;34m.\u001b[0m\u001b[0mE052\u001b[0m\u001b[0;34m.\u001b[0m\u001b[0mformat\u001b[0m\u001b[0;34m(\u001b[0m\u001b[0mpath\u001b[0m\u001b[0;34m=\u001b[0m\u001b[0mpath2str\u001b[0m\u001b[0;34m(\u001b[0m\u001b[0mdata_path\u001b[0m\u001b[0;34m)\u001b[0m\u001b[0;34m)\u001b[0m\u001b[0;34m)\u001b[0m\u001b[0;34m\u001b[0m\u001b[0;34m\u001b[0m\u001b[0m\n\u001b[0;32m--> 239\u001b[0;31m     \u001b[0;32mreturn\u001b[0m \u001b[0mload_model_from_path\u001b[0m\u001b[0;34m(\u001b[0m\u001b[0mdata_path\u001b[0m\u001b[0;34m,\u001b[0m \u001b[0mmeta\u001b[0m\u001b[0;34m,\u001b[0m \u001b[0;34m**\u001b[0m\u001b[0moverrides\u001b[0m\u001b[0;34m)\u001b[0m\u001b[0;34m\u001b[0m\u001b[0;34m\u001b[0m\u001b[0m\n\u001b[0m\u001b[1;32m    240\u001b[0m \u001b[0;34m\u001b[0m\u001b[0m\n\u001b[1;32m    241\u001b[0m \u001b[0;34m\u001b[0m\u001b[0m\n",
      "\u001b[0;32m~/opt/anaconda3/envs/metis/lib/python3.8/site-packages/spacy/util.py\u001b[0m in \u001b[0;36mload_model_from_path\u001b[0;34m(model_path, meta, **overrides)\u001b[0m\n\u001b[1;32m    201\u001b[0m     \u001b[0mlang\u001b[0m \u001b[0;34m=\u001b[0m \u001b[0mmeta\u001b[0m\u001b[0;34m.\u001b[0m\u001b[0mget\u001b[0m\u001b[0;34m(\u001b[0m\u001b[0;34m\"lang_factory\"\u001b[0m\u001b[0;34m,\u001b[0m \u001b[0mmeta\u001b[0m\u001b[0;34m[\u001b[0m\u001b[0;34m\"lang\"\u001b[0m\u001b[0;34m]\u001b[0m\u001b[0;34m)\u001b[0m\u001b[0;34m\u001b[0m\u001b[0;34m\u001b[0m\u001b[0m\n\u001b[1;32m    202\u001b[0m     \u001b[0mcls\u001b[0m \u001b[0;34m=\u001b[0m \u001b[0mget_lang_class\u001b[0m\u001b[0;34m(\u001b[0m\u001b[0mlang\u001b[0m\u001b[0;34m)\u001b[0m\u001b[0;34m\u001b[0m\u001b[0;34m\u001b[0m\u001b[0m\n\u001b[0;32m--> 203\u001b[0;31m     \u001b[0mnlp\u001b[0m \u001b[0;34m=\u001b[0m \u001b[0mcls\u001b[0m\u001b[0;34m(\u001b[0m\u001b[0mmeta\u001b[0m\u001b[0;34m=\u001b[0m\u001b[0mmeta\u001b[0m\u001b[0;34m,\u001b[0m \u001b[0;34m**\u001b[0m\u001b[0moverrides\u001b[0m\u001b[0;34m)\u001b[0m\u001b[0;34m\u001b[0m\u001b[0;34m\u001b[0m\u001b[0m\n\u001b[0m\u001b[1;32m    204\u001b[0m     \u001b[0mpipeline\u001b[0m \u001b[0;34m=\u001b[0m \u001b[0mmeta\u001b[0m\u001b[0;34m.\u001b[0m\u001b[0mget\u001b[0m\u001b[0;34m(\u001b[0m\u001b[0;34m\"pipeline\"\u001b[0m\u001b[0;34m,\u001b[0m \u001b[0;34m[\u001b[0m\u001b[0;34m]\u001b[0m\u001b[0;34m)\u001b[0m\u001b[0;34m\u001b[0m\u001b[0;34m\u001b[0m\u001b[0m\n\u001b[1;32m    205\u001b[0m     \u001b[0mfactories\u001b[0m \u001b[0;34m=\u001b[0m \u001b[0mmeta\u001b[0m\u001b[0;34m.\u001b[0m\u001b[0mget\u001b[0m\u001b[0;34m(\u001b[0m\u001b[0;34m\"factories\"\u001b[0m\u001b[0;34m,\u001b[0m \u001b[0;34m{\u001b[0m\u001b[0;34m}\u001b[0m\u001b[0;34m)\u001b[0m\u001b[0;34m\u001b[0m\u001b[0;34m\u001b[0m\u001b[0m\n",
      "\u001b[0;32m~/opt/anaconda3/envs/metis/lib/python3.8/site-packages/spacy/language.py\u001b[0m in \u001b[0;36m__init__\u001b[0;34m(self, vocab, make_doc, max_length, meta, **kwargs)\u001b[0m\n\u001b[1;32m    175\u001b[0m         \u001b[0;32mif\u001b[0m \u001b[0mvocab\u001b[0m \u001b[0;32mis\u001b[0m \u001b[0;32mTrue\u001b[0m\u001b[0;34m:\u001b[0m\u001b[0;34m\u001b[0m\u001b[0;34m\u001b[0m\u001b[0m\n\u001b[1;32m    176\u001b[0m             \u001b[0mfactory\u001b[0m \u001b[0;34m=\u001b[0m \u001b[0mself\u001b[0m\u001b[0;34m.\u001b[0m\u001b[0mDefaults\u001b[0m\u001b[0;34m.\u001b[0m\u001b[0mcreate_vocab\u001b[0m\u001b[0;34m\u001b[0m\u001b[0;34m\u001b[0m\u001b[0m\n\u001b[0;32m--> 177\u001b[0;31m             \u001b[0mvocab\u001b[0m \u001b[0;34m=\u001b[0m \u001b[0mfactory\u001b[0m\u001b[0;34m(\u001b[0m\u001b[0mself\u001b[0m\u001b[0;34m,\u001b[0m \u001b[0;34m**\u001b[0m\u001b[0mmeta\u001b[0m\u001b[0;34m.\u001b[0m\u001b[0mget\u001b[0m\u001b[0;34m(\u001b[0m\u001b[0;34m\"vocab\"\u001b[0m\u001b[0;34m,\u001b[0m \u001b[0;34m{\u001b[0m\u001b[0;34m}\u001b[0m\u001b[0;34m)\u001b[0m\u001b[0;34m)\u001b[0m\u001b[0;34m\u001b[0m\u001b[0;34m\u001b[0m\u001b[0m\n\u001b[0m\u001b[1;32m    178\u001b[0m             \u001b[0;32mif\u001b[0m \u001b[0mvocab\u001b[0m\u001b[0;34m.\u001b[0m\u001b[0mvectors\u001b[0m\u001b[0;34m.\u001b[0m\u001b[0mname\u001b[0m \u001b[0;32mis\u001b[0m \u001b[0;32mNone\u001b[0m\u001b[0;34m:\u001b[0m\u001b[0;34m\u001b[0m\u001b[0;34m\u001b[0m\u001b[0m\n\u001b[1;32m    179\u001b[0m                 \u001b[0mvocab\u001b[0m\u001b[0;34m.\u001b[0m\u001b[0mvectors\u001b[0m\u001b[0;34m.\u001b[0m\u001b[0mname\u001b[0m \u001b[0;34m=\u001b[0m \u001b[0mmeta\u001b[0m\u001b[0;34m.\u001b[0m\u001b[0mget\u001b[0m\u001b[0;34m(\u001b[0m\u001b[0;34m\"vectors\"\u001b[0m\u001b[0;34m,\u001b[0m \u001b[0;34m{\u001b[0m\u001b[0;34m}\u001b[0m\u001b[0;34m)\u001b[0m\u001b[0;34m.\u001b[0m\u001b[0mget\u001b[0m\u001b[0;34m(\u001b[0m\u001b[0;34m\"name\"\u001b[0m\u001b[0;34m)\u001b[0m\u001b[0;34m\u001b[0m\u001b[0;34m\u001b[0m\u001b[0m\n",
      "\u001b[0;32m~/opt/anaconda3/envs/metis/lib/python3.8/site-packages/spacy/language.py\u001b[0m in \u001b[0;36mcreate_vocab\u001b[0;34m(cls, nlp)\u001b[0m\n\u001b[1;32m     66\u001b[0m     \u001b[0;34m@\u001b[0m\u001b[0mclassmethod\u001b[0m\u001b[0;34m\u001b[0m\u001b[0;34m\u001b[0m\u001b[0m\n\u001b[1;32m     67\u001b[0m     \u001b[0;32mdef\u001b[0m \u001b[0mcreate_vocab\u001b[0m\u001b[0;34m(\u001b[0m\u001b[0mcls\u001b[0m\u001b[0;34m,\u001b[0m \u001b[0mnlp\u001b[0m\u001b[0;34m=\u001b[0m\u001b[0;32mNone\u001b[0m\u001b[0;34m)\u001b[0m\u001b[0;34m:\u001b[0m\u001b[0;34m\u001b[0m\u001b[0;34m\u001b[0m\u001b[0m\n\u001b[0;32m---> 68\u001b[0;31m         \u001b[0mlookups\u001b[0m \u001b[0;34m=\u001b[0m \u001b[0mcls\u001b[0m\u001b[0;34m.\u001b[0m\u001b[0mcreate_lookups\u001b[0m\u001b[0;34m(\u001b[0m\u001b[0mnlp\u001b[0m\u001b[0;34m)\u001b[0m\u001b[0;34m\u001b[0m\u001b[0;34m\u001b[0m\u001b[0m\n\u001b[0m\u001b[1;32m     69\u001b[0m         \u001b[0mlemmatizer\u001b[0m \u001b[0;34m=\u001b[0m \u001b[0mcls\u001b[0m\u001b[0;34m.\u001b[0m\u001b[0mcreate_lemmatizer\u001b[0m\u001b[0;34m(\u001b[0m\u001b[0mnlp\u001b[0m\u001b[0;34m,\u001b[0m \u001b[0mlookups\u001b[0m\u001b[0;34m=\u001b[0m\u001b[0mlookups\u001b[0m\u001b[0;34m)\u001b[0m\u001b[0;34m\u001b[0m\u001b[0;34m\u001b[0m\u001b[0m\n\u001b[1;32m     70\u001b[0m         \u001b[0mlex_attr_getters\u001b[0m \u001b[0;34m=\u001b[0m \u001b[0mdict\u001b[0m\u001b[0;34m(\u001b[0m\u001b[0mcls\u001b[0m\u001b[0;34m.\u001b[0m\u001b[0mlex_attr_getters\u001b[0m\u001b[0;34m)\u001b[0m\u001b[0;34m\u001b[0m\u001b[0;34m\u001b[0m\u001b[0m\n",
      "\u001b[0;32m~/opt/anaconda3/envs/metis/lib/python3.8/site-packages/spacy/language.py\u001b[0m in \u001b[0;36mcreate_lookups\u001b[0;34m(cls, nlp)\u001b[0m\n\u001b[1;32m     60\u001b[0m         \u001b[0mlookups\u001b[0m \u001b[0;34m=\u001b[0m \u001b[0mLookups\u001b[0m\u001b[0;34m(\u001b[0m\u001b[0;34m)\u001b[0m\u001b[0;34m\u001b[0m\u001b[0;34m\u001b[0m\u001b[0m\n\u001b[1;32m     61\u001b[0m         \u001b[0;32mfor\u001b[0m \u001b[0mname\u001b[0m\u001b[0;34m,\u001b[0m \u001b[0mfilename\u001b[0m \u001b[0;32min\u001b[0m \u001b[0mfilenames\u001b[0m\u001b[0;34m.\u001b[0m\u001b[0mitems\u001b[0m\u001b[0;34m(\u001b[0m\u001b[0;34m)\u001b[0m\u001b[0;34m:\u001b[0m\u001b[0;34m\u001b[0m\u001b[0;34m\u001b[0m\u001b[0m\n\u001b[0;32m---> 62\u001b[0;31m             \u001b[0mdata\u001b[0m \u001b[0;34m=\u001b[0m \u001b[0mutil\u001b[0m\u001b[0;34m.\u001b[0m\u001b[0mload_language_data\u001b[0m\u001b[0;34m(\u001b[0m\u001b[0mfilename\u001b[0m\u001b[0;34m)\u001b[0m\u001b[0;34m\u001b[0m\u001b[0;34m\u001b[0m\u001b[0m\n\u001b[0m\u001b[1;32m     63\u001b[0m             \u001b[0mlookups\u001b[0m\u001b[0;34m.\u001b[0m\u001b[0madd_table\u001b[0m\u001b[0;34m(\u001b[0m\u001b[0mname\u001b[0m\u001b[0;34m,\u001b[0m \u001b[0mdata\u001b[0m\u001b[0;34m)\u001b[0m\u001b[0;34m\u001b[0m\u001b[0;34m\u001b[0m\u001b[0m\n\u001b[1;32m     64\u001b[0m         \u001b[0;32mreturn\u001b[0m \u001b[0mlookups\u001b[0m\u001b[0;34m\u001b[0m\u001b[0;34m\u001b[0m\u001b[0m\n",
      "\u001b[0;32m~/opt/anaconda3/envs/metis/lib/python3.8/site-packages/spacy/util.py\u001b[0m in \u001b[0;36mload_language_data\u001b[0;34m(path)\u001b[0m\n\u001b[1;32m    142\u001b[0m     \u001b[0mpath\u001b[0m \u001b[0;34m=\u001b[0m \u001b[0mpath\u001b[0m\u001b[0;34m.\u001b[0m\u001b[0mwith_suffix\u001b[0m\u001b[0;34m(\u001b[0m\u001b[0mpath\u001b[0m\u001b[0;34m.\u001b[0m\u001b[0msuffix\u001b[0m \u001b[0;34m+\u001b[0m \u001b[0;34m\".gz\"\u001b[0m\u001b[0;34m)\u001b[0m\u001b[0;34m\u001b[0m\u001b[0;34m\u001b[0m\u001b[0m\n\u001b[1;32m    143\u001b[0m     \u001b[0;32mif\u001b[0m \u001b[0mpath\u001b[0m\u001b[0;34m.\u001b[0m\u001b[0mexists\u001b[0m\u001b[0;34m(\u001b[0m\u001b[0;34m)\u001b[0m\u001b[0;34m:\u001b[0m\u001b[0;34m\u001b[0m\u001b[0;34m\u001b[0m\u001b[0m\n\u001b[0;32m--> 144\u001b[0;31m         \u001b[0;32mreturn\u001b[0m \u001b[0msrsly\u001b[0m\u001b[0;34m.\u001b[0m\u001b[0mread_gzip_json\u001b[0m\u001b[0;34m(\u001b[0m\u001b[0mpath\u001b[0m\u001b[0;34m)\u001b[0m\u001b[0;34m\u001b[0m\u001b[0;34m\u001b[0m\u001b[0m\n\u001b[0m\u001b[1;32m    145\u001b[0m     \u001b[0;32mraise\u001b[0m \u001b[0mValueError\u001b[0m\u001b[0;34m(\u001b[0m\u001b[0mErrors\u001b[0m\u001b[0;34m.\u001b[0m\u001b[0mE160\u001b[0m\u001b[0;34m.\u001b[0m\u001b[0mformat\u001b[0m\u001b[0;34m(\u001b[0m\u001b[0mpath\u001b[0m\u001b[0;34m=\u001b[0m\u001b[0mpath2str\u001b[0m\u001b[0;34m(\u001b[0m\u001b[0mpath\u001b[0m\u001b[0;34m)\u001b[0m\u001b[0;34m)\u001b[0m\u001b[0;34m)\u001b[0m\u001b[0;34m\u001b[0m\u001b[0;34m\u001b[0m\u001b[0m\n\u001b[1;32m    146\u001b[0m \u001b[0;34m\u001b[0m\u001b[0m\n",
      "\u001b[0;32m~/opt/anaconda3/envs/metis/lib/python3.8/site-packages/srsly/_json_api.py\u001b[0m in \u001b[0;36mread_gzip_json\u001b[0;34m(location)\u001b[0m\n\u001b[1;32m     61\u001b[0m     \u001b[0mfile_path\u001b[0m \u001b[0;34m=\u001b[0m \u001b[0mforce_string\u001b[0m\u001b[0;34m(\u001b[0m\u001b[0mlocation\u001b[0m\u001b[0;34m)\u001b[0m\u001b[0;34m\u001b[0m\u001b[0;34m\u001b[0m\u001b[0m\n\u001b[1;32m     62\u001b[0m     \u001b[0;32mwith\u001b[0m \u001b[0mgzip\u001b[0m\u001b[0;34m.\u001b[0m\u001b[0mopen\u001b[0m\u001b[0;34m(\u001b[0m\u001b[0mfile_path\u001b[0m\u001b[0;34m,\u001b[0m \u001b[0;34m\"r\"\u001b[0m\u001b[0;34m)\u001b[0m \u001b[0;32mas\u001b[0m \u001b[0mf\u001b[0m\u001b[0;34m:\u001b[0m\u001b[0;34m\u001b[0m\u001b[0;34m\u001b[0m\u001b[0m\n\u001b[0;32m---> 63\u001b[0;31m         \u001b[0;32mreturn\u001b[0m \u001b[0mujson\u001b[0m\u001b[0;34m.\u001b[0m\u001b[0mload\u001b[0m\u001b[0;34m(\u001b[0m\u001b[0mf\u001b[0m\u001b[0;34m)\u001b[0m\u001b[0;34m\u001b[0m\u001b[0;34m\u001b[0m\u001b[0m\n\u001b[0m\u001b[1;32m     64\u001b[0m \u001b[0;34m\u001b[0m\u001b[0m\n\u001b[1;32m     65\u001b[0m \u001b[0;34m\u001b[0m\u001b[0m\n",
      "\u001b[0;31mKeyboardInterrupt\u001b[0m: "
     ]
    }
   ],
   "source": [
    "df['text'] = df['text'].map(lemmatize)"
   ]
  },
  {
   "cell_type": "code",
   "execution_count": null,
   "metadata": {
    "ExecuteTime": {
     "end_time": "2021-03-05T22:19:51.634309Z",
     "start_time": "2021-03-05T22:19:51.624332Z"
    },
    "scrolled": true
   },
   "outputs": [],
   "source": [
    "df.head()"
   ]
  },
  {
   "cell_type": "code",
   "execution_count": null,
   "metadata": {
    "ExecuteTime": {
     "end_time": "2021-03-05T19:06:31.295727Z",
     "start_time": "2021-03-05T19:06:31.292616Z"
    }
   },
   "outputs": [],
   "source": [
    "df.text[1]"
   ]
  },
  {
   "cell_type": "code",
   "execution_count": null,
   "metadata": {
    "ExecuteTime": {
     "end_time": "2021-03-05T22:19:57.455818Z",
     "start_time": "2021-03-05T22:19:57.412148Z"
    }
   },
   "outputs": [],
   "source": [
    "# Vectorize\n",
    "v = TfidfVectorizer(max_features=1000)\n",
    "text_tfidf = v.fit_transform(df['text'])\n",
    "txt = text_tfidf.toarray()\n",
    "\n",
    "# Create tfidf_df\n",
    "tfidf_df = pd.DataFrame(txt, columns=v.get_feature_names())"
   ]
  },
  {
   "cell_type": "code",
   "execution_count": null,
   "metadata": {
    "ExecuteTime": {
     "end_time": "2021-03-05T22:20:01.563690Z",
     "start_time": "2021-03-05T22:20:01.541810Z"
    }
   },
   "outputs": [],
   "source": [
    "tfidf_df.head()"
   ]
  },
  {
   "cell_type": "code",
   "execution_count": null,
   "metadata": {
    "ExecuteTime": {
     "end_time": "2021-03-05T22:20:10.350075Z",
     "start_time": "2021-03-05T22:20:10.339444Z"
    }
   },
   "outputs": [],
   "source": [
    "df = pd.concat([df, tfidf_df], axis=1)\n",
    "\n",
    "df.drop(columns=['text'], inplace=True)"
   ]
  },
  {
   "cell_type": "code",
   "execution_count": null,
   "metadata": {
    "ExecuteTime": {
     "end_time": "2021-03-05T19:06:36.937999Z",
     "start_time": "2021-03-05T19:06:36.915612Z"
    }
   },
   "outputs": [],
   "source": [
    "df.head()"
   ]
  },
  {
   "cell_type": "code",
   "execution_count": null,
   "metadata": {
    "ExecuteTime": {
     "end_time": "2021-03-05T19:06:38.980245Z",
     "start_time": "2021-03-05T19:06:38.958264Z"
    }
   },
   "outputs": [],
   "source": [
    "pca = PCA(n_components=1)\n",
    "\n",
    "df_pca = pca.fit_transform(df.iloc[:, 5:])"
   ]
  },
  {
   "cell_type": "code",
   "execution_count": null,
   "metadata": {
    "ExecuteTime": {
     "end_time": "2021-03-05T19:06:40.880680Z",
     "start_time": "2021-03-05T19:06:40.877439Z"
    }
   },
   "outputs": [],
   "source": [
    "df = df[[\n",
    "        'name', \n",
    "        'url', \n",
    "        'price', \n",
    "        'smv', \n",
    "        'acidity'\n",
    "        ]]"
   ]
  },
  {
   "cell_type": "code",
   "execution_count": null,
   "metadata": {
    "ExecuteTime": {
     "end_time": "2021-03-05T19:06:41.882026Z",
     "start_time": "2021-03-05T19:06:41.879433Z"
    }
   },
   "outputs": [],
   "source": [
    "# df['pca_1'] = df_pca[:, 0]\n",
    "# df['pca_2'] = df_pca[:, 1]\n",
    "\n",
    "df['pca_feats'] = df_pca"
   ]
  },
  {
   "cell_type": "code",
   "execution_count": null,
   "metadata": {
    "ExecuteTime": {
     "end_time": "2021-03-05T19:06:49.796774Z",
     "start_time": "2021-03-05T19:06:49.780705Z"
    }
   },
   "outputs": [],
   "source": [
    "df.head()"
   ]
  },
  {
   "cell_type": "code",
   "execution_count": null,
   "metadata": {
    "ExecuteTime": {
     "end_time": "2021-03-05T19:06:56.002820Z",
     "start_time": "2021-03-05T19:06:55.998839Z"
    }
   },
   "outputs": [],
   "source": [
    "# Getting this weird magic duplicate 'name' column?\n",
    "\n",
    "df.columns = ['name', \n",
    "              'n2', \n",
    "              'url', \n",
    "              'price', \n",
    "              'smv', \n",
    "              'smv', \n",
    "              'acidity', \n",
    "              'n2',\n",
    "              'pca_feats'\n",
    "             ]\n",
    "\n",
    "df.drop(columns=['n2'], inplace=True)"
   ]
  },
  {
   "cell_type": "code",
   "execution_count": null,
   "metadata": {
    "ExecuteTime": {
     "end_time": "2021-03-05T19:06:58.301947Z",
     "start_time": "2021-03-05T19:06:58.291650Z"
    },
    "scrolled": true
   },
   "outputs": [],
   "source": [
    "df.head()"
   ]
  },
  {
   "cell_type": "code",
   "execution_count": null,
   "metadata": {
    "ExecuteTime": {
     "end_time": "2021-03-05T19:07:00.477521Z",
     "start_time": "2021-03-05T19:07:00.472586Z"
    }
   },
   "outputs": [],
   "source": [
    "# import distance methods\n",
    "\n",
    "dist = pairwise_distances(df.iloc[:, 2:])"
   ]
  },
  {
   "cell_type": "code",
   "execution_count": null,
   "metadata": {
    "ExecuteTime": {
     "end_time": "2021-03-05T19:15:46.215885Z",
     "start_time": "2021-03-05T19:15:46.211231Z"
    }
   },
   "outputs": [],
   "source": [
    "def recommend_sake(liked_sakes: list, num_recs=5, metric='cosine') -> list:\n",
    "    \n",
    "    dists = pairwise_distances(df.iloc[:, 2:], metric=metric)\n",
    "    dists = pd.DataFrame(data=dist, index=df['name'], columns=df['name'])\n",
    "    \n",
    "    sake_summed = dists[liked_sakes].sum(axis=1)\n",
    "    sake_summed = sake_summed.sort_values(ascending=True)\n",
    "    \n",
    "    \n",
    "    ranked_sakes = sake_summed.index[~sake_summed.index.isin(liked_sakes)]\n",
    "    ranked_sakes = ranked_sakes.tolist()\n",
    "    \n",
    "    recommendations = ranked_sakes[:num_recs]\n",
    "    \n",
    "    df_recs = sake.copy()\n",
    "    df_recs['rec_label'] = np.where(df_recs.name.isin(liked_sakes), 'Liked',\n",
    "                                   np.where(df_recs.name.isin(recommendations), 'Recommended',\n",
    "                                           'Other'))\n",
    "    \n",
    "    df_recs = df_recs[df_recs.rec_label.isin(['Liked', 'Recommended'])]\n",
    "    \n",
    "    return df_recs"
   ]
  },
  {
   "cell_type": "code",
   "execution_count": null,
   "metadata": {
    "ExecuteTime": {
     "end_time": "2021-03-05T19:16:51.751444Z",
     "start_time": "2021-03-05T19:16:51.728050Z"
    },
    "scrolled": false
   },
   "outputs": [],
   "source": [
    "sake_i_like = [\n",
    "               'Dassai 45 Junmai Daiginjo \"Otter Festival\"', \n",
    "               'Kikusui Junmai Ginjo \"Chrysanthemum Water\"',\n",
    "               'Shunnoten Tokubetsu Junmai \"Fishermen Cup\"'\n",
    "              ]\n",
    "\n",
    "recommend_sake(sake_i_like, num_recs=3)"
   ]
  },
  {
   "cell_type": "code",
   "execution_count": null,
   "metadata": {
    "ExecuteTime": {
     "end_time": "2021-03-05T19:17:01.823766Z",
     "start_time": "2021-03-05T19:17:01.801525Z"
    }
   },
   "outputs": [],
   "source": [
    "recommend_sake(sake_i_like, num_recs=3)"
   ]
  },
  {
   "cell_type": "code",
   "execution_count": null,
   "metadata": {},
   "outputs": [],
   "source": []
  },
  {
   "cell_type": "code",
   "execution_count": null,
   "metadata": {},
   "outputs": [],
   "source": []
  }
 ],
 "metadata": {
  "kernelspec": {
   "display_name": "Python [conda env:metis] *",
   "language": "python",
   "name": "conda-env-metis-py"
  },
  "language_info": {
   "codemirror_mode": {
    "name": "ipython",
    "version": 3
   },
   "file_extension": ".py",
   "mimetype": "text/x-python",
   "name": "python",
   "nbconvert_exporter": "python",
   "pygments_lexer": "ipython3",
   "version": "3.8.5"
  },
  "toc": {
   "base_numbering": 1,
   "nav_menu": {},
   "number_sections": true,
   "sideBar": true,
   "skip_h1_title": false,
   "title_cell": "Table of Contents",
   "title_sidebar": "Contents",
   "toc_cell": false,
   "toc_position": {},
   "toc_section_display": true,
   "toc_window_display": false
  },
  "varInspector": {
   "cols": {
    "lenName": 16,
    "lenType": 16,
    "lenVar": 40
   },
   "kernels_config": {
    "python": {
     "delete_cmd_postfix": "",
     "delete_cmd_prefix": "del ",
     "library": "var_list.py",
     "varRefreshCmd": "print(var_dic_list())"
    },
    "r": {
     "delete_cmd_postfix": ") ",
     "delete_cmd_prefix": "rm(",
     "library": "var_list.r",
     "varRefreshCmd": "cat(var_dic_list()) "
    }
   },
   "types_to_exclude": [
    "module",
    "function",
    "builtin_function_or_method",
    "instance",
    "_Feature"
   ],
   "window_display": false
  }
 },
 "nbformat": 4,
 "nbformat_minor": 4
}

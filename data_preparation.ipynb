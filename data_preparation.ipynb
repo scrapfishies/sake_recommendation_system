{
 "cells": [
  {
   "cell_type": "markdown",
   "metadata": {},
   "source": [
    "# Data Preparation"
   ]
  },
  {
   "cell_type": "code",
   "execution_count": 1,
   "metadata": {
    "ExecuteTime": {
     "end_time": "2021-02-16T00:43:34.118724Z",
     "start_time": "2021-02-16T00:43:33.690369Z"
    }
   },
   "outputs": [],
   "source": [
    "import pandas as pd\n",
    "from text_preprocessing_funcs import *"
   ]
  },
  {
   "cell_type": "code",
   "execution_count": 2,
   "metadata": {
    "ExecuteTime": {
     "end_time": "2021-02-16T00:43:34.885731Z",
     "start_time": "2021-02-16T00:43:34.120937Z"
    },
    "scrolled": false
   },
   "outputs": [
    {
     "data": {
      "text/html": [
       "<div>\n",
       "<style scoped>\n",
       "    .dataframe tbody tr th:only-of-type {\n",
       "        vertical-align: middle;\n",
       "    }\n",
       "\n",
       "    .dataframe tbody tr th {\n",
       "        vertical-align: top;\n",
       "    }\n",
       "\n",
       "    .dataframe thead th {\n",
       "        text-align: right;\n",
       "    }\n",
       "</style>\n",
       "<table border=\"1\" class=\"dataframe\">\n",
       "  <thead>\n",
       "    <tr style=\"text-align: right;\">\n",
       "      <th></th>\n",
       "      <th>url</th>\n",
       "      <th>name</th>\n",
       "      <th>type</th>\n",
       "      <th>price</th>\n",
       "      <th>prefecture</th>\n",
       "      <th>smv</th>\n",
       "      <th>acidity</th>\n",
       "      <th>kw_word</th>\n",
       "      <th>kw_wines</th>\n",
       "      <th>kw_beer</th>\n",
       "      <th>kw_foods</th>\n",
       "      <th>description</th>\n",
       "    </tr>\n",
       "  </thead>\n",
       "  <tbody>\n",
       "    <tr>\n",
       "      <th>0</th>\n",
       "      <td>https://www.truesake.com/collections/all/produ...</td>\n",
       "      <td>Dassai 45 Junmai Daiginjo \"Otter Festival\"</td>\n",
       "      <td>Junmai Daiginjo</td>\n",
       "      <td>30.00</td>\n",
       "      <td>Yamaguchi</td>\n",
       "      <td>+3</td>\n",
       "      <td>1.4</td>\n",
       "      <td>Chunky</td>\n",
       "      <td>Pinot Noir / Chewy Whites</td>\n",
       "      <td>Ales</td>\n",
       "      <td>Mushroom risotto, tempura, fried chicken, cavi...</td>\n",
       "      <td>This sake has an older brother Daiginjo that h...</td>\n",
       "    </tr>\n",
       "    <tr>\n",
       "      <th>1</th>\n",
       "      <td>https://www.truesake.com/collections/all/produ...</td>\n",
       "      <td>Kikusui Junmai Ginjo \"Chrysanthemum Water\"</td>\n",
       "      <td>Junmai Ginjo</td>\n",
       "      <td>33.00</td>\n",
       "      <td>Niigata</td>\n",
       "      <td>+1</td>\n",
       "      <td>1.6</td>\n",
       "      <td>Citrus</td>\n",
       "      <td>Sharp Whites/Dry Reds</td>\n",
       "      <td>Ales/Ambers</td>\n",
       "      <td>Suitable for light and stronger flavored dishe...</td>\n",
       "      <td>True Sake owner Beau Timken recorded K...</td>\n",
       "    </tr>\n",
       "    <tr>\n",
       "      <th>2</th>\n",
       "      <td>https://www.truesake.com/collections/all/produ...</td>\n",
       "      <td>Wakatake Onikoroshi Junmai Daiginjo \"Demon Sla...</td>\n",
       "      <td>Junmai Daiginjo</td>\n",
       "      <td>49.00</td>\n",
       "      <td>Shizuoka</td>\n",
       "      <td>+/-0</td>\n",
       "      <td>1.4</td>\n",
       "      <td>Popular</td>\n",
       "      <td>Elegant reds/Complex whites</td>\n",
       "      <td>Crisp Ales</td>\n",
       "      <td>Cuisines that like big white wines.</td>\n",
       "      <td>Talk about a nice aroma package on thi...</td>\n",
       "    </tr>\n",
       "    <tr>\n",
       "      <th>3</th>\n",
       "      <td>https://www.truesake.com/collections/all/produ...</td>\n",
       "      <td>Shunnoten Tokubetsu Junmai \"Fishermen Cup\"</td>\n",
       "      <td>Tokubetsu Junmai</td>\n",
       "      <td>9.00</td>\n",
       "      <td>Yamanashi</td>\n",
       "      <td>+3</td>\n",
       "      <td>1.6</td>\n",
       "      <td>Smooth</td>\n",
       "      <td>Pinot Noir/Slippery Whites</td>\n",
       "      <td>Gentle Ales</td>\n",
       "      <td>None</td>\n",
       "      <td>The nose on this awesome looking “catch cup” i...</td>\n",
       "    </tr>\n",
       "    <tr>\n",
       "      <th>4</th>\n",
       "      <td>https://www.truesake.com/collections/all/produ...</td>\n",
       "      <td>Kenbishi Kuromatsu Honjozo \"Black Pine\"</td>\n",
       "      <td>Honjozo</td>\n",
       "      <td>40.00</td>\n",
       "      <td>Hyogo</td>\n",
       "      <td>±0.5</td>\n",
       "      <td>1.5</td>\n",
       "      <td>Rich</td>\n",
       "      <td>Deep Reds/Fat Whites</td>\n",
       "      <td>Stouts</td>\n",
       "      <td>Perfect for pub food salty and savory and grea...</td>\n",
       "      <td>The nose on this extremely famous Honjozo from...</td>\n",
       "    </tr>\n",
       "  </tbody>\n",
       "</table>\n",
       "</div>"
      ],
      "text/plain": [
       "                                                 url  \\\n",
       "0  https://www.truesake.com/collections/all/produ...   \n",
       "1  https://www.truesake.com/collections/all/produ...   \n",
       "2  https://www.truesake.com/collections/all/produ...   \n",
       "3  https://www.truesake.com/collections/all/produ...   \n",
       "4  https://www.truesake.com/collections/all/produ...   \n",
       "\n",
       "                                                name              type  price  \\\n",
       "0         Dassai 45 Junmai Daiginjo \"Otter Festival\"   Junmai Daiginjo  30.00   \n",
       "1         Kikusui Junmai Ginjo \"Chrysanthemum Water\"      Junmai Ginjo  33.00   \n",
       "2  Wakatake Onikoroshi Junmai Daiginjo \"Demon Sla...   Junmai Daiginjo  49.00   \n",
       "3         Shunnoten Tokubetsu Junmai \"Fishermen Cup\"  Tokubetsu Junmai   9.00   \n",
       "4            Kenbishi Kuromatsu Honjozo \"Black Pine\"           Honjozo  40.00   \n",
       "\n",
       "  prefecture   smv  acidity   kw_word                      kw_wines  \\\n",
       "0  Yamaguchi    +3      1.4   Chunky     Pinot Noir / Chewy Whites    \n",
       "1    Niigata    +1      1.6   Citrus         Sharp Whites/Dry Reds    \n",
       "2   Shizuoka  +/-0      1.4  Popular   Elegant reds/Complex whites    \n",
       "3  Yamanashi    +3      1.6   Smooth    Pinot Noir/Slippery Whites    \n",
       "4      Hyogo  ±0.5      1.5     Rich          Deep Reds/Fat Whites    \n",
       "\n",
       "        kw_beer                                           kw_foods  \\\n",
       "0         Ales   Mushroom risotto, tempura, fried chicken, cavi...   \n",
       "1  Ales/Ambers   Suitable for light and stronger flavored dishe...   \n",
       "2   Crisp Ales           Cuisines that like big white wines.         \n",
       "3   Gentle Ales                                               None   \n",
       "4       Stouts   Perfect for pub food salty and savory and grea...   \n",
       "\n",
       "                                         description  \n",
       "0  This sake has an older brother Daiginjo that h...  \n",
       "1          True Sake owner Beau Timken recorded K...  \n",
       "2          Talk about a nice aroma package on thi...  \n",
       "3  The nose on this awesome looking “catch cup” i...  \n",
       "4  The nose on this extremely famous Honjozo from...  "
      ]
     },
     "execution_count": 2,
     "metadata": {},
     "output_type": "execute_result"
    }
   ],
   "source": [
    "df = pd.read_json('raw_data.json')\n",
    "df.head()"
   ]
  },
  {
   "cell_type": "code",
   "execution_count": 3,
   "metadata": {
    "ExecuteTime": {
     "end_time": "2021-02-16T00:43:34.896204Z",
     "start_time": "2021-02-16T00:43:34.888218Z"
    }
   },
   "outputs": [
    {
     "name": "stdout",
     "output_type": "stream",
     "text": [
      "<class 'pandas.core.frame.DataFrame'>\n",
      "Int64Index: 322 entries, 0 to 321\n",
      "Data columns (total 12 columns):\n",
      " #   Column       Non-Null Count  Dtype  \n",
      "---  ------       --------------  -----  \n",
      " 0   url          322 non-null    object \n",
      " 1   name         322 non-null    object \n",
      " 2   type         303 non-null    object \n",
      " 3   price        322 non-null    object \n",
      " 4   prefecture   318 non-null    object \n",
      " 5   smv          304 non-null    object \n",
      " 6   acidity      277 non-null    float64\n",
      " 7   kw_word      288 non-null    object \n",
      " 8   kw_wines     286 non-null    object \n",
      " 9   kw_beer      285 non-null    object \n",
      " 10  kw_foods     280 non-null    object \n",
      " 11  description  307 non-null    object \n",
      "dtypes: float64(1), object(11)\n",
      "memory usage: 32.7+ KB\n"
     ]
    }
   ],
   "source": [
    "df.info()"
   ]
  },
  {
   "cell_type": "code",
   "execution_count": null,
   "metadata": {},
   "outputs": [],
   "source": []
  },
  {
   "cell_type": "markdown",
   "metadata": {},
   "source": [
    "### Sake Types"
   ]
  },
  {
   "cell_type": "code",
   "execution_count": 4,
   "metadata": {
    "ExecuteTime": {
     "end_time": "2021-02-16T00:43:34.902975Z",
     "start_time": "2021-02-16T00:43:34.898494Z"
    }
   },
   "outputs": [],
   "source": [
    "lam_func = lambda t: clean_text(t) if t is not None else None\n",
    "\n",
    "df['type'] = df['type'].apply(lam_func)"
   ]
  },
  {
   "cell_type": "code",
   "execution_count": 5,
   "metadata": {
    "ExecuteTime": {
     "end_time": "2021-02-16T00:43:34.908766Z",
     "start_time": "2021-02-16T00:43:34.904781Z"
    }
   },
   "outputs": [
    {
     "data": {
      "text/plain": [
       "array(['junmai daiginjo', 'junmai ginjo', 'tokubetsu junmai', 'honjozo',\n",
       "       'junmai', 'honjozo nama genshu', 'ginjo', 'futsushu',\n",
       "       'nigori junmai', 'junmai taru', 'ginjo nama genshu', None,\n",
       "       'tokubetsu junmai nigori', 'yamahai junmai ginjo genshu',\n",
       "       'yamahai junmai', 'nigori', 'daiginjo nama',\n",
       "       'tokubetsu junmai genshu', 'nigori genshu', 'futsushu nama genshu',\n",
       "       'hope', 'yuzu sake', 'junmai ginjo nigori', 'junmai nama', '',\n",
       "       'umeshu', 'nigori junmai daiginjo', 'yamahai junmai daiginjo',\n",
       "       'junmai yuzu', 'daiginjo', 'muroka junmai daiginjo nama genshu',\n",
       "       'sparkling', 'tokubesu junmai', 'ginjo sparkling nigori',\n",
       "       'junmai nigori', 'kimoto junmai daiginjo', 'cooking sake',\n",
       "       'junmai kimoto', 'sparkling junmai ginjo',\n",
       "       'junmai daiginjo kimoto', 'muroka junmai daiginjo',\n",
       "       'nigori junmai ginjo nama genshu', 'junmai ginjo nama',\n",
       "       'junmai ginjo muroka nama genshu', 'futsushu taru', 'kijoshu',\n",
       "       'junmai daiginjo shizuku muroka genshu', 'koshu junmai daiginjo',\n",
       "       'aged nama', 'aged junmai daiginjo',\n",
       "       'yamahai junmai muroka nama genshu', 'yamahai junmai ginjo',\n",
       "       'tokubetsu junmai taru', 'taru yamahai junmai', 'daiginjo shizuku',\n",
       "       'honjozo genshu', 'muroka junmai ginjo nama genshu',\n",
       "       'kimoto junmai', 'unique', 'junmai ginjo hiyaoroshi',\n",
       "       'junmai daiginjo genshu', 'daiginjo genshu',\n",
       "       'tokubetsu honjozo nama', 'jumai ginjo namachozo', 'junmai genshu',\n",
       "       'junmai ginjo nama genshu', 'junmai ginjo genshu',\n",
       "       'hiyaoroshi junmai', 'junmai sparkling',\n",
       "       'junmai muroka nama genshu', 'ginjo namachozo can',\n",
       "       'kimoto tokubetsu junmai', 'junmai koshu',\n",
       "       'junmai daiginjo fukurotsuri', 'aged junmai ginjo nama',\n",
       "       'yamahai junmai genshu koshu',\n",
       "       'junmai ginjo shiboritate nama genshu', 'blend',\n",
       "       'junmai muroka genshu',\n",
       "       'aged junmai daiginjo kimoto shizuku genshu', 'aged junmai',\n",
       "       'honjozo muroka nama genshu', 'aged daiginjo'], dtype=object)"
      ]
     },
     "execution_count": 5,
     "metadata": {},
     "output_type": "execute_result"
    }
   ],
   "source": [
    "df.type.unique()"
   ]
  },
  {
   "cell_type": "code",
   "execution_count": null,
   "metadata": {},
   "outputs": [],
   "source": []
  },
  {
   "cell_type": "markdown",
   "metadata": {},
   "source": [
    "### Prefectures"
   ]
  },
  {
   "cell_type": "code",
   "execution_count": 6,
   "metadata": {
    "ExecuteTime": {
     "end_time": "2021-02-16T00:43:34.914788Z",
     "start_time": "2021-02-16T00:43:34.910379Z"
    }
   },
   "outputs": [],
   "source": [
    "df['prefecture'] = df['prefecture'].apply(lam_func)"
   ]
  },
  {
   "cell_type": "code",
   "execution_count": 7,
   "metadata": {
    "ExecuteTime": {
     "end_time": "2021-02-16T00:43:34.920897Z",
     "start_time": "2021-02-16T00:43:34.916786Z"
    }
   },
   "outputs": [
    {
     "data": {
      "text/plain": [
       "array(['yamaguchi', 'niigata', 'shizuoka', 'yamanashi', 'hyogo', 'osaka',\n",
       "       'kouchi', 'hokkaido', 'yamagata', 'tottori', 'tochigi', 'fukui',\n",
       "       'akita', 'tokushima', 'ohita', 'wakayama', 'shimane', 'ishikawa',\n",
       "       'fukushima', 'aomori', 'kyoto', 'iwate', 'saitama', 'gifu',\n",
       "       'nagano', 'oakland california', 'shiga', 'ehime', 'kochi',\n",
       "       'miyagi', 'ibaraki', 'aichi', 'hiroshima', 'saga', 'nanago',\n",
       "       'fukuoka', 'nara', 'domestic san francisco', None, 'okayama',\n",
       "       'okinawa', 'tokyo', 'shizouka', 'gunma', 'kanagawa'], dtype=object)"
      ]
     },
     "execution_count": 7,
     "metadata": {},
     "output_type": "execute_result"
    }
   ],
   "source": [
    "df.prefecture.unique()"
   ]
  },
  {
   "cell_type": "markdown",
   "metadata": {},
   "source": [
    "I'll consolidate Oakland and San Francisco into just California. "
   ]
  },
  {
   "cell_type": "code",
   "execution_count": 8,
   "metadata": {
    "ExecuteTime": {
     "end_time": "2021-02-16T00:43:34.929518Z",
     "start_time": "2021-02-16T00:43:34.924837Z"
    }
   },
   "outputs": [],
   "source": [
    "cali_dict = {'oakland california': 'california',\n",
    "            'domestic san francisco': 'california'}\n",
    "\n",
    "df['prefecture'] = df['prefecture'].replace(cali_dict, regex=True)"
   ]
  },
  {
   "cell_type": "code",
   "execution_count": null,
   "metadata": {},
   "outputs": [],
   "source": []
  },
  {
   "cell_type": "code",
   "execution_count": null,
   "metadata": {},
   "outputs": [],
   "source": []
  },
  {
   "cell_type": "markdown",
   "metadata": {},
   "source": [
    "### Keywords and Description Columns"
   ]
  },
  {
   "cell_type": "code",
   "execution_count": 9,
   "metadata": {
    "ExecuteTime": {
     "end_time": "2021-02-16T00:43:34.935537Z",
     "start_time": "2021-02-16T00:43:34.932595Z"
    }
   },
   "outputs": [],
   "source": [
    "cols_to_fix_dict = {\n",
    "    'kw_word': ['WINE'],\n",
    "    'kw_wines': ['BEER'],\n",
    "    'kw_beer': ['FOOD', 'BEER:', 'Foods:'],\n",
    "    'kw_foods': ['Updated', '('],\n",
    "    'description': ['WORD']\n",
    "}"
   ]
  },
  {
   "cell_type": "code",
   "execution_count": 10,
   "metadata": {
    "ExecuteTime": {
     "end_time": "2021-02-16T00:43:34.940373Z",
     "start_time": "2021-02-16T00:43:34.937122Z"
    }
   },
   "outputs": [],
   "source": [
    "def clean_df_text_cols(df, cols_to_fix_dict):\n",
    "    for col, text_list in cols_to_fix_dict.items():\n",
    "        if col in df.columns.tolist():\n",
    "            for text in text_list:   \n",
    "                # Apply split_on_chars func to parse for the right text\n",
    "                df[col] = df[col].apply(lambda d: split_on_chars(text, d))\n",
    "            # Clean text\n",
    "            df[col] = df[col].apply(lambda d: clean_text(d))   \n",
    "    return df"
   ]
  },
  {
   "cell_type": "code",
   "execution_count": 11,
   "metadata": {
    "ExecuteTime": {
     "end_time": "2021-02-16T00:43:34.981797Z",
     "start_time": "2021-02-16T00:43:34.941803Z"
    },
    "scrolled": false
   },
   "outputs": [],
   "source": [
    "df = clean_df_text_cols(df, cols_to_fix_dict)"
   ]
  },
  {
   "cell_type": "markdown",
   "metadata": {},
   "source": [
    "### Price"
   ]
  },
  {
   "cell_type": "code",
   "execution_count": 12,
   "metadata": {
    "ExecuteTime": {
     "end_time": "2021-02-16T00:43:34.987730Z",
     "start_time": "2021-02-16T00:43:34.983529Z"
    }
   },
   "outputs": [
    {
     "data": {
      "text/plain": [
       "array(['30.00', '33.00', '49.00', '9.00', '40.00', '8.00', '10.00',\n",
       "       '23.00', '5.00', '38.00', '43.00', '90.00', '13.00', '24.00',\n",
       "       '17.00', '18.00', '46.00', '3.00', '36.00', '32.00', '34.00',\n",
       "       '6.00', '58.00', '28.00', '37.00', '27.00', '11.00', '21.00',\n",
       "       '89.00', '29.00', '44.00', '7.00', '39.00', '22.00', '12.00',\n",
       "       '35.00', '4.00', '16.00', '25.00', '117.00', '48.00', '57.00',\n",
       "       '55.00', '80.00', '45.00', '71.00', '14.00', '26.00', '60.00',\n",
       "       '54.00', '81.00', '127.00', '31.00', '68.00', '87.00', '100.00',\n",
       "       'urrent price        $25.00', '50.00', '76.00', '66.00', '79.00',\n",
       "       '102.00', '110.00', '142.00', '20.00', '109.00', '41.00', '145.00',\n",
       "       '161.00', '56.00', '129.00', '42.00', '53.00', '51.00', '82.00',\n",
       "       '88.00', '59.00', '135.00', 'urrent price        $32.00', '70.00',\n",
       "       '182.00', '19.00', '47.00', '267.00', '150.00', '74.00', '133.00',\n",
       "       '215.00', 'urrent price        $36.00', '700.00', '52.00', '92.00',\n",
       "       '75.00', '525.00', '280.00', '250.00', '200.00', '63.00', '125.00',\n",
       "       '120.00', '62.00', '420.00', '104.00', '580.00'], dtype=object)"
      ]
     },
     "execution_count": 12,
     "metadata": {},
     "output_type": "execute_result"
    }
   ],
   "source": [
    "df.price.unique()"
   ]
  },
  {
   "cell_type": "code",
   "execution_count": 13,
   "metadata": {
    "ExecuteTime": {
     "end_time": "2021-02-16T00:43:34.993119Z",
     "start_time": "2021-02-16T00:43:34.989358Z"
    }
   },
   "outputs": [],
   "source": [
    "df['price'] = df['price'].apply(lambda x: float(x[-4:]) if '$' in x else float(x))"
   ]
  },
  {
   "cell_type": "markdown",
   "metadata": {},
   "source": [
    "### SMV (Sake Meter Value)"
   ]
  },
  {
   "cell_type": "code",
   "execution_count": 14,
   "metadata": {
    "ExecuteTime": {
     "end_time": "2021-02-16T00:43:34.998571Z",
     "start_time": "2021-02-16T00:43:34.994852Z"
    }
   },
   "outputs": [
    {
     "data": {
      "text/plain": [
       "array(['+3', '+1', '+/-0', '±0.5', '+4', '+7', '+10', '-2', '+5', '+2.0',\n",
       "       '+6', '-11', '-1.5', None, '+3.5', '-100', '+2', '-4', '+12', '+8',\n",
       "       '-22', 'N/A', '-70', '-35', '-3', '+3.6', '-50', '-3.0', '1.3',\n",
       "       '+2.5', '+/-0 ~ +2', '-20', '-82', '-12', '-70 ~ -90', '-25', '-1',\n",
       "       '+1.5', '±0', '-0.6', '-70~-80', '-44', '-6/-7', '-0.5 ~+0.5',\n",
       "       '-10', '+1~ +2', '-96', '±1', '-60', '-80', '-23', '+0.5', '-65',\n",
       "       '-15', '+15.5', '-40', 'NA', '+4.0', '-14', '-13', '3.5', '-8.5',\n",
       "       '+1.4', '-33', '-5', '+1.2', '-4.0', '-21', '-49'], dtype=object)"
      ]
     },
     "execution_count": 14,
     "metadata": {},
     "output_type": "execute_result"
    }
   ],
   "source": [
    "df.smv.unique()"
   ]
  },
  {
   "cell_type": "markdown",
   "metadata": {},
   "source": [
    "This function should take care of most of the conversions and then I'll see what's left:"
   ]
  },
  {
   "cell_type": "code",
   "execution_count": 15,
   "metadata": {
    "ExecuteTime": {
     "end_time": "2021-02-16T00:43:35.003345Z",
     "start_time": "2021-02-16T00:43:35.000236Z"
    }
   },
   "outputs": [],
   "source": [
    "def clean_smvs(val):\n",
    "    try:\n",
    "        if '±' in val:\n",
    "            val = re.sub('±', '', val)\n",
    "        val = float(val)\n",
    "    except Exception as e:\n",
    "        val = val\n",
    "    return val"
   ]
  },
  {
   "cell_type": "code",
   "execution_count": 16,
   "metadata": {
    "ExecuteTime": {
     "end_time": "2021-02-16T00:43:35.008962Z",
     "start_time": "2021-02-16T00:43:35.005039Z"
    }
   },
   "outputs": [
    {
     "data": {
      "text/plain": [
       "['+/-0',\n",
       " None,\n",
       " 'N/A',\n",
       " '+/-0 ~ +2',\n",
       " '-70 ~ -90',\n",
       " '-70~-80',\n",
       " '-6/-7',\n",
       " '-0.5 ~+0.5',\n",
       " '+1~ +2',\n",
       " 'NA']"
      ]
     },
     "execution_count": 16,
     "metadata": {},
     "output_type": "execute_result"
    }
   ],
   "source": [
    "[clean_smvs(val) for val in df.smv.unique() if isinstance(clean_smvs(val), float) is False]"
   ]
  },
  {
   "cell_type": "markdown",
   "metadata": {},
   "source": [
    "Only a few -- can simply do this with a dictionary and the `.replace` method."
   ]
  },
  {
   "cell_type": "code",
   "execution_count": 17,
   "metadata": {
    "ExecuteTime": {
     "end_time": "2021-02-16T00:43:35.013256Z",
     "start_time": "2021-02-16T00:43:35.010318Z"
    }
   },
   "outputs": [],
   "source": [
    "smv_dict = {\n",
    "    '\\+/-0': 0.0,\n",
    "    '\\+/-0 ~ \\+2': 1.0,\n",
    "    '-70 ~ -90': -80.0,\n",
    "    '-70~-80': -75.0,\n",
    "    '-6/-7': -6.5,\n",
    "    '-0.5 ~\\+0.5': 0.0,\n",
    "    '\\+1~ \\+2': 1.5,\n",
    "    'NA': None,\n",
    "    'N/A': None\n",
    "}"
   ]
  },
  {
   "cell_type": "code",
   "execution_count": 18,
   "metadata": {
    "ExecuteTime": {
     "end_time": "2021-02-16T00:43:35.022714Z",
     "start_time": "2021-02-16T00:43:35.015764Z"
    }
   },
   "outputs": [],
   "source": [
    "df['smv'] = df['smv'].map(clean_smvs)\n",
    "df['smv'] = df['smv'].replace(smv_dict, regex=True)"
   ]
  },
  {
   "cell_type": "code",
   "execution_count": null,
   "metadata": {},
   "outputs": [],
   "source": []
  },
  {
   "cell_type": "markdown",
   "metadata": {},
   "source": [
    "## Fill NA's"
   ]
  },
  {
   "cell_type": "code",
   "execution_count": 19,
   "metadata": {
    "ExecuteTime": {
     "end_time": "2021-02-16T00:43:35.029175Z",
     "start_time": "2021-02-16T00:43:35.024320Z"
    }
   },
   "outputs": [],
   "source": [
    "# Fill NA Values\n",
    "df.type.fillna('unknown', inplace=True)\n",
    "df.prefecture.fillna('unknown', inplace=True)\n",
    "df.smv.fillna(df.smv.mean(), inplace=True)\n",
    "df.acidity.fillna(df.acidity.mean(), inplace=True)"
   ]
  },
  {
   "cell_type": "code",
   "execution_count": 20,
   "metadata": {
    "ExecuteTime": {
     "end_time": "2021-02-16T00:43:35.039447Z",
     "start_time": "2021-02-16T00:43:35.030801Z"
    }
   },
   "outputs": [
    {
     "name": "stdout",
     "output_type": "stream",
     "text": [
      "<class 'pandas.core.frame.DataFrame'>\n",
      "Int64Index: 322 entries, 0 to 321\n",
      "Data columns (total 12 columns):\n",
      " #   Column       Non-Null Count  Dtype  \n",
      "---  ------       --------------  -----  \n",
      " 0   url          322 non-null    object \n",
      " 1   name         322 non-null    object \n",
      " 2   type         322 non-null    object \n",
      " 3   price        322 non-null    float64\n",
      " 4   prefecture   322 non-null    object \n",
      " 5   smv          322 non-null    float64\n",
      " 6   acidity      322 non-null    float64\n",
      " 7   kw_word      322 non-null    object \n",
      " 8   kw_wines     322 non-null    object \n",
      " 9   kw_beer      322 non-null    object \n",
      " 10  kw_foods     322 non-null    object \n",
      " 11  description  322 non-null    object \n",
      "dtypes: float64(3), object(9)\n",
      "memory usage: 32.7+ KB\n"
     ]
    }
   ],
   "source": [
    "df.info()"
   ]
  },
  {
   "cell_type": "code",
   "execution_count": null,
   "metadata": {},
   "outputs": [],
   "source": []
  },
  {
   "cell_type": "markdown",
   "metadata": {},
   "source": [
    "## Save for later"
   ]
  },
  {
   "cell_type": "code",
   "execution_count": 21,
   "metadata": {
    "ExecuteTime": {
     "end_time": "2021-02-16T00:43:35.042864Z",
     "start_time": "2021-02-16T00:43:35.041225Z"
    }
   },
   "outputs": [],
   "source": [
    "# Save dataframe as json file to be used later!\n",
    "# df.to_json('prepared_data.json')"
   ]
  }
 ],
 "metadata": {
  "kernelspec": {
   "display_name": "Python [conda env:metis] *",
   "language": "python",
   "name": "conda-env-metis-py"
  },
  "language_info": {
   "codemirror_mode": {
    "name": "ipython",
    "version": 3
   },
   "file_extension": ".py",
   "mimetype": "text/x-python",
   "name": "python",
   "nbconvert_exporter": "python",
   "pygments_lexer": "ipython3",
   "version": "3.8.5"
  },
  "toc": {
   "base_numbering": 1,
   "nav_menu": {},
   "number_sections": true,
   "sideBar": true,
   "skip_h1_title": false,
   "title_cell": "Table of Contents",
   "title_sidebar": "Contents",
   "toc_cell": false,
   "toc_position": {},
   "toc_section_display": true,
   "toc_window_display": false
  },
  "varInspector": {
   "cols": {
    "lenName": 16,
    "lenType": 16,
    "lenVar": 40
   },
   "kernels_config": {
    "python": {
     "delete_cmd_postfix": "",
     "delete_cmd_prefix": "del ",
     "library": "var_list.py",
     "varRefreshCmd": "print(var_dic_list())"
    },
    "r": {
     "delete_cmd_postfix": ") ",
     "delete_cmd_prefix": "rm(",
     "library": "var_list.r",
     "varRefreshCmd": "cat(var_dic_list()) "
    }
   },
   "types_to_exclude": [
    "module",
    "function",
    "builtin_function_or_method",
    "instance",
    "_Feature"
   ],
   "window_display": false
  }
 },
 "nbformat": 4,
 "nbformat_minor": 4
}

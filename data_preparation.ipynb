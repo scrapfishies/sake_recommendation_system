{
 "cells": [
  {
   "cell_type": "code",
   "execution_count": 1,
   "metadata": {
    "ExecuteTime": {
     "end_time": "2021-01-27T22:07:57.502028Z",
     "start_time": "2021-01-27T22:07:57.052622Z"
    }
   },
   "outputs": [],
   "source": [
    "import pandas as pd\n",
    "from text_preprocessing_funcs import *"
   ]
  },
  {
   "cell_type": "code",
   "execution_count": 2,
   "metadata": {
    "ExecuteTime": {
     "end_time": "2021-01-27T22:07:58.429888Z",
     "start_time": "2021-01-27T22:07:57.506326Z"
    },
    "scrolled": true
   },
   "outputs": [
    {
     "data": {
      "text/html": [
       "<div>\n",
       "<style scoped>\n",
       "    .dataframe tbody tr th:only-of-type {\n",
       "        vertical-align: middle;\n",
       "    }\n",
       "\n",
       "    .dataframe tbody tr th {\n",
       "        vertical-align: top;\n",
       "    }\n",
       "\n",
       "    .dataframe thead th {\n",
       "        text-align: right;\n",
       "    }\n",
       "</style>\n",
       "<table border=\"1\" class=\"dataframe\">\n",
       "  <thead>\n",
       "    <tr style=\"text-align: right;\">\n",
       "      <th></th>\n",
       "      <th>url</th>\n",
       "      <th>name</th>\n",
       "      <th>type</th>\n",
       "      <th>price</th>\n",
       "      <th>prefecture</th>\n",
       "      <th>smv</th>\n",
       "      <th>acidity</th>\n",
       "      <th>kw_word</th>\n",
       "      <th>kw_wines</th>\n",
       "      <th>kw_beer</th>\n",
       "      <th>kw_foods</th>\n",
       "      <th>description</th>\n",
       "    </tr>\n",
       "  </thead>\n",
       "  <tbody>\n",
       "    <tr>\n",
       "      <th>0</th>\n",
       "      <td>https://www.truesake.com/collections/all/produ...</td>\n",
       "      <td>Dassai 45 Junmai Daiginjo \"Otter Festival\"</td>\n",
       "      <td>Junmai Daiginjo</td>\n",
       "      <td>30.00</td>\n",
       "      <td>Yamaguchi</td>\n",
       "      <td>+3</td>\n",
       "      <td>1.4</td>\n",
       "      <td>Chunky</td>\n",
       "      <td>Pinot Noir / Chewy Whites</td>\n",
       "      <td>Ales</td>\n",
       "      <td>Mushroom risotto, tempura, fried chicken, cavi...</td>\n",
       "      <td>This sake has an older brother Daiginjo that h...</td>\n",
       "    </tr>\n",
       "    <tr>\n",
       "      <th>1</th>\n",
       "      <td>https://www.truesake.com/collections/all/produ...</td>\n",
       "      <td>Kikusui Junmai Ginjo \"Chrysanthemum Water\"</td>\n",
       "      <td>Junmai Ginjo</td>\n",
       "      <td>33.00</td>\n",
       "      <td>Niigata</td>\n",
       "      <td>+1</td>\n",
       "      <td>1.6</td>\n",
       "      <td>Citrus</td>\n",
       "      <td>Sharp Whites/Dry Reds</td>\n",
       "      <td>Ales/Ambers</td>\n",
       "      <td>Suitable for light and stronger flavored dishe...</td>\n",
       "      <td>True Sake owner Beau Timken recorded K...</td>\n",
       "    </tr>\n",
       "    <tr>\n",
       "      <th>2</th>\n",
       "      <td>https://www.truesake.com/collections/all/produ...</td>\n",
       "      <td>Wakatake Onikoroshi Junmai Daiginjo \"Demon Sla...</td>\n",
       "      <td>Junmai Daiginjo</td>\n",
       "      <td>49.00</td>\n",
       "      <td>Shizuoka</td>\n",
       "      <td>+/-0</td>\n",
       "      <td>1.4</td>\n",
       "      <td>Popular</td>\n",
       "      <td>Elegant reds/Complex whites</td>\n",
       "      <td>Crisp Ales</td>\n",
       "      <td>Cuisines that like big white wines.</td>\n",
       "      <td>Talk about a nice aroma package on thi...</td>\n",
       "    </tr>\n",
       "    <tr>\n",
       "      <th>3</th>\n",
       "      <td>https://www.truesake.com/collections/all/produ...</td>\n",
       "      <td>Shunnoten Tokubetsu Junmai \"Fishermen Cup\"</td>\n",
       "      <td>Tokubetsu Junmai</td>\n",
       "      <td>9.00</td>\n",
       "      <td>Yamanashi</td>\n",
       "      <td>+3</td>\n",
       "      <td>1.6</td>\n",
       "      <td>Smooth</td>\n",
       "      <td>Pinot Noir/Slippery Whites</td>\n",
       "      <td>Gentle Ales</td>\n",
       "      <td>None</td>\n",
       "      <td>The nose on this awesome looking “catch cup” i...</td>\n",
       "    </tr>\n",
       "    <tr>\n",
       "      <th>4</th>\n",
       "      <td>https://www.truesake.com/collections/all/produ...</td>\n",
       "      <td>Kenbishi Kuromatsu Honjozo \"Black Pine\"</td>\n",
       "      <td>Honjozo</td>\n",
       "      <td>40.00</td>\n",
       "      <td>Hyogo</td>\n",
       "      <td>±0.5</td>\n",
       "      <td>1.5</td>\n",
       "      <td>Rich</td>\n",
       "      <td>Deep Reds/Fat Whites</td>\n",
       "      <td>Stouts</td>\n",
       "      <td>Perfect for pub food salty and savory and grea...</td>\n",
       "      <td>The nose on this extremely famous Honjozo from...</td>\n",
       "    </tr>\n",
       "  </tbody>\n",
       "</table>\n",
       "</div>"
      ],
      "text/plain": [
       "                                                 url  \\\n",
       "0  https://www.truesake.com/collections/all/produ...   \n",
       "1  https://www.truesake.com/collections/all/produ...   \n",
       "2  https://www.truesake.com/collections/all/produ...   \n",
       "3  https://www.truesake.com/collections/all/produ...   \n",
       "4  https://www.truesake.com/collections/all/produ...   \n",
       "\n",
       "                                                name              type  price  \\\n",
       "0         Dassai 45 Junmai Daiginjo \"Otter Festival\"   Junmai Daiginjo  30.00   \n",
       "1         Kikusui Junmai Ginjo \"Chrysanthemum Water\"      Junmai Ginjo  33.00   \n",
       "2  Wakatake Onikoroshi Junmai Daiginjo \"Demon Sla...   Junmai Daiginjo  49.00   \n",
       "3         Shunnoten Tokubetsu Junmai \"Fishermen Cup\"  Tokubetsu Junmai   9.00   \n",
       "4            Kenbishi Kuromatsu Honjozo \"Black Pine\"           Honjozo  40.00   \n",
       "\n",
       "  prefecture   smv  acidity   kw_word                      kw_wines  \\\n",
       "0  Yamaguchi    +3      1.4   Chunky     Pinot Noir / Chewy Whites    \n",
       "1    Niigata    +1      1.6   Citrus         Sharp Whites/Dry Reds    \n",
       "2   Shizuoka  +/-0      1.4  Popular   Elegant reds/Complex whites    \n",
       "3  Yamanashi    +3      1.6   Smooth    Pinot Noir/Slippery Whites    \n",
       "4      Hyogo  ±0.5      1.5     Rich          Deep Reds/Fat Whites    \n",
       "\n",
       "        kw_beer                                           kw_foods  \\\n",
       "0         Ales   Mushroom risotto, tempura, fried chicken, cavi...   \n",
       "1  Ales/Ambers   Suitable for light and stronger flavored dishe...   \n",
       "2   Crisp Ales           Cuisines that like big white wines.         \n",
       "3   Gentle Ales                                               None   \n",
       "4       Stouts   Perfect for pub food salty and savory and grea...   \n",
       "\n",
       "                                         description  \n",
       "0  This sake has an older brother Daiginjo that h...  \n",
       "1          True Sake owner Beau Timken recorded K...  \n",
       "2          Talk about a nice aroma package on thi...  \n",
       "3  The nose on this awesome looking “catch cup” i...  \n",
       "4  The nose on this extremely famous Honjozo from...  "
      ]
     },
     "execution_count": 2,
     "metadata": {},
     "output_type": "execute_result"
    }
   ],
   "source": [
    "df = pd.read_json('raw_data.json')\n",
    "df.head()"
   ]
  },
  {
   "cell_type": "code",
   "execution_count": 6,
   "metadata": {
    "ExecuteTime": {
     "end_time": "2021-01-27T22:07:58.452336Z",
     "start_time": "2021-01-27T22:07:58.445049Z"
    }
   },
   "outputs": [
    {
     "name": "stdout",
     "output_type": "stream",
     "text": [
      "<class 'pandas.core.frame.DataFrame'>\n",
      "Int64Index: 322 entries, 0 to 321\n",
      "Data columns (total 12 columns):\n",
      " #   Column       Non-Null Count  Dtype  \n",
      "---  ------       --------------  -----  \n",
      " 0   url          322 non-null    object \n",
      " 1   name         322 non-null    object \n",
      " 2   type         303 non-null    object \n",
      " 3   price        322 non-null    object \n",
      " 4   prefecture   318 non-null    object \n",
      " 5   smv          304 non-null    object \n",
      " 6   acidity      277 non-null    float64\n",
      " 7   kw_word      288 non-null    object \n",
      " 8   kw_wines     286 non-null    object \n",
      " 9   kw_beer      285 non-null    object \n",
      " 10  kw_foods     280 non-null    object \n",
      " 11  description  307 non-null    object \n",
      "dtypes: float64(1), object(11)\n",
      "memory usage: 32.7+ KB\n"
     ]
    }
   ],
   "source": [
    "df.info()"
   ]
  },
  {
   "cell_type": "code",
   "execution_count": 7,
   "metadata": {
    "ExecuteTime": {
     "end_time": "2021-01-27T22:07:58.457669Z",
     "start_time": "2021-01-27T22:07:58.455292Z"
    }
   },
   "outputs": [],
   "source": [
    "cols_to_fix_dict = {\n",
    "    'kw_word': ['WINE'],\n",
    "    'kw_wines': ['BEER'],\n",
    "    'kw_beer': ['FOOD', 'BEER:', 'Foods:'],\n",
    "    'kw_foods': ['Updated', '('],\n",
    "    'description': ['WORD']\n",
    "}"
   ]
  },
  {
   "cell_type": "code",
   "execution_count": 8,
   "metadata": {
    "ExecuteTime": {
     "end_time": "2021-01-27T22:07:58.462660Z",
     "start_time": "2021-01-27T22:07:58.459269Z"
    }
   },
   "outputs": [],
   "source": [
    "def clean_df_text_cols(df, cols_to_fix_dict):\n",
    "    for col, text_list in cols_to_fix_dict.items():\n",
    "        if col in df.columns.tolist():\n",
    "            for text in text_list:   \n",
    "                # Apply split_on_chars func to parse for the right text\n",
    "                df[col] = df[col].apply(lambda d: split_on_chars(text, d))\n",
    "            # Clean text\n",
    "            df[col] = df[col].apply(lambda d: clean_text(d))   \n",
    "    return df"
   ]
  },
  {
   "cell_type": "code",
   "execution_count": 9,
   "metadata": {
    "ExecuteTime": {
     "end_time": "2021-01-27T22:07:58.503760Z",
     "start_time": "2021-01-27T22:07:58.464342Z"
    },
    "scrolled": false
   },
   "outputs": [],
   "source": [
    "df = clean_df_text_cols(df, cols_to_fix_dict)"
   ]
  },
  {
   "cell_type": "code",
   "execution_count": 10,
   "metadata": {
    "ExecuteTime": {
     "end_time": "2021-01-27T22:07:58.519609Z",
     "start_time": "2021-01-27T22:07:58.505645Z"
    }
   },
   "outputs": [
    {
     "data": {
      "text/html": [
       "<div>\n",
       "<style scoped>\n",
       "    .dataframe tbody tr th:only-of-type {\n",
       "        vertical-align: middle;\n",
       "    }\n",
       "\n",
       "    .dataframe tbody tr th {\n",
       "        vertical-align: top;\n",
       "    }\n",
       "\n",
       "    .dataframe thead th {\n",
       "        text-align: right;\n",
       "    }\n",
       "</style>\n",
       "<table border=\"1\" class=\"dataframe\">\n",
       "  <thead>\n",
       "    <tr style=\"text-align: right;\">\n",
       "      <th></th>\n",
       "      <th>url</th>\n",
       "      <th>name</th>\n",
       "      <th>type</th>\n",
       "      <th>price</th>\n",
       "      <th>prefecture</th>\n",
       "      <th>smv</th>\n",
       "      <th>acidity</th>\n",
       "      <th>kw_word</th>\n",
       "      <th>kw_wines</th>\n",
       "      <th>kw_beer</th>\n",
       "      <th>kw_foods</th>\n",
       "      <th>description</th>\n",
       "    </tr>\n",
       "  </thead>\n",
       "  <tbody>\n",
       "    <tr>\n",
       "      <th>0</th>\n",
       "      <td>https://www.truesake.com/collections/all/produ...</td>\n",
       "      <td>Dassai 45 Junmai Daiginjo \"Otter Festival\"</td>\n",
       "      <td>Junmai Daiginjo</td>\n",
       "      <td>30.00</td>\n",
       "      <td>Yamaguchi</td>\n",
       "      <td>+3</td>\n",
       "      <td>1.4</td>\n",
       "      <td>chunky</td>\n",
       "      <td>pinot noir  chewy whites</td>\n",
       "      <td>ales</td>\n",
       "      <td>mushroom risotto tempura fried chicken caviar ...</td>\n",
       "      <td>this sake has an older brother daiginjo that h...</td>\n",
       "    </tr>\n",
       "    <tr>\n",
       "      <th>1</th>\n",
       "      <td>https://www.truesake.com/collections/all/produ...</td>\n",
       "      <td>Kikusui Junmai Ginjo \"Chrysanthemum Water\"</td>\n",
       "      <td>Junmai Ginjo</td>\n",
       "      <td>33.00</td>\n",
       "      <td>Niigata</td>\n",
       "      <td>+1</td>\n",
       "      <td>1.6</td>\n",
       "      <td>citrus</td>\n",
       "      <td>sharp whites dry reds</td>\n",
       "      <td>ales ambers</td>\n",
       "      <td>suitable for light and stronger flavored dishe...</td>\n",
       "      <td>true sake owner beau timken recorded kikusui a...</td>\n",
       "    </tr>\n",
       "    <tr>\n",
       "      <th>2</th>\n",
       "      <td>https://www.truesake.com/collections/all/produ...</td>\n",
       "      <td>Wakatake Onikoroshi Junmai Daiginjo \"Demon Sla...</td>\n",
       "      <td>Junmai Daiginjo</td>\n",
       "      <td>49.00</td>\n",
       "      <td>Shizuoka</td>\n",
       "      <td>+/-0</td>\n",
       "      <td>1.4</td>\n",
       "      <td>popular</td>\n",
       "      <td>elegant reds complex whites</td>\n",
       "      <td>crisp ales</td>\n",
       "      <td>cuisines that like big white wines</td>\n",
       "      <td>talk about a nice aroma package on this ultrap...</td>\n",
       "    </tr>\n",
       "    <tr>\n",
       "      <th>3</th>\n",
       "      <td>https://www.truesake.com/collections/all/produ...</td>\n",
       "      <td>Shunnoten Tokubetsu Junmai \"Fishermen Cup\"</td>\n",
       "      <td>Tokubetsu Junmai</td>\n",
       "      <td>9.00</td>\n",
       "      <td>Yamanashi</td>\n",
       "      <td>+3</td>\n",
       "      <td>1.6</td>\n",
       "      <td>smooth</td>\n",
       "      <td>pinot noir slippery whites</td>\n",
       "      <td>gentle ales</td>\n",
       "      <td>none</td>\n",
       "      <td>the nose on this awesome looking catch cup is ...</td>\n",
       "    </tr>\n",
       "    <tr>\n",
       "      <th>4</th>\n",
       "      <td>https://www.truesake.com/collections/all/produ...</td>\n",
       "      <td>Kenbishi Kuromatsu Honjozo \"Black Pine\"</td>\n",
       "      <td>Honjozo</td>\n",
       "      <td>40.00</td>\n",
       "      <td>Hyogo</td>\n",
       "      <td>±0.5</td>\n",
       "      <td>1.5</td>\n",
       "      <td>rich</td>\n",
       "      <td>deep reds fat whites</td>\n",
       "      <td>stouts</td>\n",
       "      <td>perfect for pub food salty and savory and grea...</td>\n",
       "      <td>the nose on this extremely famous honjozo from...</td>\n",
       "    </tr>\n",
       "  </tbody>\n",
       "</table>\n",
       "</div>"
      ],
      "text/plain": [
       "                                                 url  \\\n",
       "0  https://www.truesake.com/collections/all/produ...   \n",
       "1  https://www.truesake.com/collections/all/produ...   \n",
       "2  https://www.truesake.com/collections/all/produ...   \n",
       "3  https://www.truesake.com/collections/all/produ...   \n",
       "4  https://www.truesake.com/collections/all/produ...   \n",
       "\n",
       "                                                name              type  price  \\\n",
       "0         Dassai 45 Junmai Daiginjo \"Otter Festival\"   Junmai Daiginjo  30.00   \n",
       "1         Kikusui Junmai Ginjo \"Chrysanthemum Water\"      Junmai Ginjo  33.00   \n",
       "2  Wakatake Onikoroshi Junmai Daiginjo \"Demon Sla...   Junmai Daiginjo  49.00   \n",
       "3         Shunnoten Tokubetsu Junmai \"Fishermen Cup\"  Tokubetsu Junmai   9.00   \n",
       "4            Kenbishi Kuromatsu Honjozo \"Black Pine\"           Honjozo  40.00   \n",
       "\n",
       "  prefecture   smv  acidity  kw_word                     kw_wines  \\\n",
       "0  Yamaguchi    +3      1.4   chunky     pinot noir  chewy whites   \n",
       "1    Niigata    +1      1.6   citrus        sharp whites dry reds   \n",
       "2   Shizuoka  +/-0      1.4  popular  elegant reds complex whites   \n",
       "3  Yamanashi    +3      1.6   smooth   pinot noir slippery whites   \n",
       "4      Hyogo  ±0.5      1.5     rich         deep reds fat whites   \n",
       "\n",
       "       kw_beer                                           kw_foods  \\\n",
       "0         ales  mushroom risotto tempura fried chicken caviar ...   \n",
       "1  ales ambers  suitable for light and stronger flavored dishe...   \n",
       "2   crisp ales                 cuisines that like big white wines   \n",
       "3  gentle ales                                               none   \n",
       "4       stouts  perfect for pub food salty and savory and grea...   \n",
       "\n",
       "                                         description  \n",
       "0  this sake has an older brother daiginjo that h...  \n",
       "1  true sake owner beau timken recorded kikusui a...  \n",
       "2  talk about a nice aroma package on this ultrap...  \n",
       "3  the nose on this awesome looking catch cup is ...  \n",
       "4  the nose on this extremely famous honjozo from...  "
      ]
     },
     "execution_count": 10,
     "metadata": {},
     "output_type": "execute_result"
    }
   ],
   "source": [
    "df.head()"
   ]
  },
  {
   "cell_type": "code",
   "execution_count": null,
   "metadata": {},
   "outputs": [],
   "source": []
  }
 ],
 "metadata": {
  "kernelspec": {
   "display_name": "Python [conda env:metis] *",
   "language": "python",
   "name": "conda-env-metis-py"
  },
  "language_info": {
   "codemirror_mode": {
    "name": "ipython",
    "version": 3
   },
   "file_extension": ".py",
   "mimetype": "text/x-python",
   "name": "python",
   "nbconvert_exporter": "python",
   "pygments_lexer": "ipython3",
   "version": "3.8.5"
  },
  "toc": {
   "base_numbering": 1,
   "nav_menu": {},
   "number_sections": true,
   "sideBar": true,
   "skip_h1_title": false,
   "title_cell": "Table of Contents",
   "title_sidebar": "Contents",
   "toc_cell": false,
   "toc_position": {},
   "toc_section_display": true,
   "toc_window_display": false
  },
  "varInspector": {
   "cols": {
    "lenName": 16,
    "lenType": 16,
    "lenVar": 40
   },
   "kernels_config": {
    "python": {
     "delete_cmd_postfix": "",
     "delete_cmd_prefix": "del ",
     "library": "var_list.py",
     "varRefreshCmd": "print(var_dic_list())"
    },
    "r": {
     "delete_cmd_postfix": ") ",
     "delete_cmd_prefix": "rm(",
     "library": "var_list.r",
     "varRefreshCmd": "cat(var_dic_list()) "
    }
   },
   "types_to_exclude": [
    "module",
    "function",
    "builtin_function_or_method",
    "instance",
    "_Feature"
   ],
   "window_display": false
  }
 },
 "nbformat": 4,
 "nbformat_minor": 4
}
